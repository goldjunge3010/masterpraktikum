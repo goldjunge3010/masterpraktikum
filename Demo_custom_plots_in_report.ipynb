{
  "nbformat": 4,
  "nbformat_minor": 0,
  "metadata": {
    "colab": {
      "provenance": [],
      "gpuType": "T4",
      "authorship_tag": "ABX9TyMqJLZ56rN11oGlM6xxWxjX",
      "include_colab_link": true
    },
    "kernelspec": {
      "name": "python3",
      "display_name": "Python 3"
    },
    "language_info": {
      "name": "python"
    },
    "widgets": {
      "application/vnd.jupyter.widget-state+json": {
        "163fbe59d0774c63ab18284f2e6a7cf9": {
          "model_module": "@jupyter-widgets/controls",
          "model_name": "VBoxModel",
          "model_module_version": "1.5.0",
          "state": {
            "_dom_classes": [],
            "_model_module": "@jupyter-widgets/controls",
            "_model_module_version": "1.5.0",
            "_model_name": "VBoxModel",
            "_view_count": null,
            "_view_module": "@jupyter-widgets/controls",
            "_view_module_version": "1.5.0",
            "_view_name": "VBoxView",
            "box_style": "",
            "children": [
              "IPY_MODEL_dfb5b766068a4090837569575839c5ce",
              "IPY_MODEL_eb663cd08af04ec58d89f946200c0074"
            ],
            "layout": "IPY_MODEL_dbb0ea0cb5534a5b85e7063889bb0166"
          }
        },
        "dfb5b766068a4090837569575839c5ce": {
          "model_module": "@jupyter-widgets/controls",
          "model_name": "LabelModel",
          "model_module_version": "1.5.0",
          "state": {
            "_dom_classes": [],
            "_model_module": "@jupyter-widgets/controls",
            "_model_module_version": "1.5.0",
            "_model_name": "LabelModel",
            "_view_count": null,
            "_view_module": "@jupyter-widgets/controls",
            "_view_module_version": "1.5.0",
            "_view_name": "LabelView",
            "description": "",
            "description_tooltip": null,
            "layout": "IPY_MODEL_22cef3728cc2414fb17870190487f5ab",
            "placeholder": "​",
            "style": "IPY_MODEL_a04a9618b63d47b28c8f46ac90b9ff49",
            "value": "0.022 MB of 0.022 MB uploaded (0.000 MB deduped)\r"
          }
        },
        "eb663cd08af04ec58d89f946200c0074": {
          "model_module": "@jupyter-widgets/controls",
          "model_name": "FloatProgressModel",
          "model_module_version": "1.5.0",
          "state": {
            "_dom_classes": [],
            "_model_module": "@jupyter-widgets/controls",
            "_model_module_version": "1.5.0",
            "_model_name": "FloatProgressModel",
            "_view_count": null,
            "_view_module": "@jupyter-widgets/controls",
            "_view_module_version": "1.5.0",
            "_view_name": "ProgressView",
            "bar_style": "",
            "description": "",
            "description_tooltip": null,
            "layout": "IPY_MODEL_f605e209f0564440b07fa77df9acc080",
            "max": 1,
            "min": 0,
            "orientation": "horizontal",
            "style": "IPY_MODEL_621a202eb1924b1c819935d91dadaeb0",
            "value": 1
          }
        },
        "dbb0ea0cb5534a5b85e7063889bb0166": {
          "model_module": "@jupyter-widgets/base",
          "model_name": "LayoutModel",
          "model_module_version": "1.2.0",
          "state": {
            "_model_module": "@jupyter-widgets/base",
            "_model_module_version": "1.2.0",
            "_model_name": "LayoutModel",
            "_view_count": null,
            "_view_module": "@jupyter-widgets/base",
            "_view_module_version": "1.2.0",
            "_view_name": "LayoutView",
            "align_content": null,
            "align_items": null,
            "align_self": null,
            "border": null,
            "bottom": null,
            "display": null,
            "flex": null,
            "flex_flow": null,
            "grid_area": null,
            "grid_auto_columns": null,
            "grid_auto_flow": null,
            "grid_auto_rows": null,
            "grid_column": null,
            "grid_gap": null,
            "grid_row": null,
            "grid_template_areas": null,
            "grid_template_columns": null,
            "grid_template_rows": null,
            "height": null,
            "justify_content": null,
            "justify_items": null,
            "left": null,
            "margin": null,
            "max_height": null,
            "max_width": null,
            "min_height": null,
            "min_width": null,
            "object_fit": null,
            "object_position": null,
            "order": null,
            "overflow": null,
            "overflow_x": null,
            "overflow_y": null,
            "padding": null,
            "right": null,
            "top": null,
            "visibility": null,
            "width": null
          }
        },
        "22cef3728cc2414fb17870190487f5ab": {
          "model_module": "@jupyter-widgets/base",
          "model_name": "LayoutModel",
          "model_module_version": "1.2.0",
          "state": {
            "_model_module": "@jupyter-widgets/base",
            "_model_module_version": "1.2.0",
            "_model_name": "LayoutModel",
            "_view_count": null,
            "_view_module": "@jupyter-widgets/base",
            "_view_module_version": "1.2.0",
            "_view_name": "LayoutView",
            "align_content": null,
            "align_items": null,
            "align_self": null,
            "border": null,
            "bottom": null,
            "display": null,
            "flex": null,
            "flex_flow": null,
            "grid_area": null,
            "grid_auto_columns": null,
            "grid_auto_flow": null,
            "grid_auto_rows": null,
            "grid_column": null,
            "grid_gap": null,
            "grid_row": null,
            "grid_template_areas": null,
            "grid_template_columns": null,
            "grid_template_rows": null,
            "height": null,
            "justify_content": null,
            "justify_items": null,
            "left": null,
            "margin": null,
            "max_height": null,
            "max_width": null,
            "min_height": null,
            "min_width": null,
            "object_fit": null,
            "object_position": null,
            "order": null,
            "overflow": null,
            "overflow_x": null,
            "overflow_y": null,
            "padding": null,
            "right": null,
            "top": null,
            "visibility": null,
            "width": null
          }
        },
        "a04a9618b63d47b28c8f46ac90b9ff49": {
          "model_module": "@jupyter-widgets/controls",
          "model_name": "DescriptionStyleModel",
          "model_module_version": "1.5.0",
          "state": {
            "_model_module": "@jupyter-widgets/controls",
            "_model_module_version": "1.5.0",
            "_model_name": "DescriptionStyleModel",
            "_view_count": null,
            "_view_module": "@jupyter-widgets/base",
            "_view_module_version": "1.2.0",
            "_view_name": "StyleView",
            "description_width": ""
          }
        },
        "f605e209f0564440b07fa77df9acc080": {
          "model_module": "@jupyter-widgets/base",
          "model_name": "LayoutModel",
          "model_module_version": "1.2.0",
          "state": {
            "_model_module": "@jupyter-widgets/base",
            "_model_module_version": "1.2.0",
            "_model_name": "LayoutModel",
            "_view_count": null,
            "_view_module": "@jupyter-widgets/base",
            "_view_module_version": "1.2.0",
            "_view_name": "LayoutView",
            "align_content": null,
            "align_items": null,
            "align_self": null,
            "border": null,
            "bottom": null,
            "display": null,
            "flex": null,
            "flex_flow": null,
            "grid_area": null,
            "grid_auto_columns": null,
            "grid_auto_flow": null,
            "grid_auto_rows": null,
            "grid_column": null,
            "grid_gap": null,
            "grid_row": null,
            "grid_template_areas": null,
            "grid_template_columns": null,
            "grid_template_rows": null,
            "height": null,
            "justify_content": null,
            "justify_items": null,
            "left": null,
            "margin": null,
            "max_height": null,
            "max_width": null,
            "min_height": null,
            "min_width": null,
            "object_fit": null,
            "object_position": null,
            "order": null,
            "overflow": null,
            "overflow_x": null,
            "overflow_y": null,
            "padding": null,
            "right": null,
            "top": null,
            "visibility": null,
            "width": null
          }
        },
        "621a202eb1924b1c819935d91dadaeb0": {
          "model_module": "@jupyter-widgets/controls",
          "model_name": "ProgressStyleModel",
          "model_module_version": "1.5.0",
          "state": {
            "_model_module": "@jupyter-widgets/controls",
            "_model_module_version": "1.5.0",
            "_model_name": "ProgressStyleModel",
            "_view_count": null,
            "_view_module": "@jupyter-widgets/base",
            "_view_module_version": "1.2.0",
            "_view_name": "StyleView",
            "bar_color": null,
            "description_width": ""
          }
        }
      }
    },
    "accelerator": "GPU"
  },
  "cells": [
    {
      "cell_type": "markdown",
      "metadata": {
        "id": "view-in-github",
        "colab_type": "text"
      },
      "source": [
        "<a href=\"https://colab.research.google.com/github/goldjunge3010/masterpraktikum/blob/main/Demo_custom_plots_in_report.ipynb\" target=\"_parent\"><img src=\"https://colab.research.google.com/assets/colab-badge.svg\" alt=\"Open In Colab\"/></a>"
      ]
    },
    {
      "cell_type": "markdown",
      "source": [
        "# 0. Installation and imports"
      ],
      "metadata": {
        "id": "Rnth8MR-R-ZR"
      }
    },
    {
      "cell_type": "code",
      "source": [
        "!python -m pip install -q wandb\n",
        "\n",
        "# import necessary packages\n",
        "import numpy as np\n",
        "import pandas as pd\n",
        "import tensorflow as tf\n",
        "import re\n",
        "\n",
        "import wandb\n",
        "from wandb.keras import WandbCallback\n",
        "from wandb.keras import WandbMetricsLogger\n",
        "import wandb.apis.reports as wr\n",
        "\n",
        "# function to count sequence length\n",
        "def count_seq_length(df: pd.DataFrame, seq_col: str) -> pd.Series:\n",
        "    pattern = re.compile(r\"\\[UNIMOD:.*\\]\", re.IGNORECASE)\n",
        "    df[seq_col].replace(pattern, \"\", inplace= True)\n",
        "    return df[seq_col].str.len()"
      ],
      "metadata": {
        "id": "AL1ANT4yu3i9"
      },
      "execution_count": 17,
      "outputs": []
    },
    {
      "cell_type": "markdown",
      "source": [
        "# 1. Count sequence lengths"
      ],
      "metadata": {
        "id": "KPPsO6JZSTC5"
      }
    },
    {
      "cell_type": "code",
      "source": [
        "# read data\n",
        "TRAIN_DATAPATH = 'https://raw.githubusercontent.com/goldjunge3010/masterpraktikum/main/third_pool_tresh_1_0_train.csv'\n",
        "train_set = pd.read_csv(TRAIN_DATAPATH)\n",
        "# count sequence lengths\n",
        "counts = count_seq_length(pd.read_csv(TRAIN_DATAPATH), \"modified_sequence\")\n",
        "# ensure that 'counts' is a dataframe\n",
        "counts_df = counts.to_frame()"
      ],
      "metadata": {
        "id": "4DcWNRZ2u504"
      },
      "execution_count": 18,
      "outputs": []
    },
    {
      "cell_type": "markdown",
      "source": [
        "# 2. Initialize Weights and Biases"
      ],
      "metadata": {
        "id": "tL8hqMnhS_Bb"
      }
    },
    {
      "cell_type": "code",
      "source": [
        "# Initialize WANDB\n",
        "PROJECT = 'demo_custom_plots'\n",
        "RUN = \"run_1\"\n",
        "wandb.init(project = PROJECT, name = RUN)\n",
        "# create wandb table\n",
        "table = wandb.Table(dataframe = counts_df)\n",
        "# create custom plot\n",
        "hist = wandb.plot_table(\n",
        "  vega_spec_name=\"master_praktikum/hist_pep_len\",\n",
        "  data_table = table,\n",
        "  fields = {\"value\" : 'modified_sequence'}\n",
        ")\n",
        "wandb.log({\"Histogram\": hist})\n",
        "# finish run\n",
        "wandb.finish()"
      ],
      "metadata": {
        "colab": {
          "base_uri": "https://localhost:8080/",
          "height": 237,
          "referenced_widgets": [
            "163fbe59d0774c63ab18284f2e6a7cf9",
            "dfb5b766068a4090837569575839c5ce",
            "eb663cd08af04ec58d89f946200c0074",
            "dbb0ea0cb5534a5b85e7063889bb0166",
            "22cef3728cc2414fb17870190487f5ab",
            "a04a9618b63d47b28c8f46ac90b9ff49",
            "f605e209f0564440b07fa77df9acc080",
            "621a202eb1924b1c819935d91dadaeb0"
          ]
        },
        "id": "bis9r4sJu7O9",
        "outputId": "62f8bd07-e0c5-423e-ca55-3aa3c0e91825"
      },
      "execution_count": 19,
      "outputs": [
        {
          "output_type": "display_data",
          "data": {
            "text/plain": [
              "<IPython.core.display.HTML object>"
            ],
            "text/html": [
              "Tracking run with wandb version 0.15.9"
            ]
          },
          "metadata": {}
        },
        {
          "output_type": "display_data",
          "data": {
            "text/plain": [
              "<IPython.core.display.HTML object>"
            ],
            "text/html": [
              "Run data is saved locally in <code>/content/wandb/run-20230903_135237-74c5s4e6</code>"
            ]
          },
          "metadata": {}
        },
        {
          "output_type": "display_data",
          "data": {
            "text/plain": [
              "<IPython.core.display.HTML object>"
            ],
            "text/html": [
              "Syncing run <strong><a href='https://wandb.ai/master_praktikum/demo_custom_plots/runs/74c5s4e6' target=\"_blank\">run_1</a></strong> to <a href='https://wandb.ai/master_praktikum/demo_custom_plots' target=\"_blank\">Weights & Biases</a> (<a href='https://wandb.me/run' target=\"_blank\">docs</a>)<br/>"
            ]
          },
          "metadata": {}
        },
        {
          "output_type": "display_data",
          "data": {
            "text/plain": [
              "<IPython.core.display.HTML object>"
            ],
            "text/html": [
              " View project at <a href='https://wandb.ai/master_praktikum/demo_custom_plots' target=\"_blank\">https://wandb.ai/master_praktikum/demo_custom_plots</a>"
            ]
          },
          "metadata": {}
        },
        {
          "output_type": "display_data",
          "data": {
            "text/plain": [
              "<IPython.core.display.HTML object>"
            ],
            "text/html": [
              " View run at <a href='https://wandb.ai/master_praktikum/demo_custom_plots/runs/74c5s4e6' target=\"_blank\">https://wandb.ai/master_praktikum/demo_custom_plots/runs/74c5s4e6</a>"
            ]
          },
          "metadata": {}
        },
        {
          "output_type": "display_data",
          "data": {
            "text/plain": [
              "<IPython.core.display.HTML object>"
            ],
            "text/html": [
              "Waiting for W&B process to finish... <strong style=\"color:green\">(success).</strong>"
            ]
          },
          "metadata": {}
        },
        {
          "output_type": "display_data",
          "data": {
            "text/plain": [
              "VBox(children=(Label(value='0.012 MB of 0.022 MB uploaded (0.000 MB deduped)\\r'), FloatProgress(value=0.530807…"
            ],
            "application/vnd.jupyter.widget-view+json": {
              "version_major": 2,
              "version_minor": 0,
              "model_id": "163fbe59d0774c63ab18284f2e6a7cf9"
            }
          },
          "metadata": {}
        },
        {
          "output_type": "display_data",
          "data": {
            "text/plain": [
              "<IPython.core.display.HTML object>"
            ],
            "text/html": [
              " View run <strong style=\"color:#cdcd00\">run_1</strong> at: <a href='https://wandb.ai/master_praktikum/demo_custom_plots/runs/74c5s4e6' target=\"_blank\">https://wandb.ai/master_praktikum/demo_custom_plots/runs/74c5s4e6</a><br/>Synced 4 W&B file(s), 1 media file(s), 1 artifact file(s) and 0 other file(s)"
            ]
          },
          "metadata": {}
        },
        {
          "output_type": "display_data",
          "data": {
            "text/plain": [
              "<IPython.core.display.HTML object>"
            ],
            "text/html": [
              "Find logs at: <code>./wandb/run-20230903_135237-74c5s4e6/logs</code>"
            ]
          },
          "metadata": {}
        }
      ]
    },
    {
      "cell_type": "markdown",
      "source": [
        "# 3. Create report"
      ],
      "metadata": {
        "id": "JVK5Zi3OThB8"
      }
    },
    {
      "cell_type": "code",
      "source": [
        "# create report\n",
        "report = wr.Report(\n",
        "    project = PROJECT,\n",
        "    title = \"Working custom plots in report!\",\n",
        "    description = \"The result of pain, blood and tears.\"\n",
        ")\n",
        "report.save()"
      ],
      "metadata": {
        "colab": {
          "base_uri": "https://localhost:8080/",
          "height": 1000
        },
        "id": "Dm8om_pnTkAI",
        "outputId": "bfff5d56-d93a-4485-8d06-b93ecdf019f7"
      },
      "execution_count": 20,
      "outputs": [
        {
          "output_type": "execute_result",
          "data": {
            "text/plain": [
              "Report(project='demo_custom_plots', entity='master_praktikum', title='Working custom plots in report!', description='The result of pain, blood and tears.', width='readable')"
            ],
            "text/html": [
              "<iframe src='https://wandb.ai/master_praktikum/demo_custom_plots/reports/Working-custom-plots-in-report---Vmlldzo1Mjk5OTcy?jupyter=true' style='border:none;width:100%;height:1024px;'></iframe>"
            ]
          },
          "metadata": {},
          "execution_count": 20
        }
      ]
    },
    {
      "cell_type": "markdown",
      "source": [
        "# 4. Adding custom plot to report"
      ],
      "metadata": {
        "id": "FRDjVoEFTr-3"
      }
    },
    {
      "cell_type": "code",
      "source": [
        "custom_plot = wr.PanelGrid(\n",
        "    panels = [\n",
        "      wr.CustomChart(\n",
        "        query = {'summaryTable': {\"tableKey\" : \"Histogram_table\"}},\n",
        "        chart_name='master_praktikum/hist_pep_len',\n",
        "        chart_fields={'value': 'modified_sequence'}\n",
        "      )\n",
        "    ]\n",
        ")\n",
        "\n",
        "report.blocks = [wr.H1(\"Working custom plot\"), custom_plot]\n",
        "\n",
        "report.save()"
      ],
      "metadata": {
        "colab": {
          "base_uri": "https://localhost:8080/",
          "height": 1000
        },
        "id": "khwBWsZPTvfe",
        "outputId": "2c631d6b-6f5b-4c93-9b00-ceefb10382da"
      },
      "execution_count": 21,
      "outputs": [
        {
          "output_type": "execute_result",
          "data": {
            "text/plain": [
              "Report(project='demo_custom_plots', entity='master_praktikum', title='Working custom plots in report!', description='The result of pain, blood and tears.', width='readable', blocks=[H1(text=['Working custom plot']), PanelGrid(runsets=[Runset(entity='master_praktikum', project='demo_custom_plots', name='Run set', query='', filters={'$or': [{'$and': []}]}, order=['-CreatedTimestamp'])], panels=[CustomChart(query={'runSets': {'runSets': '${runSets}', 'limit': 500}}, chart_name='master_praktikum/hist_pep_len', chart_fields={'value': 'modified_sequence'})])])"
            ],
            "text/html": [
              "<iframe src='https://wandb.ai/master_praktikum/demo_custom_plots/reports/Working-custom-plots-in-report---Vmlldzo1Mjk5OTcy?jupyter=true' style='border:none;width:100%;height:1024px;'></iframe>"
            ]
          },
          "metadata": {},
          "execution_count": 21
        }
      ]
    }
  ]
}