{
 "cells": [
  {
   "cell_type": "code",
   "execution_count": 1,
   "metadata": {
    "collapsed": true,
    "ExecuteTime": {
     "end_time": "2023-06-24T07:12:33.985060904Z",
     "start_time": "2023-06-24T07:12:32.079219879Z"
    }
   },
   "outputs": [],
   "source": [
    "import pickle\n",
    "from pathlib import Path\n",
    "import pandas as pd\n",
    "import matplotlib.pyplot as plt\n",
    "import prospectdataset as prods\n",
    "import pickle\n",
    "import os\n",
    "\n",
    "SAVE_PATH = str(Path.home() / \"Downloads\" / \"retention.parquet\")\n"
   ]
  },
  {
   "cell_type": "markdown",
   "source": [
    "#### Read data"
   ],
   "metadata": {
    "collapsed": false
   }
  },
  {
   "cell_type": "code",
   "execution_count": 2,
   "outputs": [],
   "source": [
    "tum_third_pool_df = pd.read_parquet(\n",
    "    str(Path.home() / \"Downloads\" / \"retention.parquet\" / \"TUM_third_pool_meta_data.parquet\"), engine='fastparquet')\n"
   ],
   "metadata": {
    "collapsed": false,
    "ExecuteTime": {
     "end_time": "2023-06-24T07:12:36.279336518Z",
     "start_time": "2023-06-24T07:12:35.965322653Z"
    }
   }
  },
  {
   "cell_type": "markdown",
   "source": [
    "#### Remove data with high variance\n"
   ],
   "metadata": {
    "collapsed": false
   }
  },
  {
   "cell_type": "code",
   "execution_count": 4,
   "outputs": [],
   "source": [
    "treshold = 1\n",
    "filtered_data = tum_third_pool_df.groupby(\"modified_sequence\")[\"indexed_retention_time\"].var().loc[lambda x: x < treshold]\n"
   ],
   "metadata": {
    "collapsed": false,
    "ExecuteTime": {
     "end_time": "2023-06-24T07:13:10.317222011Z",
     "start_time": "2023-06-24T07:13:10.216035401Z"
    }
   }
  },
  {
   "cell_type": "markdown",
   "source": [
    "#### Either groupby peptide and calculate median over iRT\n"
   ],
   "metadata": {
    "collapsed": false
   }
  },
  {
   "cell_type": "code",
   "execution_count": 6,
   "outputs": [
    {
     "data": {
      "text/plain": "modified_sequence\nAAAHGQWELQR                               26.428589\nAAAHGQWELQRVHAK                           17.735715\nAAEADGPLK                                  8.703936\nAAEADGPLKR                                14.834332\nAAIRLELFLPPQLK                           104.158475\n                                            ...    \nYVAIC[UNIMOD:4]NPLRYPVIM[UNIMOD:35]NR     68.012109\nYVAIC[UNIMOD:4]SPLRYPVIMSK                74.275623\nYVAIC[UNIMOD:4]SPLRYPVIM[UNIMOD:35]SK     72.702211\nYVLTSPRSLEAC[UNIMOD:4]AR                  46.175652\nYYTRLGNDFHTNK                             25.432464\nName: indexed_retention_time, Length: 4423, dtype: float64"
     },
     "execution_count": 6,
     "metadata": {},
     "output_type": "execute_result"
    }
   ],
   "source": [
    "tum_third_pool_df.groupby('modified_sequence')['indexed_retention_time'].median()\n"
   ],
   "metadata": {
    "collapsed": false,
    "ExecuteTime": {
     "end_time": "2023-06-24T07:16:07.990765749Z",
     "start_time": "2023-06-24T07:16:07.873662923Z"
    }
   }
  },
  {
   "cell_type": "markdown",
   "source": [
    "#### Or groupby sequence and select highest ANDROMEDA score\n"
   ],
   "metadata": {
    "collapsed": false
   }
  },
  {
   "cell_type": "code",
   "execution_count": 7,
   "outputs": [
    {
     "data": {
      "text/plain": "modified_sequence\nAAAHGQWELQR                              199.68\nAAAHGQWELQRVHAK                          225.29\nAAEADGPLK                                138.08\nAAEADGPLKR                               127.76\nAAIRLELFLPPQLK                           114.24\n                                          ...  \nYVAIC[UNIMOD:4]NPLRYPVIM[UNIMOD:35]NR    192.18\nYVAIC[UNIMOD:4]SPLRYPVIMSK               264.31\nYVAIC[UNIMOD:4]SPLRYPVIM[UNIMOD:35]SK    192.40\nYVLTSPRSLEAC[UNIMOD:4]AR                 142.39\nYYTRLGNDFHTNK                            228.33\nName: andromeda_score, Length: 4423, dtype: float64"
     },
     "execution_count": 7,
     "metadata": {},
     "output_type": "execute_result"
    }
   ],
   "source": [
    "tum_third_pool_df.groupby('modified_sequence')['andromeda_score'].max()\n"
   ],
   "metadata": {
    "collapsed": false,
    "ExecuteTime": {
     "end_time": "2023-06-24T07:37:12.029087363Z",
     "start_time": "2023-06-24T07:37:11.929158131Z"
    }
   }
  },
  {
   "cell_type": "markdown",
   "source": [
    "#### Small example dataset creation\n"
   ],
   "metadata": {
    "collapsed": false
   }
  },
  {
   "cell_type": "code",
   "execution_count": 66,
   "outputs": [],
   "source": [
    "# calculate variances\n",
    "variance_df = tum_third_pool_df.groupby(\"modified_sequence\")[\"indexed_retention_time\"].var()"
   ],
   "metadata": {
    "collapsed": false,
    "ExecuteTime": {
     "end_time": "2023-06-24T08:07:12.313837607Z",
     "start_time": "2023-06-24T08:07:12.274440645Z"
    }
   }
  },
  {
   "cell_type": "code",
   "execution_count": 67,
   "outputs": [],
   "source": [
    "# convert to df for easier merging\n",
    "variance_df = pd.DataFrame({'modified_sequence':variance_df.index, 'variance':variance_df.values})"
   ],
   "metadata": {
    "collapsed": false,
    "ExecuteTime": {
     "end_time": "2023-06-24T08:07:12.964999708Z",
     "start_time": "2023-06-24T08:07:12.962726127Z"
    }
   }
  },
  {
   "cell_type": "code",
   "execution_count": 71,
   "outputs": [],
   "source": [
    "# merge to original dataset\n",
    "merged_data = tum_third_pool_df.merge(variance_df, left_on= 'modified_sequence', right_on= 'modified_sequence')"
   ],
   "metadata": {
    "collapsed": false,
    "ExecuteTime": {
     "end_time": "2023-06-24T08:11:23.693299623Z",
     "start_time": "2023-06-24T08:11:23.629627471Z"
    }
   }
  },
  {
   "cell_type": "code",
   "execution_count": 109,
   "outputs": [],
   "source": [
    "# drop rows with variance higher than treshold\n",
    "treshold = 1\n",
    "filtered_data = merged_data[merged_data['variance'] <= treshold]\n"
   ],
   "metadata": {
    "collapsed": false,
    "ExecuteTime": {
     "end_time": "2023-06-24T08:32:38.891162550Z",
     "start_time": "2023-06-24T08:32:38.849523852Z"
    }
   }
  },
  {
   "cell_type": "code",
   "execution_count": 110,
   "outputs": [],
   "source": [
    "# select measurement with highest ANDROMEDA score\n",
    "final_data = filtered_data.sort_values('andromeda_score', ascending=False).drop_duplicates('modified_sequence').sort_index()\n"
   ],
   "metadata": {
    "collapsed": false,
    "ExecuteTime": {
     "end_time": "2023-06-24T08:32:39.502342597Z",
     "start_time": "2023-06-24T08:32:39.474955277Z"
    }
   }
  },
  {
   "cell_type": "code",
   "execution_count": 113,
   "outputs": [],
   "source": [
    "# save to csv\n",
    "final_data.to_csv(\"third_pool_tresh_1_0.csv\")\n",
    "final_data[[\"modified_sequence\", \"indexed_retention_time\"]].to_csv(\"third_pool_tresh_1_0_train.csv\", index = False)"
   ],
   "metadata": {
    "collapsed": false,
    "ExecuteTime": {
     "end_time": "2023-06-24T08:36:06.659626283Z",
     "start_time": "2023-06-24T08:36:06.606672894Z"
    }
   }
  },
  {
   "cell_type": "code",
   "execution_count": null,
   "outputs": [],
   "source": [],
   "metadata": {
    "collapsed": false
   }
  }
 ],
 "metadata": {
  "kernelspec": {
   "display_name": "Python 3",
   "language": "python",
   "name": "python3"
  },
  "language_info": {
   "codemirror_mode": {
    "name": "ipython",
    "version": 2
   },
   "file_extension": ".py",
   "mimetype": "text/x-python",
   "name": "python",
   "nbconvert_exporter": "python",
   "pygments_lexer": "ipython2",
   "version": "2.7.6"
  }
 },
 "nbformat": 4,
 "nbformat_minor": 0
}
