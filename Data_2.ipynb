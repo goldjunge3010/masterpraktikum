{
 "cells": [
  {
   "cell_type": "code",
   "execution_count": 1,
   "metadata": {
    "collapsed": true,
    "ExecuteTime": {
     "end_time": "2023-07-09T11:20:45.030891111Z",
     "start_time": "2023-07-09T11:20:44.552648166Z"
    }
   },
   "outputs": [],
   "source": [
    "import pickle\n",
    "from pathlib import Path\n",
    "import pandas as pd\n",
    "import matplotlib.pyplot as plt\n",
    "import prospectdataset as prods\n",
    "import pickle\n",
    "import os\n",
    "\n",
    "SAVE_PATH = str(Path.home() / \"Downloads\" / \"retention.parquet\")\n"
   ]
  },
  {
   "cell_type": "code",
   "execution_count": 3,
   "outputs": [],
   "source": [
    "# Read in all files\n",
    "thermo_srm_pool_df = pd.read_parquet(\n",
    "    str(Path.home() / \"Downloads\" / \"retention.parquet\" / \"Thermo_SRM_Pool_meta_data.parquet\"), engine='fastparquet')\n"
   ],
   "metadata": {
    "collapsed": false,
    "ExecuteTime": {
     "end_time": "2023-06-24T06:51:21.453220177Z",
     "start_time": "2023-06-24T06:51:11.216169701Z"
    }
   }
  },
  {
   "cell_type": "code",
   "execution_count": 4,
   "outputs": [],
   "source": [
    "thermo_srm_pool_df.groupby('modified_sequence')['indexed_retention_time'].median().to_csv(\"thermo_srm_pool.csv\")"
   ],
   "metadata": {
    "collapsed": false,
    "ExecuteTime": {
     "end_time": "2023-06-24T06:51:25.709804674Z",
     "start_time": "2023-06-24T06:51:22.943465792Z"
    }
   }
  },
  {
   "cell_type": "code",
   "execution_count": 5,
   "outputs": [],
   "source": [
    "tum_aspn_df = pd.read_parquet(str(Path.home() / \"Downloads\" / \"retention.parquet\" / \"TUM_aspn_meta_data.parquet\"),\n",
    "                              engine='fastparquet')\n"
   ],
   "metadata": {
    "collapsed": false,
    "ExecuteTime": {
     "end_time": "2023-06-24T06:51:31.173183584Z",
     "start_time": "2023-06-24T06:51:26.769630010Z"
    }
   }
  },
  {
   "cell_type": "code",
   "execution_count": 6,
   "outputs": [],
   "source": [
    "tum_aspn_df.groupby('modified_sequence')['indexed_retention_time'].median().to_csv(\"tum_aspn_df.csv\")"
   ],
   "metadata": {
    "collapsed": false,
    "ExecuteTime": {
     "end_time": "2023-06-24T06:51:34.040236658Z",
     "start_time": "2023-06-24T06:51:32.652576850Z"
    }
   }
  },
  {
   "cell_type": "code",
   "execution_count": 7,
   "outputs": [],
   "source": [
    "tum_first_pool_df = pd.read_parquet(\n",
    "    str(Path.home() / \"Downloads\" / \"retention.parquet\" / \"TUM_first_pool_meta_data.parquet\"), engine='fastparquet')\n"
   ],
   "metadata": {
    "collapsed": false,
    "ExecuteTime": {
     "end_time": "2023-06-24T06:51:55.448383954Z",
     "start_time": "2023-06-24T06:51:36.105507529Z"
    }
   }
  },
  {
   "cell_type": "code",
   "execution_count": 8,
   "outputs": [],
   "source": [
    "tum_first_pool_df.groupby('modified_sequence')['indexed_retention_time'].median().to_csv(\"tum_first_pool.csv\")"
   ],
   "metadata": {
    "collapsed": false,
    "ExecuteTime": {
     "end_time": "2023-06-24T06:52:02.317499187Z",
     "start_time": "2023-06-24T06:51:55.773000784Z"
    }
   }
  },
  {
   "cell_type": "code",
   "execution_count": 9,
   "outputs": [],
   "source": [
    "tum_hla2_df = pd.read_parquet(str(Path.home() / \"Downloads\" / \"retention.parquet\" / \"TUM_HLA2_meta_data.parquet\"),\n",
    "                              engine='fastparquet')\n"
   ],
   "metadata": {
    "collapsed": false,
    "ExecuteTime": {
     "end_time": "2023-06-24T06:52:43.859508290Z",
     "start_time": "2023-06-24T06:52:28.099886723Z"
    }
   }
  },
  {
   "cell_type": "code",
   "execution_count": 12,
   "outputs": [],
   "source": [
    "tum_hla2_df.groupby('modified_sequence')['indexed_retention_time'].median().to_csv(\"tum_hla2.csv\")"
   ],
   "metadata": {
    "collapsed": false,
    "ExecuteTime": {
     "end_time": "2023-06-17T11:05:37.535459462Z",
     "start_time": "2023-06-17T11:05:36.634860238Z"
    }
   }
  },
  {
   "cell_type": "code",
   "execution_count": 10,
   "outputs": [],
   "source": [
    "tum_hla_df = pd.read_parquet(str(Path.home() / \"Downloads\" / \"retention.parquet\" / \"TUM_HLA_meta_data.parquet\"),\n",
    "                             engine='fastparquet')\n"
   ],
   "metadata": {
    "collapsed": false,
    "ExecuteTime": {
     "end_time": "2023-06-24T06:53:34.775137754Z",
     "start_time": "2023-06-24T06:53:12.745106806Z"
    }
   }
  },
  {
   "cell_type": "code",
   "execution_count": 14,
   "outputs": [],
   "source": [
    "tum_hla_df.groupby('modified_sequence')['indexed_retention_time'].median().to_csv(\"tum_hla.csv\")"
   ],
   "metadata": {
    "collapsed": false,
    "ExecuteTime": {
     "end_time": "2023-06-17T11:05:59.210336463Z",
     "start_time": "2023-06-17T11:05:57.657970484Z"
    }
   }
  },
  {
   "cell_type": "code",
   "execution_count": 11,
   "outputs": [],
   "source": [
    "tum_isoform_df = pd.read_parquet(str(Path.home() / \"Downloads\" / \"retention.parquet\" / \"TUM_isoform_meta_data.parquet\"),\n",
    "                                 engine='fastparquet')\n"
   ],
   "metadata": {
    "collapsed": false,
    "ExecuteTime": {
     "end_time": "2023-06-24T06:53:53.279061091Z",
     "start_time": "2023-06-24T06:53:34.787548210Z"
    }
   }
  },
  {
   "cell_type": "code",
   "execution_count": 16,
   "outputs": [],
   "source": [
    "tum_isoform_df.groupby('modified_sequence')['indexed_retention_time'].median().to_csv(\"tum_isoform.csv\")"
   ],
   "metadata": {
    "collapsed": false,
    "ExecuteTime": {
     "end_time": "2023-06-17T11:06:24.353677679Z",
     "start_time": "2023-06-17T11:06:23.211606900Z"
    }
   }
  },
  {
   "cell_type": "code",
   "execution_count": 12,
   "outputs": [],
   "source": [
    "tum_lysn_df = pd.read_parquet(str(Path.home() / \"Downloads\" / \"retention.parquet\" / \"TUM_lysn_meta_data.parquet\"),\n",
    "                              engine='fastparquet')\n"
   ],
   "metadata": {
    "collapsed": false,
    "ExecuteTime": {
     "end_time": "2023-06-24T06:53:57.686243399Z",
     "start_time": "2023-06-24T06:53:53.283977441Z"
    }
   }
  },
  {
   "cell_type": "code",
   "execution_count": 18,
   "outputs": [],
   "source": [
    "tum_lysn_df.groupby('modified_sequence')['indexed_retention_time'].median().to_csv(\"tum_lysn.csv\")"
   ],
   "metadata": {
    "collapsed": false,
    "ExecuteTime": {
     "end_time": "2023-06-17T11:06:42.451150271Z",
     "start_time": "2023-06-17T11:06:42.176805374Z"
    }
   }
  },
  {
   "cell_type": "code",
   "execution_count": 13,
   "outputs": [],
   "source": [
    "tum_missing_first_df = pd.read_parquet(\n",
    "    str(Path.home() / \"Downloads\" / \"retention.parquet\" / \"TUM_missing_first_meta_data.parquet\"), engine='fastparquet')\n"
   ],
   "metadata": {
    "collapsed": false,
    "ExecuteTime": {
     "end_time": "2023-06-24T06:53:58.123947407Z",
     "start_time": "2023-06-24T06:53:57.687106211Z"
    }
   }
  },
  {
   "cell_type": "code",
   "execution_count": 20,
   "outputs": [],
   "source": [
    "tum_missing_first_df.groupby('modified_sequence')['indexed_retention_time'].median().to_csv(\"tum_missing_first.csv\")"
   ],
   "metadata": {
    "collapsed": false,
    "ExecuteTime": {
     "end_time": "2023-06-17T11:07:09.627473174Z",
     "start_time": "2023-06-17T11:07:09.545107587Z"
    }
   }
  },
  {
   "cell_type": "code",
   "execution_count": 14,
   "outputs": [],
   "source": [
    "tum_proteo_tmt_df = pd.read_parquet(\n",
    "    str(Path.home() / \"Downloads\" / \"retention.parquet\" / \"TUM_proteo_TMT_meta_data.parquet\"), engine='fastparquet')\n"
   ],
   "metadata": {
    "collapsed": false,
    "ExecuteTime": {
     "end_time": "2023-06-24T06:54:02.193821154Z",
     "start_time": "2023-06-24T06:53:58.129992165Z"
    }
   }
  },
  {
   "cell_type": "code",
   "execution_count": 22,
   "outputs": [],
   "source": [
    "tum_proteo_tmt_df.groupby('modified_sequence')['indexed_retention_time'].median().to_csv(\"tum_proteo_tmt.csv\")"
   ],
   "metadata": {
    "collapsed": false,
    "ExecuteTime": {
     "end_time": "2023-06-17T11:07:36.005160912Z",
     "start_time": "2023-06-17T11:07:35.740519986Z"
    }
   }
  },
  {
   "cell_type": "code",
   "execution_count": 15,
   "outputs": [],
   "source": [
    "tum_second_addon_df = pd.read_parquet(\n",
    "    str(Path.home() / \"Downloads\" / \"retention.parquet\" / \"TUM_second_addon_meta_data.parquet\"), engine='fastparquet')\n"
   ],
   "metadata": {
    "collapsed": false,
    "ExecuteTime": {
     "end_time": "2023-06-24T06:54:08.649976132Z",
     "start_time": "2023-06-24T06:54:02.202341197Z"
    }
   }
  },
  {
   "cell_type": "code",
   "execution_count": 24,
   "outputs": [],
   "source": [
    "tum_second_addon_df.groupby('modified_sequence')['indexed_retention_time'].median().to_csv(\"tum_second_addon.csv\")"
   ],
   "metadata": {
    "collapsed": false,
    "ExecuteTime": {
     "end_time": "2023-06-17T11:08:02.155759485Z",
     "start_time": "2023-06-17T11:08:01.629731685Z"
    }
   }
  },
  {
   "cell_type": "code",
   "execution_count": 16,
   "outputs": [],
   "source": [
    "tum_second_pool_df = pd.read_parquet(\n",
    "    str(Path.home() / \"Downloads\" / \"retention.parquet\" / \"TUM_second_pool_meta_data.parquet\"), engine='fastparquet')\n"
   ],
   "metadata": {
    "collapsed": false,
    "ExecuteTime": {
     "end_time": "2023-06-24T06:54:20.426800596Z",
     "start_time": "2023-06-24T06:54:08.652923869Z"
    }
   }
  },
  {
   "cell_type": "code",
   "execution_count": 26,
   "outputs": [],
   "source": [
    "tum_second_pool_df.groupby('modified_sequence')['indexed_retention_time'].median().to_csv(\"tum_second_pool.csv\")"
   ],
   "metadata": {
    "collapsed": false,
    "ExecuteTime": {
     "end_time": "2023-06-17T11:08:41.269127969Z",
     "start_time": "2023-06-17T11:08:34.837732427Z"
    }
   }
  },
  {
   "cell_type": "code",
   "execution_count": 2,
   "outputs": [],
   "source": [
    "tum_third_pool_df = pd.read_parquet(\n",
    "    str(Path.home() / \"Downloads\" / \"retention.parquet\" / \"TUM_third_pool_meta_data.parquet\"), engine='fastparquet')\n"
   ],
   "metadata": {
    "collapsed": false,
    "ExecuteTime": {
     "end_time": "2023-07-09T11:21:06.954806828Z",
     "start_time": "2023-07-09T11:21:06.796261948Z"
    }
   }
  },
  {
   "cell_type": "code",
   "execution_count": 28,
   "outputs": [],
   "source": [
    "tum_third_pool_df.groupby('modified_sequence')['indexed_retention_time'].median().to_csv(\"tum_third_pool.csv\")"
   ],
   "metadata": {
    "collapsed": false,
    "ExecuteTime": {
     "end_time": "2023-06-17T11:08:57.294401596Z",
     "start_time": "2023-06-17T11:08:57.151112268Z"
    }
   }
  },
  {
   "cell_type": "markdown",
   "source": [
    "## Groupby peptide and select either highest ANDROMEDA score or take median\n"
   ],
   "metadata": {
    "collapsed": false
   }
  },
  {
   "cell_type": "code",
   "execution_count": 28,
   "outputs": [
    {
     "data": {
      "text/plain": "                                      raw_file  scan_number  \\\n0  01812a_GA3-TUM_third_pool_1_01_01-DDA-1h-R1        34341   \n1  01812a_GA3-TUM_third_pool_1_01_01-DDA-1h-R1        39787   \n2  01812a_GA3-TUM_third_pool_1_01_01-DDA-1h-R1        23850   \n3  01812a_GA3-TUM_third_pool_1_01_01-DDA-1h-R1         5398   \n4  01812a_GA3-TUM_third_pool_1_01_01-DDA-1h-R1        26459   \n\n                                   modified_sequence  precursor_charge  \\\n0                                        DNYDQLVRIAK                 2   \n1                                        MDLESQISDMR                 2   \n2                                         QLQQIERQLK                 2   \n3  PC[UNIMOD:4]C[UNIMOD:4]C[UNIMOD:4]QTTC[UNIMOD:...                 2   \n4                                        LNTEVTTWRTK                 2   \n\n   precursor_intensity         mz  precursor_mz fragmentation mass_analyzer  \\\n0          141925100.0  667.85678    667.854794           HCD          FTMS   \n1           63760280.0  662.79722    662.795297           CID          ITMS   \n2           19577780.0  642.37514    642.375197           CID          ITMS   \n3           29736720.0  701.74308    701.740993           CID          ITMS   \n4           59018990.0  674.86461    674.862699           CID          ITMS   \n\n   retention_time  indexed_retention_time  andromeda_score  peptide_length  \\\n0          36.056               52.907997           305.69              11   \n1          40.771               64.728002           298.84              11   \n2          27.111               30.483831           297.36              10   \n3          11.142               -9.548759           290.68              10   \n4          29.309               35.993983           290.28              11   \n\n   orig_collision_energy  aligned_collision_energy  \n0                   28.0                 30.721936  \n1                   35.0                 35.000000  \n2                   35.0                 35.000000  \n3                   35.0                 35.000000  \n4                   35.0                 35.000000  ",
      "text/html": "<div>\n<style scoped>\n    .dataframe tbody tr th:only-of-type {\n        vertical-align: middle;\n    }\n\n    .dataframe tbody tr th {\n        vertical-align: top;\n    }\n\n    .dataframe thead th {\n        text-align: right;\n    }\n</style>\n<table border=\"1\" class=\"dataframe\">\n  <thead>\n    <tr style=\"text-align: right;\">\n      <th></th>\n      <th>raw_file</th>\n      <th>scan_number</th>\n      <th>modified_sequence</th>\n      <th>precursor_charge</th>\n      <th>precursor_intensity</th>\n      <th>mz</th>\n      <th>precursor_mz</th>\n      <th>fragmentation</th>\n      <th>mass_analyzer</th>\n      <th>retention_time</th>\n      <th>indexed_retention_time</th>\n      <th>andromeda_score</th>\n      <th>peptide_length</th>\n      <th>orig_collision_energy</th>\n      <th>aligned_collision_energy</th>\n    </tr>\n  </thead>\n  <tbody>\n    <tr>\n      <th>0</th>\n      <td>01812a_GA3-TUM_third_pool_1_01_01-DDA-1h-R1</td>\n      <td>34341</td>\n      <td>DNYDQLVRIAK</td>\n      <td>2</td>\n      <td>141925100.0</td>\n      <td>667.85678</td>\n      <td>667.854794</td>\n      <td>HCD</td>\n      <td>FTMS</td>\n      <td>36.056</td>\n      <td>52.907997</td>\n      <td>305.69</td>\n      <td>11</td>\n      <td>28.0</td>\n      <td>30.721936</td>\n    </tr>\n    <tr>\n      <th>1</th>\n      <td>01812a_GA3-TUM_third_pool_1_01_01-DDA-1h-R1</td>\n      <td>39787</td>\n      <td>MDLESQISDMR</td>\n      <td>2</td>\n      <td>63760280.0</td>\n      <td>662.79722</td>\n      <td>662.795297</td>\n      <td>CID</td>\n      <td>ITMS</td>\n      <td>40.771</td>\n      <td>64.728002</td>\n      <td>298.84</td>\n      <td>11</td>\n      <td>35.0</td>\n      <td>35.000000</td>\n    </tr>\n    <tr>\n      <th>2</th>\n      <td>01812a_GA3-TUM_third_pool_1_01_01-DDA-1h-R1</td>\n      <td>23850</td>\n      <td>QLQQIERQLK</td>\n      <td>2</td>\n      <td>19577780.0</td>\n      <td>642.37514</td>\n      <td>642.375197</td>\n      <td>CID</td>\n      <td>ITMS</td>\n      <td>27.111</td>\n      <td>30.483831</td>\n      <td>297.36</td>\n      <td>10</td>\n      <td>35.0</td>\n      <td>35.000000</td>\n    </tr>\n    <tr>\n      <th>3</th>\n      <td>01812a_GA3-TUM_third_pool_1_01_01-DDA-1h-R1</td>\n      <td>5398</td>\n      <td>PC[UNIMOD:4]C[UNIMOD:4]C[UNIMOD:4]QTTC[UNIMOD:...</td>\n      <td>2</td>\n      <td>29736720.0</td>\n      <td>701.74308</td>\n      <td>701.740993</td>\n      <td>CID</td>\n      <td>ITMS</td>\n      <td>11.142</td>\n      <td>-9.548759</td>\n      <td>290.68</td>\n      <td>10</td>\n      <td>35.0</td>\n      <td>35.000000</td>\n    </tr>\n    <tr>\n      <th>4</th>\n      <td>01812a_GA3-TUM_third_pool_1_01_01-DDA-1h-R1</td>\n      <td>26459</td>\n      <td>LNTEVTTWRTK</td>\n      <td>2</td>\n      <td>59018990.0</td>\n      <td>674.86461</td>\n      <td>674.862699</td>\n      <td>CID</td>\n      <td>ITMS</td>\n      <td>29.309</td>\n      <td>35.993983</td>\n      <td>290.28</td>\n      <td>11</td>\n      <td>35.0</td>\n      <td>35.000000</td>\n    </tr>\n  </tbody>\n</table>\n</div>"
     },
     "execution_count": 28,
     "metadata": {},
     "output_type": "execute_result"
    }
   ],
   "source": [
    "tum_third_pool_df.head()"
   ],
   "metadata": {
    "collapsed": false,
    "ExecuteTime": {
     "end_time": "2023-06-17T07:05:32.625877557Z",
     "start_time": "2023-06-17T07:05:32.579231775Z"
    }
   }
  },
  {
   "cell_type": "code",
   "execution_count": 24,
   "outputs": [
    {
     "data": {
      "text/plain": "modified_sequence\nAAAHGQWELQR                               26.428589\nAAAHGQWELQRVHAK                           17.735715\nAAEADGPLK                                  8.703936\nAAEADGPLKR                                14.834332\nAAIRLELFLPPQLK                           104.158475\n                                            ...    \nYVAIC[UNIMOD:4]NPLRYPVIM[UNIMOD:35]NR     68.012109\nYVAIC[UNIMOD:4]SPLRYPVIMSK                74.275623\nYVAIC[UNIMOD:4]SPLRYPVIM[UNIMOD:35]SK     72.702211\nYVLTSPRSLEAC[UNIMOD:4]AR                  46.175652\nYYTRLGNDFHTNK                             25.432464\nName: indexed_retention_time, Length: 4423, dtype: float64"
     },
     "execution_count": 24,
     "metadata": {},
     "output_type": "execute_result"
    }
   ],
   "source": [
    "tum_third_pool_df.groupby('modified_sequence')['indexed_retention_time'].median()\n"
   ],
   "metadata": {
    "collapsed": false,
    "ExecuteTime": {
     "end_time": "2023-06-17T07:00:14.627495957Z",
     "start_time": "2023-06-17T07:00:14.529750595Z"
    }
   }
  },
  {
   "cell_type": "markdown",
   "source": [
    "### Confirm for first sequence\n"
   ],
   "metadata": {
    "collapsed": false
   }
  },
  {
   "cell_type": "code",
   "execution_count": 27,
   "outputs": [
    {
     "data": {
      "text/plain": "26.42858948113327"
     },
     "execution_count": 27,
     "metadata": {},
     "output_type": "execute_result"
    }
   ],
   "source": [
    "tum_third_pool_df.loc[tum_third_pool_df[\"modified_sequence\"] == \"AAAHGQWELQR\"]\n",
    "tum_third_pool_df.loc[tum_third_pool_df[\"modified_sequence\"] == \"AAAHGQWELQR\"][\"indexed_retention_time\"].median()"
   ],
   "metadata": {
    "collapsed": false,
    "ExecuteTime": {
     "end_time": "2023-06-17T07:04:09.187767344Z",
     "start_time": "2023-06-17T07:04:09.132811657Z"
    }
   }
  },
  {
   "cell_type": "markdown",
   "source": [
    "### Highest Andromeda score\n"
   ],
   "metadata": {
    "collapsed": false
   }
  },
  {
   "cell_type": "code",
   "execution_count": 29,
   "outputs": [
    {
     "data": {
      "text/plain": "modified_sequence\nAAAHGQWELQR                              199.68\nAAAHGQWELQRVHAK                          225.29\nAAEADGPLK                                138.08\nAAEADGPLKR                               127.76\nAAIRLELFLPPQLK                           114.24\n                                          ...  \nYVAIC[UNIMOD:4]NPLRYPVIM[UNIMOD:35]NR    192.18\nYVAIC[UNIMOD:4]SPLRYPVIMSK               264.31\nYVAIC[UNIMOD:4]SPLRYPVIM[UNIMOD:35]SK    192.40\nYVLTSPRSLEAC[UNIMOD:4]AR                 142.39\nYYTRLGNDFHTNK                            228.33\nName: andromeda_score, Length: 4423, dtype: float64"
     },
     "execution_count": 29,
     "metadata": {},
     "output_type": "execute_result"
    }
   ],
   "source": [
    "tum_third_pool_df.groupby('modified_sequence')['andromeda_score'].max()\n"
   ],
   "metadata": {
    "collapsed": false,
    "ExecuteTime": {
     "end_time": "2023-06-17T07:06:18.891452588Z",
     "start_time": "2023-06-17T07:06:18.786906899Z"
    }
   }
  },
  {
   "cell_type": "code",
   "execution_count": 1,
   "outputs": [
    {
     "ename": "NameError",
     "evalue": "name 'tum_third_pool_df' is not defined",
     "output_type": "error",
     "traceback": [
      "\u001B[0;31m---------------------------------------------------------------------------\u001B[0m",
      "\u001B[0;31mNameError\u001B[0m                                 Traceback (most recent call last)",
      "Cell \u001B[0;32mIn[1], line 1\u001B[0m\n\u001B[0;32m----> 1\u001B[0m \u001B[43mtum_third_pool_df\u001B[49m\u001B[38;5;241m.\u001B[39miloc[tum_third_pool_df\u001B[38;5;241m.\u001B[39mgroupby(\u001B[38;5;124m'\u001B[39m\u001B[38;5;124mmodified_sequence\u001B[39m\u001B[38;5;124m'\u001B[39m)[\u001B[38;5;124m'\u001B[39m\u001B[38;5;124mandromeda_score\u001B[39m\u001B[38;5;124m'\u001B[39m]\u001B[38;5;241m.\u001B[39midxmax()]\n",
      "\u001B[0;31mNameError\u001B[0m: name 'tum_third_pool_df' is not defined"
     ]
    }
   ],
   "source": [
    "tum_third_pool_df.iloc[tum_third_pool_df.groupby('modified_sequence')['andromeda_score'].idxmax()]"
   ],
   "metadata": {
    "collapsed": false,
    "ExecuteTime": {
     "end_time": "2023-06-17T10:56:59.107100618Z",
     "start_time": "2023-06-17T10:56:58.438965671Z"
    }
   }
  },
  {
   "cell_type": "code",
   "execution_count": null,
   "outputs": [],
   "source": [],
   "metadata": {
    "collapsed": false
   }
  },
  {
   "cell_type": "markdown",
   "source": [
    "### Confirm for first sequence\n"
   ],
   "metadata": {
    "collapsed": false
   }
  },
  {
   "cell_type": "code",
   "execution_count": 43,
   "outputs": [
    {
     "data": {
      "text/plain": "665      166.2900\n911      154.0500\n1046     149.3300\n1892     123.6200\n2060     119.3900\n           ...   \n88124     35.4960\n89165     27.1490\n89358     24.8530\n90521      4.1733\n90590      2.2414\nName: andromeda_score, Length: 79, dtype: float64"
     },
     "execution_count": 43,
     "metadata": {},
     "output_type": "execute_result"
    }
   ],
   "source": [
    "tum_third_pool_df.loc[tum_third_pool_df[\"modified_sequence\"] == \"AAAHGQWELQR\"][\"andromeda_score\"]\n"
   ],
   "metadata": {
    "collapsed": false,
    "ExecuteTime": {
     "end_time": "2023-06-17T07:17:12.604695572Z",
     "start_time": "2023-06-17T07:17:12.529557068Z"
    }
   }
  },
  {
   "cell_type": "markdown",
   "source": [
    "### Drop rows with variance treshold\n"
   ],
   "metadata": {
    "collapsed": false
   }
  },
  {
   "cell_type": "code",
   "execution_count": 20,
   "outputs": [
    {
     "data": {
      "text/plain": "modified_sequence\nAAAHGQWELQR                              False\nAAAHGQWELQRVHAK                          False\nAAEADGPLK                                False\nAAEADGPLKR                                True\nAAIRLELFLPPQLK                            True\n                                         ...  \nYVAIC[UNIMOD:4]NPLRYPVIM[UNIMOD:35]NR    False\nYVAIC[UNIMOD:4]SPLRYPVIMSK               False\nYVAIC[UNIMOD:4]SPLRYPVIM[UNIMOD:35]SK     True\nYVLTSPRSLEAC[UNIMOD:4]AR                 False\nYYTRLGNDFHTNK                            False\nName: indexed_retention_time, Length: 4423, dtype: bool"
     },
     "execution_count": 20,
     "metadata": {},
     "output_type": "execute_result"
    }
   ],
   "source": [
    "tum_third_pool_df.groupby(\"modified_sequence\")[\"indexed_retention_time\"].var() > 10\n"
   ],
   "metadata": {
    "collapsed": false,
    "ExecuteTime": {
     "end_time": "2023-06-24T06:55:28.081600230Z",
     "start_time": "2023-06-24T06:55:27.975915754Z"
    }
   }
  },
  {
   "cell_type": "code",
   "execution_count": 19,
   "outputs": [
    {
     "data": {
      "text/plain": "                                                 raw_file  scan_number  \\\n18007         01812a_GB3-TUM_third_pool_2_01_01-DDA-1h-R1        15704   \n18800         01812a_GB3-TUM_third_pool_2_01_01-DDA-1h-R1        15564   \n19097         01812a_GB3-TUM_third_pool_2_01_01-DDA-1h-R1        15563   \n19557         01812a_GB3-TUM_third_pool_2_01_01-DDA-1h-R1        15703   \n160981  01812a_GB3-TUM_third_pool_2_01_01-2xIT_2xHCD-1...        49656   \n161290  01812a_GB3-TUM_third_pool_2_01_01-2xIT_2xHCD-1...        49657   \n\n       modified_sequence  precursor_charge  precursor_intensity         mz  \\\n18007      ADAPAVSPESPQK                 2            5227786.0  648.82515   \n18800      ADAPAVSPESPQK                 2            4581460.0  648.82515   \n19097      ADAPAVSPESPQK                 2            4581460.0  648.82515   \n19557      ADAPAVSPESPQK                 2            5227786.0  648.82515   \n160981     ADAPAVSPESPQK                 2             442850.7  648.82515   \n161290     ADAPAVSPESPQK                 2             442850.7  648.82515   \n\n        precursor_mz fragmentation mass_analyzer  retention_time  \\\n18007     648.823699           CID          ITMS          20.843   \n18800     648.823699           CID          ITMS          20.718   \n19097     648.823699           HCD          FTMS          20.717   \n19557     648.823699           HCD          FTMS          20.843   \n160981    649.339900           HCD          FTMS          49.146   \n161290    649.339900           HCD          FTMS          49.147   \n\n        indexed_retention_time  andromeda_score  peptide_length  \\\n18007                14.414072         131.3200              13   \n18800                14.097697         115.3400              13   \n19097                14.095166         109.4400              13   \n19557                14.414072         100.2200              13   \n160981               89.964985           6.4773              13   \n161290               89.967523           2.2117              13   \n\n        orig_collision_energy  aligned_collision_energy  \n18007                    35.0                 35.000000  \n18800                    35.0                 35.000000  \n19097                    28.0                 31.000583  \n19557                    28.0                 31.000583  \n160981                   20.0                 22.558915  \n161290                   23.0                 25.558915  ",
      "text/html": "<div>\n<style scoped>\n    .dataframe tbody tr th:only-of-type {\n        vertical-align: middle;\n    }\n\n    .dataframe tbody tr th {\n        vertical-align: top;\n    }\n\n    .dataframe thead th {\n        text-align: right;\n    }\n</style>\n<table border=\"1\" class=\"dataframe\">\n  <thead>\n    <tr style=\"text-align: right;\">\n      <th></th>\n      <th>raw_file</th>\n      <th>scan_number</th>\n      <th>modified_sequence</th>\n      <th>precursor_charge</th>\n      <th>precursor_intensity</th>\n      <th>mz</th>\n      <th>precursor_mz</th>\n      <th>fragmentation</th>\n      <th>mass_analyzer</th>\n      <th>retention_time</th>\n      <th>indexed_retention_time</th>\n      <th>andromeda_score</th>\n      <th>peptide_length</th>\n      <th>orig_collision_energy</th>\n      <th>aligned_collision_energy</th>\n    </tr>\n  </thead>\n  <tbody>\n    <tr>\n      <th>18007</th>\n      <td>01812a_GB3-TUM_third_pool_2_01_01-DDA-1h-R1</td>\n      <td>15704</td>\n      <td>ADAPAVSPESPQK</td>\n      <td>2</td>\n      <td>5227786.0</td>\n      <td>648.82515</td>\n      <td>648.823699</td>\n      <td>CID</td>\n      <td>ITMS</td>\n      <td>20.843</td>\n      <td>14.414072</td>\n      <td>131.3200</td>\n      <td>13</td>\n      <td>35.0</td>\n      <td>35.000000</td>\n    </tr>\n    <tr>\n      <th>18800</th>\n      <td>01812a_GB3-TUM_third_pool_2_01_01-DDA-1h-R1</td>\n      <td>15564</td>\n      <td>ADAPAVSPESPQK</td>\n      <td>2</td>\n      <td>4581460.0</td>\n      <td>648.82515</td>\n      <td>648.823699</td>\n      <td>CID</td>\n      <td>ITMS</td>\n      <td>20.718</td>\n      <td>14.097697</td>\n      <td>115.3400</td>\n      <td>13</td>\n      <td>35.0</td>\n      <td>35.000000</td>\n    </tr>\n    <tr>\n      <th>19097</th>\n      <td>01812a_GB3-TUM_third_pool_2_01_01-DDA-1h-R1</td>\n      <td>15563</td>\n      <td>ADAPAVSPESPQK</td>\n      <td>2</td>\n      <td>4581460.0</td>\n      <td>648.82515</td>\n      <td>648.823699</td>\n      <td>HCD</td>\n      <td>FTMS</td>\n      <td>20.717</td>\n      <td>14.095166</td>\n      <td>109.4400</td>\n      <td>13</td>\n      <td>28.0</td>\n      <td>31.000583</td>\n    </tr>\n    <tr>\n      <th>19557</th>\n      <td>01812a_GB3-TUM_third_pool_2_01_01-DDA-1h-R1</td>\n      <td>15703</td>\n      <td>ADAPAVSPESPQK</td>\n      <td>2</td>\n      <td>5227786.0</td>\n      <td>648.82515</td>\n      <td>648.823699</td>\n      <td>HCD</td>\n      <td>FTMS</td>\n      <td>20.843</td>\n      <td>14.414072</td>\n      <td>100.2200</td>\n      <td>13</td>\n      <td>28.0</td>\n      <td>31.000583</td>\n    </tr>\n    <tr>\n      <th>160981</th>\n      <td>01812a_GB3-TUM_third_pool_2_01_01-2xIT_2xHCD-1...</td>\n      <td>49656</td>\n      <td>ADAPAVSPESPQK</td>\n      <td>2</td>\n      <td>442850.7</td>\n      <td>648.82515</td>\n      <td>649.339900</td>\n      <td>HCD</td>\n      <td>FTMS</td>\n      <td>49.146</td>\n      <td>89.964985</td>\n      <td>6.4773</td>\n      <td>13</td>\n      <td>20.0</td>\n      <td>22.558915</td>\n    </tr>\n    <tr>\n      <th>161290</th>\n      <td>01812a_GB3-TUM_third_pool_2_01_01-2xIT_2xHCD-1...</td>\n      <td>49657</td>\n      <td>ADAPAVSPESPQK</td>\n      <td>2</td>\n      <td>442850.7</td>\n      <td>648.82515</td>\n      <td>649.339900</td>\n      <td>HCD</td>\n      <td>FTMS</td>\n      <td>49.147</td>\n      <td>89.967523</td>\n      <td>2.2117</td>\n      <td>13</td>\n      <td>23.0</td>\n      <td>25.558915</td>\n    </tr>\n  </tbody>\n</table>\n</div>"
     },
     "execution_count": 19,
     "metadata": {},
     "output_type": "execute_result"
    }
   ],
   "source": [
    " tum_third_pool_df.loc[tum_third_pool_df[\"modified_sequence\"] == \"ADAPAVSPESPQK\"]\n"
   ],
   "metadata": {
    "collapsed": false,
    "ExecuteTime": {
     "end_time": "2023-06-24T06:54:45.839995451Z",
     "start_time": "2023-06-24T06:54:45.638467299Z"
    }
   }
  },
  {
   "cell_type": "code",
   "execution_count": 7,
   "outputs": [
    {
     "data": {
      "text/plain": "1528.5950707673694"
     },
     "execution_count": 7,
     "metadata": {},
     "output_type": "execute_result"
    }
   ],
   "source": [
    " tum_third_pool_df.loc[tum_third_pool_df[\"modified_sequence\"] == \"ADAPAVSPESPQK\"][\"indexed_retention_time\"].var()\n"
   ],
   "metadata": {
    "collapsed": false,
    "ExecuteTime": {
     "end_time": "2023-06-24T07:04:22.062848514Z",
     "start_time": "2023-06-24T07:04:22.027947328Z"
    }
   }
  },
  {
   "cell_type": "code",
   "execution_count": 31,
   "outputs": [],
   "source": [
    "treshold = 1\n",
    "filtered_data = tum_third_pool_df.groupby(\"modified_sequence\")[\"indexed_retention_time\"].var().loc[lambda x: x < treshold]"
   ],
   "metadata": {
    "collapsed": false,
    "ExecuteTime": {
     "end_time": "2023-06-24T07:11:03.836849441Z",
     "start_time": "2023-06-24T07:11:03.747554634Z"
    }
   }
  },
  {
   "cell_type": "code",
   "execution_count": 32,
   "outputs": [
    {
     "data": {
      "text/plain": "modified_sequence\nAALC[UNIMOD:4]GTPTPSLASGLWR               0.114711\nAAMTELKSC[UNIMOD:4]IDGLQPMHK              0.057319\nAARVIIEK                                  0.075696\nAC[UNIMOD:4]PATQALEEHQK                   0.304118\nADAIFSQER                                 0.221824\n                                            ...   \nYVAIC[UNIMOD:4]KPLLYVIIMAEK               0.079766\nYVAIC[UNIMOD:4]NPLHYPDLMSRK               0.000002\nYVAIC[UNIMOD:4]NPLHYPDLM[UNIMOD:35]SR     0.725356\nYVAIC[UNIMOD:4]NPLHYPVLMSRK               0.037406\nYVAIC[UNIMOD:4]NPLHYPVLM[UNIMOD:35]SRK    0.002405\nName: indexed_retention_time, Length: 1900, dtype: float64"
     },
     "execution_count": 32,
     "metadata": {},
     "output_type": "execute_result"
    }
   ],
   "source": [
    "filtered_data"
   ],
   "metadata": {
    "collapsed": false,
    "ExecuteTime": {
     "end_time": "2023-06-24T07:11:05.154060547Z",
     "start_time": "2023-06-24T07:11:05.125749773Z"
    }
   }
  },
  {
   "cell_type": "code",
   "execution_count": 1,
   "outputs": [],
   "source": [
    "### -> Drop if above treshold: eg. 10\n"
   ],
   "metadata": {
    "collapsed": false,
    "ExecuteTime": {
     "end_time": "2023-06-17T11:11:57.079242744Z",
     "start_time": "2023-06-17T11:11:57.025812459Z"
    }
   }
  },
  {
   "cell_type": "code",
   "execution_count": 11,
   "outputs": [],
   "source": [
    "one = pd.read_csv(\"dataset_median/thermo_srm_pool.csv\")\n",
    "two = pd.read_csv(\"dataset_median/tum_aspn.csv\")\n",
    "three = pd.read_csv(\"dataset_median/tum_first_pool.csv\")\n",
    "four = pd.read_csv(\"dataset_median/tum_hla.csv\")\n",
    "five = pd.read_csv(\"dataset_median/tum_hla2.csv\")\n",
    "six = pd.read_csv(\"dataset_median/tum_isoform.csv\")\n",
    "seven = pd.read_csv(\"dataset_median/tum_lysn.csv\")\n",
    "eight = pd.read_csv(\"dataset_median/tum_missing_first.csv\")\n",
    "nine = pd.read_csv(\"dataset_median/tum_proteo_tmt.csv\")\n",
    "ten = pd.read_csv(\"dataset_median/tum_second_addon.csv\")\n",
    "eleven = pd.read_csv(\"dataset_median/tum_second_pool.csv\")\n",
    "twelve   = pd.read_csv(\"dataset_median/tum_third_pool.csv\")\n"
   ],
   "metadata": {
    "collapsed": false,
    "ExecuteTime": {
     "end_time": "2023-06-17T11:19:10.412087857Z",
     "start_time": "2023-06-17T11:19:09.797301453Z"
    }
   }
  },
  {
   "cell_type": "code",
   "execution_count": 13,
   "outputs": [],
   "source": [
    "pd.concat([one, two, three, four, five, six, seven, eight, nine, ten, eleven, twelve]).to_csv(\"whole_dataset.csv\")\n"
   ],
   "metadata": {
    "collapsed": false,
    "ExecuteTime": {
     "end_time": "2023-06-17T11:19:32.876263036Z",
     "start_time": "2023-06-17T11:19:30.972203451Z"
    }
   }
  },
  {
   "cell_type": "code",
   "execution_count": 9,
   "outputs": [
    {
     "data": {
      "text/plain": "                                      raw_file  scan_number  \\\n0  01812a_GA3-TUM_third_pool_1_01_01-DDA-1h-R1        34341   \n1  01812a_GA3-TUM_third_pool_1_01_01-DDA-1h-R1        39787   \n2  01812a_GA3-TUM_third_pool_1_01_01-DDA-1h-R1        23850   \n3  01812a_GA3-TUM_third_pool_1_01_01-DDA-1h-R1         5398   \n4  01812a_GA3-TUM_third_pool_1_01_01-DDA-1h-R1        26459   \n\n                                   modified_sequence  precursor_charge  \\\n0                                        DNYDQLVRIAK                 2   \n1                                        MDLESQISDMR                 2   \n2                                         QLQQIERQLK                 2   \n3  PC[UNIMOD:4]C[UNIMOD:4]C[UNIMOD:4]QTTC[UNIMOD:...                 2   \n4                                        LNTEVTTWRTK                 2   \n\n   precursor_intensity         mz  precursor_mz fragmentation mass_analyzer  \\\n0          141925100.0  667.85678    667.854794           HCD          FTMS   \n1           63760280.0  662.79722    662.795297           CID          ITMS   \n2           19577780.0  642.37514    642.375197           CID          ITMS   \n3           29736720.0  701.74308    701.740993           CID          ITMS   \n4           59018990.0  674.86461    674.862699           CID          ITMS   \n\n   retention_time  indexed_retention_time  andromeda_score  peptide_length  \\\n0          36.056               52.907997           305.69              11   \n1          40.771               64.728002           298.84              11   \n2          27.111               30.483831           297.36              10   \n3          11.142               -9.548759           290.68              10   \n4          29.309               35.993983           290.28              11   \n\n   orig_collision_energy  aligned_collision_energy  \n0                   28.0                 30.721936  \n1                   35.0                 35.000000  \n2                   35.0                 35.000000  \n3                   35.0                 35.000000  \n4                   35.0                 35.000000  ",
      "text/html": "<div>\n<style scoped>\n    .dataframe tbody tr th:only-of-type {\n        vertical-align: middle;\n    }\n\n    .dataframe tbody tr th {\n        vertical-align: top;\n    }\n\n    .dataframe thead th {\n        text-align: right;\n    }\n</style>\n<table border=\"1\" class=\"dataframe\">\n  <thead>\n    <tr style=\"text-align: right;\">\n      <th></th>\n      <th>raw_file</th>\n      <th>scan_number</th>\n      <th>modified_sequence</th>\n      <th>precursor_charge</th>\n      <th>precursor_intensity</th>\n      <th>mz</th>\n      <th>precursor_mz</th>\n      <th>fragmentation</th>\n      <th>mass_analyzer</th>\n      <th>retention_time</th>\n      <th>indexed_retention_time</th>\n      <th>andromeda_score</th>\n      <th>peptide_length</th>\n      <th>orig_collision_energy</th>\n      <th>aligned_collision_energy</th>\n    </tr>\n  </thead>\n  <tbody>\n    <tr>\n      <th>0</th>\n      <td>01812a_GA3-TUM_third_pool_1_01_01-DDA-1h-R1</td>\n      <td>34341</td>\n      <td>DNYDQLVRIAK</td>\n      <td>2</td>\n      <td>141925100.0</td>\n      <td>667.85678</td>\n      <td>667.854794</td>\n      <td>HCD</td>\n      <td>FTMS</td>\n      <td>36.056</td>\n      <td>52.907997</td>\n      <td>305.69</td>\n      <td>11</td>\n      <td>28.0</td>\n      <td>30.721936</td>\n    </tr>\n    <tr>\n      <th>1</th>\n      <td>01812a_GA3-TUM_third_pool_1_01_01-DDA-1h-R1</td>\n      <td>39787</td>\n      <td>MDLESQISDMR</td>\n      <td>2</td>\n      <td>63760280.0</td>\n      <td>662.79722</td>\n      <td>662.795297</td>\n      <td>CID</td>\n      <td>ITMS</td>\n      <td>40.771</td>\n      <td>64.728002</td>\n      <td>298.84</td>\n      <td>11</td>\n      <td>35.0</td>\n      <td>35.000000</td>\n    </tr>\n    <tr>\n      <th>2</th>\n      <td>01812a_GA3-TUM_third_pool_1_01_01-DDA-1h-R1</td>\n      <td>23850</td>\n      <td>QLQQIERQLK</td>\n      <td>2</td>\n      <td>19577780.0</td>\n      <td>642.37514</td>\n      <td>642.375197</td>\n      <td>CID</td>\n      <td>ITMS</td>\n      <td>27.111</td>\n      <td>30.483831</td>\n      <td>297.36</td>\n      <td>10</td>\n      <td>35.0</td>\n      <td>35.000000</td>\n    </tr>\n    <tr>\n      <th>3</th>\n      <td>01812a_GA3-TUM_third_pool_1_01_01-DDA-1h-R1</td>\n      <td>5398</td>\n      <td>PC[UNIMOD:4]C[UNIMOD:4]C[UNIMOD:4]QTTC[UNIMOD:...</td>\n      <td>2</td>\n      <td>29736720.0</td>\n      <td>701.74308</td>\n      <td>701.740993</td>\n      <td>CID</td>\n      <td>ITMS</td>\n      <td>11.142</td>\n      <td>-9.548759</td>\n      <td>290.68</td>\n      <td>10</td>\n      <td>35.0</td>\n      <td>35.000000</td>\n    </tr>\n    <tr>\n      <th>4</th>\n      <td>01812a_GA3-TUM_third_pool_1_01_01-DDA-1h-R1</td>\n      <td>26459</td>\n      <td>LNTEVTTWRTK</td>\n      <td>2</td>\n      <td>59018990.0</td>\n      <td>674.86461</td>\n      <td>674.862699</td>\n      <td>CID</td>\n      <td>ITMS</td>\n      <td>29.309</td>\n      <td>35.993983</td>\n      <td>290.28</td>\n      <td>11</td>\n      <td>35.0</td>\n      <td>35.000000</td>\n    </tr>\n  </tbody>\n</table>\n</div>"
     },
     "execution_count": 9,
     "metadata": {},
     "output_type": "execute_result"
    }
   ],
   "source": [
    "tum_third_pool_df.head()\n"
   ],
   "metadata": {
    "collapsed": false,
    "ExecuteTime": {
     "end_time": "2023-07-09T09:38:25.924603812Z",
     "start_time": "2023-07-09T09:38:25.920354680Z"
    }
   }
  },
  {
   "cell_type": "markdown",
   "source": [
    "### Create histogram over sequence length\n"
   ],
   "metadata": {
    "collapsed": false
   }
  },
  {
   "cell_type": "code",
   "execution_count": 3,
   "outputs": [],
   "source": [
    "import re\n",
    "\n",
    "def count_seq_length(df: pd.DataFrame, seq_col: str) -> pd.Series:\n",
    "    pattern = re.compile(r\"\\[UNIMOD:.*\\]\", re.IGNORECASE)\n",
    "    df[seq_col].replace(pattern, \"\", inplace= True)\n",
    "    return df[seq_col].str.len()\n"
   ],
   "metadata": {
    "collapsed": false,
    "ExecuteTime": {
     "end_time": "2023-07-09T11:21:20.115857116Z",
     "start_time": "2023-07-09T11:21:20.072504155Z"
    }
   }
  },
  {
   "cell_type": "code",
   "execution_count": null,
   "outputs": [],
   "source": [],
   "metadata": {
    "collapsed": false
   }
  },
  {
   "cell_type": "code",
   "execution_count": 4,
   "outputs": [
    {
     "data": {
      "text/plain": "0         11\n1         11\n2         10\n3          3\n4         11\n          ..\n338729    25\n338730    25\n338731    25\n338732    10\n338733    25\nName: modified_sequence, Length: 338734, dtype: int64"
     },
     "execution_count": 4,
     "metadata": {},
     "output_type": "execute_result"
    }
   ],
   "source": [
    "count_seq_length(tum_third_pool_df, \"modified_sequence\")\n"
   ],
   "metadata": {
    "collapsed": false,
    "ExecuteTime": {
     "end_time": "2023-07-09T11:21:23.097998079Z",
     "start_time": "2023-07-09T11:21:22.761396743Z"
    }
   }
  },
  {
   "cell_type": "code",
   "execution_count": 5,
   "outputs": [
    {
     "data": {
      "text/plain": "raw_file                    01812a_GA3-TUM_third_pool_1_01_01-DDA-1h-R1\nscan_number                                                       21177\nmodified_sequence                                            PQVTPLEDSK\nprecursor_charge                                                      2\nprecursor_intensity                                          78762620.0\nmz                                                            557.29295\nprecursor_mz                                                 557.292195\nfragmentation                                                       HCD\nmass_analyzer                                                      FTMS\nretention_time                                                   24.847\nindexed_retention_time                                        24.808223\nandromeda_score                                                  211.37\npeptide_length                                                       10\norig_collision_energy                                              28.0\naligned_collision_energy                                      30.721936\nName: 151, dtype: object"
     },
     "execution_count": 5,
     "metadata": {},
     "output_type": "execute_result"
    }
   ],
   "source": [
    "tum_third_pool_df.iloc[151]"
   ],
   "metadata": {
    "collapsed": false,
    "ExecuteTime": {
     "end_time": "2023-07-09T11:21:37.440201211Z",
     "start_time": "2023-07-09T11:21:37.432592741Z"
    }
   }
  },
  {
   "cell_type": "markdown",
   "source": [],
   "metadata": {
    "collapsed": false
   }
  },
  {
   "cell_type": "code",
   "execution_count": 100,
   "outputs": [],
   "source": [
    "ex"
   ],
   "metadata": {
    "collapsed": false
   }
  },
  {
   "cell_type": "code",
   "execution_count": 50,
   "outputs": [
    {
     "ename": "TypeError",
     "evalue": "str.replace() takes no keyword arguments",
     "output_type": "error",
     "traceback": [
      "\u001B[0;31m---------------------------------------------------------------------------\u001B[0m",
      "\u001B[0;31mTypeError\u001B[0m                                 Traceback (most recent call last)",
      "Cell \u001B[0;32mIn[50], line 1\u001B[0m\n\u001B[0;32m----> 1\u001B[0m \u001B[43mt\u001B[49m\u001B[43m[\u001B[49m\u001B[38;5;124;43m\"\u001B[39;49m\u001B[38;5;124;43mmodified_sequence\u001B[39;49m\u001B[38;5;124;43m\"\u001B[39;49m\u001B[43m]\u001B[49m\u001B[38;5;241;43m.\u001B[39;49m\u001B[43mreplace\u001B[49m\u001B[43m(\u001B[49m\u001B[38;5;124;43m\"\u001B[39;49m\u001B[38;5;124;43mP\u001B[39;49m\u001B[38;5;124;43m\"\u001B[39;49m\u001B[43m,\u001B[49m\u001B[43m \u001B[49m\u001B[38;5;124;43m\"\u001B[39;49m\u001B[38;5;124;43m\"\u001B[39;49m\u001B[43m,\u001B[49m\u001B[43m \u001B[49m\u001B[43mregex\u001B[49m\u001B[43m \u001B[49m\u001B[38;5;241;43m=\u001B[39;49m\u001B[43m \u001B[49m\u001B[38;5;28;43;01mFalse\u001B[39;49;00m\u001B[43m)\u001B[49m\n",
      "\u001B[0;31mTypeError\u001B[0m: str.replace() takes no keyword arguments"
     ]
    }
   ],
   "source": [
    "t[\"modified_sequence\"].replace(\"P\", \"\", regex = False)\n"
   ],
   "metadata": {
    "collapsed": false,
    "ExecuteTime": {
     "end_time": "2023-07-09T10:15:38.295853480Z",
     "start_time": "2023-07-09T10:15:38.252428352Z"
    }
   }
  },
  {
   "cell_type": "code",
   "execution_count": 76,
   "outputs": [
    {
     "data": {
      "text/plain": "dtype('O')"
     },
     "execution_count": 76,
     "metadata": {},
     "output_type": "execute_result"
    }
   ],
   "source": [
    "s = pd.Series([\"[UNIMOD:4]\", \"[UNIMOD:14]\", \"[UNIMOD:4]\", \"[UNIMOD:41]\"])\n",
    "s.dtype"
   ],
   "metadata": {
    "collapsed": false,
    "ExecuteTime": {
     "end_time": "2023-07-09T11:10:16.774299160Z",
     "start_time": "2023-07-09T11:10:16.713259865Z"
    }
   }
  },
  {
   "cell_type": "code",
   "execution_count": 82,
   "outputs": [
    {
     "data": {
      "text/plain": "0     [UNIMOD:4]\n1    [UNIMOD:14]\n2     [UNIMOD:4]\n3    [UNIMOD:41]\ndtype: string"
     },
     "execution_count": 82,
     "metadata": {},
     "output_type": "execute_result"
    }
   ],
   "source": [
    "s = s.astype(\"string\")\n",
    "s"
   ],
   "metadata": {
    "collapsed": false,
    "ExecuteTime": {
     "end_time": "2023-07-09T11:13:41.278409370Z",
     "start_time": "2023-07-09T11:13:41.256722149Z"
    }
   }
  },
  {
   "cell_type": "code",
   "execution_count": 92,
   "outputs": [
    {
     "data": {
      "text/plain": "0    X\n1    X\n2    X\n3    X\ndtype: string"
     },
     "execution_count": 92,
     "metadata": {},
     "output_type": "execute_result"
    }
   ],
   "source": [
    "pattern = re.compile(r\"\\[UNIMOD:.*\\]\")\n",
    "s.replace(pattern, \"X\")"
   ],
   "metadata": {
    "collapsed": false,
    "ExecuteTime": {
     "end_time": "2023-07-09T11:17:50.457888021Z",
     "start_time": "2023-07-09T11:17:50.452725401Z"
    }
   }
  },
  {
   "cell_type": "code",
   "execution_count": 87,
   "outputs": [
    {
     "data": {
      "text/plain": "re.compile(r'\\[UNIMOD:[A-Za-z0-9]* +\\]', re.IGNORECASE|re.UNICODE)"
     },
     "execution_count": 87,
     "metadata": {},
     "output_type": "execute_result"
    }
   ],
   "source": [
    "pattern"
   ],
   "metadata": {
    "collapsed": false,
    "ExecuteTime": {
     "end_time": "2023-07-09T11:14:55.382478630Z",
     "start_time": "2023-07-09T11:14:55.377705457Z"
    }
   }
  },
  {
   "cell_type": "code",
   "execution_count": 85,
   "outputs": [],
   "source": [
    "import re\n"
   ],
   "metadata": {
    "collapsed": false,
    "ExecuteTime": {
     "end_time": "2023-07-09T11:14:51.161474591Z",
     "start_time": "2023-07-09T11:14:51.151145832Z"
    }
   }
  }
 ],
 "metadata": {
  "kernelspec": {
   "display_name": "Python 3",
   "language": "python",
   "name": "python3"
  },
  "language_info": {
   "codemirror_mode": {
    "name": "ipython",
    "version": 2
   },
   "file_extension": ".py",
   "mimetype": "text/x-python",
   "name": "python",
   "nbconvert_exporter": "python",
   "pygments_lexer": "ipython2",
   "version": "2.7.6"
  }
 },
 "nbformat": 4,
 "nbformat_minor": 0
}
