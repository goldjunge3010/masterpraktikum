{
  "cells": [
    {
      "cell_type": "code",
      "execution_count": null,
      "metadata": {
        "id": "biVPv-47TylY"
      },
      "outputs": [],
      "source": [
        "# install necessary packages\n",
        "!python -m pip install -q dlomix==0.0.4\n",
        "!python -m pip install -q wandb"
      ]
    },
    {
      "cell_type": "code",
      "execution_count": null,
      "metadata": {
        "colab": {
          "base_uri": "https://localhost:8080/"
        },
        "id": "7az5VtxjUBnp",
        "outputId": "04437c7a-bbf3-489a-d0c3-b1b9a8e65d16"
      },
      "outputs": [
        {
          "output_type": "stream",
          "name": "stderr",
          "text": [
            "\u001b[34m\u001b[1mwandb\u001b[0m: Thanks for trying out the Report API!\n",
            "\u001b[34m\u001b[1mwandb\u001b[0m: For a tutorial, check out https://colab.research.google.com/drive/1CzyJx1nuOS4pdkXa2XPaRQyZdmFmLmXV\n",
            "\u001b[34m\u001b[1mwandb\u001b[0m: \n",
            "\u001b[34m\u001b[1mwandb\u001b[0m: Try out tab completion to see what's available.\n",
            "\u001b[34m\u001b[1mwandb\u001b[0m:   ∟ everything:    `wr.<tab>`\n",
            "\u001b[34m\u001b[1mwandb\u001b[0m:       ∟ panels:    `wr.panels.<tab>`\n",
            "\u001b[34m\u001b[1mwandb\u001b[0m:       ∟ blocks:    `wr.blocks.<tab>`\n",
            "\u001b[34m\u001b[1mwandb\u001b[0m:       ∟ helpers:   `wr.helpers.<tab>`\n",
            "\u001b[34m\u001b[1mwandb\u001b[0m:       ∟ templates: `wr.templates.<tab>`\n",
            "\u001b[34m\u001b[1mwandb\u001b[0m:       \n",
            "\u001b[34m\u001b[1mwandb\u001b[0m: For bugs/feature requests, please create an issue on github: https://github.com/wandb/wandb/issues\n"
          ]
        }
      ],
      "source": [
        "# import necessary packages\n",
        "import numpy as np\n",
        "import pandas as pd\n",
        "import tensorflow as tf\n",
        "import re\n",
        "\n",
        "import wandb\n",
        "from wandb.keras import WandbCallback\n",
        "from wandb.keras import WandbMetricsLogger\n",
        "import wandb.apis.reports as wr\n",
        "\n",
        "import dlomix\n",
        "from dlomix import constants, data, eval, layers, models, pipelines, reports, utils\n",
        "from dlomix.data import RetentionTimeDataset\n",
        "from dlomix.models import PrositRetentionTimePredictor\n",
        "from dlomix.eval import TimeDeltaMetric\n",
        "\n",
        "\n"
      ]
    },
    {
      "cell_type": "code",
      "execution_count": null,
      "metadata": {
        "colab": {
          "base_uri": "https://localhost:8080/",
          "height": 190,
          "referenced_widgets": [
            "df1725cd29544f01866a29e8c5a048fb",
            "1989a3ec333b4efd9bfa21413d162478",
            "c0baed45c0684f41ba288f3b9de006a2",
            "14ac950304d4436289d1d124104f0807",
            "9817f0dce1bf41678e37fbb7dbac9bc1",
            "4962df6e17cb4a2c88e1dac695f1d513",
            "0e5e946a2f154082885ef5dee744d225",
            "2d1f7eb131c7411e92bcc9cdbc9ce7a5"
          ]
        },
        "id": "8ZuDmejuZoxH",
        "outputId": "3e3d0f8d-64e2-46a8-ffdd-442fce9c0758"
      },
      "outputs": [
        {
          "output_type": "display_data",
          "data": {
            "text/plain": [
              "VBox(children=(Label(value='Waiting for wandb.init()...\\r'), FloatProgress(value=0.01667077395001494, max=1.0)…"
            ],
            "application/vnd.jupyter.widget-view+json": {
              "version_major": 2,
              "version_minor": 0,
              "model_id": "df1725cd29544f01866a29e8c5a048fb"
            }
          },
          "metadata": {}
        },
        {
          "output_type": "display_data",
          "data": {
            "text/plain": [
              "<IPython.core.display.HTML object>"
            ],
            "text/html": [
              "Tracking run with wandb version 0.15.6"
            ]
          },
          "metadata": {}
        },
        {
          "output_type": "display_data",
          "data": {
            "text/plain": [
              "<IPython.core.display.HTML object>"
            ],
            "text/html": [
              "Run data is saved locally in <code>/content/wandb/run-20230725_125016-ialespph</code>"
            ]
          },
          "metadata": {}
        },
        {
          "output_type": "display_data",
          "data": {
            "text/plain": [
              "<IPython.core.display.HTML object>"
            ],
            "text/html": [
              "Syncing run <strong><a href='https://wandb.ai/master_praktikum/rt_report_2/runs/ialespph' target=\"_blank\">run_3</a></strong> to <a href='https://wandb.ai/master_praktikum/rt_report_2' target=\"_blank\">Weights & Biases</a> (<a href='https://wandb.me/run' target=\"_blank\">docs</a>)<br/>"
            ]
          },
          "metadata": {}
        },
        {
          "output_type": "display_data",
          "data": {
            "text/plain": [
              "<IPython.core.display.HTML object>"
            ],
            "text/html": [
              " View project at <a href='https://wandb.ai/master_praktikum/rt_report_2' target=\"_blank\">https://wandb.ai/master_praktikum/rt_report_2</a>"
            ]
          },
          "metadata": {}
        },
        {
          "output_type": "display_data",
          "data": {
            "text/plain": [
              "<IPython.core.display.HTML object>"
            ],
            "text/html": [
              " View run at <a href='https://wandb.ai/master_praktikum/rt_report_2/runs/ialespph' target=\"_blank\">https://wandb.ai/master_praktikum/rt_report_2/runs/ialespph</a>"
            ]
          },
          "metadata": {}
        },
        {
          "output_type": "execute_result",
          "data": {
            "text/html": [
              "<button onClick=\"this.nextSibling.style.display='block';this.style.display='none';\">Display W&B run</button><iframe src='https://wandb.ai/master_praktikum/rt_report_2/runs/ialespph?jupyter=true' style='border:none;width:100%;height:420px;display:none;'></iframe>"
            ],
            "text/plain": [
              "<wandb.sdk.wandb_run.Run at 0x796f9fc67ee0>"
            ]
          },
          "metadata": {},
          "execution_count": 14
        }
      ],
      "source": [
        "config = {\n",
        "  \"seq_length\" : 64,\n",
        "  \"batch_size\" : 32,\n",
        "  \"val_ratio\" : 0.2,\n",
        "  \"lr\" : 0.001,\n",
        "  \"optimizer\" : \"Adam\",\n",
        "  \"loss\" : \"mse\"\n",
        "}\n",
        "\n",
        "# Initialize WANDB\n",
        "PROJECT = 'rt_report_2'\n",
        "RUN = \"run_3\"\n",
        "wandb.init(project = PROJECT, name = RUN, config = config)"
      ]
    },
    {
      "cell_type": "code",
      "execution_count": null,
      "metadata": {
        "colab": {
          "base_uri": "https://localhost:8080/"
        },
        "id": "Dactu9VRUMvl",
        "outputId": "6c0a1cba-49a6-483a-8a49-e9134147d9b7"
      },
      "outputs": [
        {
          "output_type": "stream",
          "name": "stdout",
          "text": [
            "Batch size: 32\n",
            "Number training samples : 1440\n",
            "Number validation samples : 384\n"
          ]
        }
      ],
      "source": [
        "# load small train dataset\n",
        "TRAIN_DATAPATH = 'https://raw.githubusercontent.com/goldjunge3010/masterpraktikum/main/third_pool_tresh_1_0_train.csv'\n",
        "#TRAIN_DATAPATH = 'https://raw.githubusercontent.com/wilhelm-lab/dlomix/develop/example_dataset/proteomTools_train_val.csv'\n",
        "\n",
        "# create dataset\n",
        "rtdata = RetentionTimeDataset(data_source=TRAIN_DATAPATH,\n",
        "                              seq_length = config[\"seq_length\"],\n",
        "                              batch_size = config[\"batch_size\"],\n",
        "                              val_ratio = config[\"val_ratio\"],\n",
        "                              test = False,\n",
        "                              sequence_col = \"modified_sequence\",\n",
        "                              target_col = \"indexed_retention_time\")\n",
        "\n",
        "print(f\"Batch size: {rtdata.batch_size}\")\n",
        "print(f\"Number training samples : {len(rtdata.train_data) * rtdata.batch_size}\")\n",
        "print(f\"Number validation samples : {len(rtdata.val_data) * rtdata.batch_size}\")"
      ]
    },
    {
      "cell_type": "code",
      "execution_count": null,
      "metadata": {
        "id": "cNgkYVQ_auBv"
      },
      "outputs": [],
      "source": [
        "# function to count sequence length\n",
        "def count_seq_length(df: pd.DataFrame, seq_col: str) -> pd.Series:\n",
        "    pattern = re.compile(r\"\\[UNIMOD:.*\\]\", re.IGNORECASE)\n",
        "    df[seq_col].replace(pattern, \"\", inplace= True)\n",
        "    return df[seq_col].str.len()\n"
      ]
    },
    {
      "cell_type": "code",
      "execution_count": null,
      "metadata": {
        "id": "anVx2M_sUX4y",
        "colab": {
          "base_uri": "https://localhost:8080/",
          "height": 699,
          "referenced_widgets": [
            "2403205dcd1549f3a8c8c78b55043d05",
            "6b6e98d029454c56b7a254466c807ef2",
            "9d53c4e176fd43b588b919484ed7536e",
            "bb9895b7ddb14947891a2a96816194f2",
            "af65b2a38e154bdd96c4d69e44521682",
            "4760bce0bb8642eca724963b49dfd6b4",
            "c20bd6eb3ffc42d9b1072eab438e7296",
            "719d9a2c0f4640b9a09bc5c72534facb"
          ]
        },
        "outputId": "f7ce543b-a778-4738-bd48-0f97ddf4b5e3"
      },
      "outputs": [
        {
          "output_type": "stream",
          "name": "stdout",
          "text": [
            "Epoch 1/6\n",
            "45/45 [==============================] - 89s 2s/step - loss: 1206.4242 - mean_absolute_error: 28.2060 - timedelta: 29.4330 - val_loss: 3001.8669 - val_mean_absolute_error: 50.7885 - val_timedelta: 41.9462\n",
            "Epoch 2/6\n",
            "45/45 [==============================] - 73s 2s/step - loss: 1392.9293 - mean_absolute_error: 30.8516 - timedelta: 32.4029 - val_loss: 3186.8772 - val_mean_absolute_error: 52.4836 - val_timedelta: 43.7754\n",
            "Epoch 3/6\n",
            "45/45 [==============================] - 73s 2s/step - loss: 1447.0872 - mean_absolute_error: 31.3982 - timedelta: 31.4964 - val_loss: 3191.0278 - val_mean_absolute_error: 52.5209 - val_timedelta: 43.8157\n",
            "Epoch 4/6\n",
            "45/45 [==============================] - 71s 2s/step - loss: 1480.6312 - mean_absolute_error: 31.7937 - timedelta: 31.0643 - val_loss: 3066.5371 - val_mean_absolute_error: 51.3872 - val_timedelta: 42.5931\n",
            "Epoch 5/6\n",
            "45/45 [==============================] - 79s 2s/step - loss: 1497.2629 - mean_absolute_error: 32.0469 - timedelta: 31.0154 - val_loss: 2749.7319 - val_mean_absolute_error: 48.3852 - val_timedelta: 39.3390\n",
            "Epoch 6/6\n",
            "45/45 [==============================] - 74s 2s/step - loss: 1490.3539 - mean_absolute_error: 32.0208 - timedelta: 30.5126 - val_loss: 2492.7368 - val_mean_absolute_error: 45.7909 - val_timedelta: 36.5488\n"
          ]
        },
        {
          "output_type": "display_data",
          "data": {
            "text/plain": [
              "<IPython.core.display.HTML object>"
            ],
            "text/html": [
              "Waiting for W&B process to finish... <strong style=\"color:green\">(success).</strong>"
            ]
          },
          "metadata": {}
        },
        {
          "output_type": "display_data",
          "data": {
            "text/plain": [
              "VBox(children=(Label(value='0.001 MB of 0.011 MB uploaded (0.000 MB deduped)\\r'), FloatProgress(value=0.095998…"
            ],
            "application/vnd.jupyter.widget-view+json": {
              "version_major": 2,
              "version_minor": 0,
              "model_id": "2403205dcd1549f3a8c8c78b55043d05"
            }
          },
          "metadata": {}
        },
        {
          "output_type": "display_data",
          "data": {
            "text/plain": [
              "<IPython.core.display.HTML object>"
            ],
            "text/html": [
              "<style>\n",
              "    table.wandb td:nth-child(1) { padding: 0 10px; text-align: left ; width: auto;} td:nth-child(2) {text-align: left ; width: 100%}\n",
              "    .wandb-row { display: flex; flex-direction: row; flex-wrap: wrap; justify-content: flex-start; width: 100% }\n",
              "    .wandb-col { display: flex; flex-direction: column; flex-basis: 100%; flex: 1; padding: 10px; }\n",
              "    </style>\n",
              "<div class=\"wandb-row\"><div class=\"wandb-col\"><h3>Run history:</h3><br/><table class=\"wandb\"><tr><td>batch/batch_step</td><td>▁▁▁▂▂▂▂▂▂▃▃▃▃▃▃▄▄▄▄▄▅▅▅▅▅▅▆▆▆▆▆▇▇▇▇▇▇███</td></tr><tr><td>batch/learning_rate</td><td>▁▁▁▁▁▁▁▁▁▁▁▁▁▁▁▁▁▁▁▁▁▁▁▁▁▁▁▁▁▁▁▁▁▁▁▁▁▁▁▁</td></tr><tr><td>batch/loss</td><td>▁▁▁▁▂▂▂▇▄▃▂▂▃██▄▃▃▃▃▇▆▃▃▃▃▃█▅▃▃▃▃▃▇▄▃▃▃▃</td></tr><tr><td>batch/mean_absolute_error</td><td>▁▁▁▁▁▂▂▇▄▃▂▂▃██▄▃▃▃▃▇▆▃▃▃▃▃█▄▃▃▃▃▃▇▄▃▃▃▃</td></tr><tr><td>batch/timedelta</td><td>▃▃▁▁▁▂▂▅▄▃▃▃▃▅█▄▂▂▃▃▂▄▂▂▂▃▃▆▃▂▂▂▃▃▆▂▂▂▂▃</td></tr><tr><td>epoch/epoch</td><td>▁▂▄▅▇█</td></tr><tr><td>epoch/learning_rate</td><td>▁▁▁▁▁▁</td></tr><tr><td>epoch/loss</td><td>▁▅▇███</td></tr><tr><td>epoch/mean_absolute_error</td><td>▁▆▇███</td></tr><tr><td>epoch/timedelta</td><td>▁█▆▅▅▄</td></tr><tr><td>epoch/val_loss</td><td>▆██▇▄▁</td></tr><tr><td>epoch/val_mean_absolute_error</td><td>▆██▇▄▁</td></tr><tr><td>epoch/val_timedelta</td><td>▆██▇▄▁</td></tr></table><br/></div><div class=\"wandb-col\"><h3>Run summary:</h3><br/><table class=\"wandb\"><tr><td>batch/batch_step</td><td>269</td></tr><tr><td>batch/learning_rate</td><td>0.001</td></tr><tr><td>batch/loss</td><td>1490.35388</td></tr><tr><td>batch/mean_absolute_error</td><td>32.02077</td></tr><tr><td>batch/timedelta</td><td>30.51258</td></tr><tr><td>epoch/epoch</td><td>5</td></tr><tr><td>epoch/learning_rate</td><td>0.001</td></tr><tr><td>epoch/loss</td><td>1490.35388</td></tr><tr><td>epoch/mean_absolute_error</td><td>32.02077</td></tr><tr><td>epoch/timedelta</td><td>30.51258</td></tr><tr><td>epoch/val_loss</td><td>2492.73682</td></tr><tr><td>epoch/val_mean_absolute_error</td><td>45.79092</td></tr><tr><td>epoch/val_timedelta</td><td>36.54878</td></tr></table><br/></div></div>"
            ]
          },
          "metadata": {}
        },
        {
          "output_type": "display_data",
          "data": {
            "text/plain": [
              "<IPython.core.display.HTML object>"
            ],
            "text/html": [
              " View run <strong style=\"color:#cdcd00\">run_3</strong> at: <a href='https://wandb.ai/master_praktikum/rt_report_2/runs/ialespph' target=\"_blank\">https://wandb.ai/master_praktikum/rt_report_2/runs/ialespph</a><br/>Synced 5 W&B file(s), 0 media file(s), 0 artifact file(s) and 0 other file(s)"
            ]
          },
          "metadata": {}
        },
        {
          "output_type": "display_data",
          "data": {
            "text/plain": [
              "<IPython.core.display.HTML object>"
            ],
            "text/html": [
              "Find logs at: <code>./wandb/run-20230725_125016-ialespph/logs</code>"
            ]
          },
          "metadata": {}
        }
      ],
      "source": [
        "# create Prosit retention time predictor\n",
        "model = PrositRetentionTimePredictor(seq_length = config[\"seq_length\"])\n",
        "\n",
        "# create the optimizer object\n",
        "optimizer = tf.keras.optimizers.Adam(learning_rate = config[\"lr\"])\n",
        "\n",
        "# compile the model  with the optimizer and the metrics we want to use, we can add our custom timedelta metric\n",
        "model.compile(optimizer = optimizer,\n",
        "              loss = config[\"loss\"],\n",
        "              metrics=['mean_absolute_error', TimeDeltaMetric()])\n",
        "\n",
        "# train the model\n",
        "history = model.fit(rtdata.train_data,\n",
        "                    validation_data=rtdata.val_data,\n",
        "                    epochs=6, callbacks=[WandbMetricsLogger(log_freq = \"batch\")] )\n",
        "wandb.finish()"
      ]
    },
    {
      "cell_type": "code",
      "source": [
        "class Report():\n",
        "  def __init__(self, project:str, title: str, description: str):\n",
        "    self.entity = wandb.apis.PublicApi().default_entity\n",
        "    self.project = project\n",
        "    self.title = title\n",
        "    self.description = description\n",
        "    self.api = wandb.Api()\n",
        "  def create_report(self, add_config_section = True, add_data_section = True, add_train_section = True, add_val_section = True):\n",
        "    report = wr.Report(\n",
        "        project = self.project,\n",
        "        title = self.title,\n",
        "        description = self.description\n",
        "    )\n",
        "\n",
        "    report.blocks = [\n",
        "        wr.TableOfContents()\n",
        "    ]\n",
        "    if add_config_section:\n",
        "      report.blocks += self.config_section()\n",
        "    if add_data_section:\n",
        "      report.blocks += self.data_section()\n",
        "    if add_train_section:\n",
        "      report.blocks += self.train_section()\n",
        "    if add_val_section:\n",
        "      report.blocks += self.val_section()\n",
        "\n",
        "    report.save()\n",
        "\n",
        "  # get metrics of last run in project or from specified run_id\n",
        "  def get_metrics(self, run_id = None):\n",
        "    if run_id:\n",
        "      # run is specified by <entity>/<project>/<run_id>\n",
        "      run = self.api.run(path = f\"{self.entity}/{self.project}/{run_id}\")\n",
        "      # save the metrics for the run to a csv file\n",
        "      metrics_dataframe = run.history()\n",
        "      return metrics_dataframe\n",
        "    else:\n",
        "      # get metrics of latest run\n",
        "      # api.runs seems to have a delay\n",
        "      runs = self.api.runs(path = f\"{self.entity}/{self.project}\")\n",
        "      for run in runs:\n",
        "        print(run)\n",
        "      run = runs[0]\n",
        "      metrics_dataframe = run.history()\n",
        "      return metrics_dataframe\n",
        "\n",
        "  # get metric names split into train/val, train is further split into batch/epoch\n",
        "  def get_metrics_names(self):\n",
        "    metrics = self.get_metrics()\n",
        "    # filter strings from list that are not starting with \"_\" and do not contain \"val\"\n",
        "    pre_filter = [string for string in metrics if not string.startswith(\"_\")]\n",
        "    batch_train_metrics_names = [string for string in pre_filter if (\"val\" not in string.lower()) & (\"epoch\" not in string.lower())]\n",
        "    epoch_train_metrics_names = [string for string in pre_filter if (\"val\" not in string.lower()) & (\"batch\" not in string.lower())]\n",
        "    # filter strings from list that contain \"val\"\n",
        "    epoch_val_metrics_names = list(filter(lambda x: \"val\" in x.lower(), metrics))\n",
        "    return batch_train_metrics_names, epoch_train_metrics_names, epoch_val_metrics_names\n",
        "\n",
        "\n",
        "  def config_section(self):\n",
        "    config_block = [\n",
        "        wr.H1(text = \"Config\"),\n",
        "        wr.PanelGrid(\n",
        "          runsets=[\n",
        "            wr.Runset(self.entity, self.project),\n",
        "          ],\n",
        "          panels=[\n",
        "            wr.RunComparer(layout = {'w': 24})\n",
        "          ],\n",
        "        ),\n",
        "        wr.HorizontalRule(),\n",
        "    ]\n",
        "    return config_block\n",
        "  def data_section(self):\n",
        "    data_block = [\n",
        "        wr.H1(text = \"Data\"),\n",
        "        wr.PanelGrid(\n",
        "          runsets=[\n",
        "            wr.Runset(self.entity, self.project),\n",
        "          ],\n",
        "          panels=[\n",
        "            wr.LinePlot(x='Step', y=['batch/batch_step']),\n",
        "            wr.LinePlot(x='Step', y=['batch/learning_rate']),\n",
        "          ]\n",
        "        ),\n",
        "        wr.HorizontalRule(),\n",
        "    ]\n",
        "    return data_block\n",
        "\n",
        "  def train_section(self):\n",
        "    batch_train_metrics_names, epoch_train_metrics_names, _ = self.get_metrics_names()\n",
        "    panel_list_batch = []\n",
        "    panel_list_epoch = []\n",
        "    for name in batch_train_metrics_names:\n",
        "      panel_list_batch.append(wr.LinePlot(x='Step', y=[name]))\n",
        "    for name in epoch_train_metrics_names:\n",
        "      panel_list_epoch.append(wr.LinePlot(x='Step', y=[name]))\n",
        "    train_block = [\n",
        "        wr.H1(text = \"Training metrics\"),\n",
        "        wr.H2(text = \"per batch\"),\n",
        "        wr.PanelGrid(\n",
        "          runsets=[\n",
        "            wr.Runset(self.entity, self.project),\n",
        "          ],\n",
        "          panels = panel_list_batch\n",
        "        ),\n",
        "        wr.H2(text = \"per epoch\"),\n",
        "        wr.PanelGrid(\n",
        "          runsets=[\n",
        "            wr.Runset(self.entity, self.project),\n",
        "          ],\n",
        "          panels = panel_list_epoch\n",
        "        ),\n",
        "        wr.HorizontalRule(),\n",
        "    ]\n",
        "    return train_block\n",
        "\n",
        "  def val_section(self):\n",
        "    _, _, epoch_val_metrics_names = self.get_metrics_names()\n",
        "    panel_list_epoch = []\n",
        "    for name in epoch_val_metrics_names:\n",
        "      panel_list_epoch.append(wr.LinePlot(x='Step', y=[name]))\n",
        "    val_block = [\n",
        "        wr.H1(text = \"Validation metrics\"),\n",
        "        wr.H2(text = \"per epoch\"),\n",
        "        wr.PanelGrid(\n",
        "          runsets=[\n",
        "            wr.Runset(self.entity, self.project),\n",
        "          ],\n",
        "          panels = panel_list_epoch\n",
        "        ),\n",
        "        wr.HorizontalRule(),\n",
        "    ]\n",
        "    return val_block"
      ],
      "metadata": {
        "id": "ocZCNiUq3z-R"
      },
      "execution_count": null,
      "outputs": []
    },
    {
      "cell_type": "code",
      "source": [
        "# Create a report\n",
        "report = Report(project = \"rt_report_2\", title = \"Comparison of learning rates\", description = \"A quick comparison of the influence of  learning rates using the ADAM optimizer\")\n",
        "report.create_report(add_data_section = True, add_train_section = True, add_val_section = True)"
      ],
      "metadata": {
        "colab": {
          "base_uri": "https://localhost:8080/"
        },
        "id": "BAyVYzBg__2r",
        "outputId": "35f37d85-0705-481f-8272-8b30226e46cf"
      },
      "execution_count": null,
      "outputs": [
        {
          "output_type": "stream",
          "name": "stdout",
          "text": [
            "<Run master_praktikum/rt_report_2/69bvctj7 (finished)>\n",
            "<Run master_praktikum/rt_report_2/4wmc0bmu (finished)>\n",
            "<Run master_praktikum/rt_report_2/69bvctj7 (finished)>\n",
            "<Run master_praktikum/rt_report_2/4wmc0bmu (finished)>\n"
          ]
        }
      ]
    },
    {
      "cell_type": "code",
      "source": [],
      "metadata": {
        "id": "QuOnJaLLCD3I"
      },
      "execution_count": null,
      "outputs": []
    },
    {
      "cell_type": "markdown",
      "source": [
        "#**Tryout Zone**"
      ],
      "metadata": {
        "id": "FR6A5XyWvLUq"
      }
    },
    {
      "cell_type": "code",
      "source": [
        "filtered_list = [string for string in l if not string.startswith(\"_\")]\n",
        "filtered_list = [string for string in filtered_list if \"val\" not in string.lower()]\n",
        "print(filtered_list)"
      ],
      "metadata": {
        "colab": {
          "base_uri": "https://localhost:8080/"
        },
        "id": "XVU-dDJDRufw",
        "outputId": "815e0d4e-9061-40fc-b3cc-5e72f753d8b2"
      },
      "execution_count": null,
      "outputs": [
        {
          "output_type": "stream",
          "name": "stdout",
          "text": [
            "['batch/timedelta', 'epoch/timedelta', 'batch/mean_absolute_error', 'epoch/epoch', 'batch/batch_step', 'batch/learning_rate', 'epoch/learning_rate', 'epoch/mean_absolute_error', 'batch/loss', 'epoch/loss']\n"
          ]
        }
      ]
    },
    {
      "cell_type": "code",
      "source": [
        "entity = wandb.apis.PublicApi().default_entity\n",
        "project = \"rt_report_2\"\n",
        "runs = api.runs(path = f\"{entity}/{project}\")"
      ],
      "metadata": {
        "colab": {
          "base_uri": "https://localhost:8080/",
          "height": 202
        },
        "id": "qWsmpc31Ffd2",
        "outputId": "b1706584-ae41-4640-ed0f-ab1c96e10d60"
      },
      "execution_count": null,
      "outputs": [
        {
          "output_type": "error",
          "ename": "NameError",
          "evalue": "ignored",
          "traceback": [
            "\u001b[0;31m---------------------------------------------------------------------------\u001b[0m",
            "\u001b[0;31mNameError\u001b[0m                                 Traceback (most recent call last)",
            "\u001b[0;32m<ipython-input-6-078eedcd9a16>\u001b[0m in \u001b[0;36m<cell line: 3>\u001b[0;34m()\u001b[0m\n\u001b[1;32m      1\u001b[0m \u001b[0mentity\u001b[0m \u001b[0;34m=\u001b[0m \u001b[0mwandb\u001b[0m\u001b[0;34m.\u001b[0m\u001b[0mapis\u001b[0m\u001b[0;34m.\u001b[0m\u001b[0mPublicApi\u001b[0m\u001b[0;34m(\u001b[0m\u001b[0;34m)\u001b[0m\u001b[0;34m.\u001b[0m\u001b[0mdefault_entity\u001b[0m\u001b[0;34m\u001b[0m\u001b[0;34m\u001b[0m\u001b[0m\n\u001b[1;32m      2\u001b[0m \u001b[0mproject\u001b[0m \u001b[0;34m=\u001b[0m \u001b[0;34m\"rt_report_2\"\u001b[0m\u001b[0;34m\u001b[0m\u001b[0;34m\u001b[0m\u001b[0m\n\u001b[0;32m----> 3\u001b[0;31m \u001b[0mruns\u001b[0m \u001b[0;34m=\u001b[0m \u001b[0mapi\u001b[0m\u001b[0;34m.\u001b[0m\u001b[0mruns\u001b[0m\u001b[0;34m(\u001b[0m\u001b[0mpath\u001b[0m \u001b[0;34m=\u001b[0m \u001b[0;34mf\"{entity}/{project}\"\u001b[0m\u001b[0;34m)\u001b[0m\u001b[0;34m\u001b[0m\u001b[0;34m\u001b[0m\u001b[0m\n\u001b[0m",
            "\u001b[0;31mNameError\u001b[0m: name 'api' is not defined"
          ]
        }
      ]
    },
    {
      "cell_type": "code",
      "source": [
        "l.columns"
      ],
      "metadata": {
        "colab": {
          "base_uri": "https://localhost:8080/"
        },
        "id": "PxvHs3twTRxM",
        "outputId": "d2b6ea17-4b19-417a-ec8f-703fe898fcbe"
      },
      "execution_count": null,
      "outputs": [
        {
          "output_type": "execute_result",
          "data": {
            "text/plain": [
              "Index(['_runtime', '_timestamp', 'batch/timedelta', '_step', 'epoch/timedelta',\n",
              "       'epoch/val_mean_absolute_error', 'batch/mean_absolute_error',\n",
              "       'epoch/epoch', 'epoch/val_loss', 'batch/batch_step',\n",
              "       'batch/learning_rate', 'epoch/learning_rate', 'epoch/val_timedelta',\n",
              "       'epoch/mean_absolute_error', 'batch/loss', 'epoch/loss'],\n",
              "      dtype='object')"
            ]
          },
          "metadata": {},
          "execution_count": 138
        }
      ]
    },
    {
      "cell_type": "code",
      "source": [
        "api = wandb.Api()\n",
        "\n",
        "# run is specified by <entity>/<project>/<run_id>\n",
        "run = api.run(\"master_praktikum/rt_report_2/rz569mhe\")\n",
        "\n",
        "# save the metrics for the run to a csv file\n",
        "metrics_dataframe = run.history()\n"
      ],
      "metadata": {
        "colab": {
          "base_uri": "https://localhost:8080/",
          "height": 324
        },
        "id": "z0-A_pYqH3wU",
        "outputId": "164e14bb-ca12-40cf-8fb5-d86255c896eb"
      },
      "execution_count": null,
      "outputs": [
        {
          "output_type": "error",
          "ename": "AttributeError",
          "evalue": "ignored",
          "traceback": [
            "\u001b[0;31m---------------------------------------------------------------------------\u001b[0m",
            "\u001b[0;31mAttributeError\u001b[0m                            Traceback (most recent call last)",
            "\u001b[0;32m<ipython-input-151-3ebce3d3cee6>\u001b[0m in \u001b[0;36m<cell line: 8>\u001b[0;34m()\u001b[0m\n\u001b[1;32m      6\u001b[0m \u001b[0;31m# save the metrics for the run to a csv file\u001b[0m\u001b[0;34m\u001b[0m\u001b[0;34m\u001b[0m\u001b[0m\n\u001b[1;32m      7\u001b[0m \u001b[0mmetrics_dataframe\u001b[0m \u001b[0;34m=\u001b[0m \u001b[0mrun\u001b[0m\u001b[0;34m.\u001b[0m\u001b[0mhistory\u001b[0m\u001b[0;34m(\u001b[0m\u001b[0;34m)\u001b[0m\u001b[0;34m\u001b[0m\u001b[0;34m\u001b[0m\u001b[0m\n\u001b[0;32m----> 8\u001b[0;31m \u001b[0mrun\u001b[0m\u001b[0;34m.\u001b[0m\u001b[0msettings\u001b[0m\u001b[0;34m\u001b[0m\u001b[0;34m\u001b[0m\u001b[0m\n\u001b[0m",
            "\u001b[0;32m/usr/local/lib/python3.10/dist-packages/wandb/apis/public.py\u001b[0m in \u001b[0;36m__getattr__\u001b[0;34m(self, name)\u001b[0m\n\u001b[1;32m   1046\u001b[0m             \u001b[0;32mreturn\u001b[0m \u001b[0mself\u001b[0m\u001b[0;34m.\u001b[0m\u001b[0m_attrs\u001b[0m\u001b[0;34m[\u001b[0m\u001b[0mname\u001b[0m\u001b[0;34m]\u001b[0m\u001b[0;34m\u001b[0m\u001b[0;34m\u001b[0m\u001b[0m\n\u001b[1;32m   1047\u001b[0m         \u001b[0;32melse\u001b[0m\u001b[0;34m:\u001b[0m\u001b[0;34m\u001b[0m\u001b[0;34m\u001b[0m\u001b[0m\n\u001b[0;32m-> 1048\u001b[0;31m             \u001b[0;32mraise\u001b[0m \u001b[0mAttributeError\u001b[0m\u001b[0;34m(\u001b[0m\u001b[0;34mf\"{repr(self)!r} object has no attribute {name!r}\"\u001b[0m\u001b[0;34m)\u001b[0m\u001b[0;34m\u001b[0m\u001b[0;34m\u001b[0m\u001b[0m\n\u001b[0m\u001b[1;32m   1049\u001b[0m \u001b[0;34m\u001b[0m\u001b[0m\n\u001b[1;32m   1050\u001b[0m \u001b[0;34m\u001b[0m\u001b[0m\n",
            "\u001b[0;31mAttributeError\u001b[0m: '<Run master_praktikum/rt_report_2/rz569mhe (finished)>' object has no attribute 'settings'"
          ]
        }
      ]
    },
    {
      "cell_type": "code",
      "source": [
        "metrics_dataframe.columns"
      ],
      "metadata": {
        "colab": {
          "base_uri": "https://localhost:8080/"
        },
        "id": "GV29tvAHIGCK",
        "outputId": "b1a9e4d4-2213-4250-ff1d-acaeff8399c0"
      },
      "execution_count": null,
      "outputs": [
        {
          "output_type": "execute_result",
          "data": {
            "text/plain": [
              "Index(['_runtime', '_timestamp', 'batch/timedelta', '_step', 'epoch/timedelta',\n",
              "       'epoch/val_mean_absolute_error', 'batch/mean_absolute_error',\n",
              "       'epoch/epoch', 'epoch/val_loss', 'batch/batch_step',\n",
              "       'batch/learning_rate', 'epoch/learning_rate', 'epoch/val_timedelta',\n",
              "       'epoch/mean_absolute_error', 'batch/loss', 'epoch/loss'],\n",
              "      dtype='object')"
            ]
          },
          "metadata": {},
          "execution_count": 149
        }
      ]
    },
    {
      "cell_type": "code",
      "source": [
        "for run in runs:\n",
        "  print(run.path)"
      ],
      "metadata": {
        "colab": {
          "base_uri": "https://localhost:8080/"
        },
        "id": "f6k7aWxaJUXo",
        "outputId": "2025315b-210b-4553-9744-a9feb8da4f0f"
      },
      "execution_count": null,
      "outputs": [
        {
          "output_type": "stream",
          "name": "stdout",
          "text": [
            "['master_praktikum', 'rt_report_2', 'rz569mhe']\n",
            "['master_praktikum', 'rt_report_2', '8q12bkse']\n",
            "['master_praktikum', 'rt_report_2', 'udpmrl5f']\n"
          ]
        }
      ]
    },
    {
      "cell_type": "code",
      "execution_count": null,
      "metadata": {
        "colab": {
          "base_uri": "https://localhost:8080/",
          "height": 237
        },
        "id": "uxVK-L3rWb9Q",
        "outputId": "f92bb9b2-4866-4108-f905-9f72135fe11b"
      },
      "outputs": [
        {
          "output_type": "error",
          "ename": "AttributeError",
          "evalue": "ignored",
          "traceback": [
            "\u001b[0;31m---------------------------------------------------------------------------\u001b[0m",
            "\u001b[0;31mAttributeError\u001b[0m                            Traceback (most recent call last)",
            "\u001b[0;32m<ipython-input-64-8ef1cac554e5>\u001b[0m in \u001b[0;36m<cell line: 27>\u001b[0;34m()\u001b[0m\n\u001b[1;32m     25\u001b[0m )\n\u001b[1;32m     26\u001b[0m \u001b[0;34m\u001b[0m\u001b[0m\n\u001b[0;32m---> 27\u001b[0;31m \u001b[0mreport\u001b[0m\u001b[0;34m.\u001b[0m\u001b[0mblocks\u001b[0m \u001b[0;34m=\u001b[0m \u001b[0mreport\u001b[0m\u001b[0;34m.\u001b[0m\u001b[0mblocks\u001b[0m\u001b[0;34m[\u001b[0m\u001b[0;34m:\u001b[0m\u001b[0;36m1\u001b[0m\u001b[0;34m]\u001b[0m \u001b[0;34m+\u001b[0m\u001b[0;34m[\u001b[0m\u001b[0mwr\u001b[0m\u001b[0;34m.\u001b[0m\u001b[0mH1\u001b[0m\u001b[0;34m(\u001b[0m\u001b[0;34m\"Training metrics\"\u001b[0m\u001b[0;34m)\u001b[0m\u001b[0;34m,\u001b[0m \u001b[0mpg_train\u001b[0m\u001b[0;34m]\u001b[0m \u001b[0;34m+\u001b[0m \u001b[0;34m[\u001b[0m\u001b[0mwr\u001b[0m\u001b[0;34m.\u001b[0m\u001b[0mH1\u001b[0m\u001b[0;34m(\u001b[0m\u001b[0;34m\"Validation metrics\"\u001b[0m\u001b[0;34m)\u001b[0m\u001b[0;34m,\u001b[0m \u001b[0mpg_val\u001b[0m\u001b[0;34m]\u001b[0m \u001b[0;34m+\u001b[0m \u001b[0mreport\u001b[0m\u001b[0;34m.\u001b[0m\u001b[0mblocks\u001b[0m\u001b[0;34m[\u001b[0m\u001b[0;36m1\u001b[0m\u001b[0;34m:\u001b[0m\u001b[0;34m]\u001b[0m\u001b[0;34m\u001b[0m\u001b[0;34m\u001b[0m\u001b[0m\n\u001b[0m\u001b[1;32m     28\u001b[0m \u001b[0;34m\u001b[0m\u001b[0m\n\u001b[1;32m     29\u001b[0m \u001b[0mreport\u001b[0m\u001b[0;34m.\u001b[0m\u001b[0msave\u001b[0m\u001b[0;34m(\u001b[0m\u001b[0;34m)\u001b[0m\u001b[0;34m\u001b[0m\u001b[0;34m\u001b[0m\u001b[0m\n",
            "\u001b[0;31mAttributeError\u001b[0m: 'Report' object has no attribute 'blocks'"
          ]
        }
      ],
      "source": [
        "ENTITY = wandb.apis.PublicApi().default_entity\n",
        "\n",
        "\n",
        "\n",
        "pg_train = wr.PanelGrid(\n",
        "    runsets=[\n",
        "        wr.Runset(ENTITY, PROJECT),\n",
        "    ],\n",
        "    panels=[\n",
        "        wr.LinePlot(x='Step', y=['batch/loss']),\n",
        "        wr.LinePlot(x='Step', y=['batch/timedelta']),\n",
        "        wr.LinePlot(x='Step', y=['batch/mean_absolute_error'])\n",
        "    ]\n",
        ")\n",
        "\n",
        "pg_val = wr.PanelGrid(\n",
        "    runsets=[\n",
        "        wr.Runset(ENTITY, PROJECT),\n",
        "    ],\n",
        "    panels=[\n",
        "        wr.LinePlot(x='Step', y=['epoch/val_loss']),\n",
        "        wr.LinePlot(x='Step', y=['epoch/val_timedelta']),\n",
        "        wr.LinePlot(x='Step', y=['epoch/val_mean_absolute_error'])\n",
        "    ]\n",
        ")\n",
        "\n",
        "report.blocks = report.blocks[:1] +[wr.H1(\"Training metrics\"), pg_train] + [wr.H1(\"Validation metrics\"), pg_val] + report.blocks[1:]\n",
        "\n",
        "report.save()\n"
      ]
    },
    {
      "cell_type": "code",
      "execution_count": null,
      "metadata": {
        "id": "g2aFtSGycufm"
      },
      "outputs": [],
      "source": [
        "# Histogramm over peptide lengths\n",
        "\n",
        "# Histogramm over retention times"
      ]
    }
  ],
  "metadata": {
    "accelerator": "TPU",
    "colab": {
      "provenance": []
    },
    "kernelspec": {
      "display_name": "Python 3",
      "name": "python3"
    },
    "language_info": {
      "name": "python"
    },
    "widgets": {
      "application/vnd.jupyter.widget-state+json": {
        "df1725cd29544f01866a29e8c5a048fb": {
          "model_module": "@jupyter-widgets/controls",
          "model_name": "VBoxModel",
          "model_module_version": "1.5.0",
          "state": {
            "_dom_classes": [],
            "_model_module": "@jupyter-widgets/controls",
            "_model_module_version": "1.5.0",
            "_model_name": "VBoxModel",
            "_view_count": null,
            "_view_module": "@jupyter-widgets/controls",
            "_view_module_version": "1.5.0",
            "_view_name": "VBoxView",
            "box_style": "",
            "children": [
              "IPY_MODEL_1989a3ec333b4efd9bfa21413d162478",
              "IPY_MODEL_c0baed45c0684f41ba288f3b9de006a2"
            ],
            "layout": "IPY_MODEL_14ac950304d4436289d1d124104f0807"
          }
        },
        "1989a3ec333b4efd9bfa21413d162478": {
          "model_module": "@jupyter-widgets/controls",
          "model_name": "LabelModel",
          "model_module_version": "1.5.0",
          "state": {
            "_dom_classes": [],
            "_model_module": "@jupyter-widgets/controls",
            "_model_module_version": "1.5.0",
            "_model_name": "LabelModel",
            "_view_count": null,
            "_view_module": "@jupyter-widgets/controls",
            "_view_module_version": "1.5.0",
            "_view_name": "LabelView",
            "description": "",
            "description_tooltip": null,
            "layout": "IPY_MODEL_9817f0dce1bf41678e37fbb7dbac9bc1",
            "placeholder": "​",
            "style": "IPY_MODEL_4962df6e17cb4a2c88e1dac695f1d513",
            "value": "Waiting for wandb.init()...\r"
          }
        },
        "c0baed45c0684f41ba288f3b9de006a2": {
          "model_module": "@jupyter-widgets/controls",
          "model_name": "FloatProgressModel",
          "model_module_version": "1.5.0",
          "state": {
            "_dom_classes": [],
            "_model_module": "@jupyter-widgets/controls",
            "_model_module_version": "1.5.0",
            "_model_name": "FloatProgressModel",
            "_view_count": null,
            "_view_module": "@jupyter-widgets/controls",
            "_view_module_version": "1.5.0",
            "_view_name": "ProgressView",
            "bar_style": "",
            "description": "",
            "description_tooltip": null,
            "layout": "IPY_MODEL_0e5e946a2f154082885ef5dee744d225",
            "max": 1,
            "min": 0,
            "orientation": "horizontal",
            "style": "IPY_MODEL_2d1f7eb131c7411e92bcc9cdbc9ce7a5",
            "value": 1
          }
        },
        "14ac950304d4436289d1d124104f0807": {
          "model_module": "@jupyter-widgets/base",
          "model_name": "LayoutModel",
          "model_module_version": "1.2.0",
          "state": {
            "_model_module": "@jupyter-widgets/base",
            "_model_module_version": "1.2.0",
            "_model_name": "LayoutModel",
            "_view_count": null,
            "_view_module": "@jupyter-widgets/base",
            "_view_module_version": "1.2.0",
            "_view_name": "LayoutView",
            "align_content": null,
            "align_items": null,
            "align_self": null,
            "border": null,
            "bottom": null,
            "display": null,
            "flex": null,
            "flex_flow": null,
            "grid_area": null,
            "grid_auto_columns": null,
            "grid_auto_flow": null,
            "grid_auto_rows": null,
            "grid_column": null,
            "grid_gap": null,
            "grid_row": null,
            "grid_template_areas": null,
            "grid_template_columns": null,
            "grid_template_rows": null,
            "height": null,
            "justify_content": null,
            "justify_items": null,
            "left": null,
            "margin": null,
            "max_height": null,
            "max_width": null,
            "min_height": null,
            "min_width": null,
            "object_fit": null,
            "object_position": null,
            "order": null,
            "overflow": null,
            "overflow_x": null,
            "overflow_y": null,
            "padding": null,
            "right": null,
            "top": null,
            "visibility": null,
            "width": null
          }
        },
        "9817f0dce1bf41678e37fbb7dbac9bc1": {
          "model_module": "@jupyter-widgets/base",
          "model_name": "LayoutModel",
          "model_module_version": "1.2.0",
          "state": {
            "_model_module": "@jupyter-widgets/base",
            "_model_module_version": "1.2.0",
            "_model_name": "LayoutModel",
            "_view_count": null,
            "_view_module": "@jupyter-widgets/base",
            "_view_module_version": "1.2.0",
            "_view_name": "LayoutView",
            "align_content": null,
            "align_items": null,
            "align_self": null,
            "border": null,
            "bottom": null,
            "display": null,
            "flex": null,
            "flex_flow": null,
            "grid_area": null,
            "grid_auto_columns": null,
            "grid_auto_flow": null,
            "grid_auto_rows": null,
            "grid_column": null,
            "grid_gap": null,
            "grid_row": null,
            "grid_template_areas": null,
            "grid_template_columns": null,
            "grid_template_rows": null,
            "height": null,
            "justify_content": null,
            "justify_items": null,
            "left": null,
            "margin": null,
            "max_height": null,
            "max_width": null,
            "min_height": null,
            "min_width": null,
            "object_fit": null,
            "object_position": null,
            "order": null,
            "overflow": null,
            "overflow_x": null,
            "overflow_y": null,
            "padding": null,
            "right": null,
            "top": null,
            "visibility": null,
            "width": null
          }
        },
        "4962df6e17cb4a2c88e1dac695f1d513": {
          "model_module": "@jupyter-widgets/controls",
          "model_name": "DescriptionStyleModel",
          "model_module_version": "1.5.0",
          "state": {
            "_model_module": "@jupyter-widgets/controls",
            "_model_module_version": "1.5.0",
            "_model_name": "DescriptionStyleModel",
            "_view_count": null,
            "_view_module": "@jupyter-widgets/base",
            "_view_module_version": "1.2.0",
            "_view_name": "StyleView",
            "description_width": ""
          }
        },
        "0e5e946a2f154082885ef5dee744d225": {
          "model_module": "@jupyter-widgets/base",
          "model_name": "LayoutModel",
          "model_module_version": "1.2.0",
          "state": {
            "_model_module": "@jupyter-widgets/base",
            "_model_module_version": "1.2.0",
            "_model_name": "LayoutModel",
            "_view_count": null,
            "_view_module": "@jupyter-widgets/base",
            "_view_module_version": "1.2.0",
            "_view_name": "LayoutView",
            "align_content": null,
            "align_items": null,
            "align_self": null,
            "border": null,
            "bottom": null,
            "display": null,
            "flex": null,
            "flex_flow": null,
            "grid_area": null,
            "grid_auto_columns": null,
            "grid_auto_flow": null,
            "grid_auto_rows": null,
            "grid_column": null,
            "grid_gap": null,
            "grid_row": null,
            "grid_template_areas": null,
            "grid_template_columns": null,
            "grid_template_rows": null,
            "height": null,
            "justify_content": null,
            "justify_items": null,
            "left": null,
            "margin": null,
            "max_height": null,
            "max_width": null,
            "min_height": null,
            "min_width": null,
            "object_fit": null,
            "object_position": null,
            "order": null,
            "overflow": null,
            "overflow_x": null,
            "overflow_y": null,
            "padding": null,
            "right": null,
            "top": null,
            "visibility": null,
            "width": null
          }
        },
        "2d1f7eb131c7411e92bcc9cdbc9ce7a5": {
          "model_module": "@jupyter-widgets/controls",
          "model_name": "ProgressStyleModel",
          "model_module_version": "1.5.0",
          "state": {
            "_model_module": "@jupyter-widgets/controls",
            "_model_module_version": "1.5.0",
            "_model_name": "ProgressStyleModel",
            "_view_count": null,
            "_view_module": "@jupyter-widgets/base",
            "_view_module_version": "1.2.0",
            "_view_name": "StyleView",
            "bar_color": null,
            "description_width": ""
          }
        },
        "2403205dcd1549f3a8c8c78b55043d05": {
          "model_module": "@jupyter-widgets/controls",
          "model_name": "VBoxModel",
          "model_module_version": "1.5.0",
          "state": {
            "_dom_classes": [],
            "_model_module": "@jupyter-widgets/controls",
            "_model_module_version": "1.5.0",
            "_model_name": "VBoxModel",
            "_view_count": null,
            "_view_module": "@jupyter-widgets/controls",
            "_view_module_version": "1.5.0",
            "_view_name": "VBoxView",
            "box_style": "",
            "children": [
              "IPY_MODEL_6b6e98d029454c56b7a254466c807ef2",
              "IPY_MODEL_9d53c4e176fd43b588b919484ed7536e"
            ],
            "layout": "IPY_MODEL_bb9895b7ddb14947891a2a96816194f2"
          }
        },
        "6b6e98d029454c56b7a254466c807ef2": {
          "model_module": "@jupyter-widgets/controls",
          "model_name": "LabelModel",
          "model_module_version": "1.5.0",
          "state": {
            "_dom_classes": [],
            "_model_module": "@jupyter-widgets/controls",
            "_model_module_version": "1.5.0",
            "_model_name": "LabelModel",
            "_view_count": null,
            "_view_module": "@jupyter-widgets/controls",
            "_view_module_version": "1.5.0",
            "_view_name": "LabelView",
            "description": "",
            "description_tooltip": null,
            "layout": "IPY_MODEL_af65b2a38e154bdd96c4d69e44521682",
            "placeholder": "​",
            "style": "IPY_MODEL_4760bce0bb8642eca724963b49dfd6b4",
            "value": "0.011 MB of 0.012 MB uploaded (0.000 MB deduped)\r"
          }
        },
        "9d53c4e176fd43b588b919484ed7536e": {
          "model_module": "@jupyter-widgets/controls",
          "model_name": "FloatProgressModel",
          "model_module_version": "1.5.0",
          "state": {
            "_dom_classes": [],
            "_model_module": "@jupyter-widgets/controls",
            "_model_module_version": "1.5.0",
            "_model_name": "FloatProgressModel",
            "_view_count": null,
            "_view_module": "@jupyter-widgets/controls",
            "_view_module_version": "1.5.0",
            "_view_name": "ProgressView",
            "bar_style": "",
            "description": "",
            "description_tooltip": null,
            "layout": "IPY_MODEL_c20bd6eb3ffc42d9b1072eab438e7296",
            "max": 1,
            "min": 0,
            "orientation": "horizontal",
            "style": "IPY_MODEL_719d9a2c0f4640b9a09bc5c72534facb",
            "value": 0.9498609520693604
          }
        },
        "bb9895b7ddb14947891a2a96816194f2": {
          "model_module": "@jupyter-widgets/base",
          "model_name": "LayoutModel",
          "model_module_version": "1.2.0",
          "state": {
            "_model_module": "@jupyter-widgets/base",
            "_model_module_version": "1.2.0",
            "_model_name": "LayoutModel",
            "_view_count": null,
            "_view_module": "@jupyter-widgets/base",
            "_view_module_version": "1.2.0",
            "_view_name": "LayoutView",
            "align_content": null,
            "align_items": null,
            "align_self": null,
            "border": null,
            "bottom": null,
            "display": null,
            "flex": null,
            "flex_flow": null,
            "grid_area": null,
            "grid_auto_columns": null,
            "grid_auto_flow": null,
            "grid_auto_rows": null,
            "grid_column": null,
            "grid_gap": null,
            "grid_row": null,
            "grid_template_areas": null,
            "grid_template_columns": null,
            "grid_template_rows": null,
            "height": null,
            "justify_content": null,
            "justify_items": null,
            "left": null,
            "margin": null,
            "max_height": null,
            "max_width": null,
            "min_height": null,
            "min_width": null,
            "object_fit": null,
            "object_position": null,
            "order": null,
            "overflow": null,
            "overflow_x": null,
            "overflow_y": null,
            "padding": null,
            "right": null,
            "top": null,
            "visibility": null,
            "width": null
          }
        },
        "af65b2a38e154bdd96c4d69e44521682": {
          "model_module": "@jupyter-widgets/base",
          "model_name": "LayoutModel",
          "model_module_version": "1.2.0",
          "state": {
            "_model_module": "@jupyter-widgets/base",
            "_model_module_version": "1.2.0",
            "_model_name": "LayoutModel",
            "_view_count": null,
            "_view_module": "@jupyter-widgets/base",
            "_view_module_version": "1.2.0",
            "_view_name": "LayoutView",
            "align_content": null,
            "align_items": null,
            "align_self": null,
            "border": null,
            "bottom": null,
            "display": null,
            "flex": null,
            "flex_flow": null,
            "grid_area": null,
            "grid_auto_columns": null,
            "grid_auto_flow": null,
            "grid_auto_rows": null,
            "grid_column": null,
            "grid_gap": null,
            "grid_row": null,
            "grid_template_areas": null,
            "grid_template_columns": null,
            "grid_template_rows": null,
            "height": null,
            "justify_content": null,
            "justify_items": null,
            "left": null,
            "margin": null,
            "max_height": null,
            "max_width": null,
            "min_height": null,
            "min_width": null,
            "object_fit": null,
            "object_position": null,
            "order": null,
            "overflow": null,
            "overflow_x": null,
            "overflow_y": null,
            "padding": null,
            "right": null,
            "top": null,
            "visibility": null,
            "width": null
          }
        },
        "4760bce0bb8642eca724963b49dfd6b4": {
          "model_module": "@jupyter-widgets/controls",
          "model_name": "DescriptionStyleModel",
          "model_module_version": "1.5.0",
          "state": {
            "_model_module": "@jupyter-widgets/controls",
            "_model_module_version": "1.5.0",
            "_model_name": "DescriptionStyleModel",
            "_view_count": null,
            "_view_module": "@jupyter-widgets/base",
            "_view_module_version": "1.2.0",
            "_view_name": "StyleView",
            "description_width": ""
          }
        },
        "c20bd6eb3ffc42d9b1072eab438e7296": {
          "model_module": "@jupyter-widgets/base",
          "model_name": "LayoutModel",
          "model_module_version": "1.2.0",
          "state": {
            "_model_module": "@jupyter-widgets/base",
            "_model_module_version": "1.2.0",
            "_model_name": "LayoutModel",
            "_view_count": null,
            "_view_module": "@jupyter-widgets/base",
            "_view_module_version": "1.2.0",
            "_view_name": "LayoutView",
            "align_content": null,
            "align_items": null,
            "align_self": null,
            "border": null,
            "bottom": null,
            "display": null,
            "flex": null,
            "flex_flow": null,
            "grid_area": null,
            "grid_auto_columns": null,
            "grid_auto_flow": null,
            "grid_auto_rows": null,
            "grid_column": null,
            "grid_gap": null,
            "grid_row": null,
            "grid_template_areas": null,
            "grid_template_columns": null,
            "grid_template_rows": null,
            "height": null,
            "justify_content": null,
            "justify_items": null,
            "left": null,
            "margin": null,
            "max_height": null,
            "max_width": null,
            "min_height": null,
            "min_width": null,
            "object_fit": null,
            "object_position": null,
            "order": null,
            "overflow": null,
            "overflow_x": null,
            "overflow_y": null,
            "padding": null,
            "right": null,
            "top": null,
            "visibility": null,
            "width": null
          }
        },
        "719d9a2c0f4640b9a09bc5c72534facb": {
          "model_module": "@jupyter-widgets/controls",
          "model_name": "ProgressStyleModel",
          "model_module_version": "1.5.0",
          "state": {
            "_model_module": "@jupyter-widgets/controls",
            "_model_module_version": "1.5.0",
            "_model_name": "ProgressStyleModel",
            "_view_count": null,
            "_view_module": "@jupyter-widgets/base",
            "_view_module_version": "1.2.0",
            "_view_name": "StyleView",
            "bar_color": null,
            "description_width": ""
          }
        }
      }
    }
  },
  "nbformat": 4,
  "nbformat_minor": 0
}