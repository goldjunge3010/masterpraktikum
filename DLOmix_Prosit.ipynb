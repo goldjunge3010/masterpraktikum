{
 "cells": [
  {
   "cell_type": "code",
   "execution_count": 1,
   "metadata": {
    "collapsed": true,
    "ExecuteTime": {
     "end_time": "2023-07-06T11:55:44.357677943Z",
     "start_time": "2023-07-06T11:55:41.942388236Z"
    }
   },
   "outputs": [
    {
     "name": "stderr",
     "output_type": "stream",
     "text": [
      "2023-07-06 13:55:42.242421: I tensorflow/core/platform/cpu_feature_guard.cc:193] This TensorFlow binary is optimized with oneAPI Deep Neural Network Library (oneDNN) to use the following CPU instructions in performance-critical operations:  AVX2 FMA\n",
      "To enable them in other operations, rebuild TensorFlow with the appropriate compiler flags.\n",
      "2023-07-06 13:55:42.348030: W tensorflow/compiler/xla/stream_executor/platform/default/dso_loader.cc:64] Could not load dynamic library 'libcudart.so.11.0'; dlerror: libcudart.so.11.0: cannot open shared object file: No such file or directory\n",
      "2023-07-06 13:55:42.348049: I tensorflow/compiler/xla/stream_executor/cuda/cudart_stub.cc:29] Ignore above cudart dlerror if you do not have a GPU set up on your machine.\n",
      "2023-07-06 13:55:42.934855: W tensorflow/compiler/xla/stream_executor/platform/default/dso_loader.cc:64] Could not load dynamic library 'libnvinfer.so.7'; dlerror: libnvinfer.so.7: cannot open shared object file: No such file or directory\n",
      "2023-07-06 13:55:42.934927: W tensorflow/compiler/xla/stream_executor/platform/default/dso_loader.cc:64] Could not load dynamic library 'libnvinfer_plugin.so.7'; dlerror: libnvinfer_plugin.so.7: cannot open shared object file: No such file or directory\n",
      "2023-07-06 13:55:42.934941: W tensorflow/compiler/tf2tensorrt/utils/py_utils.cc:38] TF-TRT Warning: Cannot dlopen some TensorRT libraries. If you would like to use Nvidia GPU with TensorRT, please make sure the missing libraries mentioned above are installed properly.\n"
     ]
    }
   ],
   "source": [
    "import numpy as np\n",
    "import pandas as pd\n",
    "import dlomix\n",
    "from dlomix import constants, data, eval, layers, models, pipelines, reports, utils\n",
    "import wandb\n",
    "from wandb.keras import WandbCallback\n",
    "from dlomix.data import RetentionTimeDataset\n",
    "from dlomix.reports import RetentionTimeReport"
   ]
  },
  {
   "cell_type": "code",
   "execution_count": 2,
   "outputs": [
    {
     "name": "stderr",
     "output_type": "stream",
     "text": [
      "\u001B[34m\u001B[1mwandb\u001B[0m: Currently logged in as: \u001B[33mandi-obermeier\u001B[0m (\u001B[33mmaster_praktikum\u001B[0m). Use \u001B[1m`wandb login --relogin`\u001B[0m to force relogin\n"
     ]
    },
    {
     "data": {
      "text/plain": "<IPython.core.display.HTML object>",
      "text/html": "wandb version 0.15.5 is available!  To upgrade, please run:\n $ pip install wandb --upgrade"
     },
     "metadata": {},
     "output_type": "display_data"
    },
    {
     "data": {
      "text/plain": "<IPython.core.display.HTML object>",
      "text/html": "Tracking run with wandb version 0.15.4"
     },
     "metadata": {},
     "output_type": "display_data"
    },
    {
     "data": {
      "text/plain": "<IPython.core.display.HTML object>",
      "text/html": "Run data is saved locally in <code>/home/andi/PycharmProjects/pythonProject2/wandb/run-20230706_135546-3nzm7t79</code>"
     },
     "metadata": {},
     "output_type": "display_data"
    },
    {
     "data": {
      "text/plain": "<IPython.core.display.HTML object>",
      "text/html": "Syncing run <strong><a href='https://wandb.ai/master_praktikum/report_test/runs/3nzm7t79' target=\"_blank\">quiet-monkey-2</a></strong> to <a href='https://wandb.ai/master_praktikum/report_test' target=\"_blank\">Weights & Biases</a> (<a href='https://wandb.me/run' target=\"_blank\">docs</a>)<br/>"
     },
     "metadata": {},
     "output_type": "display_data"
    },
    {
     "data": {
      "text/plain": "<IPython.core.display.HTML object>",
      "text/html": " View project at <a href='https://wandb.ai/master_praktikum/report_test' target=\"_blank\">https://wandb.ai/master_praktikum/report_test</a>"
     },
     "metadata": {},
     "output_type": "display_data"
    },
    {
     "data": {
      "text/plain": "<IPython.core.display.HTML object>",
      "text/html": " View run at <a href='https://wandb.ai/master_praktikum/report_test/runs/3nzm7t79' target=\"_blank\">https://wandb.ai/master_praktikum/report_test/runs/3nzm7t79</a>"
     },
     "metadata": {},
     "output_type": "display_data"
    },
    {
     "data": {
      "text/html": "<button onClick=\"this.nextSibling.style.display='block';this.style.display='none';\">Display W&B run</button><iframe src='https://wandb.ai/master_praktikum/report_test/runs/3nzm7t79?jupyter=true' style='border:none;width:100%;height:420px;display:none;'></iframe>",
      "text/plain": "<wandb.sdk.wandb_run.Run at 0x7fe2f3f1e5c0>"
     },
     "execution_count": 2,
     "metadata": {},
     "output_type": "execute_result"
    }
   ],
   "source": [
    "# enter project name\n",
    "project_name = 'report_test'\n",
    "wandb.init(project=project_name)"
   ],
   "metadata": {
    "collapsed": false,
    "ExecuteTime": {
     "end_time": "2023-07-06T11:55:50.169912086Z",
     "start_time": "2023-07-06T11:55:44.379697541Z"
    }
   }
  },
  {
   "cell_type": "code",
   "execution_count": null,
   "outputs": [],
   "source": [],
   "metadata": {
    "collapsed": false
   }
  },
  {
   "cell_type": "code",
   "execution_count": 21,
   "outputs": [],
   "source": [
    "df = pd.read_csv(\"dataset_median/whole_dataset.csv\")"
   ],
   "metadata": {
    "collapsed": false,
    "ExecuteTime": {
     "end_time": "2023-06-17T11:29:49.135553775Z",
     "start_time": "2023-06-17T11:29:48.659741476Z"
    }
   }
  },
  {
   "cell_type": "code",
   "execution_count": 22,
   "outputs": [
    {
     "data": {
      "text/plain": "   Unnamed: 0         modified_sequence  indexed_retention_time\n0           0      AAAASAAEAGIATTGTEGER               31.935811\n1           1     AAAC[UNIMOD:4]FFEQPPR               53.785709\n2           2                AAADFATHGK                4.344702\n3           3  AAADLMAYC[UNIMOD:4]EAHAK               63.955956\n4           4        AAADSDPNLDPLMNPHIR               63.854205",
      "text/html": "<div>\n<style scoped>\n    .dataframe tbody tr th:only-of-type {\n        vertical-align: middle;\n    }\n\n    .dataframe tbody tr th {\n        vertical-align: top;\n    }\n\n    .dataframe thead th {\n        text-align: right;\n    }\n</style>\n<table border=\"1\" class=\"dataframe\">\n  <thead>\n    <tr style=\"text-align: right;\">\n      <th></th>\n      <th>Unnamed: 0</th>\n      <th>modified_sequence</th>\n      <th>indexed_retention_time</th>\n    </tr>\n  </thead>\n  <tbody>\n    <tr>\n      <th>0</th>\n      <td>0</td>\n      <td>AAAASAAEAGIATTGTEGER</td>\n      <td>31.935811</td>\n    </tr>\n    <tr>\n      <th>1</th>\n      <td>1</td>\n      <td>AAAC[UNIMOD:4]FFEQPPR</td>\n      <td>53.785709</td>\n    </tr>\n    <tr>\n      <th>2</th>\n      <td>2</td>\n      <td>AAADFATHGK</td>\n      <td>4.344702</td>\n    </tr>\n    <tr>\n      <th>3</th>\n      <td>3</td>\n      <td>AAADLMAYC[UNIMOD:4]EAHAK</td>\n      <td>63.955956</td>\n    </tr>\n    <tr>\n      <th>4</th>\n      <td>4</td>\n      <td>AAADSDPNLDPLMNPHIR</td>\n      <td>63.854205</td>\n    </tr>\n  </tbody>\n</table>\n</div>"
     },
     "execution_count": 22,
     "metadata": {},
     "output_type": "execute_result"
    }
   ],
   "source": [
    "df.head()"
   ],
   "metadata": {
    "collapsed": false,
    "ExecuteTime": {
     "end_time": "2023-06-17T11:29:57.095747342Z",
     "start_time": "2023-06-17T11:29:57.081306749Z"
    }
   }
  },
  {
   "cell_type": "code",
   "execution_count": 23,
   "outputs": [],
   "source": [
    "df.drop(columns=df.columns[0], axis=1, inplace=True)"
   ],
   "metadata": {
    "collapsed": false,
    "ExecuteTime": {
     "end_time": "2023-06-17T11:30:00.981526207Z",
     "start_time": "2023-06-17T11:30:00.935353294Z"
    }
   }
  },
  {
   "cell_type": "code",
   "execution_count": 24,
   "outputs": [
    {
     "data": {
      "text/plain": "          modified_sequence  indexed_retention_time\n0      AAAASAAEAGIATTGTEGER               31.935811\n1     AAAC[UNIMOD:4]FFEQPPR               53.785709\n2                AAADFATHGK                4.344702\n3  AAADLMAYC[UNIMOD:4]EAHAK               63.955956\n4        AAADSDPNLDPLMNPHIR               63.854205",
      "text/html": "<div>\n<style scoped>\n    .dataframe tbody tr th:only-of-type {\n        vertical-align: middle;\n    }\n\n    .dataframe tbody tr th {\n        vertical-align: top;\n    }\n\n    .dataframe thead th {\n        text-align: right;\n    }\n</style>\n<table border=\"1\" class=\"dataframe\">\n  <thead>\n    <tr style=\"text-align: right;\">\n      <th></th>\n      <th>modified_sequence</th>\n      <th>indexed_retention_time</th>\n    </tr>\n  </thead>\n  <tbody>\n    <tr>\n      <th>0</th>\n      <td>AAAASAAEAGIATTGTEGER</td>\n      <td>31.935811</td>\n    </tr>\n    <tr>\n      <th>1</th>\n      <td>AAAC[UNIMOD:4]FFEQPPR</td>\n      <td>53.785709</td>\n    </tr>\n    <tr>\n      <th>2</th>\n      <td>AAADFATHGK</td>\n      <td>4.344702</td>\n    </tr>\n    <tr>\n      <th>3</th>\n      <td>AAADLMAYC[UNIMOD:4]EAHAK</td>\n      <td>63.955956</td>\n    </tr>\n    <tr>\n      <th>4</th>\n      <td>AAADSDPNLDPLMNPHIR</td>\n      <td>63.854205</td>\n    </tr>\n  </tbody>\n</table>\n</div>"
     },
     "execution_count": 24,
     "metadata": {},
     "output_type": "execute_result"
    }
   ],
   "source": [
    "df.head()"
   ],
   "metadata": {
    "collapsed": false,
    "ExecuteTime": {
     "end_time": "2023-06-17T11:30:06.309104666Z",
     "start_time": "2023-06-17T11:30:06.298079452Z"
    }
   }
  },
  {
   "cell_type": "code",
   "execution_count": 25,
   "outputs": [],
   "source": [
    "df.to_csv(\"whole_dataset_3.csv\",index=False)"
   ],
   "metadata": {
    "collapsed": false,
    "ExecuteTime": {
     "end_time": "2023-06-17T11:30:29.751397599Z",
     "start_time": "2023-06-17T11:30:28.231972612Z"
    }
   }
  },
  {
   "cell_type": "code",
   "execution_count": 20,
   "outputs": [
    {
     "data": {
      "text/plain": "        Unnamed: 0                      modified_sequence  \\\n0                0                   AAAASAAEAGIATTGTEGER   \n1                1                  AAAC[UNIMOD:4]FFEQPPR   \n2                2                             AAADFATHGK   \n3                3               AAADLMAYC[UNIMOD:4]EAHAK   \n4                4                     AAADSDPNLDPLMNPHIR   \n...            ...                                    ...   \n881710      881710  YVAIC[UNIMOD:4]NPLRYPVIM[UNIMOD:35]NR   \n881711      881711             YVAIC[UNIMOD:4]SPLRYPVIMSK   \n881712      881712  YVAIC[UNIMOD:4]SPLRYPVIM[UNIMOD:35]SK   \n881713      881713               YVLTSPRSLEAC[UNIMOD:4]AR   \n881714      881714                          YYTRLGNDFHTNK   \n\n        indexed_retention_time  \n0                    31.935811  \n1                    53.785709  \n2                     4.344702  \n3                    63.955956  \n4                    63.854205  \n...                        ...  \n881710               68.012109  \n881711               74.275623  \n881712               72.702211  \n881713               46.175652  \n881714               25.432464  \n\n[881715 rows x 3 columns]",
      "text/html": "<div>\n<style scoped>\n    .dataframe tbody tr th:only-of-type {\n        vertical-align: middle;\n    }\n\n    .dataframe tbody tr th {\n        vertical-align: top;\n    }\n\n    .dataframe thead th {\n        text-align: right;\n    }\n</style>\n<table border=\"1\" class=\"dataframe\">\n  <thead>\n    <tr style=\"text-align: right;\">\n      <th></th>\n      <th>Unnamed: 0</th>\n      <th>modified_sequence</th>\n      <th>indexed_retention_time</th>\n    </tr>\n  </thead>\n  <tbody>\n    <tr>\n      <th>0</th>\n      <td>0</td>\n      <td>AAAASAAEAGIATTGTEGER</td>\n      <td>31.935811</td>\n    </tr>\n    <tr>\n      <th>1</th>\n      <td>1</td>\n      <td>AAAC[UNIMOD:4]FFEQPPR</td>\n      <td>53.785709</td>\n    </tr>\n    <tr>\n      <th>2</th>\n      <td>2</td>\n      <td>AAADFATHGK</td>\n      <td>4.344702</td>\n    </tr>\n    <tr>\n      <th>3</th>\n      <td>3</td>\n      <td>AAADLMAYC[UNIMOD:4]EAHAK</td>\n      <td>63.955956</td>\n    </tr>\n    <tr>\n      <th>4</th>\n      <td>4</td>\n      <td>AAADSDPNLDPLMNPHIR</td>\n      <td>63.854205</td>\n    </tr>\n    <tr>\n      <th>...</th>\n      <td>...</td>\n      <td>...</td>\n      <td>...</td>\n    </tr>\n    <tr>\n      <th>881710</th>\n      <td>881710</td>\n      <td>YVAIC[UNIMOD:4]NPLRYPVIM[UNIMOD:35]NR</td>\n      <td>68.012109</td>\n    </tr>\n    <tr>\n      <th>881711</th>\n      <td>881711</td>\n      <td>YVAIC[UNIMOD:4]SPLRYPVIMSK</td>\n      <td>74.275623</td>\n    </tr>\n    <tr>\n      <th>881712</th>\n      <td>881712</td>\n      <td>YVAIC[UNIMOD:4]SPLRYPVIM[UNIMOD:35]SK</td>\n      <td>72.702211</td>\n    </tr>\n    <tr>\n      <th>881713</th>\n      <td>881713</td>\n      <td>YVLTSPRSLEAC[UNIMOD:4]AR</td>\n      <td>46.175652</td>\n    </tr>\n    <tr>\n      <th>881714</th>\n      <td>881714</td>\n      <td>YYTRLGNDFHTNK</td>\n      <td>25.432464</td>\n    </tr>\n  </tbody>\n</table>\n<p>881715 rows × 3 columns</p>\n</div>"
     },
     "execution_count": 20,
     "metadata": {},
     "output_type": "execute_result"
    }
   ],
   "source": [
    "df"
   ],
   "metadata": {
    "collapsed": false,
    "ExecuteTime": {
     "end_time": "2023-06-17T11:29:43.473550249Z",
     "start_time": "2023-06-17T11:29:43.457612707Z"
    }
   }
  },
  {
   "cell_type": "code",
   "execution_count": 3,
   "outputs": [
    {
     "name": "stdout",
     "output_type": "stream",
     "text": [
      "WARNING:tensorflow:From /home/andi/miniconda3/envs/mp/lib/python3.10/site-packages/tensorflow/python/autograph/pyct/static_analysis/liveness.py:83: Analyzer.lamba_check (from tensorflow.python.autograph.pyct.static_analysis.liveness) is deprecated and will be removed after 2023-09-23.\n",
      "Instructions for updating:\n",
      "Lambda fuctions will be no more assumed to be used in the statement where they are used, or at least in the same block. https://github.com/tensorflow/tensorflow/issues/56089\n"
     ]
    },
    {
     "name": "stderr",
     "output_type": "stream",
     "text": [
      "2023-07-06 13:55:58.395278: W tensorflow/compiler/xla/stream_executor/platform/default/dso_loader.cc:64] Could not load dynamic library 'libcuda.so.1'; dlerror: libcuda.so.1: cannot open shared object file: No such file or directory\n",
      "2023-07-06 13:55:58.395322: W tensorflow/compiler/xla/stream_executor/cuda/cuda_driver.cc:265] failed call to cuInit: UNKNOWN ERROR (303)\n",
      "2023-07-06 13:55:58.395343: I tensorflow/compiler/xla/stream_executor/cuda/cuda_diagnostics.cc:156] kernel driver does not appear to be running on this host (andi-Vostro-7590): /proc/driver/nvidia/version does not exist\n",
      "2023-07-06 13:55:58.395606: I tensorflow/core/platform/cpu_feature_guard.cc:193] This TensorFlow binary is optimized with oneAPI Deep Neural Network Library (oneDNN) to use the following CPU instructions in performance-critical operations:  AVX2 FMA\n",
      "To enable them in other operations, rebuild TensorFlow with the appropriate compiler flags.\n"
     ]
    }
   ],
   "source": [
    "TRAIN_DATAPATH = 'data/third_pool_tresh_1_0_train.csv'\n",
    "# csv import fails for some reason -> try tuple of np arrays -> need to specify column names or use default names \"sequence\" and \"irt\" in csv\n",
    "BATCH_SIZE = 64\n",
    "\n",
    "rtdata = RetentionTimeDataset(data_source=TRAIN_DATAPATH, sequence_col= \"sequence\", target_col= \"irt\",\n",
    "                              seq_length=30, batch_size=BATCH_SIZE, val_ratio=0.2, test=False)\n"
   ],
   "metadata": {
    "collapsed": false,
    "ExecuteTime": {
     "end_time": "2023-07-06T11:55:58.641779947Z",
     "start_time": "2023-07-06T11:55:58.389046080Z"
    }
   }
  },
  {
   "cell_type": "code",
   "execution_count": 4,
   "outputs": [
    {
     "data": {
      "text/plain": "64"
     },
     "execution_count": 4,
     "metadata": {},
     "output_type": "execute_result"
    }
   ],
   "source": [
    "rtdata.batch_size"
   ],
   "metadata": {
    "collapsed": false,
    "ExecuteTime": {
     "end_time": "2023-07-06T11:56:01.007502063Z",
     "start_time": "2023-07-06T11:56:01.001436800Z"
    }
   }
  },
  {
   "cell_type": "code",
   "execution_count": 5,
   "outputs": [
    {
     "data": {
      "text/plain": "1088"
     },
     "execution_count": 5,
     "metadata": {},
     "output_type": "execute_result"
    }
   ],
   "source": [
    "len(rtdata.train_data) * rtdata.batch_size"
   ],
   "metadata": {
    "collapsed": false,
    "ExecuteTime": {
     "end_time": "2023-07-06T11:56:01.611384129Z",
     "start_time": "2023-07-06T11:56:01.601632935Z"
    }
   }
  },
  {
   "cell_type": "code",
   "execution_count": 6,
   "outputs": [
    {
     "data": {
      "text/plain": "320"
     },
     "execution_count": 6,
     "metadata": {},
     "output_type": "execute_result"
    }
   ],
   "source": [
    "len(rtdata.val_data) * rtdata.batch_size"
   ],
   "metadata": {
    "collapsed": false,
    "ExecuteTime": {
     "end_time": "2023-07-06T11:56:02.546386508Z",
     "start_time": "2023-07-06T11:56:02.534577944Z"
    }
   }
  },
  {
   "cell_type": "code",
   "execution_count": 7,
   "outputs": [],
   "source": [
    "config = wandb.config\n",
    "\n",
    "config.seq_length = 30\n",
    "config.batch_size = BATCH_SIZE\n",
    "config.val_ratio = 0.2"
   ],
   "metadata": {
    "collapsed": false,
    "ExecuteTime": {
     "end_time": "2023-07-06T11:56:04.629006969Z",
     "start_time": "2023-07-06T11:56:04.618695904Z"
    }
   }
  },
  {
   "cell_type": "code",
   "execution_count": 8,
   "outputs": [],
   "source": [
    "from dlomix.models import PrositRetentionTimePredictor\n",
    "model = PrositRetentionTimePredictor(seq_length=30)\n"
   ],
   "metadata": {
    "collapsed": false,
    "ExecuteTime": {
     "end_time": "2023-07-06T11:56:05.544608937Z",
     "start_time": "2023-07-06T11:56:05.483798956Z"
    }
   }
  },
  {
   "cell_type": "code",
   "execution_count": 9,
   "outputs": [],
   "source": [
    "from dlomix.eval import TimeDeltaMetric"
   ],
   "metadata": {
    "collapsed": false,
    "ExecuteTime": {
     "end_time": "2023-07-06T11:56:06.760853208Z",
     "start_time": "2023-07-06T11:56:06.749934992Z"
    }
   }
  },
  {
   "cell_type": "code",
   "execution_count": 10,
   "outputs": [],
   "source": [
    "# compile the model  with the optimizer and the metrics we want to use, we can add our custom timedelta metric\n",
    "\n",
    "# you can also import tensorflow and build your custom optimizer object and pass it\n",
    "\n",
    "model.compile(optimizer='adam',\n",
    "              loss='mse',\n",
    "              metrics=['mean_absolute_error', TimeDeltaMetric()])"
   ],
   "metadata": {
    "collapsed": false,
    "ExecuteTime": {
     "end_time": "2023-07-06T11:56:08.666041854Z",
     "start_time": "2023-07-06T11:56:08.634693170Z"
    }
   }
  },
  {
   "cell_type": "code",
   "execution_count": 11,
   "outputs": [],
   "source": [
    "config.lr = 0.0001\n",
    "config.optimizer = \"adam\""
   ],
   "metadata": {
    "collapsed": false,
    "ExecuteTime": {
     "end_time": "2023-07-06T11:56:09.435415780Z",
     "start_time": "2023-07-06T11:56:09.427977961Z"
    }
   }
  },
  {
   "cell_type": "code",
   "execution_count": 12,
   "outputs": [
    {
     "name": "stderr",
     "output_type": "stream",
     "text": [
      "\u001B[34m\u001B[1mwandb\u001B[0m: \u001B[33mWARNING\u001B[0m The save_model argument by default saves the model in the HDF5 format that cannot save custom objects like subclassed models and custom layers. This behavior will be deprecated in a future release in favor of the SavedModel format. Meanwhile, the HDF5 model is saved as W&B files and the SavedModel as W&B Artifacts.\n"
     ]
    },
    {
     "name": "stdout",
     "output_type": "stream",
     "text": [
      "17/17 [==============================] - ETA: 0s - loss: 1505.5310 - mean_absolute_error: 31.1294 - timedelta: 34.8038"
     ]
    },
    {
     "name": "stderr",
     "output_type": "stream",
     "text": [
      "\u001B[34m\u001B[1mwandb\u001B[0m: \u001B[32m\u001B[41mERROR\u001B[0m Can't save model in the h5py format. The model will be saved as as an W&B Artifact in the 'tf' format.\n",
      "WARNING:absl:Found untraced functions such as _update_step_xla, gru_cell_3_layer_call_fn, gru_cell_3_layer_call_and_return_conditional_losses, gru_cell_1_layer_call_fn, gru_cell_1_layer_call_and_return_conditional_losses while saving (showing 5 of 7). These functions will not be directly callable after loading.\n"
     ]
    },
    {
     "name": "stdout",
     "output_type": "stream",
     "text": [
      "INFO:tensorflow:Assets written to: /home/andi/PycharmProjects/pythonProject2/wandb/run-20230706_135546-3nzm7t79/files/model-best/assets\n"
     ]
    },
    {
     "name": "stderr",
     "output_type": "stream",
     "text": [
      "INFO:tensorflow:Assets written to: /home/andi/PycharmProjects/pythonProject2/wandb/run-20230706_135546-3nzm7t79/files/model-best/assets\n",
      "\u001B[34m\u001B[1mwandb\u001B[0m: Adding directory to artifact (/home/andi/PycharmProjects/pythonProject2/wandb/run-20230706_135546-3nzm7t79/files/model-best)... Done. 0.2s\n"
     ]
    },
    {
     "name": "stdout",
     "output_type": "stream",
     "text": [
      "17/17 [==============================] - 24s 1s/step - loss: 1505.5310 - mean_absolute_error: 31.1294 - timedelta: 34.8038 - val_loss: 2377.2488 - val_mean_absolute_error: 44.5634 - val_timedelta: 55.1422\n"
     ]
    }
   ],
   "source": [
    "# here we pass the WandbCallback to model.fit\n",
    "\n",
    "history = model.fit(rtdata.train_data,\n",
    "                    validation_data=rtdata.val_data,\n",
    "                    epochs=1, callbacks=[WandbCallback()] )\n",
    "\n"
   ],
   "metadata": {
    "collapsed": false,
    "ExecuteTime": {
     "end_time": "2023-07-06T11:56:37.014009134Z",
     "start_time": "2023-07-06T11:56:12.754855208Z"
    }
   }
  },
  {
   "cell_type": "code",
   "execution_count": 20,
   "outputs": [
    {
     "data": {
      "text/plain": "         irt\n0  30.483831\n1  35.665989\n2  45.738280\n3  44.355144\n4  36.609049",
      "text/html": "<div>\n<style scoped>\n    .dataframe tbody tr th:only-of-type {\n        vertical-align: middle;\n    }\n\n    .dataframe tbody tr th {\n        vertical-align: top;\n    }\n\n    .dataframe thead th {\n        text-align: right;\n    }\n</style>\n<table border=\"1\" class=\"dataframe\">\n  <thead>\n    <tr style=\"text-align: right;\">\n      <th></th>\n      <th>irt</th>\n    </tr>\n  </thead>\n  <tbody>\n    <tr>\n      <th>0</th>\n      <td>30.483831</td>\n    </tr>\n    <tr>\n      <th>1</th>\n      <td>35.665989</td>\n    </tr>\n    <tr>\n      <th>2</th>\n      <td>45.738280</td>\n    </tr>\n    <tr>\n      <th>3</th>\n      <td>44.355144</td>\n    </tr>\n    <tr>\n      <th>4</th>\n      <td>36.609049</td>\n    </tr>\n  </tbody>\n</table>\n</div>"
     },
     "execution_count": 20,
     "metadata": {},
     "output_type": "execute_result"
    }
   ],
   "source": [
    "seqs = pd.read_csv(\"/home/andi/PycharmProjects/pythonProject2/data/third_pool_tresh_1_0_seq_only.csv\")\n",
    "irts = pd.read_csv(\"/home/andi/PycharmProjects/pythonProject2/data/third_pool_tresh_1_0_irt_only.csv\")\n",
    "irts.head()"
   ],
   "metadata": {
    "collapsed": false,
    "ExecuteTime": {
     "end_time": "2023-07-06T12:04:31.046497778Z",
     "start_time": "2023-07-06T12:04:31.031487952Z"
    }
   }
  },
  {
   "cell_type": "code",
   "execution_count": 16,
   "outputs": [
    {
     "name": "stdout",
     "output_type": "stream",
     "text": [
      "60/60 [==============================] - 1s 6ms/step\n"
     ]
    }
   ],
   "source": [
    "prediction = model.predict(seqs)"
   ],
   "metadata": {
    "collapsed": false,
    "ExecuteTime": {
     "end_time": "2023-07-06T11:57:12.396172471Z",
     "start_time": "2023-07-06T11:57:11.223621288Z"
    }
   }
  },
  {
   "cell_type": "code",
   "execution_count": 27,
   "outputs": [
    {
     "data": {
      "text/plain": "array([[2.7876718],\n       [2.7876718],\n       [2.7876718],\n       ...,\n       [2.7876718],\n       [2.7876718],\n       [2.7876718]], dtype=float32)"
     },
     "execution_count": 27,
     "metadata": {},
     "output_type": "execute_result"
    }
   ],
   "source": [
    "prediction"
   ],
   "metadata": {
    "collapsed": false,
    "ExecuteTime": {
     "end_time": "2023-07-06T12:05:19.695815258Z",
     "start_time": "2023-07-06T12:05:19.670733612Z"
    }
   }
  },
  {
   "cell_type": "code",
   "execution_count": 28,
   "outputs": [
    {
     "data": {
      "text/plain": "<Figure size 640x480 with 1 Axes>",
      "image/png": "[encoded data removed]"
     },
     "metadata": {},
     "output_type": "display_data"
    },
    {
     "data": {
      "text/plain": "<Figure size 640x480 with 1 Axes>",
      "image/png": "[encoded data removed]"
     },
     "metadata": {},
     "output_type": "display_data"
    },
    {
     "data": {
      "text/plain": "<Figure size 640x480 with 1 Axes>",
      "image/png": "[encoded data removed]"
     },
     "metadata": {},
     "output_type": "display_data"
    },
    {
     "data": {
      "text/plain": "<Figure size 640x480 with 1 Axes>",
      "image/png": "[encoded data removed]"
     },
     "metadata": {},
     "output_type": "display_data"
    },
    {
     "ename": "ValueError",
     "evalue": "too many values to unpack (expected 2)",
     "output_type": "error",
     "traceback": [
      "\u001B[0;31m---------------------------------------------------------------------------\u001B[0m",
      "\u001B[0;31mAttributeError\u001B[0m                            Traceback (most recent call last)",
      "File \u001B[0;32m~/miniconda3/envs/mp/lib/python3.10/site-packages/numpy/lib/histograms.py:967\u001B[0m, in \u001B[0;36mhistogramdd\u001B[0;34m(sample, bins, range, density, weights)\u001B[0m\n\u001B[1;32m    965\u001B[0m \u001B[38;5;28;01mtry\u001B[39;00m:\n\u001B[1;32m    966\u001B[0m     \u001B[38;5;66;03m# Sample is an ND-array.\u001B[39;00m\n\u001B[0;32m--> 967\u001B[0m     N, D \u001B[38;5;241m=\u001B[39m \u001B[43msample\u001B[49m\u001B[38;5;241;43m.\u001B[39;49m\u001B[43mshape\u001B[49m\n\u001B[1;32m    968\u001B[0m \u001B[38;5;28;01mexcept\u001B[39;00m (\u001B[38;5;167;01mAttributeError\u001B[39;00m, \u001B[38;5;167;01mValueError\u001B[39;00m):\n\u001B[1;32m    969\u001B[0m     \u001B[38;5;66;03m# Sample is a sequence of 1D arrays.\u001B[39;00m\n",
      "\u001B[0;31mAttributeError\u001B[0m: 'list' object has no attribute 'shape'",
      "\nDuring handling of the above exception, another exception occurred:\n",
      "\u001B[0;31mValueError\u001B[0m                                Traceback (most recent call last)",
      "Cell \u001B[0;32mIn[28], line 2\u001B[0m\n\u001B[1;32m      1\u001B[0m report \u001B[38;5;241m=\u001B[39m RetentionTimeReport(\u001B[38;5;124m\"\u001B[39m\u001B[38;5;124mreports\u001B[39m\u001B[38;5;124m\"\u001B[39m, history)\n\u001B[0;32m----> 2\u001B[0m \u001B[43mreport\u001B[49m\u001B[38;5;241;43m.\u001B[39;49m\u001B[43mgenerate_report\u001B[49m\u001B[43m(\u001B[49m\u001B[43mirts\u001B[49m\u001B[43m,\u001B[49m\u001B[43m \u001B[49m\u001B[43mprediction\u001B[49m\u001B[43m)\u001B[49m\n",
      "File \u001B[0;32m~/miniconda3/envs/mp/lib/python3.10/site-packages/dlomix/reports/RetentionTimeReport.py:26\u001B[0m, in \u001B[0;36mRetentionTimeReport.generate_report\u001B[0;34m(self, targets, predictions, **kwargs)\u001B[0m\n\u001B[1;32m     24\u001B[0m \u001B[38;5;28mself\u001B[39m\u001B[38;5;241m.\u001B[39mplot_all_metrics()\n\u001B[1;32m     25\u001B[0m \u001B[38;5;28mself\u001B[39m\u001B[38;5;241m.\u001B[39mplot_residuals(targets, predictions)\n\u001B[0;32m---> 26\u001B[0m \u001B[38;5;28;43mself\u001B[39;49m\u001B[38;5;241;43m.\u001B[39;49m\u001B[43mplot_density\u001B[49m\u001B[43m(\u001B[49m\u001B[43mtargets\u001B[49m\u001B[43m,\u001B[49m\u001B[43m \u001B[49m\u001B[43mpredictions\u001B[49m\u001B[43m)\u001B[49m\n\u001B[1;32m     28\u001B[0m \u001B[38;5;28mself\u001B[39m\u001B[38;5;241m.\u001B[39m_compile_report_resources_add_pdf_pages()\n\u001B[1;32m     30\u001B[0m \u001B[38;5;28mself\u001B[39m\u001B[38;5;241m.\u001B[39mpdf_file\u001B[38;5;241m.\u001B[39moutput(join(\u001B[38;5;28mself\u001B[39m\u001B[38;5;241m.\u001B[39m_output_path, \u001B[38;5;124m\"\u001B[39m\u001B[38;5;124miRT_Report.pdf\u001B[39m\u001B[38;5;124m\"\u001B[39m), \u001B[38;5;124m\"\u001B[39m\u001B[38;5;124mF\u001B[39m\u001B[38;5;124m\"\u001B[39m)\n",
      "File \u001B[0;32m~/miniconda3/envs/mp/lib/python3.10/site-packages/dlomix/reports/RetentionTimeReport.py:111\u001B[0m, in \u001B[0;36mRetentionTimeReport.plot_density\u001B[0;34m(self, targets, predictions, irt_delta95, palette, delta95_line_color, nbins)\u001B[0m\n\u001B[1;32m     90\u001B[0m \u001B[38;5;28;01mdef\u001B[39;00m \u001B[38;5;21mplot_density\u001B[39m(\n\u001B[1;32m     91\u001B[0m     \u001B[38;5;28mself\u001B[39m,\n\u001B[1;32m     92\u001B[0m     targets,\n\u001B[0;32m   (...)\u001B[0m\n\u001B[1;32m     97\u001B[0m     nbins\u001B[38;5;241m=\u001B[39m\u001B[38;5;241m1000\u001B[39m,\n\u001B[1;32m     98\u001B[0m ):\n\u001B[1;32m     99\u001B[0m \u001B[38;5;250m    \u001B[39m\u001B[38;5;124;03m\"\"\"Create density plot\u001B[39;00m\n\u001B[1;32m    100\u001B[0m \n\u001B[1;32m    101\u001B[0m \u001B[38;5;124;03m    Arguments\u001B[39;00m\n\u001B[0;32m   (...)\u001B[0m\n\u001B[1;32m    108\u001B[0m \u001B[38;5;124;03m        nbins (int, optional): Number of bins to use for creating the 2D histogram. Defaults to 1000.\u001B[39;00m\n\u001B[1;32m    109\u001B[0m \u001B[38;5;124;03m    \"\"\"\u001B[39;00m\n\u001B[0;32m--> 111\u001B[0m     H, xedges, yedges \u001B[38;5;241m=\u001B[39m \u001B[43mnp\u001B[49m\u001B[38;5;241;43m.\u001B[39;49m\u001B[43mhistogram2d\u001B[49m\u001B[43m(\u001B[49m\u001B[43mtargets\u001B[49m\u001B[43m,\u001B[49m\u001B[43m \u001B[49m\u001B[43mpredictions\u001B[49m\u001B[43m,\u001B[49m\u001B[43m \u001B[49m\u001B[43mbins\u001B[49m\u001B[38;5;241;43m=\u001B[39;49m\u001B[43mnbins\u001B[49m\u001B[43m)\u001B[49m\n\u001B[1;32m    113\u001B[0m     x_min \u001B[38;5;241m=\u001B[39m np\u001B[38;5;241m.\u001B[39mmin(targets)\n\u001B[1;32m    114\u001B[0m     x_max \u001B[38;5;241m=\u001B[39m np\u001B[38;5;241m.\u001B[39mmax(targets)\n",
      "File \u001B[0;32m<__array_function__ internals>:200\u001B[0m, in \u001B[0;36mhistogram2d\u001B[0;34m(*args, **kwargs)\u001B[0m\n",
      "File \u001B[0;32m~/miniconda3/envs/mp/lib/python3.10/site-packages/numpy/lib/twodim_base.py:820\u001B[0m, in \u001B[0;36mhistogram2d\u001B[0;34m(x, y, bins, range, density, weights)\u001B[0m\n\u001B[1;32m    818\u001B[0m     xedges \u001B[38;5;241m=\u001B[39m yedges \u001B[38;5;241m=\u001B[39m asarray(bins)\n\u001B[1;32m    819\u001B[0m     bins \u001B[38;5;241m=\u001B[39m [xedges, yedges]\n\u001B[0;32m--> 820\u001B[0m hist, edges \u001B[38;5;241m=\u001B[39m \u001B[43mhistogramdd\u001B[49m\u001B[43m(\u001B[49m\u001B[43m[\u001B[49m\u001B[43mx\u001B[49m\u001B[43m,\u001B[49m\u001B[43m \u001B[49m\u001B[43my\u001B[49m\u001B[43m]\u001B[49m\u001B[43m,\u001B[49m\u001B[43m \u001B[49m\u001B[43mbins\u001B[49m\u001B[43m,\u001B[49m\u001B[43m \u001B[49m\u001B[38;5;28;43mrange\u001B[39;49m\u001B[43m,\u001B[49m\u001B[43m \u001B[49m\u001B[43mdensity\u001B[49m\u001B[43m,\u001B[49m\u001B[43m \u001B[49m\u001B[43mweights\u001B[49m\u001B[43m)\u001B[49m\n\u001B[1;32m    821\u001B[0m \u001B[38;5;28;01mreturn\u001B[39;00m hist, edges[\u001B[38;5;241m0\u001B[39m], edges[\u001B[38;5;241m1\u001B[39m]\n",
      "File \u001B[0;32m<__array_function__ internals>:200\u001B[0m, in \u001B[0;36mhistogramdd\u001B[0;34m(*args, **kwargs)\u001B[0m\n",
      "File \u001B[0;32m~/miniconda3/envs/mp/lib/python3.10/site-packages/numpy/lib/histograms.py:971\u001B[0m, in \u001B[0;36mhistogramdd\u001B[0;34m(sample, bins, range, density, weights)\u001B[0m\n\u001B[1;32m    968\u001B[0m \u001B[38;5;28;01mexcept\u001B[39;00m (\u001B[38;5;167;01mAttributeError\u001B[39;00m, \u001B[38;5;167;01mValueError\u001B[39;00m):\n\u001B[1;32m    969\u001B[0m     \u001B[38;5;66;03m# Sample is a sequence of 1D arrays.\u001B[39;00m\n\u001B[1;32m    970\u001B[0m     sample \u001B[38;5;241m=\u001B[39m np\u001B[38;5;241m.\u001B[39matleast_2d(sample)\u001B[38;5;241m.\u001B[39mT\n\u001B[0;32m--> 971\u001B[0m     N, D \u001B[38;5;241m=\u001B[39m sample\u001B[38;5;241m.\u001B[39mshape\n\u001B[1;32m    973\u001B[0m nbin \u001B[38;5;241m=\u001B[39m np\u001B[38;5;241m.\u001B[39mempty(D, np\u001B[38;5;241m.\u001B[39mintp)\n\u001B[1;32m    974\u001B[0m edges \u001B[38;5;241m=\u001B[39m D\u001B[38;5;241m*\u001B[39m[\u001B[38;5;28;01mNone\u001B[39;00m]\n",
      "\u001B[0;31mValueError\u001B[0m: too many values to unpack (expected 2)"
     ]
    }
   ],
   "source": [
    "report = RetentionTimeReport(\"reports\", history)\n",
    "report.generate_report(irts, prediction)\n"
   ],
   "metadata": {
    "collapsed": false,
    "ExecuteTime": {
     "end_time": "2023-07-06T12:05:35.079704811Z",
     "start_time": "2023-07-06T12:05:33.788608325Z"
    }
   }
  },
  {
   "cell_type": "code",
   "execution_count": 30,
   "outputs": [],
   "source": [],
   "metadata": {
    "collapsed": false,
    "ExecuteTime": {
     "end_time": "2023-07-06T12:55:22.608246519Z",
     "start_time": "2023-07-06T12:55:22.600085903Z"
    }
   }
  },
  {
   "cell_type": "code",
   "execution_count": 31,
   "outputs": [
    {
     "ename": "ValueError",
     "evalue": "Failed to convert a NumPy array to a Tensor (Unsupported object type float).",
     "output_type": "error",
     "traceback": [
      "\u001B[0;31m---------------------------------------------------------------------------\u001B[0m",
      "\u001B[0;31mValueError\u001B[0m                                Traceback (most recent call last)",
      "Cell \u001B[0;32mIn[31], line 1\u001B[0m\n\u001B[0;32m----> 1\u001B[0m \u001B[43mmodel\u001B[49m\u001B[38;5;241;43m.\u001B[39;49m\u001B[43mevaluate\u001B[49m\u001B[43m(\u001B[49m\u001B[43md\u001B[49m\u001B[43m)\u001B[49m\n",
      "File \u001B[0;32m~/miniconda3/envs/mp/lib/python3.10/site-packages/keras/utils/traceback_utils.py:70\u001B[0m, in \u001B[0;36mfilter_traceback.<locals>.error_handler\u001B[0;34m(*args, **kwargs)\u001B[0m\n\u001B[1;32m     67\u001B[0m     filtered_tb \u001B[38;5;241m=\u001B[39m _process_traceback_frames(e\u001B[38;5;241m.\u001B[39m__traceback__)\n\u001B[1;32m     68\u001B[0m     \u001B[38;5;66;03m# To get the full stack trace, call:\u001B[39;00m\n\u001B[1;32m     69\u001B[0m     \u001B[38;5;66;03m# `tf.debugging.disable_traceback_filtering()`\u001B[39;00m\n\u001B[0;32m---> 70\u001B[0m     \u001B[38;5;28;01mraise\u001B[39;00m e\u001B[38;5;241m.\u001B[39mwith_traceback(filtered_tb) \u001B[38;5;28;01mfrom\u001B[39;00m \u001B[38;5;28;01mNone\u001B[39;00m\n\u001B[1;32m     71\u001B[0m \u001B[38;5;28;01mfinally\u001B[39;00m:\n\u001B[1;32m     72\u001B[0m     \u001B[38;5;28;01mdel\u001B[39;00m filtered_tb\n",
      "File \u001B[0;32m~/miniconda3/envs/mp/lib/python3.10/site-packages/tensorflow/python/framework/constant_op.py:102\u001B[0m, in \u001B[0;36mconvert_to_eager_tensor\u001B[0;34m(value, ctx, dtype)\u001B[0m\n\u001B[1;32m    100\u001B[0m     dtype \u001B[38;5;241m=\u001B[39m dtypes\u001B[38;5;241m.\u001B[39mas_dtype(dtype)\u001B[38;5;241m.\u001B[39mas_datatype_enum\n\u001B[1;32m    101\u001B[0m ctx\u001B[38;5;241m.\u001B[39mensure_initialized()\n\u001B[0;32m--> 102\u001B[0m \u001B[38;5;28;01mreturn\u001B[39;00m \u001B[43mops\u001B[49m\u001B[38;5;241;43m.\u001B[39;49m\u001B[43mEagerTensor\u001B[49m\u001B[43m(\u001B[49m\u001B[43mvalue\u001B[49m\u001B[43m,\u001B[49m\u001B[43m \u001B[49m\u001B[43mctx\u001B[49m\u001B[38;5;241;43m.\u001B[39;49m\u001B[43mdevice_name\u001B[49m\u001B[43m,\u001B[49m\u001B[43m \u001B[49m\u001B[43mdtype\u001B[49m\u001B[43m)\u001B[49m\n",
      "\u001B[0;31mValueError\u001B[0m: Failed to convert a NumPy array to a Tensor (Unsupported object type float)."
     ]
    }
   ],
   "source": [
    "\n"
   ],
   "metadata": {
    "collapsed": false,
    "ExecuteTime": {
     "end_time": "2023-07-06T12:55:33.577730464Z",
     "start_time": "2023-07-06T12:55:33.516208010Z"
    }
   }
  }
 ],
 "metadata": {
  "kernelspec": {
   "display_name": "Python 3",
   "language": "python",
   "name": "python3"
  },
  "language_info": {
   "codemirror_mode": {
    "name": "ipython",
    "version": 2
   },
   "file_extension": ".py",
   "mimetype": "text/x-python",
   "name": "python",
   "nbconvert_exporter": "python",
   "pygments_lexer": "ipython2",
   "version": "2.7.6"
  }
 },
 "nbformat": 4,
 "nbformat_minor": 0
}
