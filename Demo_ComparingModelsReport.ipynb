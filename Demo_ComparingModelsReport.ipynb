{
  "nbformat": 4,
  "nbformat_minor": 0,
  "metadata": {
    "colab": {
      "provenance": [],
      "gpuType": "T4",
      "authorship_tag": "ABX9TyOBT0N0aBYw5WrCEKfX0zOK",
      "include_colab_link": true
    },
    "kernelspec": {
      "name": "python3",
      "display_name": "Python 3"
    },
    "language_info": {
      "name": "python"
    },
    "accelerator": "GPU",
    "widgets": {
      "application/vnd.jupyter.widget-state+json": {
        "6d447fce7ada46b7bbe9ae5b05655948": {
          "model_module": "@jupyter-widgets/controls",
          "model_name": "VBoxModel",
          "model_module_version": "1.5.0",
          "state": {
            "_dom_classes": [],
            "_model_module": "@jupyter-widgets/controls",
            "_model_module_version": "1.5.0",
            "_model_name": "VBoxModel",
            "_view_count": null,
            "_view_module": "@jupyter-widgets/controls",
            "_view_module_version": "1.5.0",
            "_view_name": "VBoxView",
            "box_style": "",
            "children": [
              "IPY_MODEL_a6f7e3882db04b3ca2d0b1e927edcb90",
              "IPY_MODEL_d0c1dbfcd400493f9efa72e58be83a12"
            ],
            "layout": "IPY_MODEL_3d3c265acbad4253b13988e4ff24161f"
          }
        },
        "a6f7e3882db04b3ca2d0b1e927edcb90": {
          "model_module": "@jupyter-widgets/controls",
          "model_name": "LabelModel",
          "model_module_version": "1.5.0",
          "state": {
            "_dom_classes": [],
            "_model_module": "@jupyter-widgets/controls",
            "_model_module_version": "1.5.0",
            "_model_name": "LabelModel",
            "_view_count": null,
            "_view_module": "@jupyter-widgets/controls",
            "_view_module_version": "1.5.0",
            "_view_name": "LabelView",
            "description": "",
            "description_tooltip": null,
            "layout": "IPY_MODEL_487e392cb4404af99afb9b397f4eb5c6",
            "placeholder": "​",
            "style": "IPY_MODEL_c3b421e5861f43fbb91cba2fbf7e8426",
            "value": "0.005 MB of 0.014 MB uploaded (0.000 MB deduped)\r"
          }
        },
        "d0c1dbfcd400493f9efa72e58be83a12": {
          "model_module": "@jupyter-widgets/controls",
          "model_name": "FloatProgressModel",
          "model_module_version": "1.5.0",
          "state": {
            "_dom_classes": [],
            "_model_module": "@jupyter-widgets/controls",
            "_model_module_version": "1.5.0",
            "_model_name": "FloatProgressModel",
            "_view_count": null,
            "_view_module": "@jupyter-widgets/controls",
            "_view_module_version": "1.5.0",
            "_view_name": "ProgressView",
            "bar_style": "",
            "description": "",
            "description_tooltip": null,
            "layout": "IPY_MODEL_6eb8599460544e2890f7cde8588fe43e",
            "max": 1,
            "min": 0,
            "orientation": "horizontal",
            "style": "IPY_MODEL_87d4436ebf1b4594ab2f8ec817894ad4",
            "value": 0.3795315114333519
          }
        },
        "3d3c265acbad4253b13988e4ff24161f": {
          "model_module": "@jupyter-widgets/base",
          "model_name": "LayoutModel",
          "model_module_version": "1.2.0",
          "state": {
            "_model_module": "@jupyter-widgets/base",
            "_model_module_version": "1.2.0",
            "_model_name": "LayoutModel",
            "_view_count": null,
            "_view_module": "@jupyter-widgets/base",
            "_view_module_version": "1.2.0",
            "_view_name": "LayoutView",
            "align_content": null,
            "align_items": null,
            "align_self": null,
            "border": null,
            "bottom": null,
            "display": null,
            "flex": null,
            "flex_flow": null,
            "grid_area": null,
            "grid_auto_columns": null,
            "grid_auto_flow": null,
            "grid_auto_rows": null,
            "grid_column": null,
            "grid_gap": null,
            "grid_row": null,
            "grid_template_areas": null,
            "grid_template_columns": null,
            "grid_template_rows": null,
            "height": null,
            "justify_content": null,
            "justify_items": null,
            "left": null,
            "margin": null,
            "max_height": null,
            "max_width": null,
            "min_height": null,
            "min_width": null,
            "object_fit": null,
            "object_position": null,
            "order": null,
            "overflow": null,
            "overflow_x": null,
            "overflow_y": null,
            "padding": null,
            "right": null,
            "top": null,
            "visibility": null,
            "width": null
          }
        },
        "487e392cb4404af99afb9b397f4eb5c6": {
          "model_module": "@jupyter-widgets/base",
          "model_name": "LayoutModel",
          "model_module_version": "1.2.0",
          "state": {
            "_model_module": "@jupyter-widgets/base",
            "_model_module_version": "1.2.0",
            "_model_name": "LayoutModel",
            "_view_count": null,
            "_view_module": "@jupyter-widgets/base",
            "_view_module_version": "1.2.0",
            "_view_name": "LayoutView",
            "align_content": null,
            "align_items": null,
            "align_self": null,
            "border": null,
            "bottom": null,
            "display": null,
            "flex": null,
            "flex_flow": null,
            "grid_area": null,
            "grid_auto_columns": null,
            "grid_auto_flow": null,
            "grid_auto_rows": null,
            "grid_column": null,
            "grid_gap": null,
            "grid_row": null,
            "grid_template_areas": null,
            "grid_template_columns": null,
            "grid_template_rows": null,
            "height": null,
            "justify_content": null,
            "justify_items": null,
            "left": null,
            "margin": null,
            "max_height": null,
            "max_width": null,
            "min_height": null,
            "min_width": null,
            "object_fit": null,
            "object_position": null,
            "order": null,
            "overflow": null,
            "overflow_x": null,
            "overflow_y": null,
            "padding": null,
            "right": null,
            "top": null,
            "visibility": null,
            "width": null
          }
        },
        "c3b421e5861f43fbb91cba2fbf7e8426": {
          "model_module": "@jupyter-widgets/controls",
          "model_name": "DescriptionStyleModel",
          "model_module_version": "1.5.0",
          "state": {
            "_model_module": "@jupyter-widgets/controls",
            "_model_module_version": "1.5.0",
            "_model_name": "DescriptionStyleModel",
            "_view_count": null,
            "_view_module": "@jupyter-widgets/base",
            "_view_module_version": "1.2.0",
            "_view_name": "StyleView",
            "description_width": ""
          }
        },
        "6eb8599460544e2890f7cde8588fe43e": {
          "model_module": "@jupyter-widgets/base",
          "model_name": "LayoutModel",
          "model_module_version": "1.2.0",
          "state": {
            "_model_module": "@jupyter-widgets/base",
            "_model_module_version": "1.2.0",
            "_model_name": "LayoutModel",
            "_view_count": null,
            "_view_module": "@jupyter-widgets/base",
            "_view_module_version": "1.2.0",
            "_view_name": "LayoutView",
            "align_content": null,
            "align_items": null,
            "align_self": null,
            "border": null,
            "bottom": null,
            "display": null,
            "flex": null,
            "flex_flow": null,
            "grid_area": null,
            "grid_auto_columns": null,
            "grid_auto_flow": null,
            "grid_auto_rows": null,
            "grid_column": null,
            "grid_gap": null,
            "grid_row": null,
            "grid_template_areas": null,
            "grid_template_columns": null,
            "grid_template_rows": null,
            "height": null,
            "justify_content": null,
            "justify_items": null,
            "left": null,
            "margin": null,
            "max_height": null,
            "max_width": null,
            "min_height": null,
            "min_width": null,
            "object_fit": null,
            "object_position": null,
            "order": null,
            "overflow": null,
            "overflow_x": null,
            "overflow_y": null,
            "padding": null,
            "right": null,
            "top": null,
            "visibility": null,
            "width": null
          }
        },
        "87d4436ebf1b4594ab2f8ec817894ad4": {
          "model_module": "@jupyter-widgets/controls",
          "model_name": "ProgressStyleModel",
          "model_module_version": "1.5.0",
          "state": {
            "_model_module": "@jupyter-widgets/controls",
            "_model_module_version": "1.5.0",
            "_model_name": "ProgressStyleModel",
            "_view_count": null,
            "_view_module": "@jupyter-widgets/base",
            "_view_module_version": "1.2.0",
            "_view_name": "StyleView",
            "bar_color": null,
            "description_width": ""
          }
        },
        "43703134969d484fa4ba4cc0b049de7c": {
          "model_module": "@jupyter-widgets/controls",
          "model_name": "VBoxModel",
          "model_module_version": "1.5.0",
          "state": {
            "_dom_classes": [],
            "_model_module": "@jupyter-widgets/controls",
            "_model_module_version": "1.5.0",
            "_model_name": "VBoxModel",
            "_view_count": null,
            "_view_module": "@jupyter-widgets/controls",
            "_view_module_version": "1.5.0",
            "_view_name": "VBoxView",
            "box_style": "",
            "children": [
              "IPY_MODEL_ac0d762adefe44b688e722e65a330474",
              "IPY_MODEL_00a6da679da849e28dfbd6aafe5578cf"
            ],
            "layout": "IPY_MODEL_a28e46d740dd41b981c7be574792901a"
          }
        },
        "ac0d762adefe44b688e722e65a330474": {
          "model_module": "@jupyter-widgets/controls",
          "model_name": "LabelModel",
          "model_module_version": "1.5.0",
          "state": {
            "_dom_classes": [],
            "_model_module": "@jupyter-widgets/controls",
            "_model_module_version": "1.5.0",
            "_model_name": "LabelModel",
            "_view_count": null,
            "_view_module": "@jupyter-widgets/controls",
            "_view_module_version": "1.5.0",
            "_view_name": "LabelView",
            "description": "",
            "description_tooltip": null,
            "layout": "IPY_MODEL_945208fce03244bca312be327ed5eea9",
            "placeholder": "​",
            "style": "IPY_MODEL_e1616c298dc641cabe9d17ad2143128b",
            "value": "Waiting for wandb.init()...\r"
          }
        },
        "00a6da679da849e28dfbd6aafe5578cf": {
          "model_module": "@jupyter-widgets/controls",
          "model_name": "FloatProgressModel",
          "model_module_version": "1.5.0",
          "state": {
            "_dom_classes": [],
            "_model_module": "@jupyter-widgets/controls",
            "_model_module_version": "1.5.0",
            "_model_name": "FloatProgressModel",
            "_view_count": null,
            "_view_module": "@jupyter-widgets/controls",
            "_view_module_version": "1.5.0",
            "_view_name": "ProgressView",
            "bar_style": "",
            "description": "",
            "description_tooltip": null,
            "layout": "IPY_MODEL_6a3b25612b234b15b673eda4d59f66d5",
            "max": 1,
            "min": 0,
            "orientation": "horizontal",
            "style": "IPY_MODEL_9a4ed274313b45cfb459cbad15315c6f",
            "value": 1
          }
        },
        "a28e46d740dd41b981c7be574792901a": {
          "model_module": "@jupyter-widgets/base",
          "model_name": "LayoutModel",
          "model_module_version": "1.2.0",
          "state": {
            "_model_module": "@jupyter-widgets/base",
            "_model_module_version": "1.2.0",
            "_model_name": "LayoutModel",
            "_view_count": null,
            "_view_module": "@jupyter-widgets/base",
            "_view_module_version": "1.2.0",
            "_view_name": "LayoutView",
            "align_content": null,
            "align_items": null,
            "align_self": null,
            "border": null,
            "bottom": null,
            "display": null,
            "flex": null,
            "flex_flow": null,
            "grid_area": null,
            "grid_auto_columns": null,
            "grid_auto_flow": null,
            "grid_auto_rows": null,
            "grid_column": null,
            "grid_gap": null,
            "grid_row": null,
            "grid_template_areas": null,
            "grid_template_columns": null,
            "grid_template_rows": null,
            "height": null,
            "justify_content": null,
            "justify_items": null,
            "left": null,
            "margin": null,
            "max_height": null,
            "max_width": null,
            "min_height": null,
            "min_width": null,
            "object_fit": null,
            "object_position": null,
            "order": null,
            "overflow": null,
            "overflow_x": null,
            "overflow_y": null,
            "padding": null,
            "right": null,
            "top": null,
            "visibility": null,
            "width": null
          }
        },
        "945208fce03244bca312be327ed5eea9": {
          "model_module": "@jupyter-widgets/base",
          "model_name": "LayoutModel",
          "model_module_version": "1.2.0",
          "state": {
            "_model_module": "@jupyter-widgets/base",
            "_model_module_version": "1.2.0",
            "_model_name": "LayoutModel",
            "_view_count": null,
            "_view_module": "@jupyter-widgets/base",
            "_view_module_version": "1.2.0",
            "_view_name": "LayoutView",
            "align_content": null,
            "align_items": null,
            "align_self": null,
            "border": null,
            "bottom": null,
            "display": null,
            "flex": null,
            "flex_flow": null,
            "grid_area": null,
            "grid_auto_columns": null,
            "grid_auto_flow": null,
            "grid_auto_rows": null,
            "grid_column": null,
            "grid_gap": null,
            "grid_row": null,
            "grid_template_areas": null,
            "grid_template_columns": null,
            "grid_template_rows": null,
            "height": null,
            "justify_content": null,
            "justify_items": null,
            "left": null,
            "margin": null,
            "max_height": null,
            "max_width": null,
            "min_height": null,
            "min_width": null,
            "object_fit": null,
            "object_position": null,
            "order": null,
            "overflow": null,
            "overflow_x": null,
            "overflow_y": null,
            "padding": null,
            "right": null,
            "top": null,
            "visibility": null,
            "width": null
          }
        },
        "e1616c298dc641cabe9d17ad2143128b": {
          "model_module": "@jupyter-widgets/controls",
          "model_name": "DescriptionStyleModel",
          "model_module_version": "1.5.0",
          "state": {
            "_model_module": "@jupyter-widgets/controls",
            "_model_module_version": "1.5.0",
            "_model_name": "DescriptionStyleModel",
            "_view_count": null,
            "_view_module": "@jupyter-widgets/base",
            "_view_module_version": "1.2.0",
            "_view_name": "StyleView",
            "description_width": ""
          }
        },
        "6a3b25612b234b15b673eda4d59f66d5": {
          "model_module": "@jupyter-widgets/base",
          "model_name": "LayoutModel",
          "model_module_version": "1.2.0",
          "state": {
            "_model_module": "@jupyter-widgets/base",
            "_model_module_version": "1.2.0",
            "_model_name": "LayoutModel",
            "_view_count": null,
            "_view_module": "@jupyter-widgets/base",
            "_view_module_version": "1.2.0",
            "_view_name": "LayoutView",
            "align_content": null,
            "align_items": null,
            "align_self": null,
            "border": null,
            "bottom": null,
            "display": null,
            "flex": null,
            "flex_flow": null,
            "grid_area": null,
            "grid_auto_columns": null,
            "grid_auto_flow": null,
            "grid_auto_rows": null,
            "grid_column": null,
            "grid_gap": null,
            "grid_row": null,
            "grid_template_areas": null,
            "grid_template_columns": null,
            "grid_template_rows": null,
            "height": null,
            "justify_content": null,
            "justify_items": null,
            "left": null,
            "margin": null,
            "max_height": null,
            "max_width": null,
            "min_height": null,
            "min_width": null,
            "object_fit": null,
            "object_position": null,
            "order": null,
            "overflow": null,
            "overflow_x": null,
            "overflow_y": null,
            "padding": null,
            "right": null,
            "top": null,
            "visibility": null,
            "width": null
          }
        },
        "9a4ed274313b45cfb459cbad15315c6f": {
          "model_module": "@jupyter-widgets/controls",
          "model_name": "ProgressStyleModel",
          "model_module_version": "1.5.0",
          "state": {
            "_model_module": "@jupyter-widgets/controls",
            "_model_module_version": "1.5.0",
            "_model_name": "ProgressStyleModel",
            "_view_count": null,
            "_view_module": "@jupyter-widgets/base",
            "_view_module_version": "1.2.0",
            "_view_name": "StyleView",
            "bar_color": null,
            "description_width": ""
          }
        },
        "9160cd66209f4fd58dead2cec5cddc24": {
          "model_module": "@jupyter-widgets/controls",
          "model_name": "VBoxModel",
          "model_module_version": "1.5.0",
          "state": {
            "_dom_classes": [],
            "_model_module": "@jupyter-widgets/controls",
            "_model_module_version": "1.5.0",
            "_model_name": "VBoxModel",
            "_view_count": null,
            "_view_module": "@jupyter-widgets/controls",
            "_view_module_version": "1.5.0",
            "_view_name": "VBoxView",
            "box_style": "",
            "children": [
              "IPY_MODEL_aab965249f9c44c29ccd2debb97f019b",
              "IPY_MODEL_32165ffed5e94fe1b4cd6d5211d641e5"
            ],
            "layout": "IPY_MODEL_8c72602d31614c1493f451971b6ff5a2"
          }
        },
        "aab965249f9c44c29ccd2debb97f019b": {
          "model_module": "@jupyter-widgets/controls",
          "model_name": "LabelModel",
          "model_module_version": "1.5.0",
          "state": {
            "_dom_classes": [],
            "_model_module": "@jupyter-widgets/controls",
            "_model_module_version": "1.5.0",
            "_model_name": "LabelModel",
            "_view_count": null,
            "_view_module": "@jupyter-widgets/controls",
            "_view_module_version": "1.5.0",
            "_view_name": "LabelView",
            "description": "",
            "description_tooltip": null,
            "layout": "IPY_MODEL_852dd2d1f3af4f7f9ea31b1795d7d8bb",
            "placeholder": "​",
            "style": "IPY_MODEL_b8ff00f16361484fbf5fde2551435335",
            "value": "Waiting for wandb.init()...\r"
          }
        },
        "32165ffed5e94fe1b4cd6d5211d641e5": {
          "model_module": "@jupyter-widgets/controls",
          "model_name": "FloatProgressModel",
          "model_module_version": "1.5.0",
          "state": {
            "_dom_classes": [],
            "_model_module": "@jupyter-widgets/controls",
            "_model_module_version": "1.5.0",
            "_model_name": "FloatProgressModel",
            "_view_count": null,
            "_view_module": "@jupyter-widgets/controls",
            "_view_module_version": "1.5.0",
            "_view_name": "ProgressView",
            "bar_style": "",
            "description": "",
            "description_tooltip": null,
            "layout": "IPY_MODEL_ed4a1b073dea47a78525c481af9a55a6",
            "max": 1,
            "min": 0,
            "orientation": "horizontal",
            "style": "IPY_MODEL_c1be49ceed1d4449a6fdbbf6dc79fa3e",
            "value": 1
          }
        },
        "8c72602d31614c1493f451971b6ff5a2": {
          "model_module": "@jupyter-widgets/base",
          "model_name": "LayoutModel",
          "model_module_version": "1.2.0",
          "state": {
            "_model_module": "@jupyter-widgets/base",
            "_model_module_version": "1.2.0",
            "_model_name": "LayoutModel",
            "_view_count": null,
            "_view_module": "@jupyter-widgets/base",
            "_view_module_version": "1.2.0",
            "_view_name": "LayoutView",
            "align_content": null,
            "align_items": null,
            "align_self": null,
            "border": null,
            "bottom": null,
            "display": null,
            "flex": null,
            "flex_flow": null,
            "grid_area": null,
            "grid_auto_columns": null,
            "grid_auto_flow": null,
            "grid_auto_rows": null,
            "grid_column": null,
            "grid_gap": null,
            "grid_row": null,
            "grid_template_areas": null,
            "grid_template_columns": null,
            "grid_template_rows": null,
            "height": null,
            "justify_content": null,
            "justify_items": null,
            "left": null,
            "margin": null,
            "max_height": null,
            "max_width": null,
            "min_height": null,
            "min_width": null,
            "object_fit": null,
            "object_position": null,
            "order": null,
            "overflow": null,
            "overflow_x": null,
            "overflow_y": null,
            "padding": null,
            "right": null,
            "top": null,
            "visibility": null,
            "width": null
          }
        },
        "852dd2d1f3af4f7f9ea31b1795d7d8bb": {
          "model_module": "@jupyter-widgets/base",
          "model_name": "LayoutModel",
          "model_module_version": "1.2.0",
          "state": {
            "_model_module": "@jupyter-widgets/base",
            "_model_module_version": "1.2.0",
            "_model_name": "LayoutModel",
            "_view_count": null,
            "_view_module": "@jupyter-widgets/base",
            "_view_module_version": "1.2.0",
            "_view_name": "LayoutView",
            "align_content": null,
            "align_items": null,
            "align_self": null,
            "border": null,
            "bottom": null,
            "display": null,
            "flex": null,
            "flex_flow": null,
            "grid_area": null,
            "grid_auto_columns": null,
            "grid_auto_flow": null,
            "grid_auto_rows": null,
            "grid_column": null,
            "grid_gap": null,
            "grid_row": null,
            "grid_template_areas": null,
            "grid_template_columns": null,
            "grid_template_rows": null,
            "height": null,
            "justify_content": null,
            "justify_items": null,
            "left": null,
            "margin": null,
            "max_height": null,
            "max_width": null,
            "min_height": null,
            "min_width": null,
            "object_fit": null,
            "object_position": null,
            "order": null,
            "overflow": null,
            "overflow_x": null,
            "overflow_y": null,
            "padding": null,
            "right": null,
            "top": null,
            "visibility": null,
            "width": null
          }
        },
        "b8ff00f16361484fbf5fde2551435335": {
          "model_module": "@jupyter-widgets/controls",
          "model_name": "DescriptionStyleModel",
          "model_module_version": "1.5.0",
          "state": {
            "_model_module": "@jupyter-widgets/controls",
            "_model_module_version": "1.5.0",
            "_model_name": "DescriptionStyleModel",
            "_view_count": null,
            "_view_module": "@jupyter-widgets/base",
            "_view_module_version": "1.2.0",
            "_view_name": "StyleView",
            "description_width": ""
          }
        },
        "ed4a1b073dea47a78525c481af9a55a6": {
          "model_module": "@jupyter-widgets/base",
          "model_name": "LayoutModel",
          "model_module_version": "1.2.0",
          "state": {
            "_model_module": "@jupyter-widgets/base",
            "_model_module_version": "1.2.0",
            "_model_name": "LayoutModel",
            "_view_count": null,
            "_view_module": "@jupyter-widgets/base",
            "_view_module_version": "1.2.0",
            "_view_name": "LayoutView",
            "align_content": null,
            "align_items": null,
            "align_self": null,
            "border": null,
            "bottom": null,
            "display": null,
            "flex": null,
            "flex_flow": null,
            "grid_area": null,
            "grid_auto_columns": null,
            "grid_auto_flow": null,
            "grid_auto_rows": null,
            "grid_column": null,
            "grid_gap": null,
            "grid_row": null,
            "grid_template_areas": null,
            "grid_template_columns": null,
            "grid_template_rows": null,
            "height": null,
            "justify_content": null,
            "justify_items": null,
            "left": null,
            "margin": null,
            "max_height": null,
            "max_width": null,
            "min_height": null,
            "min_width": null,
            "object_fit": null,
            "object_position": null,
            "order": null,
            "overflow": null,
            "overflow_x": null,
            "overflow_y": null,
            "padding": null,
            "right": null,
            "top": null,
            "visibility": null,
            "width": null
          }
        },
        "c1be49ceed1d4449a6fdbbf6dc79fa3e": {
          "model_module": "@jupyter-widgets/controls",
          "model_name": "ProgressStyleModel",
          "model_module_version": "1.5.0",
          "state": {
            "_model_module": "@jupyter-widgets/controls",
            "_model_module_version": "1.5.0",
            "_model_name": "ProgressStyleModel",
            "_view_count": null,
            "_view_module": "@jupyter-widgets/base",
            "_view_module_version": "1.2.0",
            "_view_name": "StyleView",
            "bar_color": null,
            "description_width": ""
          }
        }
      }
    }
  },
  "cells": [
    {
      "cell_type": "markdown",
      "metadata": {
        "id": "view-in-github",
        "colab_type": "text"
      },
      "source": [
        "<a href=\"https://colab.research.google.com/github/goldjunge3010/masterpraktikum/blob/main/Demo_ComparingModelsReport.ipynb\" target=\"_parent\"><img src=\"https://colab.research.google.com/assets/colab-badge.svg\" alt=\"Open In Colab\"/></a>"
      ]
    },
    {
      "cell_type": "markdown",
      "source": [
        "## Installation and imports\n",
        "\n",
        "\n"
      ],
      "metadata": {
        "id": "73msxoAkwbiY"
      }
    },
    {
      "cell_type": "code",
      "execution_count": null,
      "metadata": {
        "id": "GZxoVSldvqaQ",
        "colab": {
          "base_uri": "https://localhost:8080/"
        },
        "outputId": "b5157ed1-bdd6-4cfa-c5da-71f33804ec6c"
      },
      "outputs": [
        {
          "output_type": "stream",
          "name": "stdout",
          "text": [
            "  Preparing metadata (setup.py) ... \u001b[?25l\u001b[?25hdone\n",
            "  Building wheel for fpdf (setup.py) ... \u001b[?25l\u001b[?25hdone\n",
            "\u001b[2K     \u001b[90m━━━━━━━━━━━━━━━━━━━━━━━━━━━━━━━━━━━━━━━━\u001b[0m \u001b[32m2.1/2.1 MB\u001b[0m \u001b[31m24.5 MB/s\u001b[0m eta \u001b[36m0:00:00\u001b[0m\n",
            "\u001b[2K     \u001b[90m━━━━━━━━━━━━━━━━━━━━━━━━━━━━━━━━━━━━━━\u001b[0m \u001b[32m188.5/188.5 kB\u001b[0m \u001b[31m18.5 MB/s\u001b[0m eta \u001b[36m0:00:00\u001b[0m\n",
            "\u001b[2K     \u001b[90m━━━━━━━━━━━━━━━━━━━━━━━━━━━━━━━━━━━━━━\u001b[0m \u001b[32m215.6/215.6 kB\u001b[0m \u001b[31m19.6 MB/s\u001b[0m eta \u001b[36m0:00:00\u001b[0m\n",
            "\u001b[?25h  Preparing metadata (setup.py) ... \u001b[?25l\u001b[?25hdone\n",
            "\u001b[2K     \u001b[90m━━━━━━━━━━━━━━━━━━━━━━━━━━━━━━━━━━━━━━━━\u001b[0m \u001b[32m62.7/62.7 kB\u001b[0m \u001b[31m7.2 MB/s\u001b[0m eta \u001b[36m0:00:00\u001b[0m\n",
            "\u001b[?25h  Building wheel for pathtools (setup.py) ... \u001b[?25l\u001b[?25hdone\n"
          ]
        },
        {
          "output_type": "stream",
          "name": "stderr",
          "text": [
            "\u001b[34m\u001b[1mwandb\u001b[0m: Thanks for trying out the Report API!\n",
            "\u001b[34m\u001b[1mwandb\u001b[0m: For a tutorial, check out https://colab.research.google.com/drive/1CzyJx1nuOS4pdkXa2XPaRQyZdmFmLmXV\n",
            "\u001b[34m\u001b[1mwandb\u001b[0m: \n",
            "\u001b[34m\u001b[1mwandb\u001b[0m: Try out tab completion to see what's available.\n",
            "\u001b[34m\u001b[1mwandb\u001b[0m:   ∟ everything:    `wr.<tab>`\n",
            "\u001b[34m\u001b[1mwandb\u001b[0m:       ∟ panels:    `wr.panels.<tab>`\n",
            "\u001b[34m\u001b[1mwandb\u001b[0m:       ∟ blocks:    `wr.blocks.<tab>`\n",
            "\u001b[34m\u001b[1mwandb\u001b[0m:       ∟ helpers:   `wr.helpers.<tab>`\n",
            "\u001b[34m\u001b[1mwandb\u001b[0m:       ∟ templates: `wr.templates.<tab>`\n",
            "\u001b[34m\u001b[1mwandb\u001b[0m:       \n",
            "\u001b[34m\u001b[1mwandb\u001b[0m: For bugs/feature requests, please create an issue on github: https://github.com/wandb/wandb/issues\n"
          ]
        }
      ],
      "source": [
        "# install necessary packages\n",
        "!python -m pip install -q dlomix==0.0.4\n",
        "!python -m pip install -q wandb\n",
        "\n",
        "# import necessary packages\n",
        "import numpy as np\n",
        "import pandas as pd\n",
        "import tensorflow as tf\n",
        "import re\n",
        "\n",
        "import wandb\n",
        "from wandb.keras import WandbCallback\n",
        "from wandb.keras import WandbMetricsLogger\n",
        "import wandb.apis.reports as wr\n",
        "\n",
        "import dlomix\n",
        "from dlomix import constants, data, eval, layers, models, pipelines, reports, utils\n",
        "from dlomix.data import RetentionTimeDataset\n",
        "from dlomix.models import PrositRetentionTimePredictor\n",
        "from dlomix.models import RetentionTimePredictor\n",
        "from dlomix.eval import TimeDeltaMetric\n",
        "\n",
        "class Report():\n",
        "  def __init__(self, models:dict, project:str, title: str, description: str, test_set:dlomix.data.RetentionTimeDataset):\n",
        "    self.project = project\n",
        "    self.title = title\n",
        "    self.description = description\n",
        "    self.models = models\n",
        "    self.test_set = test_set\n",
        "    self.entity = wandb.apis.PublicApi().default_entity\n",
        "    self.api = wandb.Api()\n",
        "\n",
        "\n",
        "  def create_report(self, add_data_section = True, add_residuals_section = True, add_r2_section = True, add_density_section = True):\n",
        "    report = wr.Report(\n",
        "        project = self.project,\n",
        "        title = self.title,\n",
        "        description = self.description\n",
        "    )\n",
        "\n",
        "    report.blocks = [\n",
        "        wr.TableOfContents()\n",
        "    ]\n",
        "\n",
        "    if add_data_section:\n",
        "      report.blocks += self.data_section()\n",
        "    if add_residuals_section:\n",
        "      report.blocks += self.residuals_section()\n",
        "    if add_r2_section:\n",
        "      report.blocks += self.r2_section()\n",
        "    if add_density_section:\n",
        "      report.blocks += self.density_section()\n",
        "    report.save()\n",
        "\n",
        "  def calculate_r2(self, targets, predictions):\n",
        "    from sklearn.metrics import r2_score\n",
        "    r2 = r2_score(targets, predictions)\n",
        "    return r2\n",
        "\n",
        "  def calculate_residuals(self, targets, predictions):\n",
        "    residuals = targets - predictions\n",
        "    return residuals\n",
        "\n",
        "  def data_section(self):\n",
        "    data_block = [\n",
        "        wr.H1(text = \"Data\"),\n",
        "        wr.P(\"The following section is showing a simple explorative data analysis of the used dataset. The first histogram shows the distribution of peptide lengths in the data set, while the second histogram shows the distribution of indexed retention times.\"),\n",
        "        wr.PanelGrid(\n",
        "          runsets=[\n",
        "            wr.Runset(self.entity, self.project),\n",
        "          ],\n",
        "          panels=[\n",
        "            wr.CustomChart(\n",
        "              query = {'summaryTable': {\"tableKey\" : self.table_key_len}},\n",
        "              chart_name='master_praktikum/hist_pep_len',\n",
        "              chart_fields={'value': self.test_set.sequence_col}\n",
        "            ),\n",
        "            wr.CustomChart(\n",
        "              query = {'summaryTable': {\"tableKey\" : self.table_key_rt}},\n",
        "              chart_name='master_praktikum/hist_ret_time',\n",
        "              chart_fields={'value': self.test_set.target_col}\n",
        "            )\n",
        "          ]\n",
        "        ),\n",
        "        wr.HorizontalRule(),\n",
        "    ]\n",
        "    return data_block\n",
        "\n",
        "  def residuals_section(self):\n",
        "    panel_list_models = []\n",
        "    for model in self.models:\n",
        "      panel_list_models.append(\n",
        "        wr.CustomChart(\n",
        "          query = {'summaryTable': {\"tableKey\" : f\"results_table_{model}\"}},\n",
        "          chart_name='master_praktikum/hist_residuals',\n",
        "          chart_fields={'value': \"residuals\", \"name\": model}\n",
        "        )\n",
        "      )\n",
        "\n",
        "    residuals_block = [\n",
        "        wr.H1(text = \"Residuals\"),\n",
        "        wr.P(\"This section shows the residuals histograms. Each plot shows the residuals of each of the compared models\"),\n",
        "        wr.PanelGrid(\n",
        "          runsets=[\n",
        "            wr.Runset(self.entity, self.project),\n",
        "          ],\n",
        "          panels = panel_list_models\n",
        "        ),\n",
        "        wr.HorizontalRule(),\n",
        "    ]\n",
        "\n",
        "    return residuals_block\n",
        "\n",
        "  def r2_section(self):\n",
        "      r2_block = [\n",
        "          wr.H1(text = \"R2\"),\n",
        "          wr.P(\"The following plot displays the R2 score of all compared models.\"),\n",
        "          wr.PanelGrid(\n",
        "            runsets=[\n",
        "              wr.Runset(self.entity, self.project),\n",
        "            ],\n",
        "            panels=[\n",
        "                wr.BarPlot(\n",
        "                    title=\"R2\",\n",
        "                    metrics=[\"r2\"],\n",
        "                    orientation='h',\n",
        "                    title_x=\"R2\",\n",
        "                    max_runs_to_show=20,\n",
        "                    max_bars_to_show=20,\n",
        "                    font_size=\"auto\",\n",
        "                ),\n",
        "            ]\n",
        "          ),\n",
        "          wr.HorizontalRule(),\n",
        "      ]\n",
        "      return r2_block\n",
        "\n",
        "  def density_section(self, irt_delta95 = 5 ):\n",
        "    panel_list_models = []\n",
        "    targets = self.test_set.get_split_targets(split = self.test_set.main_split)\n",
        "    for model in self.models:\n",
        "      panel_list_models.append(\n",
        "        wr.CustomChart(\n",
        "          query = {'summaryTable': {\"tableKey\" : f\"results_table_{model}\"}},\n",
        "          chart_name='master_praktikum/density_plot',\n",
        "          chart_fields={'measured': \"irt\", \"predicted\": \"predicted_irt\", \"name\": model, \"irt_delta95\": irt_delta95}\n",
        "        )\n",
        "      )\n",
        "\n",
        "    density_block = [\n",
        "        wr.H1(text = \"Density\"),\n",
        "        wr.P(\"This section displays the density plots of all models that where compared.\"),\n",
        "        wr.PanelGrid(\n",
        "          runsets=[\n",
        "            wr.Runset(self.entity, self.project),\n",
        "          ],\n",
        "          panels = panel_list_models\n",
        "        ),\n",
        "        wr.HorizontalRule(),\n",
        "    ]\n",
        "\n",
        "    return density_block\n",
        "\n",
        "  def compare_models(self):\n",
        "    for model in self.models:\n",
        "      # initialize WANDB\n",
        "      RUN = model\n",
        "      wandb.init(project = self.project, name = RUN, config = config)\n",
        "\n",
        "      # predict on test_test\n",
        "      predictions = self.models[model].predict(self.test_set.test_data)\n",
        "      predictions = predictions.ravel()\n",
        "      targets = self.test_set.get_split_targets(split = self.test_set.main_split)\n",
        "      # create result df\n",
        "      results_df = pd.DataFrame({\"sequence\": self.test_set.sequences,\n",
        "                                  \"irt\": targets,\n",
        "                                  \"predicted_irt\": predictions,\n",
        "                                  \"residuals\": self.calculate_residuals(targets, predictions)})\n",
        "      # log df as table to wandb\n",
        "      table = wandb.Table(dataframe = results_df)\n",
        "      wandb.log({f\"results_table_{model}\": table})\n",
        "\n",
        "      # log r2 to wandb\n",
        "      r2 = self.calculate_r2(targets, predictions)\n",
        "      wandb.log({\"r2\": r2})\n",
        "\n",
        "      # finish run\n",
        "      wandb.finish()\n",
        "\n",
        "  # function to log sequence length table to wandb\n",
        "  def log_sequence_length_table(self, data: pd.DataFrame, seq_col:str = \"modified_sequence\"):\n",
        "    name_hist = \"counts_hist\"\n",
        "    counts = self.count_seq_length(data, seq_col)\n",
        "    # convert to df for easier handling\n",
        "    counts_df = counts.to_frame()\n",
        "    table = wandb.Table(dataframe = counts_df)\n",
        "    # log to wandb\n",
        "    hist = wandb.plot_table(\n",
        "      vega_spec_name=\"master_praktikum/hist_pep_len\",\n",
        "      data_table = table,\n",
        "      fields = {\"value\" : seq_col}\n",
        "    )\n",
        "    wandb.log({name_hist: hist})\n",
        "    name_hist_table = name_hist + \"_table\"\n",
        "    return name_hist_table\n",
        "\n",
        "  # function to count sequence length\n",
        "  def count_seq_length(self, data: pd.DataFrame, seq_col: str) -> pd.Series:\n",
        "      pattern = re.compile(r\"\\[UNIMOD:.*\\]\", re.IGNORECASE)\n",
        "      data[seq_col].replace(pattern, \"\", inplace= True)\n",
        "      return data[seq_col].str.len()\n",
        "\n",
        "  # function to log retention time table to wandb\n",
        "  def log_rt_table(self, data: pd.DataFrame, rt_col:str = \"indexed_retention_time\"):\n",
        "    name_hist = \"rt_hist\"\n",
        "    rt = data.loc[:,rt_col]\n",
        "    # convert to df for easier handling\n",
        "    rt_df = rt.to_frame()\n",
        "    table = wandb.Table(dataframe = rt_df)\n",
        "    # log to wandb\n",
        "    hist = wandb.plot_table(\n",
        "      vega_spec_name=\"master_praktikum/hist_ret_time\",\n",
        "      data_table = table,\n",
        "      fields = {\"value\" : rt_col}\n",
        "    )\n",
        "    wandb.log({name_hist: hist})\n",
        "    name_hist_table = name_hist + \"_table\"\n",
        "    return name_hist_table\n",
        "\n",
        "  def log_data(self):\n",
        "    wandb.init(project = self.project, name = \"data_run\")\n",
        "    # check if datasource is a string\n",
        "    if isinstance(self.test_set.data_source, str):\n",
        "      # read corresponding file\n",
        "      file_extension = self.test_set.data_source.split(\".\")[-1]\n",
        "      match file_extension:\n",
        "        case \"csv\":\n",
        "          data = pd.read_csv(self.test_set.data_source)\n",
        "        case \"json\":\n",
        "          data = pd.read_json(self.test_set.data_source)\n",
        "        case \"parquet\":\n",
        "          data = pd.read_parquet(self.test_set.data_source, engine='fastparquet')\n",
        "      self.table_key_len = self.log_sequence_length_table(data, self.test_set.sequence_col)\n",
        "      self.table_key_rt = self.log_rt_table(data, self.test_set.target_col)\n",
        "\n",
        "    # check if datasource is a tuple of two ndarrays or two lists\n",
        "    if isinstance(self.test_set.data_source, tuple) and all(isinstance(item, (np.ndarray, list)) for item in self.test_set.data_source) and len(self.test_set.data_source) == 2:\n",
        "      data = pd.DataFrame({self.test_set.sequence_col: self.test_set.data_source[0], self.test_set.target_col: self.test_set.data_source[1]})\n",
        "      self.table_key_len = self.log_sequence_length_table(data, self.test_set.sequence_col)\n",
        "      self.table_key_rt = self.log_rt_table(data, self.test_set.target_col)\n",
        "\n",
        "    # check if datasource is a single ndarray or list\n",
        "    # does not work? maybe error in RetentionTimeDataset\n",
        "    if isinstance(self.test_set.data_source, (np.ndarray, list)):\n",
        "      data = pd.DataFrame({self.test_set.sequence_col: self.test_set.data_source})\n",
        "      self.table_key_len = self.log_sequence_length_table(data, self.test_set.sequence_col)\n",
        "    wandb.finish()\n"
      ]
    },
    {
      "cell_type": "markdown",
      "source": [
        "# Initialize Weights & Biases\n"
      ],
      "metadata": {
        "id": "gia0RFRSwyiP"
      }
    },
    {
      "cell_type": "code",
      "source": [
        "# Create config\n",
        "config = {\n",
        "  \"seq_length\" : 30,\n",
        "  \"batch_size\" : 64,\n",
        "  \"val_ratio\" : 0.2,\n",
        "  \"lr\" : 0.0001,\n",
        "  \"optimizer\" : \"Adam\",\n",
        "  \"loss\" : \"mse\"\n",
        "}\n",
        "\n",
        "# Initialize WANDB\n",
        "PROJECT = 'Demo_ComparingModelsReport'\n",
        "RUN = \"run_2\"\n",
        "wandb.init(project = PROJECT, name = RUN, config = config)"
      ],
      "metadata": {
        "colab": {
          "base_uri": "https://localhost:8080/",
          "height": 125
        },
        "id": "RHJW1mfew4B2",
        "outputId": "f79990a0-27dd-4699-fc65-414dce6aad90"
      },
      "execution_count": null,
      "outputs": [
        {
          "output_type": "display_data",
          "data": {
            "text/plain": [
              "<IPython.core.display.HTML object>"
            ],
            "text/html": [
              "Tracking run with wandb version 0.15.9"
            ]
          },
          "metadata": {}
        },
        {
          "output_type": "display_data",
          "data": {
            "text/plain": [
              "<IPython.core.display.HTML object>"
            ],
            "text/html": [
              "Run data is saved locally in <code>/content/wandb/run-20230829_123145-p5x4f3h9</code>"
            ]
          },
          "metadata": {}
        },
        {
          "output_type": "display_data",
          "data": {
            "text/plain": [
              "<IPython.core.display.HTML object>"
            ],
            "text/html": [
              "Syncing run <strong><a href='https://wandb.ai/master_praktikum/Demo_ComparingModelsReport/runs/p5x4f3h9' target=\"_blank\">run_2</a></strong> to <a href='https://wandb.ai/master_praktikum/Demo_ComparingModelsReport' target=\"_blank\">Weights & Biases</a> (<a href='https://wandb.me/run' target=\"_blank\">docs</a>)<br/>"
            ]
          },
          "metadata": {}
        },
        {
          "output_type": "display_data",
          "data": {
            "text/plain": [
              "<IPython.core.display.HTML object>"
            ],
            "text/html": [
              " View project at <a href='https://wandb.ai/master_praktikum/Demo_ComparingModelsReport' target=\"_blank\">https://wandb.ai/master_praktikum/Demo_ComparingModelsReport</a>"
            ]
          },
          "metadata": {}
        },
        {
          "output_type": "display_data",
          "data": {
            "text/plain": [
              "<IPython.core.display.HTML object>"
            ],
            "text/html": [
              " View run at <a href='https://wandb.ai/master_praktikum/Demo_ComparingModelsReport/runs/p5x4f3h9' target=\"_blank\">https://wandb.ai/master_praktikum/Demo_ComparingModelsReport/runs/p5x4f3h9</a>"
            ]
          },
          "metadata": {}
        },
        {
          "output_type": "execute_result",
          "data": {
            "text/html": [
              "<button onClick=\"this.nextSibling.style.display='block';this.style.display='none';\">Display W&B run</button><iframe src='https://wandb.ai/master_praktikum/Demo_ComparingModelsReport/runs/p5x4f3h9?jupyter=true' style='border:none;width:100%;height:420px;display:none;'></iframe>"
            ],
            "text/plain": [
              "<wandb.sdk.wandb_run.Run at 0x79fa6208c160>"
            ]
          },
          "metadata": {},
          "execution_count": 20
        }
      ]
    },
    {
      "cell_type": "markdown",
      "source": [
        "# Load data"
      ],
      "metadata": {
        "id": "n4bl32mwwlHZ"
      }
    },
    {
      "cell_type": "code",
      "source": [
        "# load small train dataset\n",
        "TRAIN_DATAPATH = 'https://raw.githubusercontent.com/wilhelm-lab/dlomix-resources/main/example_datasets/RetentionTime/proteomeTools_train_val.csv'\n",
        "\n",
        "# create dataset\n",
        "rtdata = RetentionTimeDataset(data_source=TRAIN_DATAPATH,\n",
        "                              seq_length = config[\"seq_length\"],\n",
        "                              batch_size = config[\"batch_size\"],\n",
        "                              val_ratio = config[\"val_ratio\"],\n",
        "                              test = False)"
      ],
      "metadata": {
        "id": "At1-MajHwG5e"
      },
      "execution_count": null,
      "outputs": []
    },
    {
      "cell_type": "markdown",
      "source": [
        "# Train and save several models"
      ],
      "metadata": {
        "id": "-X-RIIVY3O2E"
      }
    },
    {
      "cell_type": "code",
      "source": [
        "# create retention time predictor\n",
        "model = RetentionTimePredictor(seq_length = config[\"seq_length\"])\n",
        "\n",
        "# create the optimizer object\n",
        "optimizer = tf.keras.optimizers.Adam(learning_rate = config[\"lr\"])\n",
        "\n",
        "# compile the model  with the optimizer and the metrics we want to use,\n",
        "# we can add our custom timedelta metric\n",
        "model.compile(optimizer = optimizer,\n",
        "              loss = config[\"loss\"],\n",
        "              metrics=['mean_absolute_error', TimeDeltaMetric()])\n",
        "\n",
        "# train the model\n",
        "history = model.fit(rtdata.train_data,\n",
        "                    validation_data = rtdata.val_data,\n",
        "                    epochs=15,\n",
        "                    callbacks=[WandbMetricsLogger(log_freq = \"batch\")])\n",
        "\n",
        "# finish wandb run\n",
        "wandb.finish()\n",
        "\n",
        "# save the model weights\n",
        "save_path = \"./output/rtmodel_2\"\n",
        "model.save_weights(save_path)"
      ],
      "metadata": {
        "id": "_Lv_t6Dv3Q6s",
        "colab": {
          "base_uri": "https://localhost:8080/",
          "height": 1000,
          "referenced_widgets": [
            "6d447fce7ada46b7bbe9ae5b05655948",
            "a6f7e3882db04b3ca2d0b1e927edcb90",
            "d0c1dbfcd400493f9efa72e58be83a12",
            "3d3c265acbad4253b13988e4ff24161f",
            "487e392cb4404af99afb9b397f4eb5c6",
            "c3b421e5861f43fbb91cba2fbf7e8426",
            "6eb8599460544e2890f7cde8588fe43e",
            "87d4436ebf1b4594ab2f8ec817894ad4"
          ]
        },
        "outputId": "9d141406-e70e-43c9-d7bb-ca4ee631fb93"
      },
      "execution_count": null,
      "outputs": [
        {
          "output_type": "stream",
          "name": "stdout",
          "text": [
            "Epoch 1/15\n",
            "424/424 [==============================] - 12s 20ms/step - loss: 2067.3879 - mean_absolute_error: 35.2440 - timedelta: 36.5867 - val_loss: 575.7383 - val_mean_absolute_error: 19.4638 - val_timedelta: 17.2541\n",
            "Epoch 2/15\n",
            "424/424 [==============================] - 7s 16ms/step - loss: 378.5591 - mean_absolute_error: 15.2921 - timedelta: 16.1792 - val_loss: 270.6959 - val_mean_absolute_error: 12.6228 - val_timedelta: 11.6319\n",
            "Epoch 3/15\n",
            "424/424 [==============================] - 7s 16ms/step - loss: 235.8975 - mean_absolute_error: 11.6645 - timedelta: 12.4471 - val_loss: 196.5146 - val_mean_absolute_error: 10.4659 - val_timedelta: 9.9157\n",
            "Epoch 4/15\n",
            "424/424 [==============================] - 8s 19ms/step - loss: 180.4328 - mean_absolute_error: 10.0505 - timedelta: 10.9464 - val_loss: 166.0768 - val_mean_absolute_error: 9.4970 - val_timedelta: 8.8312\n",
            "Epoch 5/15\n",
            "424/424 [==============================] - 9s 22ms/step - loss: 160.3893 - mean_absolute_error: 9.3855 - timedelta: 10.1391 - val_loss: 154.7151 - val_mean_absolute_error: 9.1079 - val_timedelta: 8.5637\n",
            "Epoch 6/15\n",
            "424/424 [==============================] - 7s 17ms/step - loss: 150.9940 - mean_absolute_error: 9.0528 - timedelta: 9.7455 - val_loss: 147.9310 - val_mean_absolute_error: 8.8617 - val_timedelta: 8.4001\n",
            "Epoch 7/15\n",
            "424/424 [==============================] - 7s 17ms/step - loss: 144.3938 - mean_absolute_error: 8.8115 - timedelta: 9.4765 - val_loss: 142.6473 - val_mean_absolute_error: 8.6600 - val_timedelta: 8.1840\n",
            "Epoch 8/15\n",
            "424/424 [==============================] - 8s 20ms/step - loss: 138.8422 - mean_absolute_error: 8.6065 - timedelta: 9.2646 - val_loss: 137.8714 - val_mean_absolute_error: 8.4768 - val_timedelta: 7.9906\n",
            "Epoch 9/15\n",
            "424/424 [==============================] - 6s 15ms/step - loss: 133.8269 - mean_absolute_error: 8.4170 - timedelta: 9.0868 - val_loss: 133.3616 - val_mean_absolute_error: 8.2960 - val_timedelta: 7.8612\n",
            "Epoch 10/15\n",
            "424/424 [==============================] - 7s 16ms/step - loss: 128.9890 - mean_absolute_error: 8.2373 - timedelta: 8.8976 - val_loss: 129.1736 - val_mean_absolute_error: 8.1307 - val_timedelta: 7.7828\n",
            "Epoch 11/15\n",
            "424/424 [==============================] - 7s 16ms/step - loss: 124.5274 - mean_absolute_error: 8.0684 - timedelta: 8.7404 - val_loss: 125.5610 - val_mean_absolute_error: 7.9785 - val_timedelta: 7.7078\n",
            "Epoch 12/15\n",
            "424/424 [==============================] - 8s 19ms/step - loss: 120.5230 - mean_absolute_error: 7.9219 - timedelta: 8.6200 - val_loss: 122.9455 - val_mean_absolute_error: 7.8576 - val_timedelta: 7.6395\n",
            "Epoch 13/15\n",
            "424/424 [==============================] - 6s 15ms/step - loss: 117.0018 - mean_absolute_error: 7.7936 - timedelta: 8.4969 - val_loss: 120.4902 - val_mean_absolute_error: 7.7618 - val_timedelta: 7.5810\n",
            "Epoch 14/15\n",
            "424/424 [==============================] - 7s 15ms/step - loss: 113.9288 - mean_absolute_error: 7.6790 - timedelta: 8.3950 - val_loss: 118.3306 - val_mean_absolute_error: 7.6755 - val_timedelta: 7.5033\n",
            "Epoch 15/15\n",
            "424/424 [==============================] - 8s 18ms/step - loss: 111.1702 - mean_absolute_error: 7.5747 - timedelta: 8.2902 - val_loss: 116.4119 - val_mean_absolute_error: 7.5967 - val_timedelta: 7.4870\n"
          ]
        },
        {
          "output_type": "display_data",
          "data": {
            "text/plain": [
              "<IPython.core.display.HTML object>"
            ],
            "text/html": [
              "Waiting for W&B process to finish... <strong style=\"color:green\">(success).</strong>"
            ]
          },
          "metadata": {}
        },
        {
          "output_type": "display_data",
          "data": {
            "text/plain": [
              "VBox(children=(Label(value='0.001 MB of 0.001 MB uploaded (0.000 MB deduped)\\r'), FloatProgress(value=1.0, max…"
            ],
            "application/vnd.jupyter.widget-view+json": {
              "version_major": 2,
              "version_minor": 0,
              "model_id": "6d447fce7ada46b7bbe9ae5b05655948"
            }
          },
          "metadata": {}
        },
        {
          "output_type": "display_data",
          "data": {
            "text/plain": [
              "<IPython.core.display.HTML object>"
            ],
            "text/html": [
              "<style>\n",
              "    table.wandb td:nth-child(1) { padding: 0 10px; text-align: left ; width: auto;} td:nth-child(2) {text-align: left ; width: 100%}\n",
              "    .wandb-row { display: flex; flex-direction: row; flex-wrap: wrap; justify-content: flex-start; width: 100% }\n",
              "    .wandb-col { display: flex; flex-direction: column; flex-basis: 100%; flex: 1; padding: 10px; }\n",
              "    </style>\n",
              "<div class=\"wandb-row\"><div class=\"wandb-col\"><h3>Run history:</h3><br/><table class=\"wandb\"><tr><td>batch/batch_step</td><td>▁▁▁▁▂▂▂▂▂▃▃▃▃▃▃▄▄▄▄▄▅▅▅▅▅▅▆▆▆▆▆▇▇▇▇▇▇███</td></tr><tr><td>batch/learning_rate</td><td>▁▁▁▁▁▁▁▁▁▁▁▁▁▁▁▁▁▁▁▁▁▁▁▁▁▁▁▁▁▁▁▁▁▁▁▁▁▁▁▁</td></tr><tr><td>batch/loss</td><td>█▅▄▂▁▁▁▁▁▁▁▁▁▁▁▁▁▁▁▁▁▁▁▁▁▁▁▁▁▁▁▁▁▁▁▁▁▁▁▁</td></tr><tr><td>batch/mean_absolute_error</td><td>█▆▅▂▂▂▂▂▁▁▁▁▁▁▁▁▁▁▁▁▁▁▁▁▁▁▁▁▁▁▁▁▁▁▁▁▁▁▁▁</td></tr><tr><td>batch/timedelta</td><td>█▆▅▂▂▂▂▂▁▁▁▁▁▁▁▁▁▁▁▁▁▁▁▁▁▁▁▁▁▁▁▁▁▁▁▁▁▁▁▁</td></tr><tr><td>epoch/epoch</td><td>▁▁▂▃▃▃▄▅▅▅▆▇▇▇█</td></tr><tr><td>epoch/learning_rate</td><td>▁▁▁▁▁▁▁▁▁▁▁▁▁▁▁</td></tr><tr><td>epoch/loss</td><td>█▂▁▁▁▁▁▁▁▁▁▁▁▁▁</td></tr><tr><td>epoch/mean_absolute_error</td><td>█▃▂▂▁▁▁▁▁▁▁▁▁▁▁</td></tr><tr><td>epoch/timedelta</td><td>█▃▂▂▁▁▁▁▁▁▁▁▁▁▁</td></tr><tr><td>epoch/val_loss</td><td>█▃▂▂▂▁▁▁▁▁▁▁▁▁▁</td></tr><tr><td>epoch/val_mean_absolute_error</td><td>█▄▃▂▂▂▂▂▁▁▁▁▁▁▁</td></tr><tr><td>epoch/val_timedelta</td><td>█▄▃▂▂▂▁▁▁▁▁▁▁▁▁</td></tr></table><br/></div><div class=\"wandb-col\"><h3>Run summary:</h3><br/><table class=\"wandb\"><tr><td>batch/batch_step</td><td>6359</td></tr><tr><td>batch/learning_rate</td><td>0.0001</td></tr><tr><td>batch/loss</td><td>111.17015</td></tr><tr><td>batch/mean_absolute_error</td><td>7.57466</td></tr><tr><td>batch/timedelta</td><td>8.29015</td></tr><tr><td>epoch/epoch</td><td>14</td></tr><tr><td>epoch/learning_rate</td><td>0.0001</td></tr><tr><td>epoch/loss</td><td>111.17015</td></tr><tr><td>epoch/mean_absolute_error</td><td>7.57466</td></tr><tr><td>epoch/timedelta</td><td>8.29015</td></tr><tr><td>epoch/val_loss</td><td>116.41193</td></tr><tr><td>epoch/val_mean_absolute_error</td><td>7.59674</td></tr><tr><td>epoch/val_timedelta</td><td>7.48702</td></tr></table><br/></div></div>"
            ]
          },
          "metadata": {}
        },
        {
          "output_type": "display_data",
          "data": {
            "text/plain": [
              "<IPython.core.display.HTML object>"
            ],
            "text/html": [
              " View run <strong style=\"color:#cdcd00\">run_2</strong> at: <a href='https://wandb.ai/master_praktikum/Demo_ComparingModelsReport/runs/p5x4f3h9' target=\"_blank\">https://wandb.ai/master_praktikum/Demo_ComparingModelsReport/runs/p5x4f3h9</a><br/>Synced 5 W&B file(s), 0 media file(s), 0 artifact file(s) and 0 other file(s)"
            ]
          },
          "metadata": {}
        },
        {
          "output_type": "display_data",
          "data": {
            "text/plain": [
              "<IPython.core.display.HTML object>"
            ],
            "text/html": [
              "Find logs at: <code>./wandb/run-20230829_123145-p5x4f3h9/logs</code>"
            ]
          },
          "metadata": {}
        }
      ]
    },
    {
      "cell_type": "markdown",
      "source": [
        "# Load models and create testset"
      ],
      "metadata": {
        "id": "o33NlIw3xJs4"
      }
    },
    {
      "cell_type": "code",
      "source": [
        "# create predictors from saved weights\n",
        "load_path = \"./output/rtmodel_1\"\n",
        "pre_trained_model_1 = RetentionTimePredictor(seq_length=30)\n",
        "pre_trained_model_1.load_weights(load_path)\n",
        "\n",
        "load_path = \"./output/rtmodel_2\"\n",
        "pre_trained_model_2 = RetentionTimePredictor(seq_length=30)\n",
        "pre_trained_model_2.load_weights(load_path)\n",
        "\n",
        "models = {\"model_1\":pre_trained_model_1, \"model_2\":pre_trained_model_2}\n",
        "\n",
        "# create testset\n",
        "TEST_DATAPATH = 'https://raw.githubusercontent.com/wilhelm-lab/dlomix/main/example_dataset/proteomTools_test.csv'\n",
        "test_set = RetentionTimeDataset(data_source = TEST_DATAPATH,\n",
        "                                seq_length = config[\"seq_length\"],\n",
        "                                batch_size = 32,\n",
        "                                test = True,\n",
        "                                sequence_col = \"sequence\",\n",
        "                                target_col = \"irt\")"
      ],
      "metadata": {
        "id": "FE8OvEml3CBU"
      },
      "execution_count": null,
      "outputs": []
    },
    {
      "cell_type": "markdown",
      "source": [
        "# Initialize report"
      ],
      "metadata": {
        "id": "5h6Kub5dWTUn"
      }
    },
    {
      "cell_type": "code",
      "source": [
        "# Create a report\n",
        "report = Report(models = models,\n",
        "                test_set = test_set,\n",
        "                project = PROJECT,\n",
        "                title = \"Comparison of models\",\n",
        "                description = \"A quick comparison of some models\")"
      ],
      "metadata": {
        "id": "bwf86DCvWs7X"
      },
      "execution_count": null,
      "outputs": []
    },
    {
      "cell_type": "markdown",
      "source": [
        "# Log data to Weights & Biases"
      ],
      "metadata": {
        "id": "mWtcGoJ8W11G"
      }
    },
    {
      "cell_type": "code",
      "source": [
        "report.log_data()"
      ],
      "metadata": {
        "id": "9qs0qVwMW6_f",
        "colab": {
          "base_uri": "https://localhost:8080/",
          "height": 237,
          "referenced_widgets": [
            "43703134969d484fa4ba4cc0b049de7c",
            "ac0d762adefe44b688e722e65a330474",
            "00a6da679da849e28dfbd6aafe5578cf",
            "a28e46d740dd41b981c7be574792901a",
            "945208fce03244bca312be327ed5eea9",
            "e1616c298dc641cabe9d17ad2143128b",
            "6a3b25612b234b15b673eda4d59f66d5",
            "9a4ed274313b45cfb459cbad15315c6f"
          ]
        },
        "outputId": "3c4bf215-0e78-4f62-a85b-75278f85dc68"
      },
      "execution_count": null,
      "outputs": [
        {
          "output_type": "display_data",
          "data": {
            "text/plain": [
              "VBox(children=(Label(value='Waiting for wandb.init()...\\r'), FloatProgress(value=0.01666983683333759, max=1.0)…"
            ],
            "application/vnd.jupyter.widget-view+json": {
              "version_major": 2,
              "version_minor": 0,
              "model_id": "43703134969d484fa4ba4cc0b049de7c"
            }
          },
          "metadata": {}
        },
        {
          "output_type": "display_data",
          "data": {
            "text/plain": [
              "<IPython.core.display.HTML object>"
            ],
            "text/html": [
              "Tracking run with wandb version 0.15.9"
            ]
          },
          "metadata": {}
        },
        {
          "output_type": "display_data",
          "data": {
            "text/plain": [
              "<IPython.core.display.HTML object>"
            ],
            "text/html": [
              "Run data is saved locally in <code>/content/wandb/run-20230829_123454-tl07p8hr</code>"
            ]
          },
          "metadata": {}
        },
        {
          "output_type": "display_data",
          "data": {
            "text/plain": [
              "<IPython.core.display.HTML object>"
            ],
            "text/html": [
              "Syncing run <strong><a href='https://wandb.ai/master_praktikum/Demo_ComparingModelsReport/runs/tl07p8hr' target=\"_blank\">data_run</a></strong> to <a href='https://wandb.ai/master_praktikum/Demo_ComparingModelsReport' target=\"_blank\">Weights & Biases</a> (<a href='https://wandb.me/run' target=\"_blank\">docs</a>)<br/>"
            ]
          },
          "metadata": {}
        },
        {
          "output_type": "display_data",
          "data": {
            "text/plain": [
              "<IPython.core.display.HTML object>"
            ],
            "text/html": [
              " View project at <a href='https://wandb.ai/master_praktikum/Demo_ComparingModelsReport' target=\"_blank\">https://wandb.ai/master_praktikum/Demo_ComparingModelsReport</a>"
            ]
          },
          "metadata": {}
        },
        {
          "output_type": "display_data",
          "data": {
            "text/plain": [
              "<IPython.core.display.HTML object>"
            ],
            "text/html": [
              " View run at <a href='https://wandb.ai/master_praktikum/Demo_ComparingModelsReport/runs/tl07p8hr' target=\"_blank\">https://wandb.ai/master_praktikum/Demo_ComparingModelsReport/runs/tl07p8hr</a>"
            ]
          },
          "metadata": {}
        },
        {
          "output_type": "display_data",
          "data": {
            "text/plain": [
              "<IPython.core.display.HTML object>"
            ],
            "text/html": [
              "Waiting for W&B process to finish... <strong style=\"color:green\">(success).</strong>"
            ]
          },
          "metadata": {}
        },
        {
          "output_type": "display_data",
          "data": {
            "text/plain": [
              "<IPython.core.display.HTML object>"
            ],
            "text/html": [
              " View run <strong style=\"color:#cdcd00\">data_run</strong> at: <a href='https://wandb.ai/master_praktikum/Demo_ComparingModelsReport/runs/tl07p8hr' target=\"_blank\">https://wandb.ai/master_praktikum/Demo_ComparingModelsReport/runs/tl07p8hr</a><br/>Synced 4 W&B file(s), 2 media file(s), 2 artifact file(s) and 0 other file(s)"
            ]
          },
          "metadata": {}
        },
        {
          "output_type": "display_data",
          "data": {
            "text/plain": [
              "<IPython.core.display.HTML object>"
            ],
            "text/html": [
              "Find logs at: <code>./wandb/run-20230829_123454-tl07p8hr/logs</code>"
            ]
          },
          "metadata": {}
        }
      ]
    },
    {
      "cell_type": "markdown",
      "source": [
        "# Compare models and create report"
      ],
      "metadata": {
        "id": "dFDNpH5S4HG7"
      }
    },
    {
      "cell_type": "code",
      "source": [
        "report.compare_models()\n",
        "report.create_report(add_residuals_section = True,\n",
        "                     add_r2_section = True,\n",
        "                     add_density_section= True)"
      ],
      "metadata": {
        "id": "UITv7MsK4I9j",
        "colab": {
          "base_uri": "https://localhost:8080/",
          "height": 1000,
          "referenced_widgets": [
            "9160cd66209f4fd58dead2cec5cddc24",
            "aab965249f9c44c29ccd2debb97f019b",
            "32165ffed5e94fe1b4cd6d5211d641e5",
            "8c72602d31614c1493f451971b6ff5a2",
            "852dd2d1f3af4f7f9ea31b1795d7d8bb",
            "b8ff00f16361484fbf5fde2551435335",
            "ed4a1b073dea47a78525c481af9a55a6",
            "c1be49ceed1d4449a6fdbbf6dc79fa3e"
          ]
        },
        "outputId": "247a1de8-9fde-45bb-8ee1-0bfa21f74791"
      },
      "execution_count": null,
      "outputs": [
        {
          "output_type": "display_data",
          "data": {
            "text/plain": [
              "VBox(children=(Label(value='Waiting for wandb.init()...\\r'), FloatProgress(value=0.0166698001166651, max=1.0))…"
            ],
            "application/vnd.jupyter.widget-view+json": {
              "version_major": 2,
              "version_minor": 0,
              "model_id": "9160cd66209f4fd58dead2cec5cddc24"
            }
          },
          "metadata": {}
        },
        {
          "output_type": "display_data",
          "data": {
            "text/plain": [
              "<IPython.core.display.HTML object>"
            ],
            "text/html": [
              "Tracking run with wandb version 0.15.9"
            ]
          },
          "metadata": {}
        },
        {
          "output_type": "display_data",
          "data": {
            "text/plain": [
              "<IPython.core.display.HTML object>"
            ],
            "text/html": [
              "Run data is saved locally in <code>/content/wandb/run-20230829_123507-bijkic85</code>"
            ]
          },
          "metadata": {}
        },
        {
          "output_type": "display_data",
          "data": {
            "text/plain": [
              "<IPython.core.display.HTML object>"
            ],
            "text/html": [
              "Syncing run <strong><a href='https://wandb.ai/master_praktikum/Demo_ComparingModelsReport/runs/bijkic85' target=\"_blank\">model_1</a></strong> to <a href='https://wandb.ai/master_praktikum/Demo_ComparingModelsReport' target=\"_blank\">Weights & Biases</a> (<a href='https://wandb.me/run' target=\"_blank\">docs</a>)<br/>"
            ]
          },
          "metadata": {}
        },
        {
          "output_type": "display_data",
          "data": {
            "text/plain": [
              "<IPython.core.display.HTML object>"
            ],
            "text/html": [
              " View project at <a href='https://wandb.ai/master_praktikum/Demo_ComparingModelsReport' target=\"_blank\">https://wandb.ai/master_praktikum/Demo_ComparingModelsReport</a>"
            ]
          },
          "metadata": {}
        },
        {
          "output_type": "display_data",
          "data": {
            "text/plain": [
              "<IPython.core.display.HTML object>"
            ],
            "text/html": [
              " View run at <a href='https://wandb.ai/master_praktikum/Demo_ComparingModelsReport/runs/bijkic85' target=\"_blank\">https://wandb.ai/master_praktikum/Demo_ComparingModelsReport/runs/bijkic85</a>"
            ]
          },
          "metadata": {}
        },
        {
          "output_type": "stream",
          "name": "stdout",
          "text": [
            "187/187 [==============================] - 2s 8ms/step\n"
          ]
        },
        {
          "output_type": "stream",
          "name": "stderr",
          "text": [
            "WARNING:tensorflow:Detecting that an object or model or tf.train.Checkpoint is being deleted with unrestored values. See the following logs for the specific values in question. To silence these warnings, use `status.expect_partial()`. See https://www.tensorflow.org/api_docs/python/tf/train/Checkpoint#restorefor details about the status object returned by the restore function.\n",
            "WARNING:tensorflow:Value in checkpoint could not be found in the restored object: (root).optimizer._iterations\n",
            "WARNING:tensorflow:Value in checkpoint could not be found in the restored object: (root).optimizer._learning_rate\n",
            "WARNING:tensorflow:Value in checkpoint could not be found in the restored object: (root).optimizer._variables.1\n",
            "WARNING:tensorflow:Value in checkpoint could not be found in the restored object: (root).optimizer._variables.2\n",
            "WARNING:tensorflow:Value in checkpoint could not be found in the restored object: (root).optimizer._variables.3\n",
            "WARNING:tensorflow:Value in checkpoint could not be found in the restored object: (root).optimizer._variables.4\n",
            "WARNING:tensorflow:Value in checkpoint could not be found in the restored object: (root).optimizer._variables.5\n",
            "WARNING:tensorflow:Value in checkpoint could not be found in the restored object: (root).optimizer._variables.6\n",
            "WARNING:tensorflow:Value in checkpoint could not be found in the restored object: (root).optimizer._variables.7\n",
            "WARNING:tensorflow:Value in checkpoint could not be found in the restored object: (root).optimizer._variables.8\n",
            "WARNING:tensorflow:Value in checkpoint could not be found in the restored object: (root).optimizer._variables.9\n",
            "WARNING:tensorflow:Value in checkpoint could not be found in the restored object: (root).optimizer._variables.10\n",
            "WARNING:tensorflow:Value in checkpoint could not be found in the restored object: (root).optimizer._variables.11\n",
            "WARNING:tensorflow:Value in checkpoint could not be found in the restored object: (root).optimizer._variables.12\n",
            "WARNING:tensorflow:Value in checkpoint could not be found in the restored object: (root).optimizer._variables.13\n",
            "WARNING:tensorflow:Value in checkpoint could not be found in the restored object: (root).optimizer._variables.14\n",
            "WARNING:tensorflow:Value in checkpoint could not be found in the restored object: (root).optimizer._variables.15\n",
            "WARNING:tensorflow:Value in checkpoint could not be found in the restored object: (root).optimizer._variables.16\n",
            "WARNING:tensorflow:Value in checkpoint could not be found in the restored object: (root).optimizer._variables.17\n",
            "WARNING:tensorflow:Value in checkpoint could not be found in the restored object: (root).optimizer._variables.18\n",
            "WARNING:tensorflow:Value in checkpoint could not be found in the restored object: (root).optimizer._variables.19\n",
            "WARNING:tensorflow:Value in checkpoint could not be found in the restored object: (root).optimizer._variables.20\n",
            "WARNING:tensorflow:Value in checkpoint could not be found in the restored object: (root).optimizer._variables.21\n",
            "WARNING:tensorflow:Value in checkpoint could not be found in the restored object: (root).optimizer._variables.22\n",
            "WARNING:tensorflow:Detecting that an object or model or tf.train.Checkpoint is being deleted with unrestored values. See the following logs for the specific values in question. To silence these warnings, use `status.expect_partial()`. See https://www.tensorflow.org/api_docs/python/tf/train/Checkpoint#restorefor details about the status object returned by the restore function.\n",
            "WARNING:tensorflow:Value in checkpoint could not be found in the restored object: (root).optimizer._iterations\n",
            "WARNING:tensorflow:Value in checkpoint could not be found in the restored object: (root).optimizer._learning_rate\n",
            "WARNING:tensorflow:Value in checkpoint could not be found in the restored object: (root).optimizer._variables.1\n",
            "WARNING:tensorflow:Value in checkpoint could not be found in the restored object: (root).optimizer._variables.2\n",
            "WARNING:tensorflow:Value in checkpoint could not be found in the restored object: (root).optimizer._variables.3\n",
            "WARNING:tensorflow:Value in checkpoint could not be found in the restored object: (root).optimizer._variables.4\n",
            "WARNING:tensorflow:Value in checkpoint could not be found in the restored object: (root).optimizer._variables.5\n",
            "WARNING:tensorflow:Value in checkpoint could not be found in the restored object: (root).optimizer._variables.6\n",
            "WARNING:tensorflow:Value in checkpoint could not be found in the restored object: (root).optimizer._variables.7\n",
            "WARNING:tensorflow:Value in checkpoint could not be found in the restored object: (root).optimizer._variables.8\n",
            "WARNING:tensorflow:Value in checkpoint could not be found in the restored object: (root).optimizer._variables.9\n",
            "WARNING:tensorflow:Value in checkpoint could not be found in the restored object: (root).optimizer._variables.10\n",
            "WARNING:tensorflow:Value in checkpoint could not be found in the restored object: (root).optimizer._variables.11\n",
            "WARNING:tensorflow:Value in checkpoint could not be found in the restored object: (root).optimizer._variables.12\n",
            "WARNING:tensorflow:Value in checkpoint could not be found in the restored object: (root).optimizer._variables.13\n",
            "WARNING:tensorflow:Value in checkpoint could not be found in the restored object: (root).optimizer._variables.14\n",
            "WARNING:tensorflow:Value in checkpoint could not be found in the restored object: (root).optimizer._variables.15\n",
            "WARNING:tensorflow:Value in checkpoint could not be found in the restored object: (root).optimizer._variables.16\n",
            "WARNING:tensorflow:Value in checkpoint could not be found in the restored object: (root).optimizer._variables.17\n",
            "WARNING:tensorflow:Value in checkpoint could not be found in the restored object: (root).optimizer._variables.18\n",
            "WARNING:tensorflow:Value in checkpoint could not be found in the restored object: (root).optimizer._variables.19\n",
            "WARNING:tensorflow:Value in checkpoint could not be found in the restored object: (root).optimizer._variables.20\n",
            "WARNING:tensorflow:Value in checkpoint could not be found in the restored object: (root).optimizer._variables.21\n",
            "WARNING:tensorflow:Value in checkpoint could not be found in the restored object: (root).optimizer._variables.22\n"
          ]
        },
        {
          "output_type": "display_data",
          "data": {
            "text/plain": [
              "<IPython.core.display.HTML object>"
            ],
            "text/html": [
              "Waiting for W&B process to finish... <strong style=\"color:green\">(success).</strong>"
            ]
          },
          "metadata": {}
        },
        {
          "output_type": "display_data",
          "data": {
            "text/plain": [
              "<IPython.core.display.HTML object>"
            ],
            "text/html": [
              "<style>\n",
              "    table.wandb td:nth-child(1) { padding: 0 10px; text-align: left ; width: auto;} td:nth-child(2) {text-align: left ; width: 100%}\n",
              "    .wandb-row { display: flex; flex-direction: row; flex-wrap: wrap; justify-content: flex-start; width: 100% }\n",
              "    .wandb-col { display: flex; flex-direction: column; flex-basis: 100%; flex: 1; padding: 10px; }\n",
              "    </style>\n",
              "<div class=\"wandb-row\"><div class=\"wandb-col\"><h3>Run history:</h3><br/><table class=\"wandb\"><tr><td>r2</td><td>▁</td></tr></table><br/></div><div class=\"wandb-col\"><h3>Run summary:</h3><br/><table class=\"wandb\"><tr><td>r2</td><td>0.95127</td></tr></table><br/></div></div>"
            ]
          },
          "metadata": {}
        },
        {
          "output_type": "display_data",
          "data": {
            "text/plain": [
              "<IPython.core.display.HTML object>"
            ],
            "text/html": [
              " View run <strong style=\"color:#cdcd00\">model_1</strong> at: <a href='https://wandb.ai/master_praktikum/Demo_ComparingModelsReport/runs/bijkic85' target=\"_blank\">https://wandb.ai/master_praktikum/Demo_ComparingModelsReport/runs/bijkic85</a><br/>Synced 5 W&B file(s), 1 media file(s), 1 artifact file(s) and 0 other file(s)"
            ]
          },
          "metadata": {}
        },
        {
          "output_type": "display_data",
          "data": {
            "text/plain": [
              "<IPython.core.display.HTML object>"
            ],
            "text/html": [
              "Find logs at: <code>./wandb/run-20230829_123507-bijkic85/logs</code>"
            ]
          },
          "metadata": {}
        },
        {
          "output_type": "display_data",
          "data": {
            "text/plain": [
              "<IPython.core.display.HTML object>"
            ],
            "text/html": [
              "Tracking run with wandb version 0.15.9"
            ]
          },
          "metadata": {}
        },
        {
          "output_type": "display_data",
          "data": {
            "text/plain": [
              "<IPython.core.display.HTML object>"
            ],
            "text/html": [
              "Run data is saved locally in <code>/content/wandb/run-20230829_123528-y2pm0427</code>"
            ]
          },
          "metadata": {}
        },
        {
          "output_type": "display_data",
          "data": {
            "text/plain": [
              "<IPython.core.display.HTML object>"
            ],
            "text/html": [
              "Syncing run <strong><a href='https://wandb.ai/master_praktikum/Demo_ComparingModelsReport/runs/y2pm0427' target=\"_blank\">model_2</a></strong> to <a href='https://wandb.ai/master_praktikum/Demo_ComparingModelsReport' target=\"_blank\">Weights & Biases</a> (<a href='https://wandb.me/run' target=\"_blank\">docs</a>)<br/>"
            ]
          },
          "metadata": {}
        },
        {
          "output_type": "display_data",
          "data": {
            "text/plain": [
              "<IPython.core.display.HTML object>"
            ],
            "text/html": [
              " View project at <a href='https://wandb.ai/master_praktikum/Demo_ComparingModelsReport' target=\"_blank\">https://wandb.ai/master_praktikum/Demo_ComparingModelsReport</a>"
            ]
          },
          "metadata": {}
        },
        {
          "output_type": "display_data",
          "data": {
            "text/plain": [
              "<IPython.core.display.HTML object>"
            ],
            "text/html": [
              " View run at <a href='https://wandb.ai/master_praktikum/Demo_ComparingModelsReport/runs/y2pm0427' target=\"_blank\">https://wandb.ai/master_praktikum/Demo_ComparingModelsReport/runs/y2pm0427</a>"
            ]
          },
          "metadata": {}
        },
        {
          "output_type": "stream",
          "name": "stdout",
          "text": [
            "187/187 [==============================] - 1s 5ms/step\n"
          ]
        },
        {
          "output_type": "display_data",
          "data": {
            "text/plain": [
              "<IPython.core.display.HTML object>"
            ],
            "text/html": [
              "Waiting for W&B process to finish... <strong style=\"color:green\">(success).</strong>"
            ]
          },
          "metadata": {}
        },
        {
          "output_type": "display_data",
          "data": {
            "text/plain": [
              "<IPython.core.display.HTML object>"
            ],
            "text/html": [
              "<style>\n",
              "    table.wandb td:nth-child(1) { padding: 0 10px; text-align: left ; width: auto;} td:nth-child(2) {text-align: left ; width: 100%}\n",
              "    .wandb-row { display: flex; flex-direction: row; flex-wrap: wrap; justify-content: flex-start; width: 100% }\n",
              "    .wandb-col { display: flex; flex-direction: column; flex-basis: 100%; flex: 1; padding: 10px; }\n",
              "    </style>\n",
              "<div class=\"wandb-row\"><div class=\"wandb-col\"><h3>Run history:</h3><br/><table class=\"wandb\"><tr><td>r2</td><td>▁</td></tr></table><br/></div><div class=\"wandb-col\"><h3>Run summary:</h3><br/><table class=\"wandb\"><tr><td>r2</td><td>0.94673</td></tr></table><br/></div></div>"
            ]
          },
          "metadata": {}
        },
        {
          "output_type": "display_data",
          "data": {
            "text/plain": [
              "<IPython.core.display.HTML object>"
            ],
            "text/html": [
              " View run <strong style=\"color:#cdcd00\">model_2</strong> at: <a href='https://wandb.ai/master_praktikum/Demo_ComparingModelsReport/runs/y2pm0427' target=\"_blank\">https://wandb.ai/master_praktikum/Demo_ComparingModelsReport/runs/y2pm0427</a><br/>Synced 5 W&B file(s), 1 media file(s), 1 artifact file(s) and 0 other file(s)"
            ]
          },
          "metadata": {}
        },
        {
          "output_type": "display_data",
          "data": {
            "text/plain": [
              "<IPython.core.display.HTML object>"
            ],
            "text/html": [
              "Find logs at: <code>./wandb/run-20230829_123528-y2pm0427/logs</code>"
            ]
          },
          "metadata": {}
        }
      ]
    },
    {
      "cell_type": "code",
      "source": [],
      "metadata": {
        "id": "jeso43B-bjDC"
      },
      "execution_count": null,
      "outputs": []
    }
  ]
}