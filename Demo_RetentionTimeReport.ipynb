{
  "nbformat": 4,
  "nbformat_minor": 0,
  "metadata": {
    "colab": {
      "provenance": [],
      "gpuType": "T4",
      "authorship_tag": "ABX9TyMqfsYH6rLbC5KH6h2e3XQ/",
      "include_colab_link": true
    },
    "kernelspec": {
      "name": "python3",
      "display_name": "Python 3"
    },
    "language_info": {
      "name": "python"
    },
    "accelerator": "GPU",
    "widgets": {
      "application/vnd.jupyter.widget-state+json": {
        "8fd45d70422f45dc91735817d9e613b8": {
          "model_module": "@jupyter-widgets/controls",
          "model_name": "VBoxModel",
          "model_module_version": "1.5.0",
          "state": {
            "_dom_classes": [],
            "_model_module": "@jupyter-widgets/controls",
            "_model_module_version": "1.5.0",
            "_model_name": "VBoxModel",
            "_view_count": null,
            "_view_module": "@jupyter-widgets/controls",
            "_view_module_version": "1.5.0",
            "_view_name": "VBoxView",
            "box_style": "",
            "children": [
              "IPY_MODEL_661469f25874481e8285b8ff3dcb6cbd",
              "IPY_MODEL_8c69b8c349a64a728fdbcbe8917765cc"
            ],
            "layout": "IPY_MODEL_b48d2219e930426295351de437f1d60d"
          }
        },
        "661469f25874481e8285b8ff3dcb6cbd": {
          "model_module": "@jupyter-widgets/controls",
          "model_name": "LabelModel",
          "model_module_version": "1.5.0",
          "state": {
            "_dom_classes": [],
            "_model_module": "@jupyter-widgets/controls",
            "_model_module_version": "1.5.0",
            "_model_name": "LabelModel",
            "_view_count": null,
            "_view_module": "@jupyter-widgets/controls",
            "_view_module_version": "1.5.0",
            "_view_name": "LabelView",
            "description": "",
            "description_tooltip": null,
            "layout": "IPY_MODEL_54bf9cf40dd9428ea952a321c8a87846",
            "placeholder": "​",
            "style": "IPY_MODEL_408d86df933b41fd8345698a577f79bf",
            "value": "0.001 MB of 0.001 MB uploaded (0.000 MB deduped)\r"
          }
        },
        "8c69b8c349a64a728fdbcbe8917765cc": {
          "model_module": "@jupyter-widgets/controls",
          "model_name": "FloatProgressModel",
          "model_module_version": "1.5.0",
          "state": {
            "_dom_classes": [],
            "_model_module": "@jupyter-widgets/controls",
            "_model_module_version": "1.5.0",
            "_model_name": "FloatProgressModel",
            "_view_count": null,
            "_view_module": "@jupyter-widgets/controls",
            "_view_module_version": "1.5.0",
            "_view_name": "ProgressView",
            "bar_style": "",
            "description": "",
            "description_tooltip": null,
            "layout": "IPY_MODEL_0df4c99ccdca411990ec6daf9a94d57c",
            "max": 1,
            "min": 0,
            "orientation": "horizontal",
            "style": "IPY_MODEL_055fcba6fe81481bab58403c6d0af63c",
            "value": 1
          }
        },
        "b48d2219e930426295351de437f1d60d": {
          "model_module": "@jupyter-widgets/base",
          "model_name": "LayoutModel",
          "model_module_version": "1.2.0",
          "state": {
            "_model_module": "@jupyter-widgets/base",
            "_model_module_version": "1.2.0",
            "_model_name": "LayoutModel",
            "_view_count": null,
            "_view_module": "@jupyter-widgets/base",
            "_view_module_version": "1.2.0",
            "_view_name": "LayoutView",
            "align_content": null,
            "align_items": null,
            "align_self": null,
            "border": null,
            "bottom": null,
            "display": null,
            "flex": null,
            "flex_flow": null,
            "grid_area": null,
            "grid_auto_columns": null,
            "grid_auto_flow": null,
            "grid_auto_rows": null,
            "grid_column": null,
            "grid_gap": null,
            "grid_row": null,
            "grid_template_areas": null,
            "grid_template_columns": null,
            "grid_template_rows": null,
            "height": null,
            "justify_content": null,
            "justify_items": null,
            "left": null,
            "margin": null,
            "max_height": null,
            "max_width": null,
            "min_height": null,
            "min_width": null,
            "object_fit": null,
            "object_position": null,
            "order": null,
            "overflow": null,
            "overflow_x": null,
            "overflow_y": null,
            "padding": null,
            "right": null,
            "top": null,
            "visibility": null,
            "width": null
          }
        },
        "54bf9cf40dd9428ea952a321c8a87846": {
          "model_module": "@jupyter-widgets/base",
          "model_name": "LayoutModel",
          "model_module_version": "1.2.0",
          "state": {
            "_model_module": "@jupyter-widgets/base",
            "_model_module_version": "1.2.0",
            "_model_name": "LayoutModel",
            "_view_count": null,
            "_view_module": "@jupyter-widgets/base",
            "_view_module_version": "1.2.0",
            "_view_name": "LayoutView",
            "align_content": null,
            "align_items": null,
            "align_self": null,
            "border": null,
            "bottom": null,
            "display": null,
            "flex": null,
            "flex_flow": null,
            "grid_area": null,
            "grid_auto_columns": null,
            "grid_auto_flow": null,
            "grid_auto_rows": null,
            "grid_column": null,
            "grid_gap": null,
            "grid_row": null,
            "grid_template_areas": null,
            "grid_template_columns": null,
            "grid_template_rows": null,
            "height": null,
            "justify_content": null,
            "justify_items": null,
            "left": null,
            "margin": null,
            "max_height": null,
            "max_width": null,
            "min_height": null,
            "min_width": null,
            "object_fit": null,
            "object_position": null,
            "order": null,
            "overflow": null,
            "overflow_x": null,
            "overflow_y": null,
            "padding": null,
            "right": null,
            "top": null,
            "visibility": null,
            "width": null
          }
        },
        "408d86df933b41fd8345698a577f79bf": {
          "model_module": "@jupyter-widgets/controls",
          "model_name": "DescriptionStyleModel",
          "model_module_version": "1.5.0",
          "state": {
            "_model_module": "@jupyter-widgets/controls",
            "_model_module_version": "1.5.0",
            "_model_name": "DescriptionStyleModel",
            "_view_count": null,
            "_view_module": "@jupyter-widgets/base",
            "_view_module_version": "1.2.0",
            "_view_name": "StyleView",
            "description_width": ""
          }
        },
        "0df4c99ccdca411990ec6daf9a94d57c": {
          "model_module": "@jupyter-widgets/base",
          "model_name": "LayoutModel",
          "model_module_version": "1.2.0",
          "state": {
            "_model_module": "@jupyter-widgets/base",
            "_model_module_version": "1.2.0",
            "_model_name": "LayoutModel",
            "_view_count": null,
            "_view_module": "@jupyter-widgets/base",
            "_view_module_version": "1.2.0",
            "_view_name": "LayoutView",
            "align_content": null,
            "align_items": null,
            "align_self": null,
            "border": null,
            "bottom": null,
            "display": null,
            "flex": null,
            "flex_flow": null,
            "grid_area": null,
            "grid_auto_columns": null,
            "grid_auto_flow": null,
            "grid_auto_rows": null,
            "grid_column": null,
            "grid_gap": null,
            "grid_row": null,
            "grid_template_areas": null,
            "grid_template_columns": null,
            "grid_template_rows": null,
            "height": null,
            "justify_content": null,
            "justify_items": null,
            "left": null,
            "margin": null,
            "max_height": null,
            "max_width": null,
            "min_height": null,
            "min_width": null,
            "object_fit": null,
            "object_position": null,
            "order": null,
            "overflow": null,
            "overflow_x": null,
            "overflow_y": null,
            "padding": null,
            "right": null,
            "top": null,
            "visibility": null,
            "width": null
          }
        },
        "055fcba6fe81481bab58403c6d0af63c": {
          "model_module": "@jupyter-widgets/controls",
          "model_name": "ProgressStyleModel",
          "model_module_version": "1.5.0",
          "state": {
            "_model_module": "@jupyter-widgets/controls",
            "_model_module_version": "1.5.0",
            "_model_name": "ProgressStyleModel",
            "_view_count": null,
            "_view_module": "@jupyter-widgets/base",
            "_view_module_version": "1.2.0",
            "_view_name": "StyleView",
            "bar_color": null,
            "description_width": ""
          }
        }
      }
    }
  },
  "cells": [
    {
      "cell_type": "markdown",
      "metadata": {
        "id": "view-in-github",
        "colab_type": "text"
      },
      "source": [
        "<a href=\"https://colab.research.google.com/github/goldjunge3010/masterpraktikum/blob/main/Demo_RetentionTimeReport.ipynb\" target=\"_parent\"><img src=\"https://colab.research.google.com/assets/colab-badge.svg\" alt=\"Open In Colab\"/></a>"
      ]
    },
    {
      "cell_type": "markdown",
      "source": [
        "## Installation and imports\n",
        "\n",
        "\n"
      ],
      "metadata": {
        "id": "73msxoAkwbiY"
      }
    },
    {
      "cell_type": "code",
      "execution_count": 1,
      "metadata": {
        "id": "GZxoVSldvqaQ",
        "colab": {
          "base_uri": "https://localhost:8080/"
        },
        "outputId": "76c8c0f6-388e-4cc4-b6ab-ece989e06e3d"
      },
      "outputs": [
        {
          "output_type": "stream",
          "name": "stdout",
          "text": [
            "  Preparing metadata (setup.py) ... \u001b[?25l\u001b[?25hdone\n",
            "  Building wheel for fpdf (setup.py) ... \u001b[?25l\u001b[?25hdone\n",
            "\u001b[2K     \u001b[90m━━━━━━━━━━━━━━━━━━━━━━━━━━━━━━━━━━━━━━━━\u001b[0m \u001b[32m2.1/2.1 MB\u001b[0m \u001b[31m12.1 MB/s\u001b[0m eta \u001b[36m0:00:00\u001b[0m\n",
            "\u001b[2K     \u001b[90m━━━━━━━━━━━━━━━━━━━━━━━━━━━━━━━━━━━━━━\u001b[0m \u001b[32m188.5/188.5 kB\u001b[0m \u001b[31m13.9 MB/s\u001b[0m eta \u001b[36m0:00:00\u001b[0m\n",
            "\u001b[2K     \u001b[90m━━━━━━━━━━━━━━━━━━━━━━━━━━━━━━━━━━━━━━━\u001b[0m \u001b[32m215.6/215.6 kB\u001b[0m \u001b[31m9.9 MB/s\u001b[0m eta \u001b[36m0:00:00\u001b[0m\n",
            "\u001b[?25h  Preparing metadata (setup.py) ... \u001b[?25l\u001b[?25hdone\n",
            "\u001b[2K     \u001b[90m━━━━━━━━━━━━━━━━━━━━━━━━━━━━━━━━━━━━━━━━\u001b[0m \u001b[32m62.7/62.7 kB\u001b[0m \u001b[31m5.9 MB/s\u001b[0m eta \u001b[36m0:00:00\u001b[0m\n",
            "\u001b[?25h  Building wheel for pathtools (setup.py) ... \u001b[?25l\u001b[?25hdone\n"
          ]
        },
        {
          "output_type": "stream",
          "name": "stderr",
          "text": [
            "\u001b[34m\u001b[1mwandb\u001b[0m: Thanks for trying out the Report API!\n",
            "\u001b[34m\u001b[1mwandb\u001b[0m: For a tutorial, check out https://colab.research.google.com/drive/1CzyJx1nuOS4pdkXa2XPaRQyZdmFmLmXV\n",
            "\u001b[34m\u001b[1mwandb\u001b[0m: \n",
            "\u001b[34m\u001b[1mwandb\u001b[0m: Try out tab completion to see what's available.\n",
            "\u001b[34m\u001b[1mwandb\u001b[0m:   ∟ everything:    `wr.<tab>`\n",
            "\u001b[34m\u001b[1mwandb\u001b[0m:       ∟ panels:    `wr.panels.<tab>`\n",
            "\u001b[34m\u001b[1mwandb\u001b[0m:       ∟ blocks:    `wr.blocks.<tab>`\n",
            "\u001b[34m\u001b[1mwandb\u001b[0m:       ∟ helpers:   `wr.helpers.<tab>`\n",
            "\u001b[34m\u001b[1mwandb\u001b[0m:       ∟ templates: `wr.templates.<tab>`\n",
            "\u001b[34m\u001b[1mwandb\u001b[0m:       \n",
            "\u001b[34m\u001b[1mwandb\u001b[0m: For bugs/feature requests, please create an issue on github: https://github.com/wandb/wandb/issues\n"
          ]
        }
      ],
      "source": [
        "# install necessary packages\n",
        "!python -m pip install -q dlomix==0.0.4\n",
        "!python -m pip install -q wandb\n",
        "\n",
        "# import necessary packages\n",
        "import numpy as np\n",
        "import pandas as pd\n",
        "import tensorflow as tf\n",
        "import re\n",
        "\n",
        "import wandb\n",
        "from wandb.keras import WandbCallback\n",
        "from wandb.keras import WandbMetricsLogger\n",
        "import wandb.apis.reports as wr\n",
        "\n",
        "import dlomix\n",
        "from dlomix import constants, data, eval, layers, models, pipelines, reports, utils\n",
        "from dlomix.data import RetentionTimeDataset\n",
        "from dlomix.models import PrositRetentionTimePredictor\n",
        "from dlomix.models import RetentionTimePredictor\n",
        "from dlomix.eval import TimeDeltaMetric\n",
        "\n",
        "class Report():\n",
        "\n",
        "  def __init__(self, project:str, title: str, description: str, dataset: RetentionTimeDataset):\n",
        "    self.entity = wandb.apis.PublicApi().default_entity\n",
        "    self.project = project\n",
        "    self.title = title\n",
        "    self.description = description\n",
        "    self.api = wandb.Api()\n",
        "    self.dataset = dataset\n",
        "    self.table_key_len = \"\"\n",
        "    self.table_key_rt = \"\"\n",
        "\n",
        "  def create_report(self, add_config_section = True, add_data_section = True, add_train_section = True, add_val_section = True, add_train_val_section = True):\n",
        "    report = wr.Report(\n",
        "        project = self.project,\n",
        "        title = self.title,\n",
        "        description = self.description\n",
        "    )\n",
        "\n",
        "    report.blocks = [\n",
        "        wr.TableOfContents()\n",
        "    ]\n",
        "    if add_config_section:\n",
        "      report.blocks += self.config_section()\n",
        "    if add_data_section:\n",
        "      report.blocks += self.data_section()\n",
        "    if add_train_section:\n",
        "      report.blocks += self.train_section()\n",
        "    if add_val_section:\n",
        "      report.blocks += self.val_section()\n",
        "    if add_train_val_section:\n",
        "      report.blocks += self.train_val_section()\n",
        "\n",
        "    report.save()\n",
        "\n",
        "\n",
        "\n",
        "  # get metrics of last run in project or from specified run_id\n",
        "  def get_metrics(self, run_id = None):\n",
        "    if run_id:\n",
        "      # run is specified by <entity>/<project>/<run_id>\n",
        "      run = self.api.run(path = f\"{self.entity}/{self.project}/{run_id}\")\n",
        "      metrics_dataframe = run.history()\n",
        "      return metrics_dataframe\n",
        "    else:\n",
        "      # get metrics of latest run\n",
        "      # api.runs seems to have a delay\n",
        "      runs = self.api.runs(path = f\"{self.entity}/{self.project}\")\n",
        "      run = runs[0]\n",
        "      metrics_dataframe = run.history()\n",
        "      return metrics_dataframe\n",
        "\n",
        "  # get metric names split into train/val, train is further split into batch/epoch\n",
        "  def get_metrics_names(self):\n",
        "    metrics = self.get_metrics()\n",
        "    # filter strings from list that are not starting with \"_\" and do not contain \"val\"\n",
        "    pre_filter = [string for string in metrics if not string.startswith(\"_\")]\n",
        "    batch_train_metrics_names = [string for string in pre_filter if (\"val\" not in string.lower()) & (\"epoch\" not in string.lower()) & (\"table\" not in string.lower())]\n",
        "    epoch_train_metrics_names = [string for string in pre_filter if (\"val\" not in string.lower()) & (\"batch\" not in string.lower()) & (\"table\" not in string.lower())]\n",
        "    # filter strings from list that contain \"val\"\n",
        "    epoch_val_metrics_names = list(filter(lambda x: \"val\" in x.lower(), metrics))\n",
        "    # filter strings from train metrics that are 'epoch/learning_rate' and 'epoch/epoch'\n",
        "    strings_to_filter = ['epoch/learning_rate', 'epoch/epoch', 'batch/learning_rate', 'batch/batch_step']\n",
        "    batch_train_metrics_names = [string for string in batch_train_metrics_names if string not in strings_to_filter]\n",
        "    epoch_train_metrics_names = [string for string in epoch_train_metrics_names if string not in strings_to_filter]\n",
        "    batch_train_metrics_names.sort()\n",
        "    epoch_train_metrics_names.sort()\n",
        "    return batch_train_metrics_names, epoch_train_metrics_names, epoch_val_metrics_names\n",
        "\n",
        "  def get_train_val_metrics_names(self):\n",
        "    _, epoch_train_metrics_names, epoch_val_metrics_names = self.get_metrics_names()\n",
        "    epoch_train_metrics_names.sort()\n",
        "    epoch_val_metrics_names.sort()\n",
        "    return list(zip(epoch_train_metrics_names, epoch_val_metrics_names))\n",
        "\n",
        "\n",
        "  def config_section(self):\n",
        "    config_block = [\n",
        "        wr.H1(text = \"Config\"),\n",
        "        wr.PanelGrid(\n",
        "          runsets=[\n",
        "            wr.Runset(self.entity, self.project),\n",
        "          ],\n",
        "          panels=[\n",
        "            wr.RunComparer(layout = {'w': 24})\n",
        "          ],\n",
        "        ),\n",
        "        wr.HorizontalRule(),\n",
        "    ]\n",
        "    return config_block\n",
        "\n",
        "  def data_section(self):\n",
        "    data_block = [\n",
        "        wr.H1(text = \"Data\"),\n",
        "        wr.P(\"The following section is showing a simple explorative data analysis of the used dataset. The first histogram shows the distribution of peptide lengths in the data set, while the second histogram shows the distribution of indexed retention times.\"),\n",
        "        wr.PanelGrid(\n",
        "          runsets=[\n",
        "            wr.Runset(self.entity, self.project),\n",
        "          ],\n",
        "          panels=[\n",
        "            wr.CustomChart(\n",
        "              query = {'summaryTable': {\"tableKey\" : self.table_key_len}},\n",
        "              chart_name='master_praktikum/hist_pep_len',\n",
        "              chart_fields={'value': self.dataset.sequence_col}\n",
        "            ),\n",
        "            wr.CustomChart(\n",
        "              query = {'summaryTable': {\"tableKey\" : self.table_key_rt}},\n",
        "              chart_name='master_praktikum/hist_ret_time',\n",
        "              chart_fields={'value': self.dataset.target_col}\n",
        "            )\n",
        "          ]\n",
        "        ),\n",
        "        wr.HorizontalRule(),\n",
        "    ]\n",
        "    return data_block\n",
        "\n",
        "  def train_section(self):\n",
        "    batch_train_metrics_names, epoch_train_metrics_names, _ = self.get_metrics_names()\n",
        "    panel_list_batch = []\n",
        "    panel_list_epoch = []\n",
        "    for name in batch_train_metrics_names:\n",
        "      panel_list_batch.append(wr.LinePlot(x='Step', y=[name]))\n",
        "    for name in epoch_train_metrics_names:\n",
        "      panel_list_epoch.append(wr.LinePlot(x='Step', y=[name]))\n",
        "    train_block = [\n",
        "        wr.H1(text = \"Training metrics\"),\n",
        "        wr.P(\"The following section shows the different metrics that were used to track the training. All used metrics are added by default. The first subsection shows the metrics per epoch, whereas the second subsection show the metrics per batch.\"),\n",
        "        wr.H2(text = \"per batch\"),\n",
        "        wr.PanelGrid(\n",
        "          runsets=[\n",
        "            wr.Runset(self.entity, self.project),\n",
        "          ],\n",
        "          panels = panel_list_batch\n",
        "        ),\n",
        "        wr.H2(text = \"per epoch\"),\n",
        "        wr.PanelGrid(\n",
        "          runsets=[\n",
        "            wr.Runset(self.entity, self.project),\n",
        "          ],\n",
        "          panels = panel_list_epoch\n",
        "        ),\n",
        "        wr.HorizontalRule(),\n",
        "    ]\n",
        "    return train_block\n",
        "\n",
        "  def val_section(self):\n",
        "    _, _, epoch_val_metrics_names = self.get_metrics_names()\n",
        "    panel_list_epoch = []\n",
        "    for name in epoch_val_metrics_names:\n",
        "      panel_list_epoch.append(wr.LinePlot(x='Step', y=[name]))\n",
        "    val_block = [\n",
        "        wr.H1(text = \"Validation metrics\"),\n",
        "        wr.P(\"The following section shows the different metrics that were used to track the validation. All used metrics are added by default. The metrics are shown per epoch.\"),\n",
        "        wr.H2(text = \"per epoch\"),\n",
        "        wr.PanelGrid(\n",
        "          runsets=[\n",
        "            wr.Runset(self.entity, self.project),\n",
        "          ],\n",
        "          panels = panel_list_epoch\n",
        "        ),\n",
        "        wr.HorizontalRule(),\n",
        "    ]\n",
        "    return val_block\n",
        "\n",
        "  def train_val_section(self):\n",
        "    train_val_metrics_names = self.get_train_val_metrics_names()\n",
        "    panel_list_epoch = []\n",
        "    for name in train_val_metrics_names:\n",
        "      panel_list_epoch.append(wr.LinePlot(x='Step', y=list(name)))\n",
        "    train_val_block = [\n",
        "        wr.H1(text = \"Train - Validation metrics\"),\n",
        "        wr.P(\"The following section shows the training metrics in comparision with the validation metrics. All used metrics are added by default. The metrics are shown per epoch.\"),\n",
        "        wr.H2(text = \"per epoch\"),\n",
        "        wr.PanelGrid(\n",
        "          runsets=[\n",
        "            wr.Runset(self.entity, self.project),\n",
        "          ],\n",
        "          panels = panel_list_epoch\n",
        "        ),\n",
        "        wr.HorizontalRule(),\n",
        "    ]\n",
        "    return train_val_block\n",
        "\n",
        "  # function to log sequence length table to wandb\n",
        "  def log_sequence_length_table(self, data: pd.DataFrame, seq_col:str = \"modified_sequence\"):\n",
        "    name_hist = \"counts_hist\"\n",
        "    counts = self.count_seq_length(data, seq_col)\n",
        "    # convert to df for easier handling\n",
        "    counts_df = counts.to_frame()\n",
        "    table = wandb.Table(dataframe = counts_df)\n",
        "    # log to wandb\n",
        "    hist = wandb.plot_table(\n",
        "      vega_spec_name=\"master_praktikum/hist_pep_len\",\n",
        "      data_table = table,\n",
        "      fields = {\"value\" : seq_col}\n",
        "    )\n",
        "    wandb.log({name_hist: hist})\n",
        "    name_hist_table = name_hist + \"_table\"\n",
        "    return name_hist_table\n",
        "\n",
        "  # function to count sequence length\n",
        "  def count_seq_length(self, data: pd.DataFrame, seq_col: str) -> pd.Series:\n",
        "      pattern = re.compile(r\"\\[UNIMOD:.*\\]\", re.IGNORECASE)\n",
        "      data[seq_col].replace(pattern, \"\", inplace= True)\n",
        "      return data[seq_col].str.len()\n",
        "\n",
        "  # function to log retention time table to wandb\n",
        "  def log_rt_table(self, data: pd.DataFrame, rt_col:str = \"indexed_retention_time\"):\n",
        "    name_hist = \"rt_hist\"\n",
        "    rt = data.loc[:,rt_col]\n",
        "    # convert to df for easier handling\n",
        "    rt_df = rt.to_frame()\n",
        "    table = wandb.Table(dataframe = rt_df)\n",
        "    # log to wandb\n",
        "    hist = wandb.plot_table(\n",
        "      vega_spec_name=\"master_praktikum/hist_ret_time\",\n",
        "      data_table = table,\n",
        "      fields = {\"value\" : rt_col}\n",
        "    )\n",
        "    wandb.log({name_hist: hist})\n",
        "    name_hist_table = name_hist + \"_table\"\n",
        "    return name_hist_table\n",
        "\n",
        "  def log_data(self):\n",
        "\n",
        "    # check if datasource is a string\n",
        "    if isinstance(self.dataset.data_source, str):\n",
        "      # read corresponding file\n",
        "      file_extension = self.dataset.data_source.split(\".\")[-1]\n",
        "      match file_extension:\n",
        "        case \"csv\":\n",
        "          data = pd.read_csv(self.dataset.data_source)\n",
        "        case \"json\":\n",
        "          data = pd.read_json(self.dataset.data_source)\n",
        "        case \"parquet\":\n",
        "          data = pd.read_parquet(self.dataset.data_source, engine='fastparquet')\n",
        "      self.table_key_len = self.log_sequence_length_table(data, self.dataset.sequence_col)\n",
        "      self.table_key_rt = self.log_rt_table(data, self.dataset.target_col)\n",
        "\n",
        "    # check if datasource is a tuple of two ndarrays or two lists\n",
        "    if isinstance(self.dataset.data_source, tuple) and all(isinstance(item, (np.ndarray, list)) for item in self.dataset.data_source) and len(self.dataset.data_source) == 2:\n",
        "      data = pd.DataFrame({self.dataset.sequence_col: self.dataset.data_source[0], self.dataset.target_col: self.dataset.data_source[1]})\n",
        "      self.table_key_len = self.log_sequence_length_table(data, self.dataset.sequence_col)\n",
        "      self.table_key_rt = self.log_rt_table(data, self.dataset.target_col)\n",
        "\n",
        "    # check if datasource is a single ndarray or list\n",
        "    # does not work? maybe error in RetentionTimeDataset\n",
        "    if isinstance(self.dataset.data_source, (np.ndarray, list)):\n",
        "      data = pd.DataFrame({self.dataset.sequence_col: self.dataset.data_source})\n",
        "      self.table_key_len = self.log_sequence_length_table(data, self.dataset.sequence_col)\n"
      ]
    },
    {
      "cell_type": "markdown",
      "source": [
        "# Initialize Weights & Biases\n"
      ],
      "metadata": {
        "id": "gia0RFRSwyiP"
      }
    },
    {
      "cell_type": "code",
      "source": [
        "# Create config\n",
        "config = {\n",
        "  \"seq_length\" : 30,\n",
        "  \"batch_size\" : 64,\n",
        "  \"val_ratio\" : 0.2,\n",
        "  \"lr\" : 0.001,\n",
        "  \"optimizer\" : \"RMSprop\",\n",
        "  \"loss\" : \"mse\"\n",
        "}\n",
        "\n",
        "# Initialize WANDB\n",
        "PROJECT = 'Demo_RetentionTimeReport'\n",
        "RUN = \"run_2\"\n",
        "wandb.init(project = PROJECT, name = RUN, config = config)"
      ],
      "metadata": {
        "colab": {
          "base_uri": "https://localhost:8080/",
          "height": 142
        },
        "id": "RHJW1mfew4B2",
        "outputId": "71248456-3af9-4a04-8d97-e8eb32d11f67"
      },
      "execution_count": 9,
      "outputs": [
        {
          "output_type": "stream",
          "name": "stderr",
          "text": [
            "\u001b[34m\u001b[1mwandb\u001b[0m: Currently logged in as: \u001b[33mandi-obermeier\u001b[0m (\u001b[33mmaster_praktikum\u001b[0m). Use \u001b[1m`wandb login --relogin`\u001b[0m to force relogin\n"
          ]
        },
        {
          "output_type": "display_data",
          "data": {
            "text/plain": [
              "<IPython.core.display.HTML object>"
            ],
            "text/html": [
              "Tracking run with wandb version 0.15.9"
            ]
          },
          "metadata": {}
        },
        {
          "output_type": "display_data",
          "data": {
            "text/plain": [
              "<IPython.core.display.HTML object>"
            ],
            "text/html": [
              "Run data is saved locally in <code>/content/wandb/run-20230829_061430-40w8widn</code>"
            ]
          },
          "metadata": {}
        },
        {
          "output_type": "display_data",
          "data": {
            "text/plain": [
              "<IPython.core.display.HTML object>"
            ],
            "text/html": [
              "Syncing run <strong><a href='https://wandb.ai/master_praktikum/Demo_RetentionTimeReport/runs/40w8widn' target=\"_blank\">run_2</a></strong> to <a href='https://wandb.ai/master_praktikum/Demo_RetentionTimeReport' target=\"_blank\">Weights & Biases</a> (<a href='https://wandb.me/run' target=\"_blank\">docs</a>)<br/>"
            ]
          },
          "metadata": {}
        },
        {
          "output_type": "display_data",
          "data": {
            "text/plain": [
              "<IPython.core.display.HTML object>"
            ],
            "text/html": [
              " View project at <a href='https://wandb.ai/master_praktikum/Demo_RetentionTimeReport' target=\"_blank\">https://wandb.ai/master_praktikum/Demo_RetentionTimeReport</a>"
            ]
          },
          "metadata": {}
        },
        {
          "output_type": "display_data",
          "data": {
            "text/plain": [
              "<IPython.core.display.HTML object>"
            ],
            "text/html": [
              " View run at <a href='https://wandb.ai/master_praktikum/Demo_RetentionTimeReport/runs/40w8widn' target=\"_blank\">https://wandb.ai/master_praktikum/Demo_RetentionTimeReport/runs/40w8widn</a>"
            ]
          },
          "metadata": {}
        },
        {
          "output_type": "execute_result",
          "data": {
            "text/html": [
              "<button onClick=\"this.nextSibling.style.display='block';this.style.display='none';\">Display W&B run</button><iframe src='https://wandb.ai/master_praktikum/Demo_RetentionTimeReport/runs/40w8widn?jupyter=true' style='border:none;width:100%;height:420px;display:none;'></iframe>"
            ],
            "text/plain": [
              "<wandb.sdk.wandb_run.Run at 0x7cec2b678220>"
            ]
          },
          "metadata": {},
          "execution_count": 9
        }
      ]
    },
    {
      "cell_type": "markdown",
      "source": [
        "# Load data"
      ],
      "metadata": {
        "id": "n4bl32mwwlHZ"
      }
    },
    {
      "cell_type": "code",
      "source": [
        "# load small train dataset\n",
        "TRAIN_DATAPATH = 'https://raw.githubusercontent.com/wilhelm-lab/dlomix-resources/main/example_datasets/RetentionTime/proteomeTools_train_val.csv'\n",
        "\n",
        "# create dataset\n",
        "rtdata = RetentionTimeDataset(data_source=TRAIN_DATAPATH,\n",
        "                              seq_length = config[\"seq_length\"],\n",
        "                              batch_size = config[\"batch_size\"],\n",
        "                              val_ratio = config[\"val_ratio\"],\n",
        "                              test = False)"
      ],
      "metadata": {
        "id": "At1-MajHwG5e"
      },
      "execution_count": 3,
      "outputs": []
    },
    {
      "cell_type": "markdown",
      "source": [
        "# Initialize report"
      ],
      "metadata": {
        "id": "-X-RIIVY3O2E"
      }
    },
    {
      "cell_type": "code",
      "source": [
        "# Create a report\n",
        "report = Report(project = \"Demo_RetentionTimeReport\",\n",
        "                title = \"Comparison of different optimizers\",\n",
        "                description = \"Comparison of two optimizers Adam and RMSprop\",\n",
        "                dataset = rtdata)"
      ],
      "metadata": {
        "id": "_Lv_t6Dv3Q6s"
      },
      "execution_count": 4,
      "outputs": []
    },
    {
      "cell_type": "markdown",
      "source": [
        "# Log data to Weights & Biases"
      ],
      "metadata": {
        "id": "o33NlIw3xJs4"
      }
    },
    {
      "cell_type": "code",
      "source": [
        "report.log_data()"
      ],
      "metadata": {
        "id": "FE8OvEml3CBU"
      },
      "execution_count": 5,
      "outputs": []
    },
    {
      "cell_type": "markdown",
      "source": [
        "# Train model"
      ],
      "metadata": {
        "id": "dFDNpH5S4HG7"
      }
    },
    {
      "cell_type": "code",
      "source": [
        "# create retention time predictor\n",
        "model = RetentionTimePredictor(seq_length = config[\"seq_length\"])\n",
        "\n",
        "# create the optimizer object\n",
        "optimizer = tf.keras.optimizers.RMSprop(learning_rate = config[\"lr\"])\n",
        "\n",
        "# compile the model with the optimizer and the metrics we want to use\n",
        "model.compile(optimizer = optimizer,\n",
        "              loss = config[\"loss\"],\n",
        "              metrics=['mean_absolute_error', TimeDeltaMetric()])\n",
        "\n",
        "# train the model\n",
        "history = model.fit(rtdata.train_data,\n",
        "                    validation_data=rtdata.val_data,\n",
        "                    epochs=15,\n",
        "                    callbacks=[WandbMetricsLogger(log_freq = \"batch\")])\n",
        "\n",
        "# finish wandb run\n",
        "wandb.finish()"
      ],
      "metadata": {
        "colab": {
          "base_uri": "https://localhost:8080/",
          "height": 1000,
          "referenced_widgets": [
            "8fd45d70422f45dc91735817d9e613b8",
            "661469f25874481e8285b8ff3dcb6cbd",
            "8c69b8c349a64a728fdbcbe8917765cc",
            "b48d2219e930426295351de437f1d60d",
            "54bf9cf40dd9428ea952a321c8a87846",
            "408d86df933b41fd8345698a577f79bf",
            "0df4c99ccdca411990ec6daf9a94d57c",
            "055fcba6fe81481bab58403c6d0af63c"
          ]
        },
        "id": "UITv7MsK4I9j",
        "outputId": "5fb6779f-2614-4a34-e69f-58a8577fe147"
      },
      "execution_count": 10,
      "outputs": [
        {
          "output_type": "stream",
          "name": "stdout",
          "text": [
            "Epoch 1/15\n",
            "424/424 [==============================] - 10s 19ms/step - loss: 571.6064 - mean_absolute_error: 17.5409 - timedelta: 18.1179 - val_loss: 195.7279 - val_mean_absolute_error: 10.4851 - val_timedelta: 9.5617\n",
            "Epoch 2/15\n",
            "424/424 [==============================] - 6s 15ms/step - loss: 255.1689 - mean_absolute_error: 12.1113 - timedelta: 13.4356 - val_loss: 153.8870 - val_mean_absolute_error: 9.0409 - val_timedelta: 8.6470\n",
            "Epoch 3/15\n",
            "424/424 [==============================] - 8s 19ms/step - loss: 213.0259 - mean_absolute_error: 11.0053 - timedelta: 11.7421 - val_loss: 129.5535 - val_mean_absolute_error: 8.1952 - val_timedelta: 8.2162\n",
            "Epoch 4/15\n",
            "424/424 [==============================] - 8s 18ms/step - loss: 184.5114 - mean_absolute_error: 10.1973 - timedelta: 10.6198 - val_loss: 113.7792 - val_mean_absolute_error: 7.5956 - val_timedelta: 7.6903\n",
            "Epoch 5/15\n",
            "424/424 [==============================] - 7s 16ms/step - loss: 161.5152 - mean_absolute_error: 9.4828 - timedelta: 10.2110 - val_loss: 100.7427 - val_mean_absolute_error: 7.0989 - val_timedelta: 7.1660\n",
            "Epoch 6/15\n",
            "424/424 [==============================] - 8s 18ms/step - loss: 147.1719 - mean_absolute_error: 9.0174 - timedelta: 9.5183 - val_loss: 93.3124 - val_mean_absolute_error: 6.7939 - val_timedelta: 6.7887\n",
            "Epoch 7/15\n",
            "424/424 [==============================] - 7s 16ms/step - loss: 134.5578 - mean_absolute_error: 8.5592 - timedelta: 8.9100 - val_loss: 88.9310 - val_mean_absolute_error: 6.5946 - val_timedelta: 6.4808\n",
            "Epoch 8/15\n",
            "424/424 [==============================] - 7s 16ms/step - loss: 124.0630 - mean_absolute_error: 8.1742 - timedelta: 8.5069 - val_loss: 86.5275 - val_mean_absolute_error: 6.5013 - val_timedelta: 6.2576\n",
            "Epoch 9/15\n",
            "424/424 [==============================] - 9s 20ms/step - loss: 115.7094 - mean_absolute_error: 7.8865 - timedelta: 7.7849 - val_loss: 151.2559 - val_mean_absolute_error: 9.8826 - val_timedelta: 9.3306\n",
            "Epoch 10/15\n",
            "424/424 [==============================] - 9s 21ms/step - loss: 107.8873 - mean_absolute_error: 7.5222 - timedelta: 7.6916 - val_loss: 78.5649 - val_mean_absolute_error: 5.9760 - val_timedelta: 5.8993\n",
            "Epoch 11/15\n",
            "424/424 [==============================] - 7s 15ms/step - loss: 103.2573 - mean_absolute_error: 7.3274 - timedelta: 7.5434 - val_loss: 81.4044 - val_mean_absolute_error: 6.2842 - val_timedelta: 5.5218\n",
            "Epoch 12/15\n",
            "424/424 [==============================] - 8s 19ms/step - loss: 97.5383 - mean_absolute_error: 7.1089 - timedelta: 7.2861 - val_loss: 77.8422 - val_mean_absolute_error: 6.0582 - val_timedelta: 5.4212\n",
            "Epoch 13/15\n",
            "424/424 [==============================] - 8s 20ms/step - loss: 92.0380 - mean_absolute_error: 6.8733 - timedelta: 7.1640 - val_loss: 74.1467 - val_mean_absolute_error: 5.8272 - val_timedelta: 5.1039\n",
            "Epoch 14/15\n",
            "424/424 [==============================] - 7s 17ms/step - loss: 87.9804 - mean_absolute_error: 6.6533 - timedelta: 7.0317 - val_loss: 74.4440 - val_mean_absolute_error: 5.8554 - val_timedelta: 5.0657\n",
            "Epoch 15/15\n",
            "424/424 [==============================] - 8s 20ms/step - loss: 83.2124 - mean_absolute_error: 6.4637 - timedelta: 6.8516 - val_loss: 71.5073 - val_mean_absolute_error: 5.6318 - val_timedelta: 4.9024\n"
          ]
        },
        {
          "output_type": "display_data",
          "data": {
            "text/plain": [
              "<IPython.core.display.HTML object>"
            ],
            "text/html": [
              "Waiting for W&B process to finish... <strong style=\"color:green\">(success).</strong>"
            ]
          },
          "metadata": {}
        },
        {
          "output_type": "display_data",
          "data": {
            "text/plain": [
              "VBox(children=(Label(value='0.001 MB of 0.001 MB uploaded (0.000 MB deduped)\\r'), FloatProgress(value=1.0, max…"
            ],
            "application/vnd.jupyter.widget-view+json": {
              "version_major": 2,
              "version_minor": 0,
              "model_id": "8fd45d70422f45dc91735817d9e613b8"
            }
          },
          "metadata": {}
        },
        {
          "output_type": "display_data",
          "data": {
            "text/plain": [
              "<IPython.core.display.HTML object>"
            ],
            "text/html": [
              "<style>\n",
              "    table.wandb td:nth-child(1) { padding: 0 10px; text-align: left ; width: auto;} td:nth-child(2) {text-align: left ; width: 100%}\n",
              "    .wandb-row { display: flex; flex-direction: row; flex-wrap: wrap; justify-content: flex-start; width: 100% }\n",
              "    .wandb-col { display: flex; flex-direction: column; flex-basis: 100%; flex: 1; padding: 10px; }\n",
              "    </style>\n",
              "<div class=\"wandb-row\"><div class=\"wandb-col\"><h3>Run history:</h3><br/><table class=\"wandb\"><tr><td>batch/batch_step</td><td>▁▁▁▁▂▂▂▂▂▃▃▃▃▃▃▄▄▄▄▄▅▅▅▅▅▅▆▆▆▆▆▇▇▇▇▇▇███</td></tr><tr><td>batch/learning_rate</td><td>▁▁▁▁▁▁▁▁▁▁▁▁▁▁▁▁▁▁▁▁▁▁▁▁▁▁▁▁▁▁▁▁▁▁▁▁▁▁▁▁</td></tr><tr><td>batch/loss</td><td>█▅▃▂▂▂▂▂▁▂▂▁▁▁▁▁▁▁▁▁▁▁▁▁▁▁▁▁▁▁▁▁▁▁▁▁▁▁▁▁</td></tr><tr><td>batch/mean_absolute_error</td><td>█▅▄▃▃▃▂▂▂▂▂▂▂▂▂▂▂▂▂▂▂▂▁▁▁▁▁▁▁▁▁▁▁▁▁▁▁▁▁▁</td></tr><tr><td>batch/timedelta</td><td>█▆▅▃▄▃▃▃▂▂▂▂▂▂▂▂▂▂▂▁▂▂▁▁▁▁▁▁▁▂▁▁▁▁▁▁▁▁▁▁</td></tr><tr><td>epoch/epoch</td><td>▁▁▂▃▃▃▄▅▅▅▆▇▇▇█</td></tr><tr><td>epoch/learning_rate</td><td>▁▁▁▁▁▁▁▁▁▁▁▁▁▁▁</td></tr><tr><td>epoch/loss</td><td>█▃▃▂▂▂▂▂▁▁▁▁▁▁▁</td></tr><tr><td>epoch/mean_absolute_error</td><td>█▅▄▃▃▃▂▂▂▂▂▁▁▁▁</td></tr><tr><td>epoch/timedelta</td><td>█▅▄▃▃▃▂▂▂▂▁▁▁▁▁</td></tr><tr><td>epoch/val_loss</td><td>█▆▄▃▃▂▂▂▅▁▂▁▁▁▁</td></tr><tr><td>epoch/val_mean_absolute_error</td><td>█▆▅▄▃▃▂▂▇▁▂▂▁▁▁</td></tr><tr><td>epoch/val_timedelta</td><td>█▇▆▅▄▄▃▃█▂▂▂▁▁▁</td></tr></table><br/></div><div class=\"wandb-col\"><h3>Run summary:</h3><br/><table class=\"wandb\"><tr><td>batch/batch_step</td><td>6359</td></tr><tr><td>batch/learning_rate</td><td>0.001</td></tr><tr><td>batch/loss</td><td>83.21245</td></tr><tr><td>batch/mean_absolute_error</td><td>6.46374</td></tr><tr><td>batch/timedelta</td><td>6.85162</td></tr><tr><td>epoch/epoch</td><td>14</td></tr><tr><td>epoch/learning_rate</td><td>0.001</td></tr><tr><td>epoch/loss</td><td>83.21245</td></tr><tr><td>epoch/mean_absolute_error</td><td>6.46374</td></tr><tr><td>epoch/timedelta</td><td>6.85162</td></tr><tr><td>epoch/val_loss</td><td>71.50734</td></tr><tr><td>epoch/val_mean_absolute_error</td><td>5.63177</td></tr><tr><td>epoch/val_timedelta</td><td>4.90241</td></tr></table><br/></div></div>"
            ]
          },
          "metadata": {}
        },
        {
          "output_type": "display_data",
          "data": {
            "text/plain": [
              "<IPython.core.display.HTML object>"
            ],
            "text/html": [
              " View run <strong style=\"color:#cdcd00\">run_2</strong> at: <a href='https://wandb.ai/master_praktikum/Demo_RetentionTimeReport/runs/40w8widn' target=\"_blank\">https://wandb.ai/master_praktikum/Demo_RetentionTimeReport/runs/40w8widn</a><br/>Synced 5 W&B file(s), 0 media file(s), 0 artifact file(s) and 0 other file(s)"
            ]
          },
          "metadata": {}
        },
        {
          "output_type": "display_data",
          "data": {
            "text/plain": [
              "<IPython.core.display.HTML object>"
            ],
            "text/html": [
              "Find logs at: <code>./wandb/run-20230829_061430-40w8widn/logs</code>"
            ]
          },
          "metadata": {}
        }
      ]
    },
    {
      "cell_type": "markdown",
      "source": [
        "# Create Report"
      ],
      "metadata": {
        "id": "2t0tD68l4W_e"
      }
    },
    {
      "cell_type": "code",
      "source": [
        "report.create_report(add_data_section = True,\n",
        "                     add_train_section = True,\n",
        "                     add_val_section = True,\n",
        "                     add_train_val_section = True)"
      ],
      "metadata": {
        "id": "1hYO03Sy4Z0D"
      },
      "execution_count": 7,
      "outputs": []
    },
    {
      "cell_type": "code",
      "source": [],
      "metadata": {
        "id": "N3joiuC6cFrr"
      },
      "execution_count": null,
      "outputs": []
    }
  ]
}