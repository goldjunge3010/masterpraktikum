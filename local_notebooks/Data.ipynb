{
 "cells": [
  {
   "cell_type": "markdown",
   "source": [
    "## Analysis of data"
   ],
   "metadata": {
    "collapsed": false
   }
  },
  {
   "cell_type": "code",
   "execution_count": null,
   "outputs": [],
   "source": [],
   "metadata": {
    "collapsed": false
   }
  },
  {
   "cell_type": "code",
   "execution_count": 3,
   "outputs": [],
   "source": [
    "import pickle\n",
    "from pathlib import Path\n",
    "import pandas as pd\n",
    "import matplotlib.pyplot as plt\n",
    "import prospectdataset as prods\n",
    "import pickle\n",
    "import os\n",
    "\n",
    "SAVE_PATH = str(Path.home() / \"Downloads\" / \"retention.parquet\")\n"
   ],
   "metadata": {
    "collapsed": false,
    "ExecuteTime": {
     "end_time": "2023-06-04T11:51:35.590863342Z",
     "start_time": "2023-06-04T11:51:34.109746695Z"
    }
   }
  },
  {
   "cell_type": "code",
   "execution_count": 9,
   "outputs": [
    {
     "name": "stdout",
     "output_type": "stream",
     "text": [
      "Collected URLs:  ['/record/6602020/files/Thermo_SRM_Pool_meta_data.parquet?download=1', '/record/6602020/files/TUM_aspn_meta_data.parquet?download=1', '/record/6602020/files/TUM_first_pool_meta_data.parquet?download=1', '/record/6602020/files/TUM_HLA2_meta_data.parquet?download=1', '/record/6602020/files/TUM_HLA_meta_data.parquet?download=1', '/record/6602020/files/TUM_isoform_meta_data.parquet?download=1', '/record/6602020/files/TUM_lysn_meta_data.parquet?download=1', '/record/6602020/files/TUM_missing_first_meta_data.parquet?download=1', '/record/6602020/files/TUM_proteo_TMT_meta_data.parquet?download=1', '/record/6602020/files/TUM_second_addon_meta_data.parquet?download=1', '/record/6602020/files/TUM_second_pool_meta_data.parquet?download=1', '/record/6602020/files/TUM_third_pool_meta_data.parquet?download=1']\n",
      "Downloading URL:  /record/6602020/files/Thermo_SRM_Pool_meta_data.parquet?download=1\n",
      "Saved file:  /home/andi/Downloads/retention.parquet/Thermo_SRM_Pool_meta_data.parquet\n",
      "Downloading URL:  /record/6602020/files/TUM_aspn_meta_data.parquet?download=1\n",
      "Saved file:  /home/andi/Downloads/retention.parquet/TUM_aspn_meta_data.parquet\n",
      "Downloading URL:  /record/6602020/files/TUM_first_pool_meta_data.parquet?download=1\n",
      "Saved file:  /home/andi/Downloads/retention.parquet/TUM_first_pool_meta_data.parquet\n",
      "Downloading URL:  /record/6602020/files/TUM_HLA2_meta_data.parquet?download=1\n",
      "Saved file:  /home/andi/Downloads/retention.parquet/TUM_HLA2_meta_data.parquet\n",
      "Downloading URL:  /record/6602020/files/TUM_HLA_meta_data.parquet?download=1\n",
      "Saved file:  /home/andi/Downloads/retention.parquet/TUM_HLA_meta_data.parquet\n",
      "Downloading URL:  /record/6602020/files/TUM_isoform_meta_data.parquet?download=1\n",
      "Saved file:  /home/andi/Downloads/retention.parquet/TUM_isoform_meta_data.parquet\n",
      "Downloading URL:  /record/6602020/files/TUM_lysn_meta_data.parquet?download=1\n",
      "Saved file:  /home/andi/Downloads/retention.parquet/TUM_lysn_meta_data.parquet\n",
      "Downloading URL:  /record/6602020/files/TUM_missing_first_meta_data.parquet?download=1\n",
      "Saved file:  /home/andi/Downloads/retention.parquet/TUM_missing_first_meta_data.parquet\n",
      "Downloading URL:  /record/6602020/files/TUM_proteo_TMT_meta_data.parquet?download=1\n",
      "Saved file:  /home/andi/Downloads/retention.parquet/TUM_proteo_TMT_meta_data.parquet\n",
      "Downloading URL:  /record/6602020/files/TUM_second_addon_meta_data.parquet?download=1\n",
      "Saved file:  /home/andi/Downloads/retention.parquet/TUM_second_addon_meta_data.parquet\n",
      "Downloading URL:  /record/6602020/files/TUM_second_pool_meta_data.parquet?download=1\n",
      "Saved file:  /home/andi/Downloads/retention.parquet/TUM_second_pool_meta_data.parquet\n",
      "Downloading URL:  /record/6602020/files/TUM_third_pool_meta_data.parquet?download=1\n",
      "Saved file:  /home/andi/Downloads/retention.parquet/TUM_third_pool_meta_data.parquet\n"
     ]
    },
    {
     "data": {
      "text/plain": "['/home/andi/Downloads/retention.parquet/Thermo_SRM_Pool_meta_data.parquet',\n '/home/andi/Downloads/retention.parquet/TUM_aspn_meta_data.parquet',\n '/home/andi/Downloads/retention.parquet/TUM_first_pool_meta_data.parquet',\n '/home/andi/Downloads/retention.parquet/TUM_HLA2_meta_data.parquet',\n '/home/andi/Downloads/retention.parquet/TUM_HLA_meta_data.parquet',\n '/home/andi/Downloads/retention.parquet/TUM_isoform_meta_data.parquet',\n '/home/andi/Downloads/retention.parquet/TUM_lysn_meta_data.parquet',\n '/home/andi/Downloads/retention.parquet/TUM_missing_first_meta_data.parquet',\n '/home/andi/Downloads/retention.parquet/TUM_proteo_TMT_meta_data.parquet',\n '/home/andi/Downloads/retention.parquet/TUM_second_addon_meta_data.parquet',\n '/home/andi/Downloads/retention.parquet/TUM_second_pool_meta_data.parquet',\n '/home/andi/Downloads/retention.parquet/TUM_third_pool_meta_data.parquet']"
     },
     "execution_count": 9,
     "metadata": {},
     "output_type": "execute_result"
    }
   ],
   "source": [
    "# Download retention time data only\n",
    "# prods.download_dataset('retention-time', SAVE_PATH)\n"
   ],
   "metadata": {
    "collapsed": false,
    "ExecuteTime": {
     "end_time": "2023-06-01T06:04:27.090257683Z",
     "start_time": "2023-06-01T07:38:34.824485632Z"
    }
   }
  },
  {
   "cell_type": "code",
   "execution_count": 2,
   "outputs": [],
   "source": [
    "# Read in all files\n",
    "thermo_srm_pool_df = pd.read_parquet(\n",
    "    str(Path.home() / \"Downloads\" / \"retention.parquet\" / \"Thermo_SRM_Pool_meta_data.parquet\"), engine='fastparquet')\n"
   ],
   "metadata": {
    "collapsed": false,
    "ExecuteTime": {
     "end_time": "2023-06-04T09:05:59.756485501Z",
     "start_time": "2023-06-04T09:05:56.571677176Z"
    }
   }
  },
  {
   "cell_type": "code",
   "execution_count": 3,
   "outputs": [],
   "source": [
    "tum_aspn_df = pd.read_parquet(str(Path.home() / \"Downloads\" / \"retention.parquet\" / \"TUM_aspn_meta_data.parquet\"),\n",
    "                              engine='fastparquet')\n"
   ],
   "metadata": {
    "collapsed": false,
    "ExecuteTime": {
     "end_time": "2023-06-04T09:06:01.558589887Z",
     "start_time": "2023-06-04T09:06:00.417831776Z"
    }
   }
  },
  {
   "cell_type": "code",
   "execution_count": 4,
   "outputs": [],
   "source": [
    "tum_first_pool_df = pd.read_parquet(\n",
    "    str(Path.home() / \"Downloads\" / \"retention.parquet\" / \"TUM_first_pool_meta_data.parquet\"), engine='fastparquet')\n"
   ],
   "metadata": {
    "collapsed": false,
    "ExecuteTime": {
     "end_time": "2023-06-04T09:06:06.979672670Z",
     "start_time": "2023-06-04T09:06:02.167184700Z"
    }
   }
  },
  {
   "cell_type": "code",
   "execution_count": 5,
   "outputs": [],
   "source": [
    "tum_hla2_df = pd.read_parquet(str(Path.home() / \"Downloads\" / \"retention.parquet\" / \"TUM_HLA2_meta_data.parquet\"),\n",
    "                              engine='fastparquet')\n"
   ],
   "metadata": {
    "collapsed": false,
    "ExecuteTime": {
     "end_time": "2023-06-04T09:06:10.709078526Z",
     "start_time": "2023-06-04T09:06:07.441041231Z"
    }
   }
  },
  {
   "cell_type": "code",
   "execution_count": 6,
   "outputs": [],
   "source": [
    "tum_hla_df = pd.read_parquet(str(Path.home() / \"Downloads\" / \"retention.parquet\" / \"TUM_HLA_meta_data.parquet\"),\n",
    "                             engine='fastparquet')\n"
   ],
   "metadata": {
    "collapsed": false,
    "ExecuteTime": {
     "end_time": "2023-06-04T09:06:16.165908918Z",
     "start_time": "2023-06-04T09:06:11.180040585Z"
    }
   }
  },
  {
   "cell_type": "code",
   "execution_count": 7,
   "outputs": [],
   "source": [
    "tum_isoform_df = pd.read_parquet(str(Path.home() / \"Downloads\" / \"retention.parquet\" / \"TUM_isoform_meta_data.parquet\"),\n",
    "                                 engine='fastparquet')\n"
   ],
   "metadata": {
    "collapsed": false,
    "ExecuteTime": {
     "end_time": "2023-06-04T09:06:20.948975964Z",
     "start_time": "2023-06-04T09:06:16.656464058Z"
    }
   }
  },
  {
   "cell_type": "code",
   "execution_count": 8,
   "outputs": [],
   "source": [
    "tum_lysn_df = pd.read_parquet(str(Path.home() / \"Downloads\" / \"retention.parquet\" / \"TUM_lysn_meta_data.parquet\"),\n",
    "                              engine='fastparquet')\n"
   ],
   "metadata": {
    "collapsed": false,
    "ExecuteTime": {
     "end_time": "2023-06-04T09:06:22.284281264Z",
     "start_time": "2023-06-04T09:06:21.477939133Z"
    }
   }
  },
  {
   "cell_type": "code",
   "execution_count": 9,
   "outputs": [],
   "source": [
    "tum_missing_first_df = pd.read_parquet(\n",
    "    str(Path.home() / \"Downloads\" / \"retention.parquet\" / \"TUM_missing_first_meta_data.parquet\"), engine='fastparquet')\n"
   ],
   "metadata": {
    "collapsed": false,
    "ExecuteTime": {
     "end_time": "2023-06-04T09:06:23.016820825Z",
     "start_time": "2023-06-04T09:06:22.855908730Z"
    }
   }
  },
  {
   "cell_type": "code",
   "execution_count": 10,
   "outputs": [],
   "source": [
    "tum_proteo_tmt_df = pd.read_parquet(\n",
    "    str(Path.home() / \"Downloads\" / \"retention.parquet\" / \"TUM_proteo_TMT_meta_data.parquet\"), engine='fastparquet')\n"
   ],
   "metadata": {
    "collapsed": false,
    "ExecuteTime": {
     "end_time": "2023-06-04T09:06:24.633277934Z",
     "start_time": "2023-06-04T09:06:23.699131214Z"
    }
   }
  },
  {
   "cell_type": "code",
   "execution_count": 11,
   "outputs": [],
   "source": [
    "tum_second_addon_df = pd.read_parquet(\n",
    "    str(Path.home() / \"Downloads\" / \"retention.parquet\" / \"TUM_second_addon_meta_data.parquet\"), engine='fastparquet')\n"
   ],
   "metadata": {
    "collapsed": false,
    "ExecuteTime": {
     "end_time": "2023-06-04T09:06:26.735044864Z",
     "start_time": "2023-06-04T09:06:25.111807827Z"
    }
   }
  },
  {
   "cell_type": "code",
   "execution_count": 12,
   "outputs": [],
   "source": [
    "tum_second_pool_df = pd.read_parquet(\n",
    "    str(Path.home() / \"Downloads\" / \"retention.parquet\" / \"TUM_second_pool_meta_data.parquet\"), engine='fastparquet')\n"
   ],
   "metadata": {
    "collapsed": false,
    "ExecuteTime": {
     "end_time": "2023-06-04T09:06:31.321082191Z",
     "start_time": "2023-06-04T09:06:27.161864865Z"
    }
   }
  },
  {
   "cell_type": "code",
   "execution_count": 13,
   "outputs": [],
   "source": [
    "tum_third_pool_df = pd.read_parquet(\n",
    "    str(Path.home() / \"Downloads\" / \"retention.parquet\" / \"TUM_third_pool_meta_data.parquet\"), engine='fastparquet')\n"
   ],
   "metadata": {
    "collapsed": false,
    "ExecuteTime": {
     "end_time": "2023-06-04T09:06:31.970636519Z",
     "start_time": "2023-06-04T09:06:31.838015688Z"
    }
   }
  },
  {
   "cell_type": "code",
   "execution_count": 8,
   "outputs": [
    {
     "data": {
      "text/plain": "                                      raw_file  scan_number  \\\n0  01812a_GA3-TUM_third_pool_1_01_01-DDA-1h-R1        34341   \n1  01812a_GA3-TUM_third_pool_1_01_01-DDA-1h-R1        39787   \n2  01812a_GA3-TUM_third_pool_1_01_01-DDA-1h-R1        23850   \n3  01812a_GA3-TUM_third_pool_1_01_01-DDA-1h-R1         5398   \n4  01812a_GA3-TUM_third_pool_1_01_01-DDA-1h-R1        26459   \n\n                                   modified_sequence  precursor_charge  \\\n0                                        DNYDQLVRIAK                 2   \n1                                        MDLESQISDMR                 2   \n2                                         QLQQIERQLK                 2   \n3  PC[UNIMOD:4]C[UNIMOD:4]C[UNIMOD:4]QTTC[UNIMOD:...                 2   \n4                                        LNTEVTTWRTK                 2   \n\n   precursor_intensity         mz  precursor_mz fragmentation mass_analyzer  \\\n0          141925100.0  667.85678    667.854794           HCD          FTMS   \n1           63760280.0  662.79722    662.795297           CID          ITMS   \n2           19577780.0  642.37514    642.375197           CID          ITMS   \n3           29736720.0  701.74308    701.740993           CID          ITMS   \n4           59018990.0  674.86461    674.862699           CID          ITMS   \n\n   retention_time  indexed_retention_time  andromeda_score  peptide_length  \\\n0          36.056               52.907997           305.69              11   \n1          40.771               64.728002           298.84              11   \n2          27.111               30.483831           297.36              10   \n3          11.142               -9.548759           290.68              10   \n4          29.309               35.993983           290.28              11   \n\n   orig_collision_energy  aligned_collision_energy  \n0                   28.0                 30.721936  \n1                   35.0                 35.000000  \n2                   35.0                 35.000000  \n3                   35.0                 35.000000  \n4                   35.0                 35.000000  ",
      "text/html": "<div>\n<style scoped>\n    .dataframe tbody tr th:only-of-type {\n        vertical-align: middle;\n    }\n\n    .dataframe tbody tr th {\n        vertical-align: top;\n    }\n\n    .dataframe thead th {\n        text-align: right;\n    }\n</style>\n<table border=\"1\" class=\"dataframe\">\n  <thead>\n    <tr style=\"text-align: right;\">\n      <th></th>\n      <th>raw_file</th>\n      <th>scan_number</th>\n      <th>modified_sequence</th>\n      <th>precursor_charge</th>\n      <th>precursor_intensity</th>\n      <th>mz</th>\n      <th>precursor_mz</th>\n      <th>fragmentation</th>\n      <th>mass_analyzer</th>\n      <th>retention_time</th>\n      <th>indexed_retention_time</th>\n      <th>andromeda_score</th>\n      <th>peptide_length</th>\n      <th>orig_collision_energy</th>\n      <th>aligned_collision_energy</th>\n    </tr>\n  </thead>\n  <tbody>\n    <tr>\n      <th>0</th>\n      <td>01812a_GA3-TUM_third_pool_1_01_01-DDA-1h-R1</td>\n      <td>34341</td>\n      <td>DNYDQLVRIAK</td>\n      <td>2</td>\n      <td>141925100.0</td>\n      <td>667.85678</td>\n      <td>667.854794</td>\n      <td>HCD</td>\n      <td>FTMS</td>\n      <td>36.056</td>\n      <td>52.907997</td>\n      <td>305.69</td>\n      <td>11</td>\n      <td>28.0</td>\n      <td>30.721936</td>\n    </tr>\n    <tr>\n      <th>1</th>\n      <td>01812a_GA3-TUM_third_pool_1_01_01-DDA-1h-R1</td>\n      <td>39787</td>\n      <td>MDLESQISDMR</td>\n      <td>2</td>\n      <td>63760280.0</td>\n      <td>662.79722</td>\n      <td>662.795297</td>\n      <td>CID</td>\n      <td>ITMS</td>\n      <td>40.771</td>\n      <td>64.728002</td>\n      <td>298.84</td>\n      <td>11</td>\n      <td>35.0</td>\n      <td>35.000000</td>\n    </tr>\n    <tr>\n      <th>2</th>\n      <td>01812a_GA3-TUM_third_pool_1_01_01-DDA-1h-R1</td>\n      <td>23850</td>\n      <td>QLQQIERQLK</td>\n      <td>2</td>\n      <td>19577780.0</td>\n      <td>642.37514</td>\n      <td>642.375197</td>\n      <td>CID</td>\n      <td>ITMS</td>\n      <td>27.111</td>\n      <td>30.483831</td>\n      <td>297.36</td>\n      <td>10</td>\n      <td>35.0</td>\n      <td>35.000000</td>\n    </tr>\n    <tr>\n      <th>3</th>\n      <td>01812a_GA3-TUM_third_pool_1_01_01-DDA-1h-R1</td>\n      <td>5398</td>\n      <td>PC[UNIMOD:4]C[UNIMOD:4]C[UNIMOD:4]QTTC[UNIMOD:...</td>\n      <td>2</td>\n      <td>29736720.0</td>\n      <td>701.74308</td>\n      <td>701.740993</td>\n      <td>CID</td>\n      <td>ITMS</td>\n      <td>11.142</td>\n      <td>-9.548759</td>\n      <td>290.68</td>\n      <td>10</td>\n      <td>35.0</td>\n      <td>35.000000</td>\n    </tr>\n    <tr>\n      <th>4</th>\n      <td>01812a_GA3-TUM_third_pool_1_01_01-DDA-1h-R1</td>\n      <td>26459</td>\n      <td>LNTEVTTWRTK</td>\n      <td>2</td>\n      <td>59018990.0</td>\n      <td>674.86461</td>\n      <td>674.862699</td>\n      <td>CID</td>\n      <td>ITMS</td>\n      <td>29.309</td>\n      <td>35.993983</td>\n      <td>290.28</td>\n      <td>11</td>\n      <td>35.0</td>\n      <td>35.000000</td>\n    </tr>\n  </tbody>\n</table>\n</div>"
     },
     "execution_count": 8,
     "metadata": {},
     "output_type": "execute_result"
    }
   ],
   "source": [
    "thermo_srm_pool_df.head()\n",
    "thermo_srm_pool_df.drop(\n",
    "    columns=[\"scan_number\", \"precursor_charge\", \"precursor_intensity\", \"precursor_intensity\", \"fragmentation\",\n",
    "             \"mass_analyzer\", \"andromeda_score\", \"orig_collision_energy\", \"aligned_collision_energy\"])"
   ],
   "metadata": {
    "collapsed": false,
    "ExecuteTime": {
     "end_time": "2023-06-01T12:59:30.207587450Z",
     "start_time": "2023-06-01T12:59:30.165216177Z"
    }
   }
  },
  {
   "cell_type": "code",
   "execution_count": 24,
   "outputs": [],
   "source": [
    "data_tuple = (thermo_srm_pool_df, tum_aspn_df, tum_first_pool_df, tum_hla2_df, tum_hla_df, tum_isoform_df, tum_lysn_df,\n",
    "              tum_missing_first_df, tum_proteo_tmt_df, tum_second_addon_df, tum_second_pool_df, tum_third_pool_df)\n"
   ],
   "metadata": {
    "collapsed": false,
    "ExecuteTime": {
     "end_time": "2023-06-04T08:19:07.510248524Z",
     "start_time": "2023-06-04T08:19:07.466874554Z"
    }
   }
  },
  {
   "cell_type": "code",
   "execution_count": 5,
   "outputs": [],
   "source": [
    "ttp = tum_third_pool_df.drop(\n",
    "    columns=[\"scan_number\", \"precursor_charge\", \"precursor_intensity\", \"precursor_intensity\", \"fragmentation\",\n",
    "             \"mass_analyzer\", \"andromeda_score\", \"orig_collision_energy\", \"aligned_collision_energy\"])\n"
   ],
   "metadata": {
    "collapsed": false,
    "ExecuteTime": {
     "end_time": "2023-06-01T13:16:22.713802461Z",
     "start_time": "2023-06-01T13:16:22.698562902Z"
    }
   }
  },
  {
   "cell_type": "code",
   "execution_count": 25,
   "outputs": [
    {
     "data": {
      "text/plain": "(                                                raw_file  scan_number  \\\n 0           01640c_BC1-Thermo_SRM_Pool_3_01_01-DDA-1h-R2        34736   \n 1           01640c_BC1-Thermo_SRM_Pool_3_01_01-DDA-1h-R2        25591   \n 2           01640c_BC1-Thermo_SRM_Pool_3_01_01-DDA-1h-R2        24831   \n 3           01640c_BC1-Thermo_SRM_Pool_3_01_01-DDA-1h-R2        34870   \n 4           01640c_BC1-Thermo_SRM_Pool_3_01_01-DDA-1h-R2        33125   \n ...                                                  ...          ...   \n 6080601  01640c_BC7-Thermo_SRM_Pool_51_01_01-3xHCD-1h-R2        48700   \n 6080602  01640c_BC7-Thermo_SRM_Pool_51_01_01-3xHCD-1h-R2        48699   \n 6080603  01640c_BC7-Thermo_SRM_Pool_51_01_01-3xHCD-1h-R2        45095   \n 6080604  01640c_BC7-Thermo_SRM_Pool_51_01_01-3xHCD-1h-R2        45096   \n 6080605  01640c_BC7-Thermo_SRM_Pool_51_01_01-3xHCD-1h-R2        48744   \n \n                               modified_sequence  precursor_charge  \\\n 0                          LPGSLETYVEQEQGENANDR                 2   \n 1                               HGSLQEYLQNDTGSK                 2   \n 2                                VEEEEEINSELTAR                 2   \n 3                          LPGSLETYVEQEQGENANDR                 2   \n 4                          NSSTAEINETTTSSTDFLAR                 2   \n ...                                         ...               ...   \n 6080601  YSQLFC[UNIMOD:4]GLPSLHSESLVATFMGSQGLPK                 3   \n 6080602  YSQLFC[UNIMOD:4]GLPSLHSESLVATFMGSQGLPK                 3   \n 6080603          EMENFVQSSGEDGIVVFSLGSLFQNVTEEK                 3   \n 6080604          EMENFVQSSGEDGIVVFSLGSLFQNVTEEK                 3   \n 6080605  YSQLFC[UNIMOD:4]GLPSLHSESLVATFMGSQGLPK                 3   \n \n          precursor_intensity          mz  precursor_mz fragmentation  \\\n 0                 29525630.0  1125.01950   1125.018331           CID   \n 1                 13188580.0   838.89737    838.894401           HCD   \n 2                 20663460.0   824.38904    824.388401           CID   \n 3                 19884630.0  1125.01950   1125.018831           CID   \n 4                 12804420.0  1073.00070   1072.999855           CID   \n ...                      ...         ...           ...           ...   \n 6080601             573697.7  1018.84030   1018.840102           HCD   \n 6080602             573697.7  1018.84030   1018.840102           HCD   \n 6080603             114742.8  1107.19400   1106.862187           HCD   \n 6080604             114742.8  1107.19400   1106.862187           HCD   \n 6080605             202114.2  1018.84030   1019.509063           HCD   \n \n         mass_analyzer  retention_time  indexed_retention_time  \\\n 0                ITMS          38.411               62.827337   \n 1                FTMS          30.394               42.030163   \n 2                ITMS          29.737               40.325817   \n 3                ITMS          38.539               63.159386   \n 4                ITMS          36.990               59.141072   \n ...               ...             ...                     ...   \n 6080601          FTMS          56.168              111.878402   \n 6080602          FTMS          56.168              111.878402   \n 6080603          FTMS          52.253              101.767741   \n 6080604          FTMS          52.254              101.770323   \n 6080605          FTMS          56.214              111.997199   \n \n          andromeda_score  peptide_length  orig_collision_energy  \\\n 0                 447.14              20                   35.0   \n 1                 417.84              15                   28.0   \n 2                 365.69              14                   35.0   \n 3                 365.02              20                   35.0   \n 4                 356.50              20                   35.0   \n ...                  ...             ...                    ...   \n 6080601             0.00              28                   35.0   \n 6080602             0.00              28                   30.0   \n 6080603             0.00              30                   25.0   \n 6080604             0.00              30                   30.0   \n 6080605             0.00              28                   35.0   \n \n          aligned_collision_energy  \n 0                       35.000000  \n 1                       31.447596  \n 2                       35.000000  \n 3                       35.000000  \n 4                       35.000000  \n ...                           ...  \n 6080601                 36.314648  \n 6080602                 31.314648  \n 6080603                 26.314648  \n 6080604                 31.314648  \n 6080605                 36.314648  \n \n [6080606 rows x 15 columns],\n                                              raw_file  scan_number  \\\n 0        03210a_BE5-TUM_aspn_5_01_01-2xIT_2xHCD-1h-R1        39748   \n 1        03210a_BE5-TUM_aspn_5_01_01-2xIT_2xHCD-1h-R1        39777   \n 2        03210a_BE5-TUM_aspn_5_01_01-2xIT_2xHCD-1h-R1        39677   \n 3        03210a_BE5-TUM_aspn_5_01_01-2xIT_2xHCD-1h-R1        40022   \n 4        03210a_BE5-TUM_aspn_5_01_01-2xIT_2xHCD-1h-R1        39678   \n ...                                               ...          ...   \n 2586161        03210a_BH5-TUM_aspn_41_01_01-DDA-1h-R1        53355   \n 2586162        03210a_BH5-TUM_aspn_41_01_01-DDA-1h-R1         8684   \n 2586163        03210a_BH5-TUM_aspn_41_01_01-DDA-1h-R1         9220   \n 2586164        03210a_BH5-TUM_aspn_41_01_01-DDA-1h-R1         8136   \n 2586165        03210a_BH5-TUM_aspn_41_01_01-DDA-1h-R1         8143   \n \n                                          modified_sequence  precursor_charge  \\\n 0                           DSVGEITKEDLIQKSLGTC[UNIMOD:4]Q                 2   \n 1                           DSVGEITKEDLIQKSLGTC[UNIMOD:4]Q                 2   \n 2                           DSVGEITKEDLIQKSLGTC[UNIMOD:4]Q                 2   \n 3                           DSVGEITKEDLIQKSLGTC[UNIMOD:4]Q                 2   \n 4                           DSVGEITKEDLIQKSLGTC[UNIMOD:4]Q                 2   \n ...                                                    ...               ...   \n 2586161  DEINKRTGSENDIC[UNIMOD:4]GEKISNEQKIVRFKRNDLTVLVAHN                 6   \n 2586162                          DPKSHGNRPSTTVRVHRSSAQNVHN                 7   \n 2586163                          DPKSHGNRPSTTVRVHRSSAQNVHN                 5   \n 2586164                                        DLKIIEHNIRN                 3   \n 2586165                                        DKKGSKNFTFN                 3   \n \n          precursor_intensity          mz  precursor_mz fragmentation  \\\n 0                  7552496.0  1111.05450   1111.055135           CID   \n 1                  7674974.0  1111.05450   1111.054935           CID   \n 2                  3298128.0  1111.05450   1111.055336           CID   \n 3                  1224600.0  1111.05450   1111.055135           CID   \n 4                  3298128.0  1111.05450   1111.055336           HCD   \n ...                      ...         ...           ...           ...   \n 2586161            2506518.0   757.56148    757.119613           CID   \n 2586162             169869.5   398.20624    398.207106           HCD   \n 2586163            1331484.0   557.08582    557.087603           CID   \n 2586164                  NaN   455.59301    455.596509           HCD   \n 2586165             199662.0   429.22269    429.054703           HCD   \n \n         mass_analyzer  retention_time  indexed_retention_time  \\\n 0                ITMS         38.7780               65.467590   \n 1                ITMS         38.7980               65.517586   \n 2                ITMS         38.7290               65.345099   \n 3                ITMS         38.9680               65.942554   \n 4                ITMS         38.7300               65.347599   \n ...               ...             ...                     ...   \n 2586161          ITMS         41.6380               74.570460   \n 2586162          FTMS          9.5056               -6.203775   \n 2586163          ITMS          9.9635               -5.052709   \n 2586164          FTMS          9.0668               -7.306828   \n 2586165          FTMS          9.0742               -7.288226   \n \n          andromeda_score  peptide_length  orig_collision_energy  \\\n 0             396.050000              20                   35.0   \n 1             367.480000              20                   35.0   \n 2             351.160000              20                   35.0   \n 3             301.380000              20                   35.0   \n 4             295.530000              20                   28.0   \n ...                  ...             ...                    ...   \n 2586161         0.105100              39                   35.0   \n 2586162         0.050380              25                   28.0   \n 2586163         0.018792              25                   35.0   \n 2586164         0.000000              11                   28.0   \n 2586165         0.000000              11                   28.0   \n \n          aligned_collision_energy  \n 0                       35.000000  \n 1                       35.000000  \n 2                       35.000000  \n 3                       35.000000  \n 4                       30.113057  \n ...                           ...  \n 2586161                 35.000000  \n 2586162                 34.427613  \n 2586163                 35.000000  \n 2586164                 34.427613  \n 2586165                 34.427613  \n \n [2586166 rows x 15 columns],\n                                                 raw_file  scan_number  \\\n 0          01625b_GA1-TUM_first_pool_1_01_01-3xHCD-1h-R1         9465   \n 1          01625b_GA1-TUM_first_pool_1_01_01-3xHCD-1h-R1        16689   \n 2          01625b_GA1-TUM_first_pool_1_01_01-3xHCD-1h-R1        23310   \n 3          01625b_GA1-TUM_first_pool_1_01_01-3xHCD-1h-R1        26115   \n 4          01625b_GA1-TUM_first_pool_1_01_01-3xHCD-1h-R1        23409   \n ...                                                  ...          ...   \n 9965732  01709a_GE3-TUM_first_pool_119_01_01-3xHCD-1h-R1        46498   \n 9965733  01709a_GE3-TUM_first_pool_119_01_01-3xHCD-1h-R1        46499   \n 9965734  01709a_GE3-TUM_first_pool_119_01_01-3xHCD-1h-R1        46516   \n 9965735  01709a_GE3-TUM_first_pool_119_01_01-3xHCD-1h-R1        46517   \n 9965736  01709a_GE3-TUM_first_pool_119_01_01-3xHCD-1h-R1        46497   \n \n                             modified_sequence  precursor_charge  \\\n 0                                     KLVEQLR                 2   \n 1                                   QRDPSSFLR                 2   \n 2                                   QGEQIEIIR                 2   \n 3                         QELTQLC[UNIMOD:4]LK                 2   \n 4                                   QGEQIEIIR                 2   \n ...                                       ...               ...   \n 9965732  MSSTPIQDNVDQTYSEELC[UNIMOD:4]YTLINHR                 5   \n 9965733  MSSTPIQDNVDQTYSEELC[UNIMOD:4]YTLINHR                 5   \n 9965734  MSSTPIQDNVDQTYSEELC[UNIMOD:4]YTLINHR                 5   \n 9965735  MSSTPIQDNVDQTYSEELC[UNIMOD:4]YTLINHR                 5   \n 9965736  MSSTPIQDNVDQTYSEELC[UNIMOD:4]YTLINHR                 5   \n \n          precursor_intensity         mz  precursor_mz fragmentation  \\\n 0                997172400.0  443.27945    443.278897           HCD   \n 1                 64341670.0  553.29108    553.290600           HCD   \n 2                357365700.0  543.30111    543.300696           HCD   \n 3                194229200.0  566.80517    566.804896           HCD   \n 4                458835200.0  543.30111    543.300696           HCD   \n ...                      ...        ...           ...           ...   \n 9965732           13554660.0  623.68868    624.089949           HCD   \n 9965733           13554660.0  623.68868    624.089949           HCD   \n 9965734            6088339.0  623.68868    623.889525           HCD   \n 9965735            6088339.0  623.68868    623.889525           HCD   \n 9965736           13554660.0  623.68868    624.089949           HCD   \n \n         mass_analyzer  retention_time  indexed_retention_time  \\\n 0                FTMS          19.537               16.363542   \n 1                FTMS          25.679               32.344600   \n 2                FTMS          31.364               47.136575   \n 3                FTMS          33.763               53.378607   \n 4                FTMS          31.449               47.357739   \n ...               ...             ...                     ...   \n 9965732          FTMS          56.082              113.167849   \n 9965733          FTMS          56.083              113.170475   \n 9965734          FTMS          56.101              113.217757   \n 9965735          FTMS          56.102              113.220384   \n 9965736          FTMS          56.081              113.165222   \n \n          andromeda_score  peptide_length  orig_collision_energy  \\\n 0                 277.39               7                   25.0   \n 1                 275.01               9                   35.0   \n 2                 272.82               9                   25.0   \n 3                 266.03               9                   25.0   \n 4                 265.58               9                   30.0   \n ...                  ...             ...                    ...   \n 9965732             0.00              26                   30.0   \n 9965733             0.00              26                   35.0   \n 9965734             0.00              26                   25.0   \n 9965735             0.00              26                   30.0   \n 9965736             0.00              26                   25.0   \n \n          aligned_collision_energy  \n 0                       27.352073  \n 1                       37.352073  \n 2                       27.352073  \n 3                       27.352073  \n 4                       32.352073  \n ...                           ...  \n 9965732                 31.609295  \n 9965733                 36.609295  \n 9965734                 26.609295  \n 9965735                 31.609295  \n 9965736                 26.609295  \n \n [9965737 rows x 15 columns],\n                                                raw_file  scan_number  \\\n 0                 03035a_GA1-TUM_HLA2_1_01_01-DDA-1h-R1        22407   \n 1                 03035a_GA1-TUM_HLA2_1_01_01-DDA-1h-R1        42717   \n 2                 03035a_GA1-TUM_HLA2_1_01_01-DDA-1h-R1        20304   \n 3                 03035a_GA1-TUM_HLA2_1_01_01-DDA-1h-R1        13965   \n 4                 03035a_GA1-TUM_HLA2_1_01_01-DDA-1h-R1        41665   \n ...                                                 ...          ...   \n 7158604  03036a_BE4-TUM_HLA2_148_01_01-2xIT_2xHCD-1h-R1        32275   \n 7158605  03036a_BE4-TUM_HLA2_148_01_01-2xIT_2xHCD-1h-R1        45343   \n 7158606  03036a_BE4-TUM_HLA2_148_01_01-2xIT_2xHCD-1h-R1        49683   \n 7158607  03036a_BE4-TUM_HLA2_148_01_01-2xIT_2xHCD-1h-R1        49024   \n 7158608  03036a_BE4-TUM_HLA2_148_01_01-2xIT_2xHCD-1h-R1        18623   \n \n              modified_sequence  precursor_charge  precursor_intensity  \\\n 0                 QLISSQAQQGGQ                 1           10627320.0   \n 1                 LLTELAAQAERQ                 2          497767800.0   \n 2                 PASAAAPEEQVQ                 1           67408680.0   \n 3                   QAASLEAEHQ                 1           15523780.0   \n 4                  DQTAEFKEAFQ                 2          265934600.0   \n ...                        ...               ...                  ...   \n 7158604   SLQGDKLEVSLKNNVVSVNK                 3                  NaN   \n 7158605  TIQNRQAQIEVVPSASALIIK                 2                  NaN   \n 7158606  EFGRFASFEAQGALANIAVDK                 2                  NaN   \n 7158607  EFGRFASFEAQGALANIAVDK                 3            2055445.0   \n 7158608   DSGYVSAYKNAGTYDAKVKK                 2                  NaN   \n \n                  mz  precursor_mz fragmentation mass_analyzer  retention_time  \\\n 0        1244.62300   1244.623546           HCD          FTMS          21.926   \n 1         671.86989    671.869799           HCD          FTMS          36.223   \n 2        1197.57460   1197.574192           HCD          FTMS          20.465   \n 3        1083.50650   1083.506472           HCD          FTMS          16.061   \n 4         657.30405    657.304301           CID          ITMS          35.464   \n ...             ...           ...           ...           ...             ...   \n 7158604   724.40586    724.408105           HCD          FTMS          33.453   \n 7158605  1140.15770   1140.159986           HCD          FTMS          43.327   \n 7158606  1121.06860   1121.071836           HCD          FTMS          46.674   \n 7158607   747.71480    748.053252           HCD          FTMS          46.161   \n 7158608  1083.04730   1083.049702           HCD          FTMS          22.814   \n \n          indexed_retention_time  andromeda_score  peptide_length  \\\n 0                     22.881869         347.5600              12   \n 1                     58.954433         331.2500              12   \n 2                     19.195640         306.1900              12   \n 3                      8.083968         303.2200              10   \n 4                     57.039411         294.4900              11   \n ...                         ...              ...             ...   \n 7158604               50.185162           7.1882              20   \n 7158605               74.400981           7.0983              21   \n 7158606               82.609442           6.7940              21   \n 7158607               81.351318           6.5033              21   \n 7158608               24.093194           6.2270              20   \n \n          orig_collision_energy  aligned_collision_energy  \n 0                         28.0                 30.173244  \n 1                         28.0                 30.173244  \n 2                         28.0                 30.173244  \n 3                         28.0                 30.173244  \n 4                         35.0                 35.000000  \n ...                        ...                       ...  \n 7158604                   23.0                 26.475847  \n 7158605                   23.0                 26.475847  \n 7158606                   23.0                 26.475847  \n 7158607                   20.0                 23.475847  \n 7158608                   23.0                 26.475847  \n \n [7158609 rows x 15 columns],\n                                                raw_file  scan_number  \\\n 0                  02445a_BA3-TUM_HLA_3_01_01-DDA-1h-R1        30176   \n 1                  02445a_BA3-TUM_HLA_3_01_01-DDA-1h-R1        25472   \n 2                  02445a_BA3-TUM_HLA_3_01_01-DDA-1h-R1        30373   \n 3                  02445a_BA3-TUM_HLA_3_01_01-DDA-1h-R1        27127   \n 4                  02445a_BA3-TUM_HLA_3_01_01-DDA-1h-R1        41785   \n ...                                                 ...          ...   \n 10686185  02446d_GG9-TUM_HLA_177_01_01-2xIT_2xHCD-1h-R4        68285   \n 10686186  02446d_GG9-TUM_HLA_177_01_01-2xIT_2xHCD-1h-R4        64157   \n 10686187  02446d_GG9-TUM_HLA_177_01_01-2xIT_2xHCD-1h-R4        67083   \n 10686188  02446d_GG9-TUM_HLA_177_01_01-2xIT_2xHCD-1h-R4        82785   \n 10686189  02446d_GG9-TUM_HLA_177_01_01-2xIT_2xHCD-1h-R4        67080   \n \n          modified_sequence  precursor_charge  precursor_intensity         mz  \\\n 0                PNQSLANKI                 2           37599650.0  492.77727   \n 1                EHEQFQHAI                 2           10944820.0  569.76744   \n 2                PNQSLANKI                 2           27332480.0  492.77727   \n 3                AETLSKQSI                 2           45520000.0  488.76911   \n 4                EHAFQLEHI                 2           28613300.0  562.28018   \n ...                    ...               ...                  ...        ...   \n 10686185      VNLSQILVTGAQ                 2             707488.1  621.85625   \n 10686186      ELAYVAQVWANQ                 2             442761.8  696.35133   \n 10686187      LPQLVGVSTPLQ                 2             476828.6  626.36900   \n 10686188      YLDQTVVPILLQ                 2             476431.3  701.40304   \n 10686189      LPQLVGVSTPLQ                 2             476828.6  626.36900   \n \n           precursor_mz fragmentation mass_analyzer  retention_time  \\\n 0           492.777597           HCD          FTMS          25.357   \n 1           569.767603           CID          ITMS          22.249   \n 2           492.777597           HCD          FTMS          25.485   \n 3           488.769396           CID          ITMS          23.351   \n 4           562.279999           CID          ITMS          33.034   \n ...                ...           ...           ...             ...   \n 10686185    621.856799           HCD          FTMS          49.086   \n 10686186    696.353099           HCD          FTMS          46.502   \n 10686187    626.369906           HCD          FTMS          48.346   \n 10686188    702.866106           HCD          FTMS          58.563   \n 10686189    626.369906           HCD          FTMS          48.344   \n \n           indexed_retention_time  andromeda_score  peptide_length  \\\n 0                      32.149201          313.880               9   \n 1                      24.030927          268.900               9   \n 2                      32.483544          265.580               9   \n 3                      26.909414          261.600               9   \n 4                      52.201964          249.690               9   \n ...                          ...              ...             ...   \n 10686185               93.699922           27.098              12   \n 10686186               87.270458           27.098              12   \n 10686187               91.858666           26.412              12   \n 10686188              117.280428           25.701              12   \n 10686189               91.853690           25.342              12   \n \n           orig_collision_energy  aligned_collision_energy  \n 0                          28.0                 31.152536  \n 1                          35.0                 35.000000  \n 2                          28.0                 31.152536  \n 3                          35.0                 35.000000  \n 4                          35.0                 35.000000  \n ...                         ...                       ...  \n 10686185                   20.0                 21.630454  \n 10686186                   20.0                 21.630454  \n 10686187                   23.0                 24.630454  \n 10686188                   23.0                 24.630454  \n 10686189                   20.0                 21.630454  \n \n [10686190 rows x 15 columns],\n                                               raw_file  scan_number  \\\n 0             02097a_BA5-TUM_isoform_5_01_01-DDA-1h-R3        11741   \n 1             02097a_BA5-TUM_isoform_5_01_01-DDA-1h-R3        26247   \n 2             02097a_BA5-TUM_isoform_5_01_01-DDA-1h-R3        24297   \n 3             02097a_BA5-TUM_isoform_5_01_01-DDA-1h-R3         9660   \n 4             02097a_BA5-TUM_isoform_5_01_01-DDA-1h-R3        13183   \n ...                                                ...          ...   \n 9520338  02080d_GB10-TUM_isoform_118_01_01-3xHCD-1h-R1        50525   \n 9520339  02080d_GB10-TUM_isoform_118_01_01-3xHCD-1h-R1        44100   \n 9520340  02080d_GB10-TUM_isoform_118_01_01-3xHCD-1h-R1        50526   \n 9520341  02080d_GB10-TUM_isoform_118_01_01-3xHCD-1h-R1        44143   \n 9520342  02080d_GB10-TUM_isoform_118_01_01-3xHCD-1h-R1        44101   \n \n                        modified_sequence  precursor_charge  \\\n 0                               KLGVDVQR                 2   \n 1                                QLVLRLK                 2   \n 2                                LSQELEK                 2   \n 3                                LSQELEK                 2   \n 4                                AGASFYK                 2   \n ...                                  ...               ...   \n 9520338            TLEQSVGEWLESIGLQQYESK                 2   \n 9520339  SELEDFPVLGIDC[UNIMOD:4]EWVNLEGK                 2   \n 9520340            TLEQSVGEWLESIGLQQYESK                 2   \n 9520341  SELEDFPVLGIDC[UNIMOD:4]EWVNLEGK                 2   \n 9520342  SELEDFPVLGIDC[UNIMOD:4]EWVNLEGK                 2   \n \n          precursor_intensity          mz  precursor_mz fragmentation  \\\n 0                334885400.0   457.77453    457.775097           HCD   \n 1                 69617540.0   435.30019    435.300704           HCD   \n 2                 76090070.0   423.73200    423.732601           CID   \n 3                 38502780.0   423.73200    423.732501           CID   \n 4                154565600.0   372.18977    372.190300           CID   \n ...                      ...         ...           ...           ...   \n 9520338                  NaN  1212.60010   1212.639439           HCD   \n 9520339           12344080.0  1225.08320   1225.589494           HCD   \n 9520340                  NaN  1212.60010   1212.639439           HCD   \n 9520341            3206731.0  1225.08320   1225.087481           HCD   \n 9520342           12344080.0  1225.08320   1225.589494           HCD   \n \n         mass_analyzer  retention_time  indexed_retention_time  \\\n 0                FTMS          18.573               11.349586   \n 1                FTMS          30.903               38.188942   \n 2                ITMS          29.296               34.690901   \n 3                ITMS          16.792                7.472791   \n 4                ITMS          19.841               14.109708   \n ...               ...             ...                     ...   \n 9520338          FTMS          59.384              122.847173   \n 9520339          FTMS          53.126              106.551571   \n 9520340          FTMS          59.385              122.849777   \n 9520341          FTMS          53.166              106.655730   \n 9520342          FTMS          53.127              106.554175   \n \n          andromeda_score  peptide_length  orig_collision_energy  \\\n 0                 218.20               8                   28.0   \n 1                 205.13               7                   28.0   \n 2                 200.16               7                   35.0   \n 3                 200.16               7                   35.0   \n 4                 195.85               7                   35.0   \n ...                  ...             ...                    ...   \n 9520338             0.00              21                   30.0   \n 9520339             0.00              21                   30.0   \n 9520340             0.00              21                   35.0   \n 9520341             0.00              21                   25.0   \n 9520342             0.00              21                   35.0   \n \n          aligned_collision_energy  \n 0                       28.977733  \n 1                       28.977733  \n 2                       35.000000  \n 3                       35.000000  \n 4                       35.000000  \n ...                           ...  \n 9520338                 33.143956  \n 9520339                 33.143956  \n 9520340                 38.143956  \n 9520341                 28.143956  \n 9520342                 38.143956  \n \n [9520343 rows x 15 columns],\n                                              raw_file  scan_number  \\\n 0        03210a_BA4-TUM_lysn_4_01_01-2xIT_2xHCD-1h-R1        64421   \n 1        03210a_BA4-TUM_lysn_4_01_01-2xIT_2xHCD-1h-R1        33615   \n 2        03210a_BA4-TUM_lysn_4_01_01-2xIT_2xHCD-1h-R1        33683   \n 3        03210a_BA4-TUM_lysn_4_01_01-2xIT_2xHCD-1h-R1        31071   \n 4        03210a_BA4-TUM_lysn_4_01_01-2xIT_2xHCD-1h-R1        64856   \n ...                                               ...          ...   \n 2206722        03210a_BD7-TUM_lysn_43_01_01-DDA-1h-R1        48708   \n 2206723        03210a_BD7-TUM_lysn_43_01_01-DDA-1h-R1        48525   \n 2206724        03210a_BD7-TUM_lysn_43_01_01-DDA-1h-R1        31203   \n 2206725        03210a_BD7-TUM_lysn_43_01_01-DDA-1h-R1        31784   \n 2206726        03210a_BD7-TUM_lysn_43_01_01-DDA-1h-R1        47527   \n \n                         modified_sequence  precursor_charge  \\\n 0                             KMNLEEELDEL                 2   \n 1                             KHWNSFDTQTL                 2   \n 2                             KHWNSFDTQTL                 2   \n 3                             KEQIQNQLDHL                 2   \n 4                             KMNLEEELDEL                 2   \n ...                                   ...               ...   \n 2206722  KLRAGFVGGQFWSVYTPC[UNIMOD:4]DTQN                 3   \n 2206723  KLRAGFVGGQFWSVYTPC[UNIMOD:4]DTQN                 3   \n 2206724          KKINSQNQPTGIHREPPPPPFSVN                 5   \n 2206725          KKINSQNQPTGIHREPPPPPFSVN                 5   \n 2206726            KVNDNKEPEQIAFQDEDEAQLN                 2   \n \n          precursor_intensity          mz  precursor_mz fragmentation  \\\n 0                148341300.0   681.82650    681.825899           CID   \n 1                277988200.0   688.83331    688.832701           CID   \n 2                397982400.0   688.83331    688.832901           CID   \n 3                301164800.0   683.35969    683.358999           CID   \n 4                 93849320.0   681.82650    681.825899           CID   \n ...                      ...         ...           ...           ...   \n 2206722                  NaN   844.40939    844.412308           HCD   \n 2206723                  NaN   844.40939    843.415118           HCD   \n 2206724           12301560.0   537.28803    537.289400           CID   \n 2206725           32339840.0   537.28803    537.289600           CID   \n 2206726                  NaN  1287.60140   1287.606350           HCD   \n \n         mass_analyzer  retention_time  indexed_retention_time  \\\n 0                ITMS          45.196               83.362084   \n 1                ITMS          28.203               40.550439   \n 2                ITMS          28.240               40.643656   \n 3                ITMS          26.808               37.035919   \n 4                ITMS          45.432               83.956655   \n ...               ...             ...                     ...   \n 2206722          FTMS          37.698               63.442500   \n 2206723          FTMS          37.575               63.124564   \n 2206724          ITMS          25.236               31.230129   \n 2206725          ITMS          25.650               32.300256   \n 2206726          FTMS          36.871               61.304831   \n \n          andromeda_score  peptide_length  orig_collision_energy  \\\n 0              308.21000              11                   35.0   \n 1              289.22000              11                   35.0   \n 2              288.11000              11                   35.0   \n 3              284.73000              11                   35.0   \n 4              279.90000              11                   35.0   \n ...                  ...             ...                    ...   \n 2206722          1.31630              22                   28.0   \n 2206723          1.26950              22                   28.0   \n 2206724          1.11670              24                   35.0   \n 2206725          0.91519              24                   35.0   \n 2206726          0.87008              22                   28.0   \n \n          aligned_collision_energy  \n 0                       35.000000  \n 1                       35.000000  \n 2                       35.000000  \n 3                       35.000000  \n 4                       35.000000  \n ...                           ...  \n 2206722                 32.808374  \n 2206723                 32.808374  \n 2206724                 35.000000  \n 2206725                 35.000000  \n 2206726                 32.808374  \n \n [2206727 rows x 15 columns],\n                                                 raw_file  scan_number  \\\n 0         01974c_BC1-TUM_missing_first_3_01_01-DDA-1h-R4        10975   \n 1         01974c_BC1-TUM_missing_first_3_01_01-DDA-1h-R4        11115   \n 2         01974c_BC1-TUM_missing_first_3_01_01-DDA-1h-R4        21029   \n 3         01974c_BC1-TUM_missing_first_3_01_01-DDA-1h-R4        20396   \n 4         01974c_BC1-TUM_missing_first_3_01_01-DDA-1h-R4        25696   \n ...                                                  ...          ...   \n 445405  01974c_BG1-TUM_missing_first_7_01_01-3xHCD-1h-R4         1748   \n 445406  01974c_BG1-TUM_missing_first_7_01_01-3xHCD-1h-R4         1747   \n 445407  01974c_BG1-TUM_missing_first_7_01_01-3xHCD-1h-R4         1723   \n 445408  01974c_BG1-TUM_missing_first_7_01_01-3xHCD-1h-R4         1722   \n 445409  01974c_BG1-TUM_missing_first_7_01_01-3xHCD-1h-R4         1721   \n \n           modified_sequence  precursor_charge  precursor_intensity         mz  \\\n 0       GTC[UNIMOD:4]HYFANK                 2           91521380.0  549.24528   \n 1       GTC[UNIMOD:4]HYFANK                 2           27344940.0  549.24528   \n 2                 AEDEMDLDR                 2          176408500.0  547.22695   \n 3       C[UNIMOD:4]QLADIQSR                 2           96424480.0  545.76912   \n 4        C[UNIMOD:4]VNIEWHR                 2           52277360.0  557.26655   \n ...                     ...               ...                  ...        ...   \n 445405   SSTQLHELTPHHQSGGER                 3             639334.2  667.65595   \n 445406   SSTQLHELTPHHQSGGER                 3             639334.2  667.65595   \n 445407   SSTQLHELTPHHQSGGER                 3             868183.0  667.65595   \n 445408   SSTQLHELTPHHQSGGER                 3             868183.0  667.65595   \n 445409   SSTQLHELTPHHQSGGER                 3             868183.0  667.65595   \n \n         precursor_mz fragmentation mass_analyzer  retention_time  \\\n 0         549.245397           HCD          FTMS         16.5470   \n 1         549.245197           HCD          FTMS         16.6500   \n 2         547.226997           CID          ITMS         24.0390   \n 3         545.769097           HCD          FTMS         23.5560   \n 4         557.266400           HCD          FTMS         27.6670   \n ...              ...           ...           ...             ...   \n 445405    667.656904           HCD          FTMS          9.2986   \n 445406    667.656904           HCD          FTMS          9.2979   \n 445407    667.656804           HCD          FTMS          9.2718   \n 445408    667.656804           HCD          FTMS          9.2711   \n 445409    667.656804           HCD          FTMS          9.2704   \n \n         indexed_retention_time  andromeda_score  peptide_length  \\\n 0                     7.644208           234.47               9   \n 1                     7.902865           218.73               9   \n 2                    26.458401           215.93               9   \n 3                    25.245473           202.20               9   \n 4                    35.569172           199.70               8   \n ...                        ...              ...             ...   \n 445405              -10.165749             0.00              18   \n 445406              -10.167602             0.00              18   \n 445407              -10.236708             0.00              18   \n 445408              -10.238562             0.00              18   \n 445409              -10.240415             0.00              18   \n \n         orig_collision_energy  aligned_collision_energy  \n 0                        28.0                 29.476527  \n 1                        28.0                 29.476527  \n 2                        35.0                 35.000000  \n 3                        28.0                 29.476527  \n 4                        28.0                 29.476527  \n ...                       ...                       ...  \n 445405                   30.0                 31.629866  \n 445406                   25.0                 26.629866  \n 445407                   35.0                 36.629866  \n 445408                   30.0                 31.629866  \n 445409                   25.0                 26.629866  \n \n [445410 rows x 15 columns],\n                                                   raw_file  scan_number  \\\n 0              02101a_GA3-TUM_proteo_TMT_3_01_01-DDA-1h-R1         6418   \n 1              02101a_GA3-TUM_proteo_TMT_3_01_01-DDA-1h-R1        21297   \n 2              02101a_GA3-TUM_proteo_TMT_3_01_01-DDA-1h-R1        21524   \n 3              02101a_GA3-TUM_proteo_TMT_3_01_01-DDA-1h-R1         6419   \n 4              02101a_GA3-TUM_proteo_TMT_3_01_01-DDA-1h-R1        15846   \n ...                                                    ...          ...   \n 2579113  02101a_GB12-TUM_proteo_TMT_24_01_01-2xIT_2xHCD...         1844   \n 2579114  02101a_GB12-TUM_proteo_TMT_24_01_01-2xIT_2xHCD...        58575   \n 2579115  02101a_GB12-TUM_proteo_TMT_24_01_01-2xIT_2xHCD...         1417   \n 2579116  02101a_GB12-TUM_proteo_TMT_24_01_01-2xIT_2xHCD...        58631   \n 2579117  02101a_GB12-TUM_proteo_TMT_24_01_01-2xIT_2xHCD...         3678   \n \n         modified_sequence  precursor_charge  precursor_intensity         mz  \\\n 0              LAYKQEEQSK                 2         4.940789e+07  612.31696   \n 1              VTVVDVNESR                 2         5.953753e+08  559.29603   \n 2              VTVVDVNESR                 2         1.749299e+08  559.29603   \n 3              LAYKQEEQSK                 2         4.940789e+07  612.31696   \n 4              LAYKQEEQSK                 2         2.252845e+07  612.31696   \n ...                   ...               ...                  ...        ...   \n 2579113  SGAEEASGHRQDTEER                 3         5.046693e+05  586.92610   \n 2579114   GDLLFLTNFREDPIR                 3         4.484447e+07  602.65634   \n 2579115  SEGGGTGESSQGGTSK                 2         3.564291e+04  713.30805   \n 2579116   GWAVQLLDLTFAAAR                 3         7.399813e+06  544.63499   \n 2579117  ASHMGVSTDSGTQETK                 2                  NaN  818.36758   \n \n          precursor_mz fragmentation mass_analyzer  retention_time  \\\n 0          612.321708           HCD          FTMS         13.2130   \n 1          559.300310           CID          ITMS         25.5840   \n 2          559.300611           CID          ITMS         25.7700   \n 3          612.321708           CID          ITMS         13.2150   \n 4          612.322509           CID          ITMS         21.1420   \n ...               ...           ...           ...             ...   \n 2579113    586.926797           HCD          FTMS          9.3165   \n 2579114    603.660280           HCD          FTMS         48.8480   \n 2579115    713.308702           HCD          FTMS          8.7552   \n 2579116    544.636107           HCD          FTMS         48.8880   \n 2579117    818.368998           HCD          FTMS         10.8780   \n \n          indexed_retention_time  andromeda_score  peptide_length  \\\n 0                     -1.913039           265.36              10   \n 1                     29.432930           261.35              10   \n 2                     29.904221           261.35              10   \n 3                     -1.907971           248.09              10   \n 4                     18.177672           242.97              10   \n ...                         ...              ...             ...   \n 2579113               -7.931922             0.00              16   \n 2579114               91.817012             0.00              15   \n 2579115               -9.348237             0.00              16   \n 2579116               91.917943             0.00              15   \n 2579117               -3.991825             0.00              16   \n \n          orig_collision_energy  aligned_collision_energy  \n 0                         28.0                 31.699718  \n 1                         35.0                 35.000000  \n 2                         35.0                 35.000000  \n 3                         35.0                 35.000000  \n 4                         35.0                 35.000000  \n ...                        ...                       ...  \n 2579113                   20.0                 25.059020  \n 2579114                   23.0                 28.059020  \n 2579115                   20.0                 25.059020  \n 2579116                   20.0                 25.059020  \n 2579117                   23.0                 28.059020  \n \n [2579118 rows x 15 columns],\n                                                   raw_file  scan_number  \\\n 0            02208a_GA2-TUM_second_addon_2_01_01-DDA-1h-R1        21535   \n 1            02208a_GA2-TUM_second_addon_2_01_01-DDA-1h-R1        15623   \n 2            02208a_GA2-TUM_second_addon_2_01_01-DDA-1h-R1        38366   \n 3            02208a_GA2-TUM_second_addon_2_01_01-DDA-1h-R1        18436   \n 4            02208a_GA2-TUM_second_addon_2_01_01-DDA-1h-R1        12477   \n ...                                                    ...          ...   \n 4105264  02208a_GE5-TUM_second_addon_53_01_01-2xIT_2xHC...         6687   \n 4105265  02208a_GE5-TUM_second_addon_53_01_01-2xIT_2xHC...        36939   \n 4105266  02208a_GE5-TUM_second_addon_53_01_01-2xIT_2xHC...         6742   \n 4105267  02208a_GE5-TUM_second_addon_53_01_01-2xIT_2xHC...         6688   \n 4105268  02208a_GE5-TUM_second_addon_53_01_01-2xIT_2xHC...        35622   \n \n                                          modified_sequence  precursor_charge  \\\n 0                                                 DNEIEQLK                 2   \n 1                                                  KLLQQIR                 2   \n 2                                                  INWQVLK                 2   \n 3                                                  PLLKEIK                 2   \n 4                                                  ILKELQK                 2   \n ...                                                    ...               ...   \n 4105264                      LSDLEDLEEEEEEEEEAEDEEVVATAGDR                 4   \n 4105265  MAGPSLAC[UNIMOD:4]C[UNIMOD:4]LLGLLALTSAC[UNIMO...                 3   \n 4105266                      LSDLEDLEEEEEEEEEAEDEEVVATAGDR                 4   \n 4105267                      LSDLEDLEEEEEEEEEAEDEEVVATAGDR                 4   \n 4105268                     GNQNHLHLTLQNNNGLFIEGLSSTDAEQLK                 3   \n \n          precursor_intensity          mz  precursor_mz fragmentation  \\\n 0               1.006750e+09   494.75092    494.750598           CID   \n 1               7.727527e+08   449.79527    449.794699           HCD   \n 2               4.959275e+08   450.76872    450.768499           HCD   \n 3               8.498150e+08   420.78130    420.780702           CID   \n 4               1.403916e+09   436.28420    436.283596           CID   \n ...                      ...         ...           ...           ...   \n 4105264         1.132443e+06   827.85095    827.851502           HCD   \n 4105265         1.171903e+06  1070.52650   1070.528951           HCD   \n 4105266         6.077246e+05   827.85095    827.851902           HCD   \n 4105267         1.132443e+06   827.85095    827.851502           HCD   \n 4105268         7.066956e+06  1102.55520   1102.552944           HCD   \n \n         mass_analyzer  retention_time  indexed_retention_time  \\\n 0                ITMS          24.816               31.251480   \n 1                FTMS          19.972               18.502435   \n 2                FTMS          38.026               66.019213   \n 3                ITMS          22.264               24.534807   \n 4                ITMS          17.457               11.883143   \n ...               ...             ...                     ...   \n 4105264          FTMS          19.569               17.421016   \n 4105265          FTMS          54.241              105.831655   \n 4105266          FTMS          19.651               17.630109   \n 4105267          FTMS          19.569               17.421016   \n 4105268          FTMS          53.054              102.804906   \n \n          andromeda_score  peptide_length  orig_collision_energy  \\\n 0                 221.94               8                   35.0   \n 1                 217.60               7                   28.0   \n 2                 216.59               7                   28.0   \n 3                 210.67               7                   35.0   \n 4                 207.60               7                   35.0   \n ...                  ...             ...                    ...   \n 4105264             0.00              29                   20.0   \n 4105265             0.00              30                   23.0   \n 4105266             0.00              29                   20.0   \n 4105267             0.00              29                   23.0   \n 4105268             0.00              30                   20.0   \n \n          aligned_collision_energy  \n 0                       35.000000  \n 1                       30.539293  \n 2                       30.539293  \n 3                       35.000000  \n 4                       35.000000  \n ...                           ...  \n 4105264                 21.493942  \n 4105265                 24.493942  \n 4105266                 21.493942  \n 4105267                 24.493942  \n 4105268                 21.493942  \n \n [4105269 rows x 15 columns],\n                                                  raw_file  scan_number  \\\n 0            01709a_GC9-TUM_second_pool_3_01_01-DDA-1h-R1        13130   \n 1            01709a_GC9-TUM_second_pool_3_01_01-DDA-1h-R1        15241   \n 2            01709a_GC9-TUM_second_pool_3_01_01-DDA-1h-R1        25957   \n 3            01709a_GC9-TUM_second_pool_3_01_01-DDA-1h-R1        27818   \n 4            01709a_GC9-TUM_second_pool_3_01_01-DDA-1h-R1        10318   \n ...                                                   ...          ...   \n 6054109  01952a_BG1-TUM_second_pool_129_01_01-3xHCD-1h-R1        21095   \n 6054110  01952a_BG1-TUM_second_pool_129_01_01-3xHCD-1h-R1        29786   \n 6054111  01952a_BG1-TUM_second_pool_129_01_01-3xHCD-1h-R1        31686   \n 6054112  01952a_BG1-TUM_second_pool_129_01_01-3xHCD-1h-R1        31482   \n 6054113  01952a_BG1-TUM_second_pool_129_01_01-3xHCD-1h-R1        31483   \n \n                                          modified_sequence  precursor_charge  \\\n 0                                                  ELMKIQK                 2   \n 1                                                  VRMLMQR                 2   \n 2                                                  KFLYQFK                 2   \n 3                                                  RWPFEDR                 2   \n 4                                                  KHFYFNK                 2   \n ...                                                    ...               ...   \n 6054109                     QQLHLGALGENFLTDLHSEPGRPPLAQIQK                 5   \n 6054110                     RPQADTSLHGNLAGAPLPLLAGASTHFPSK                 3   \n 6054111           NVMLENYRNLVFLGIAVSKPDLITC[UNIMOD:4]LEQEK                 6   \n 6054112  KYISVDAPC[UNIMOD:4]LGLLAAELSLLC[UNIMOD:4]SHEDP...                 3   \n 6054113  KYISVDAPC[UNIMOD:4]LGLLAAELSLLC[UNIMOD:4]SHEDP...                 3   \n \n          precursor_intensity          mz  precursor_mz fragmentation  \\\n 0               3.487686e+08   445.26241    445.263499           HCD   \n 1               2.015493e+08   467.25968    467.260700           HCD   \n 2               1.162281e+09   487.27892    487.280402           CID   \n 3               7.105674e+07   503.24868    503.250300           HCD   \n 4               1.626332e+07   492.25852    492.260204           HCD   \n ...                      ...         ...           ...           ...   \n 6054109         1.244955e+07   662.35674    662.559010           HCD   \n 6054110         1.425841e+07  1008.87200   1008.874225           HCD   \n 6054111         3.642006e+06   585.31249    585.479585           HCD   \n 6054112         4.870058e+06  1100.24020   1099.909559           HCD   \n 6054113         4.870058e+06  1100.24020   1099.909559           HCD   \n \n         mass_analyzer  retention_time  indexed_retention_time  \\\n 0                FTMS          21.349               19.784637   \n 1                FTMS          23.228               24.446705   \n 2                ITMS          32.835               48.283049   \n 3                FTMS          34.514               52.448888   \n 4                FTMS          18.852               13.589222   \n ...               ...             ...                     ...   \n 6054109          FTMS          45.581               84.550108   \n 6054110          FTMS          53.868              106.875000   \n 6054111          FTMS          55.668              111.724138   \n 6054112          FTMS          55.475              111.204203   \n 6054113          FTMS          55.476              111.206897   \n \n          andromeda_score  peptide_length  orig_collision_energy  \\\n 0             235.270000               7                   28.0   \n 1             216.590000               7                   28.0   \n 2             214.010000               7                   35.0   \n 3             211.390000               7                   28.0   \n 4             208.740000               7                   28.0   \n ...                  ...             ...                    ...   \n 6054109         0.003112              30                   30.0   \n 6054110         0.001594              30                   30.0   \n 6054111         0.000580              30                   25.0   \n 6054112         0.000000              30                   30.0   \n 6054113         0.000000              30                   35.0   \n \n          aligned_collision_energy  \n 0                       31.227721  \n 1                       31.227721  \n 2                       35.000000  \n 3                       31.227721  \n 4                       31.227721  \n ...                           ...  \n 6054109                 30.000000  \n 6054110                 30.000000  \n 6054111                 25.000000  \n 6054112                 30.000000  \n 6054113                 35.000000  \n \n [6054114 rows x 15 columns],\n                                              raw_file  scan_number  \\\n 0         01812a_GA3-TUM_third_pool_1_01_01-DDA-1h-R1        34341   \n 1         01812a_GA3-TUM_third_pool_1_01_01-DDA-1h-R1        39787   \n 2         01812a_GA3-TUM_third_pool_1_01_01-DDA-1h-R1        23850   \n 3         01812a_GA3-TUM_third_pool_1_01_01-DDA-1h-R1         5398   \n 4         01812a_GA3-TUM_third_pool_1_01_01-DDA-1h-R1        26459   \n ...                                               ...          ...   \n 338729  01812a_GD3-TUM_third_pool_6_01_01-3xHCD-1h-R1        33729   \n 338730  01812a_GD3-TUM_third_pool_6_01_01-3xHCD-1h-R1        33730   \n 338731  01812a_GD3-TUM_third_pool_6_01_01-3xHCD-1h-R1        37834   \n 338732  01812a_GD3-TUM_third_pool_6_01_01-3xHCD-1h-R1        22221   \n 338733  01812a_GD3-TUM_third_pool_6_01_01-3xHCD-1h-R1        33776   \n \n                                         modified_sequence  precursor_charge  \\\n 0                                             DNYDQLVRIAK                 2   \n 1                                             MDLESQISDMR                 2   \n 2                                              QLQQIERQLK                 2   \n 3       PC[UNIMOD:4]C[UNIMOD:4]C[UNIMOD:4]QTTC[UNIMOD:...                 2   \n 4                                             LNTEVTTWRTK                 2   \n ...                                                   ...               ...   \n 338729                ALSTC[UNIMOD:4]ASHLLGVTIFYGTMIFTYLK                 3   \n 338730                ALSTC[UNIMOD:4]ASHLLGVTIFYGTMIFTYLK                 3   \n 338731                AFSTC[UNIMOD:4]TAHLMVVVLFYGTALSMHLK                 3   \n 338732           MC[UNIMOD:4]DDEETTALVC[UNIMOD:4]DNGSGLVK                 2   \n 338733                ALSTC[UNIMOD:4]ASHLLGVTIFYGTMIFTYLK                 3   \n \n         precursor_intensity          mz  precursor_mz fragmentation  \\\n 0               141925100.0   667.85678    667.854794           HCD   \n 1                63760280.0   662.79722    662.795297           CID   \n 2                19577780.0   642.37514    642.375197           CID   \n 3                29736720.0   701.74308    701.740993           CID   \n 4                59018990.0   674.86461    674.862699           CID   \n ...                     ...         ...           ...           ...   \n 338729            6961095.0   936.48854    936.487602           HCD   \n 338730            6961095.0   936.48854    936.487602           HCD   \n 338731             617071.9   933.14612    933.145403           HCD   \n 338732                  NaN  1107.47160   1107.477212           HCD   \n 338733            7843416.0   936.48854    936.487903           HCD   \n \n        mass_analyzer  retention_time  indexed_retention_time  andromeda_score  \\\n 0               FTMS          36.056               52.907997           305.69   \n 1               ITMS          40.771               64.728002           298.84   \n 2               ITMS          27.111               30.483831           297.36   \n 3               ITMS          11.142               -9.548759           290.68   \n 4               ITMS          29.309               35.993983           290.28   \n ...              ...             ...                     ...              ...   \n 338729          FTMS          48.223               83.085461             0.00   \n 338730          FTMS          48.224               83.087895             0.00   \n 338731          FTMS          51.992               92.259572             0.00   \n 338732          FTMS          37.418               56.785045             0.00   \n 338733          FTMS          48.264               83.185259             0.00   \n \n         peptide_length  orig_collision_energy  aligned_collision_energy  \n 0                   11                   28.0                 30.721936  \n 1                   11                   35.0                 35.000000  \n 2                   10                   35.0                 35.000000  \n 3                   10                   35.0                 35.000000  \n 4                   11                   35.0                 35.000000  \n ...                ...                    ...                       ...  \n 338729              25                   25.0                 27.273282  \n 338730              25                   30.0                 32.273282  \n 338731              25                   35.0                 37.273282  \n 338732              20                   30.0                 32.273282  \n 338733              25                   30.0                 32.273282  \n \n [338734 rows x 15 columns])"
     },
     "execution_count": 25,
     "metadata": {},
     "output_type": "execute_result"
    }
   ],
   "source": [
    "data_tuple"
   ],
   "metadata": {
    "collapsed": false,
    "ExecuteTime": {
     "end_time": "2023-06-04T08:19:11.745574608Z",
     "start_time": "2023-06-04T08:19:11.681098383Z"
    }
   }
  },
  {
   "cell_type": "code",
   "execution_count": 30,
   "outputs": [
    {
     "data": {
      "text/plain": "<BarContainer object of 26 artists>"
     },
     "execution_count": 30,
     "metadata": {},
     "output_type": "execute_result"
    },
    {
     "data": {
      "text/plain": "<Figure size 640x480 with 1 Axes>",
      "image/png": "[encoded data removed]"
     },
     "metadata": {},
     "output_type": "display_data"
    }
   ],
   "source": [
    "counts = ttp[\"peptide_length\"].value_counts()\n",
    "counts = counts.sort_index()\n",
    "pep_len = counts.index\n",
    "plt.bar(pep_len, counts)"
   ],
   "metadata": {
    "collapsed": false,
    "ExecuteTime": {
     "end_time": "2023-06-01T13:28:30.777590661Z",
     "start_time": "2023-06-01T13:28:30.508221361Z"
    }
   }
  },
  {
   "cell_type": "code",
   "execution_count": 35,
   "outputs": [
    {
     "data": {
      "text/plain": "(array([1.0000e+00, 1.0000e+00, 1.0000e+00, 1.9910e+03, 9.6770e+03,\n        1.3201e+04, 1.4742e+04, 1.3367e+04, 1.5358e+04, 1.6607e+04,\n        1.7548e+04, 2.0866e+04, 1.8536e+04, 2.0717e+04, 2.0738e+04,\n        2.0254e+04, 2.0861e+04, 1.7633e+04, 1.7654e+04, 1.5372e+04,\n        1.5627e+04, 1.3442e+04, 1.2763e+04, 1.0949e+04, 1.0828e+04]),\n array([ 0.36639  ,  2.7526144,  5.1388388,  7.5250632,  9.9112876,\n        12.297512 , 14.6837364, 17.0699608, 19.4561852, 21.8424096,\n        24.228634 , 26.6148584, 29.0010828, 31.3873072, 33.7735316,\n        36.159756 , 38.5459804, 40.9322048, 43.3184292, 45.7046536,\n        48.090878 , 50.4771024, 52.8633268, 55.2495512, 57.6357756,\n        60.022    ]),\n <BarContainer object of 25 artists>)"
     },
     "execution_count": 35,
     "metadata": {},
     "output_type": "execute_result"
    },
    {
     "data": {
      "text/plain": "<Figure size 640x480 with 1 Axes>",
      "image/png": "[encoded data removed]"
     },
     "metadata": {},
     "output_type": "display_data"
    }
   ],
   "source": [
    "plt.hist(ttp[\"retention_time\"], bins=25)"
   ],
   "metadata": {
    "collapsed": false,
    "ExecuteTime": {
     "end_time": "2023-06-01T13:30:39.970215738Z",
     "start_time": "2023-06-01T13:30:39.673506553Z"
    }
   }
  },
  {
   "cell_type": "code",
   "execution_count": 24,
   "outputs": [
    {
     "data": {
      "text/plain": "<BarContainer object of 26 artists>"
     },
     "execution_count": 24,
     "metadata": {},
     "output_type": "execute_result"
    },
    {
     "data": {
      "text/plain": "<Figure size 640x480 with 1 Axes>",
      "image/png": "[encoded data removed]"
     },
     "metadata": {},
     "output_type": "display_data"
    }
   ],
   "source": [],
   "metadata": {
    "collapsed": false,
    "ExecuteTime": {
     "end_time": "2023-06-01T13:23:59.425195935Z",
     "start_time": "2023-06-01T13:23:59.160777145Z"
    }
   }
  },
  {
   "cell_type": "markdown",
   "source": [
    "## Analysis of whole dataset\n"
   ],
   "metadata": {
    "collapsed": false
   }
  },
  {
   "cell_type": "code",
   "execution_count": null,
   "outputs": [],
   "source": [
    "# Drop unnecessary columns\n",
    "\n",
    "\n",
    "\n",
    "\n",
    "\n",
    "\n",
    "\n",
    "\n",
    "\n",
    "\n",
    "\n"
   ],
   "metadata": {
    "collapsed": false,
    "ExecuteTime": {
     "start_time": "2023-06-04T08:31:29.561650461Z"
    }
   }
  },
  {
   "cell_type": "code",
   "execution_count": 5,
   "outputs": [
    {
     "data": {
      "text/plain": "                                                raw_file  \\\n0           01640c_BC1-Thermo_SRM_Pool_3_01_01-DDA-1h-R2   \n1           01640c_BC1-Thermo_SRM_Pool_3_01_01-DDA-1h-R2   \n2           01640c_BC1-Thermo_SRM_Pool_3_01_01-DDA-1h-R2   \n3           01640c_BC1-Thermo_SRM_Pool_3_01_01-DDA-1h-R2   \n4           01640c_BC1-Thermo_SRM_Pool_3_01_01-DDA-1h-R2   \n...                                                  ...   \n6080601  01640c_BC7-Thermo_SRM_Pool_51_01_01-3xHCD-1h-R2   \n6080602  01640c_BC7-Thermo_SRM_Pool_51_01_01-3xHCD-1h-R2   \n6080603  01640c_BC7-Thermo_SRM_Pool_51_01_01-3xHCD-1h-R2   \n6080604  01640c_BC7-Thermo_SRM_Pool_51_01_01-3xHCD-1h-R2   \n6080605  01640c_BC7-Thermo_SRM_Pool_51_01_01-3xHCD-1h-R2   \n\n                              modified_sequence          mz  precursor_mz  \\\n0                          LPGSLETYVEQEQGENANDR  1125.01950   1125.018331   \n1                               HGSLQEYLQNDTGSK   838.89737    838.894401   \n2                                VEEEEEINSELTAR   824.38904    824.388401   \n3                          LPGSLETYVEQEQGENANDR  1125.01950   1125.018831   \n4                          NSSTAEINETTTSSTDFLAR  1073.00070   1072.999855   \n...                                         ...         ...           ...   \n6080601  YSQLFC[UNIMOD:4]GLPSLHSESLVATFMGSQGLPK  1018.84030   1018.840102   \n6080602  YSQLFC[UNIMOD:4]GLPSLHSESLVATFMGSQGLPK  1018.84030   1018.840102   \n6080603          EMENFVQSSGEDGIVVFSLGSLFQNVTEEK  1107.19400   1106.862187   \n6080604          EMENFVQSSGEDGIVVFSLGSLFQNVTEEK  1107.19400   1106.862187   \n6080605  YSQLFC[UNIMOD:4]GLPSLHSESLVATFMGSQGLPK  1018.84030   1019.509063   \n\n         retention_time  indexed_retention_time  peptide_length  \n0                38.411               62.827337              20  \n1                30.394               42.030163              15  \n2                29.737               40.325817              14  \n3                38.539               63.159386              20  \n4                36.990               59.141072              20  \n...                 ...                     ...             ...  \n6080601          56.168              111.878402              28  \n6080602          56.168              111.878402              28  \n6080603          52.253              101.767741              30  \n6080604          52.254              101.770323              30  \n6080605          56.214              111.997199              28  \n\n[6080606 rows x 7 columns]",
      "text/html": "<div>\n<style scoped>\n    .dataframe tbody tr th:only-of-type {\n        vertical-align: middle;\n    }\n\n    .dataframe tbody tr th {\n        vertical-align: top;\n    }\n\n    .dataframe thead th {\n        text-align: right;\n    }\n</style>\n<table border=\"1\" class=\"dataframe\">\n  <thead>\n    <tr style=\"text-align: right;\">\n      <th></th>\n      <th>raw_file</th>\n      <th>modified_sequence</th>\n      <th>mz</th>\n      <th>precursor_mz</th>\n      <th>retention_time</th>\n      <th>indexed_retention_time</th>\n      <th>peptide_length</th>\n    </tr>\n  </thead>\n  <tbody>\n    <tr>\n      <th>0</th>\n      <td>01640c_BC1-Thermo_SRM_Pool_3_01_01-DDA-1h-R2</td>\n      <td>LPGSLETYVEQEQGENANDR</td>\n      <td>1125.01950</td>\n      <td>1125.018331</td>\n      <td>38.411</td>\n      <td>62.827337</td>\n      <td>20</td>\n    </tr>\n    <tr>\n      <th>1</th>\n      <td>01640c_BC1-Thermo_SRM_Pool_3_01_01-DDA-1h-R2</td>\n      <td>HGSLQEYLQNDTGSK</td>\n      <td>838.89737</td>\n      <td>838.894401</td>\n      <td>30.394</td>\n      <td>42.030163</td>\n      <td>15</td>\n    </tr>\n    <tr>\n      <th>2</th>\n      <td>01640c_BC1-Thermo_SRM_Pool_3_01_01-DDA-1h-R2</td>\n      <td>VEEEEEINSELTAR</td>\n      <td>824.38904</td>\n      <td>824.388401</td>\n      <td>29.737</td>\n      <td>40.325817</td>\n      <td>14</td>\n    </tr>\n    <tr>\n      <th>3</th>\n      <td>01640c_BC1-Thermo_SRM_Pool_3_01_01-DDA-1h-R2</td>\n      <td>LPGSLETYVEQEQGENANDR</td>\n      <td>1125.01950</td>\n      <td>1125.018831</td>\n      <td>38.539</td>\n      <td>63.159386</td>\n      <td>20</td>\n    </tr>\n    <tr>\n      <th>4</th>\n      <td>01640c_BC1-Thermo_SRM_Pool_3_01_01-DDA-1h-R2</td>\n      <td>NSSTAEINETTTSSTDFLAR</td>\n      <td>1073.00070</td>\n      <td>1072.999855</td>\n      <td>36.990</td>\n      <td>59.141072</td>\n      <td>20</td>\n    </tr>\n    <tr>\n      <th>...</th>\n      <td>...</td>\n      <td>...</td>\n      <td>...</td>\n      <td>...</td>\n      <td>...</td>\n      <td>...</td>\n      <td>...</td>\n    </tr>\n    <tr>\n      <th>6080601</th>\n      <td>01640c_BC7-Thermo_SRM_Pool_51_01_01-3xHCD-1h-R2</td>\n      <td>YSQLFC[UNIMOD:4]GLPSLHSESLVATFMGSQGLPK</td>\n      <td>1018.84030</td>\n      <td>1018.840102</td>\n      <td>56.168</td>\n      <td>111.878402</td>\n      <td>28</td>\n    </tr>\n    <tr>\n      <th>6080602</th>\n      <td>01640c_BC7-Thermo_SRM_Pool_51_01_01-3xHCD-1h-R2</td>\n      <td>YSQLFC[UNIMOD:4]GLPSLHSESLVATFMGSQGLPK</td>\n      <td>1018.84030</td>\n      <td>1018.840102</td>\n      <td>56.168</td>\n      <td>111.878402</td>\n      <td>28</td>\n    </tr>\n    <tr>\n      <th>6080603</th>\n      <td>01640c_BC7-Thermo_SRM_Pool_51_01_01-3xHCD-1h-R2</td>\n      <td>EMENFVQSSGEDGIVVFSLGSLFQNVTEEK</td>\n      <td>1107.19400</td>\n      <td>1106.862187</td>\n      <td>52.253</td>\n      <td>101.767741</td>\n      <td>30</td>\n    </tr>\n    <tr>\n      <th>6080604</th>\n      <td>01640c_BC7-Thermo_SRM_Pool_51_01_01-3xHCD-1h-R2</td>\n      <td>EMENFVQSSGEDGIVVFSLGSLFQNVTEEK</td>\n      <td>1107.19400</td>\n      <td>1106.862187</td>\n      <td>52.254</td>\n      <td>101.770323</td>\n      <td>30</td>\n    </tr>\n    <tr>\n      <th>6080605</th>\n      <td>01640c_BC7-Thermo_SRM_Pool_51_01_01-3xHCD-1h-R2</td>\n      <td>YSQLFC[UNIMOD:4]GLPSLHSESLVATFMGSQGLPK</td>\n      <td>1018.84030</td>\n      <td>1019.509063</td>\n      <td>56.214</td>\n      <td>111.997199</td>\n      <td>28</td>\n    </tr>\n  </tbody>\n</table>\n<p>6080606 rows × 7 columns</p>\n</div>"
     },
     "execution_count": 5,
     "metadata": {},
     "output_type": "execute_result"
    }
   ],
   "source": [],
   "metadata": {
    "collapsed": false,
    "ExecuteTime": {
     "end_time": "2023-06-04T08:40:40.171604419Z",
     "start_time": "2023-06-04T08:40:40.167455532Z"
    }
   }
  },
  {
   "cell_type": "code",
   "execution_count": 14,
   "outputs": [],
   "source": [
    "thermo_srm_pool_df.drop(\n",
    "    columns=[\"scan_number\", \"precursor_charge\", \"precursor_intensity\", \"precursor_intensity\", \"fragmentation\",\n",
    "             \"mass_analyzer\", \"andromeda_score\", \"orig_collision_energy\", \"aligned_collision_energy\"], inplace=True)"
   ],
   "metadata": {
    "collapsed": false,
    "ExecuteTime": {
     "end_time": "2023-06-04T09:06:41.825978320Z",
     "start_time": "2023-06-04T09:06:41.104097479Z"
    }
   }
  },
  {
   "cell_type": "code",
   "execution_count": 15,
   "outputs": [],
   "source": [
    "tum_aspn_df.drop(\n",
    "    columns=[\"scan_number\", \"precursor_charge\", \"precursor_intensity\", \"precursor_intensity\", \"fragmentation\",\n",
    "             \"mass_analyzer\", \"andromeda_score\", \"orig_collision_energy\", \"aligned_collision_energy\"], inplace=True)"
   ],
   "metadata": {
    "collapsed": false,
    "ExecuteTime": {
     "end_time": "2023-06-04T09:06:41.929990457Z",
     "start_time": "2023-06-04T09:06:41.827514487Z"
    }
   }
  },
  {
   "cell_type": "code",
   "execution_count": 16,
   "outputs": [],
   "source": [
    "tum_first_pool_df.drop(\n",
    "    columns=[\"scan_number\", \"precursor_charge\", \"precursor_intensity\", \"precursor_intensity\", \"fragmentation\",\n",
    "             \"mass_analyzer\", \"andromeda_score\", \"orig_collision_energy\", \"aligned_collision_energy\"], inplace=True)"
   ],
   "metadata": {
    "collapsed": false,
    "ExecuteTime": {
     "end_time": "2023-06-04T09:06:42.591541005Z",
     "start_time": "2023-06-04T09:06:42.065147062Z"
    }
   }
  },
  {
   "cell_type": "code",
   "execution_count": 17,
   "outputs": [],
   "source": [
    "tum_hla2_df.drop(\n",
    "    columns=[\"scan_number\", \"precursor_charge\", \"precursor_intensity\", \"precursor_intensity\", \"fragmentation\",\n",
    "             \"mass_analyzer\", \"andromeda_score\", \"orig_collision_energy\", \"aligned_collision_energy\"], inplace=True)"
   ],
   "metadata": {
    "collapsed": false,
    "ExecuteTime": {
     "end_time": "2023-06-04T09:06:42.891235579Z",
     "start_time": "2023-06-04T09:06:42.629863620Z"
    }
   }
  },
  {
   "cell_type": "code",
   "execution_count": 18,
   "outputs": [],
   "source": [
    "tum_hla_df.drop(\n",
    "    columns=[\"scan_number\", \"precursor_charge\", \"precursor_intensity\", \"precursor_intensity\", \"fragmentation\",\n",
    "             \"mass_analyzer\", \"andromeda_score\", \"orig_collision_energy\", \"aligned_collision_energy\"], inplace=True)"
   ],
   "metadata": {
    "collapsed": false,
    "ExecuteTime": {
     "end_time": "2023-06-04T09:06:43.674597583Z",
     "start_time": "2023-06-04T09:06:43.367126511Z"
    }
   }
  },
  {
   "cell_type": "code",
   "execution_count": 19,
   "outputs": [],
   "source": [
    "tum_isoform_df.drop(\n",
    "    columns=[\"scan_number\", \"precursor_charge\", \"precursor_intensity\", \"precursor_intensity\", \"fragmentation\",\n",
    "             \"mass_analyzer\", \"andromeda_score\", \"orig_collision_energy\", \"aligned_collision_energy\"], inplace=True)"
   ],
   "metadata": {
    "collapsed": false,
    "ExecuteTime": {
     "end_time": "2023-06-04T09:06:44.234002015Z",
     "start_time": "2023-06-04T09:06:43.963048253Z"
    }
   }
  },
  {
   "cell_type": "code",
   "execution_count": 20,
   "outputs": [],
   "source": [
    "tum_lysn_df.drop(\n",
    "    columns=[\"scan_number\", \"precursor_charge\", \"precursor_intensity\", \"precursor_intensity\", \"fragmentation\",\n",
    "             \"mass_analyzer\", \"andromeda_score\", \"orig_collision_energy\", \"aligned_collision_energy\"], inplace=True)"
   ],
   "metadata": {
    "collapsed": false,
    "ExecuteTime": {
     "end_time": "2023-06-04T09:06:44.366015429Z",
     "start_time": "2023-06-04T09:06:44.250300543Z"
    }
   }
  },
  {
   "cell_type": "code",
   "execution_count": 21,
   "outputs": [],
   "source": [
    "tum_missing_first_df.drop(\n",
    "    columns=[\"scan_number\", \"precursor_charge\", \"precursor_intensity\", \"precursor_intensity\", \"fragmentation\",\n",
    "             \"mass_analyzer\", \"andromeda_score\", \"orig_collision_energy\", \"aligned_collision_energy\"], inplace=True)"
   ],
   "metadata": {
    "collapsed": false,
    "ExecuteTime": {
     "end_time": "2023-06-04T09:06:44.699828788Z",
     "start_time": "2023-06-04T09:06:44.676792124Z"
    }
   }
  },
  {
   "cell_type": "code",
   "execution_count": 22,
   "outputs": [],
   "source": [
    "tum_proteo_tmt_df.drop(\n",
    "    columns=[\"scan_number\", \"precursor_charge\", \"precursor_intensity\", \"precursor_intensity\", \"fragmentation\",\n",
    "             \"mass_analyzer\", \"andromeda_score\", \"orig_collision_energy\", \"aligned_collision_energy\"], inplace=True)"
   ],
   "metadata": {
    "collapsed": false,
    "ExecuteTime": {
     "end_time": "2023-06-04T09:06:45.297903403Z",
     "start_time": "2023-06-04T09:06:45.237172110Z"
    }
   }
  },
  {
   "cell_type": "code",
   "execution_count": 23,
   "outputs": [],
   "source": [
    "tum_second_addon_df.drop(\n",
    "    columns=[\"scan_number\", \"precursor_charge\", \"precursor_intensity\", \"precursor_intensity\", \"fragmentation\",\n",
    "             \"mass_analyzer\", \"andromeda_score\", \"orig_collision_energy\", \"aligned_collision_energy\"], inplace=True)"
   ],
   "metadata": {
    "collapsed": false,
    "ExecuteTime": {
     "end_time": "2023-06-04T09:06:45.872194251Z",
     "start_time": "2023-06-04T09:06:45.680176370Z"
    }
   }
  },
  {
   "cell_type": "code",
   "execution_count": 24,
   "outputs": [],
   "source": [
    "tum_second_pool_df.drop(\n",
    "    columns=[\"scan_number\", \"precursor_charge\", \"precursor_intensity\", \"precursor_intensity\", \"fragmentation\",\n",
    "             \"mass_analyzer\", \"andromeda_score\", \"orig_collision_energy\", \"aligned_collision_energy\"], inplace=True)"
   ],
   "metadata": {
    "collapsed": false,
    "ExecuteTime": {
     "end_time": "2023-06-04T09:06:46.501557762Z",
     "start_time": "2023-06-04T09:06:46.499169371Z"
    }
   }
  },
  {
   "cell_type": "code",
   "execution_count": 25,
   "outputs": [],
   "source": [
    "tum_third_pool_df.drop(\n",
    "    columns=[\"scan_number\", \"precursor_charge\", \"precursor_intensity\", \"precursor_intensity\", \"fragmentation\",\n",
    "             \"mass_analyzer\", \"andromeda_score\", \"orig_collision_energy\", \"aligned_collision_energy\"], inplace=True)"
   ],
   "metadata": {
    "collapsed": false,
    "ExecuteTime": {
     "end_time": "2023-06-04T09:06:46.646010911Z",
     "start_time": "2023-06-04T09:06:46.631024395Z"
    }
   }
  },
  {
   "cell_type": "code",
   "execution_count": 26,
   "outputs": [
    {
     "data": {
      "text/plain": "6080606"
     },
     "execution_count": 26,
     "metadata": {},
     "output_type": "execute_result"
    }
   ],
   "source": [
    "len(thermo_srm_pool_df)\n"
   ],
   "metadata": {
    "collapsed": false,
    "ExecuteTime": {
     "end_time": "2023-06-04T09:06:47.232880599Z",
     "start_time": "2023-06-04T09:06:47.214924308Z"
    }
   }
  },
  {
   "cell_type": "code",
   "execution_count": 26,
   "outputs": [],
   "source": [
    "whole_data_1 = pd.concat(\n",
    "    [thermo_srm_pool_df, tum_aspn_df, tum_first_pool_df, tum_hla2_df, tum_hla_df, tum_isoform_df, tum_lysn_df],\n",
    "    ignore_index=True, copy=False)\n"
   ],
   "metadata": {
    "collapsed": false,
    "ExecuteTime": {
     "end_time": "2023-06-04T09:01:02.950313123Z",
     "start_time": "2023-06-04T09:01:02.484927841Z"
    }
   }
  },
  {
   "cell_type": "code",
   "execution_count": 27,
   "outputs": [],
   "source": [
    "whole_data_2 = pd.concat(\n",
    "    [tum_missing_first_df, tum_proteo_tmt_df, tum_second_addon_df, tum_second_pool_df, tum_third_pool_df],\n",
    "    ignore_index=True, copy=False)\n",
    "\n"
   ],
   "metadata": {
    "collapsed": false,
    "ExecuteTime": {
     "end_time": "2023-06-04T09:06:56.007820697Z",
     "start_time": "2023-06-04T09:06:55.830162877Z"
    }
   }
  },
  {
   "cell_type": "code",
   "execution_count": 28,
   "outputs": [],
   "source": [
    "whole_data_2.to_pickle(\"whole_data_2\")\n"
   ],
   "metadata": {
    "collapsed": false,
    "ExecuteTime": {
     "end_time": "2023-06-04T09:07:05.450982668Z",
     "start_time": "2023-06-04T09:07:03.021362488Z"
    }
   }
  },
  {
   "cell_type": "code",
   "execution_count": 2,
   "outputs": [],
   "source": [
    "\n",
    "dataset = pd.concat([pd.read_pickle(r'data/'+ x) for x in os.listdir('data')])"
   ],
   "metadata": {
    "collapsed": false,
    "ExecuteTime": {
     "end_time": "2023-06-04T11:46:40.619012126Z",
     "start_time": "2023-06-04T11:46:23.241862287Z"
    }
   }
  },
  {
   "cell_type": "code",
   "execution_count": 5,
   "outputs": [
    {
     "data": {
      "text/plain": "['whole_data_1', 'whole_data_2']"
     },
     "execution_count": 5,
     "metadata": {},
     "output_type": "execute_result"
    }
   ],
   "source": [],
   "metadata": {
    "collapsed": false,
    "ExecuteTime": {
     "end_time": "2023-06-04T11:42:21.864284119Z",
     "start_time": "2023-06-04T11:42:21.820332769Z"
    }
   }
  },
  {
   "cell_type": "code",
   "execution_count": null,
   "outputs": [],
   "source": [
    "\n"
   ],
   "metadata": {
    "collapsed": false,
    "ExecuteTime": {
     "start_time": "2023-06-04T11:42:23.043621397Z"
    }
   }
  },
  {
   "cell_type": "code",
   "execution_count": 10,
   "outputs": [
    {
     "data": {
      "text/plain": "                                       raw_file     modified_sequence  \\\n0  01640c_BC1-Thermo_SRM_Pool_3_01_01-DDA-1h-R2  LPGSLETYVEQEQGENANDR   \n1  01640c_BC1-Thermo_SRM_Pool_3_01_01-DDA-1h-R2       HGSLQEYLQNDTGSK   \n2  01640c_BC1-Thermo_SRM_Pool_3_01_01-DDA-1h-R2        VEEEEEINSELTAR   \n3  01640c_BC1-Thermo_SRM_Pool_3_01_01-DDA-1h-R2  LPGSLETYVEQEQGENANDR   \n4  01640c_BC1-Thermo_SRM_Pool_3_01_01-DDA-1h-R2  NSSTAEINETTTSSTDFLAR   \n\n           mz  precursor_mz  retention_time  indexed_retention_time  \\\n0  1125.01950   1125.018331          38.411               62.827337   \n1   838.89737    838.894401          30.394               42.030163   \n2   824.38904    824.388401          29.737               40.325817   \n3  1125.01950   1125.018831          38.539               63.159386   \n4  1073.00070   1072.999855          36.990               59.141072   \n\n   peptide_length  \n0              20  \n1              15  \n2              14  \n3              20  \n4              20  ",
      "text/html": "<div>\n<style scoped>\n    .dataframe tbody tr th:only-of-type {\n        vertical-align: middle;\n    }\n\n    .dataframe tbody tr th {\n        vertical-align: top;\n    }\n\n    .dataframe thead th {\n        text-align: right;\n    }\n</style>\n<table border=\"1\" class=\"dataframe\">\n  <thead>\n    <tr style=\"text-align: right;\">\n      <th></th>\n      <th>raw_file</th>\n      <th>modified_sequence</th>\n      <th>mz</th>\n      <th>precursor_mz</th>\n      <th>retention_time</th>\n      <th>indexed_retention_time</th>\n      <th>peptide_length</th>\n    </tr>\n  </thead>\n  <tbody>\n    <tr>\n      <th>0</th>\n      <td>01640c_BC1-Thermo_SRM_Pool_3_01_01-DDA-1h-R2</td>\n      <td>LPGSLETYVEQEQGENANDR</td>\n      <td>1125.01950</td>\n      <td>1125.018331</td>\n      <td>38.411</td>\n      <td>62.827337</td>\n      <td>20</td>\n    </tr>\n    <tr>\n      <th>1</th>\n      <td>01640c_BC1-Thermo_SRM_Pool_3_01_01-DDA-1h-R2</td>\n      <td>HGSLQEYLQNDTGSK</td>\n      <td>838.89737</td>\n      <td>838.894401</td>\n      <td>30.394</td>\n      <td>42.030163</td>\n      <td>15</td>\n    </tr>\n    <tr>\n      <th>2</th>\n      <td>01640c_BC1-Thermo_SRM_Pool_3_01_01-DDA-1h-R2</td>\n      <td>VEEEEEINSELTAR</td>\n      <td>824.38904</td>\n      <td>824.388401</td>\n      <td>29.737</td>\n      <td>40.325817</td>\n      <td>14</td>\n    </tr>\n    <tr>\n      <th>3</th>\n      <td>01640c_BC1-Thermo_SRM_Pool_3_01_01-DDA-1h-R2</td>\n      <td>LPGSLETYVEQEQGENANDR</td>\n      <td>1125.01950</td>\n      <td>1125.018831</td>\n      <td>38.539</td>\n      <td>63.159386</td>\n      <td>20</td>\n    </tr>\n    <tr>\n      <th>4</th>\n      <td>01640c_BC1-Thermo_SRM_Pool_3_01_01-DDA-1h-R2</td>\n      <td>NSSTAEINETTTSSTDFLAR</td>\n      <td>1073.00070</td>\n      <td>1072.999855</td>\n      <td>36.990</td>\n      <td>59.141072</td>\n      <td>20</td>\n    </tr>\n  </tbody>\n</table>\n</div>"
     },
     "execution_count": 10,
     "metadata": {},
     "output_type": "execute_result"
    }
   ],
   "source": [
    "\n"
   ],
   "metadata": {
    "collapsed": false,
    "ExecuteTime": {
     "end_time": "2023-06-04T11:19:24.338188379Z",
     "start_time": "2023-06-04T11:19:24.294890497Z"
    }
   }
  },
  {
   "cell_type": "code",
   "execution_count": 12,
   "outputs": [
    {
     "data": {
      "text/plain": "(array([1.243000e+03, 1.651000e+03, 2.086000e+03, 6.526000e+03,\n        1.342300e+04, 4.644400e+04, 8.033110e+05, 2.421427e+06,\n        3.595916e+06, 4.141369e+06, 4.393464e+06, 4.563972e+06,\n        4.666602e+06, 4.634164e+06, 4.542307e+06, 4.406477e+06,\n        4.162504e+06, 3.959455e+06, 3.699058e+06, 3.385376e+06,\n        2.891395e+06, 2.529222e+06, 1.976994e+06, 8.322280e+05,\n        1.896100e+04]),\n array([-58.06364858, -50.46827194, -42.8728953 , -35.27751865,\n        -27.68214201, -20.08676537, -12.49138872,  -4.89601208,\n          2.69936456,  10.29474121,  17.89011785,  25.4854945 ,\n         33.08087114,  40.67624778,  48.27162443,  55.86700107,\n         63.46237771,  71.05775436,  78.653131  ,  86.24850764,\n         93.84388429, 101.43926093, 109.03463757, 116.63001422,\n        124.22539086, 131.8207675 ]),\n <BarContainer object of 25 artists>)"
     },
     "execution_count": 12,
     "metadata": {},
     "output_type": "execute_result"
    },
    {
     "data": {
      "text/plain": "<Figure size 640x480 with 1 Axes>",
      "image/png": "[encoded data removed]"
     },
     "metadata": {},
     "output_type": "display_data"
    }
   ],
   "source": [
    "plt.hist(dataset[\"indexed_retention_time\"], bins=25)\n"
   ],
   "metadata": {
    "collapsed": false,
    "ExecuteTime": {
     "end_time": "2023-06-04T11:23:51.459492929Z",
     "start_time": "2023-06-04T11:23:50.577061904Z"
    }
   }
  },
  {
   "cell_type": "code",
   "execution_count": 13,
   "outputs": [
    {
     "data": {
      "text/plain": "(array([6.8093240e+06, 1.7143927e+07, 6.4446460e+06, 1.0441186e+07,\n        4.5103860e+06, 7.0764840e+06, 2.0824750e+06, 2.9969720e+06,\n        1.0731130e+06, 1.2532770e+06, 4.3715700e+05, 6.6090200e+05,\n        1.7932500e+05, 3.0584100e+05, 1.3665200e+05, 1.2308600e+05,\n        1.2810000e+04, 1.7413000e+04, 4.8500000e+03, 6.1220000e+03,\n        3.2430000e+03, 7.7910000e+03, 1.5000000e+01, 1.6000000e+01,\n        1.0000000e+01]),\n array([ 7.  ,  8.52, 10.04, 11.56, 13.08, 14.6 , 16.12, 17.64, 19.16,\n        20.68, 22.2 , 23.72, 25.24, 26.76, 28.28, 29.8 , 31.32, 32.84,\n        34.36, 35.88, 37.4 , 38.92, 40.44, 41.96, 43.48, 45.  ]),\n <BarContainer object of 25 artists>)"
     },
     "execution_count": 13,
     "metadata": {},
     "output_type": "execute_result"
    },
    {
     "data": {
      "text/plain": "<Figure size 640x480 with 1 Axes>",
      "image/png": "[encoded data removed]"
     },
     "metadata": {},
     "output_type": "display_data"
    }
   ],
   "source": [
    "plt.hist(dataset[\"peptide_length\"], bins=25)\n"
   ],
   "metadata": {
    "collapsed": false,
    "ExecuteTime": {
     "end_time": "2023-06-04T11:24:15.760066244Z",
     "start_time": "2023-06-04T11:24:14.700009632Z"
    }
   }
  },
  {
   "cell_type": "code",
   "execution_count": 5,
   "outputs": [],
   "source": [
    "dataset.head()\n",
    "dataset.drop(columns=[\"raw_file\", \"modified_sequence\", \"mz\", \"precursor_mz\", \"retention_time\", \"indexed_retention_time\"], inplace= True)"
   ],
   "metadata": {
    "collapsed": false,
    "ExecuteTime": {
     "end_time": "2023-06-04T11:48:12.704749567Z",
     "start_time": "2023-06-04T11:48:12.702414281Z"
    }
   }
  },
  {
   "cell_type": "markdown",
   "source": [
    " 39 different peptides present in dataset ranging from [7 to 45]\n",
    " suggested split for model evaluation: 8 8 8 8 7\n"
   ],
   "metadata": {
    "collapsed": false
   }
  },
  {
   "cell_type": "code",
   "execution_count": 7,
   "outputs": [],
   "source": [
    "dataset.to_pickle(\"data/peptide_length\")\n"
   ],
   "metadata": {
    "collapsed": false,
    "ExecuteTime": {
     "end_time": "2023-06-04T11:50:02.765876906Z",
     "start_time": "2023-06-04T11:49:59.050409661Z"
    }
   }
  },
  {
   "cell_type": "code",
   "execution_count": 5,
   "outputs": [],
   "source": [
    "pl_df = pd.read_pickle(\"data/peptide_length\")\n"
   ],
   "metadata": {
    "collapsed": false,
    "ExecuteTime": {
     "end_time": "2023-06-04T11:52:20.118604322Z",
     "start_time": "2023-06-04T11:52:19.633582856Z"
    }
   }
  },
  {
   "cell_type": "code",
   "execution_count": 7,
   "outputs": [
    {
     "data": {
      "text/plain": "peptide_length\n9                 9968838\n10                7175089\n11                6444646\n12                5744822\n13                4696364\n14                4510386\n15                4390499\n8                 4190987\n16                2685985\n7                 2618337\n17                2082475\n18                1645942\n19                1351030\n20                1073113\n21                 722216\n22                 531061\n23                 437157\n24                 387145\n25                 273757\n26                 179325\n28                 158819\n27                 147022\n29                 136652\n30                 108906\n31                  14180\n32                  12810\n33                  11401\n34                   6012\n35                   4850\n39                   4129\n40                   3662\n37                   3311\n38                   3243\n36                   2811\n41                     15\n42                     11\n45                      6\n43                      5\n44                      4\ndtype: int64"
     },
     "execution_count": 7,
     "metadata": {},
     "output_type": "execute_result"
    }
   ],
   "source": [
    "pl_df.value_counts()"
   ],
   "metadata": {
    "collapsed": false,
    "ExecuteTime": {
     "end_time": "2023-06-04T11:52:43.754145Z",
     "start_time": "2023-06-04T11:52:42.782542532Z"
    }
   }
  },
  {
   "cell_type": "markdown",
   "source": [
    "-> Class inbalance\n",
    "-> Omar\n",
    "-> Split? Own split?\n"
   ],
   "metadata": {
    "collapsed": false
   }
  }
 ],
 "metadata": {
  "kernelspec": {
   "display_name": "Python 3",
   "language": "python",
   "name": "python3"
  },
  "language_info": {
   "codemirror_mode": {
    "name": "ipython",
    "version": 2
   },
   "file_extension": ".py",
   "mimetype": "text/x-python",
   "name": "python",
   "nbconvert_exporter": "python",
   "pygments_lexer": "ipython2",
   "version": "2.7.6"
  }
 },
 "nbformat": 4,
 "nbformat_minor": 0
}
