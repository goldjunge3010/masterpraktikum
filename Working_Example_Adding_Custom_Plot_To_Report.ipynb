{
  "nbformat": 4,
  "nbformat_minor": 0,
  "metadata": {
    "colab": {
      "provenance": [],
      "authorship_tag": "ABX9TyOUi0PMJfX79cvp4qmAXOsN",
      "include_colab_link": true
    },
    "kernelspec": {
      "name": "python3",
      "display_name": "Python 3"
    },
    "language_info": {
      "name": "python"
    },
    "widgets": {
      "application/vnd.jupyter.widget-state+json": {
        "73cfbbcba5b74c0ba523caa16e510f4a": {
          "model_module": "@jupyter-widgets/controls",
          "model_name": "VBoxModel",
          "model_module_version": "1.5.0",
          "state": {
            "_dom_classes": [],
            "_model_module": "@jupyter-widgets/controls",
            "_model_module_version": "1.5.0",
            "_model_name": "VBoxModel",
            "_view_count": null,
            "_view_module": "@jupyter-widgets/controls",
            "_view_module_version": "1.5.0",
            "_view_name": "VBoxView",
            "box_style": "",
            "children": [
              "IPY_MODEL_d27b2b74d80a4f52b3fe11bbcf7b285d",
              "IPY_MODEL_b80c468c672d4e56b68d76c5a9519cf3"
            ],
            "layout": "IPY_MODEL_21a9377a98b6424297704a0992e64de8"
          }
        },
        "d27b2b74d80a4f52b3fe11bbcf7b285d": {
          "model_module": "@jupyter-widgets/controls",
          "model_name": "LabelModel",
          "model_module_version": "1.5.0",
          "state": {
            "_dom_classes": [],
            "_model_module": "@jupyter-widgets/controls",
            "_model_module_version": "1.5.0",
            "_model_name": "LabelModel",
            "_view_count": null,
            "_view_module": "@jupyter-widgets/controls",
            "_view_module_version": "1.5.0",
            "_view_name": "LabelView",
            "description": "",
            "description_tooltip": null,
            "layout": "IPY_MODEL_dcde1e8a6fe94e78913b6179be0a6b3f",
            "placeholder": "​",
            "style": "IPY_MODEL_dd9a91030e9b41b48fe676f43f603319",
            "value": "0.022 MB of 0.023 MB uploaded (0.000 MB deduped)\r"
          }
        },
        "b80c468c672d4e56b68d76c5a9519cf3": {
          "model_module": "@jupyter-widgets/controls",
          "model_name": "FloatProgressModel",
          "model_module_version": "1.5.0",
          "state": {
            "_dom_classes": [],
            "_model_module": "@jupyter-widgets/controls",
            "_model_module_version": "1.5.0",
            "_model_name": "FloatProgressModel",
            "_view_count": null,
            "_view_module": "@jupyter-widgets/controls",
            "_view_module_version": "1.5.0",
            "_view_name": "ProgressView",
            "bar_style": "",
            "description": "",
            "description_tooltip": null,
            "layout": "IPY_MODEL_8db3a0c4dd524ffcac50b7bc997eb1ce",
            "max": 1,
            "min": 0,
            "orientation": "horizontal",
            "style": "IPY_MODEL_460a1db76d2f4a15ab07fe215aa8040e",
            "value": 0.9494895438827597
          }
        },
        "21a9377a98b6424297704a0992e64de8": {
          "model_module": "@jupyter-widgets/base",
          "model_name": "LayoutModel",
          "model_module_version": "1.2.0",
          "state": {
            "_model_module": "@jupyter-widgets/base",
            "_model_module_version": "1.2.0",
            "_model_name": "LayoutModel",
            "_view_count": null,
            "_view_module": "@jupyter-widgets/base",
            "_view_module_version": "1.2.0",
            "_view_name": "LayoutView",
            "align_content": null,
            "align_items": null,
            "align_self": null,
            "border": null,
            "bottom": null,
            "display": null,
            "flex": null,
            "flex_flow": null,
            "grid_area": null,
            "grid_auto_columns": null,
            "grid_auto_flow": null,
            "grid_auto_rows": null,
            "grid_column": null,
            "grid_gap": null,
            "grid_row": null,
            "grid_template_areas": null,
            "grid_template_columns": null,
            "grid_template_rows": null,
            "height": null,
            "justify_content": null,
            "justify_items": null,
            "left": null,
            "margin": null,
            "max_height": null,
            "max_width": null,
            "min_height": null,
            "min_width": null,
            "object_fit": null,
            "object_position": null,
            "order": null,
            "overflow": null,
            "overflow_x": null,
            "overflow_y": null,
            "padding": null,
            "right": null,
            "top": null,
            "visibility": null,
            "width": null
          }
        },
        "dcde1e8a6fe94e78913b6179be0a6b3f": {
          "model_module": "@jupyter-widgets/base",
          "model_name": "LayoutModel",
          "model_module_version": "1.2.0",
          "state": {
            "_model_module": "@jupyter-widgets/base",
            "_model_module_version": "1.2.0",
            "_model_name": "LayoutModel",
            "_view_count": null,
            "_view_module": "@jupyter-widgets/base",
            "_view_module_version": "1.2.0",
            "_view_name": "LayoutView",
            "align_content": null,
            "align_items": null,
            "align_self": null,
            "border": null,
            "bottom": null,
            "display": null,
            "flex": null,
            "flex_flow": null,
            "grid_area": null,
            "grid_auto_columns": null,
            "grid_auto_flow": null,
            "grid_auto_rows": null,
            "grid_column": null,
            "grid_gap": null,
            "grid_row": null,
            "grid_template_areas": null,
            "grid_template_columns": null,
            "grid_template_rows": null,
            "height": null,
            "justify_content": null,
            "justify_items": null,
            "left": null,
            "margin": null,
            "max_height": null,
            "max_width": null,
            "min_height": null,
            "min_width": null,
            "object_fit": null,
            "object_position": null,
            "order": null,
            "overflow": null,
            "overflow_x": null,
            "overflow_y": null,
            "padding": null,
            "right": null,
            "top": null,
            "visibility": null,
            "width": null
          }
        },
        "dd9a91030e9b41b48fe676f43f603319": {
          "model_module": "@jupyter-widgets/controls",
          "model_name": "DescriptionStyleModel",
          "model_module_version": "1.5.0",
          "state": {
            "_model_module": "@jupyter-widgets/controls",
            "_model_module_version": "1.5.0",
            "_model_name": "DescriptionStyleModel",
            "_view_count": null,
            "_view_module": "@jupyter-widgets/base",
            "_view_module_version": "1.2.0",
            "_view_name": "StyleView",
            "description_width": ""
          }
        },
        "8db3a0c4dd524ffcac50b7bc997eb1ce": {
          "model_module": "@jupyter-widgets/base",
          "model_name": "LayoutModel",
          "model_module_version": "1.2.0",
          "state": {
            "_model_module": "@jupyter-widgets/base",
            "_model_module_version": "1.2.0",
            "_model_name": "LayoutModel",
            "_view_count": null,
            "_view_module": "@jupyter-widgets/base",
            "_view_module_version": "1.2.0",
            "_view_name": "LayoutView",
            "align_content": null,
            "align_items": null,
            "align_self": null,
            "border": null,
            "bottom": null,
            "display": null,
            "flex": null,
            "flex_flow": null,
            "grid_area": null,
            "grid_auto_columns": null,
            "grid_auto_flow": null,
            "grid_auto_rows": null,
            "grid_column": null,
            "grid_gap": null,
            "grid_row": null,
            "grid_template_areas": null,
            "grid_template_columns": null,
            "grid_template_rows": null,
            "height": null,
            "justify_content": null,
            "justify_items": null,
            "left": null,
            "margin": null,
            "max_height": null,
            "max_width": null,
            "min_height": null,
            "min_width": null,
            "object_fit": null,
            "object_position": null,
            "order": null,
            "overflow": null,
            "overflow_x": null,
            "overflow_y": null,
            "padding": null,
            "right": null,
            "top": null,
            "visibility": null,
            "width": null
          }
        },
        "460a1db76d2f4a15ab07fe215aa8040e": {
          "model_module": "@jupyter-widgets/controls",
          "model_name": "ProgressStyleModel",
          "model_module_version": "1.5.0",
          "state": {
            "_model_module": "@jupyter-widgets/controls",
            "_model_module_version": "1.5.0",
            "_model_name": "ProgressStyleModel",
            "_view_count": null,
            "_view_module": "@jupyter-widgets/base",
            "_view_module_version": "1.2.0",
            "_view_name": "StyleView",
            "bar_color": null,
            "description_width": ""
          }
        }
      }
    }
  },
  "cells": [
    {
      "cell_type": "markdown",
      "metadata": {
        "id": "view-in-github",
        "colab_type": "text"
      },
      "source": [
        "<a href=\"https://colab.research.google.com/github/goldjunge3010/masterpraktikum/blob/main/Working_Example_Adding_Custom_Plot_To_Report.ipynb\" target=\"_parent\"><img src=\"https://colab.research.google.com/assets/colab-badge.svg\" alt=\"Open In Colab\"/></a>"
      ]
    },
    {
      "cell_type": "code",
      "execution_count": 1,
      "metadata": {
        "colab": {
          "base_uri": "https://localhost:8080/"
        },
        "id": "RQVR2DpcuwD5",
        "outputId": "ea90fa45-e875-4c41-f9c2-b8c9d1436e88"
      },
      "outputs": [
        {
          "output_type": "stream",
          "name": "stdout",
          "text": [
            "\u001b[2K     \u001b[90m━━━━━━━━━━━━━━━━━━━━━━━━━━━━━━━━━━━━━━━━\u001b[0m \u001b[32m2.1/2.1 MB\u001b[0m \u001b[31m8.0 MB/s\u001b[0m eta \u001b[36m0:00:00\u001b[0m\n",
            "\u001b[2K     \u001b[90m━━━━━━━━━━━━━━━━━━━━━━━━━━━━━━━━━━━━━━━\u001b[0m \u001b[32m188.5/188.5 kB\u001b[0m \u001b[31m9.3 MB/s\u001b[0m eta \u001b[36m0:00:00\u001b[0m\n",
            "\u001b[2K     \u001b[90m━━━━━━━━━━━━━━━━━━━━━━━━━━━━━━━━━━━━━━━\u001b[0m \u001b[32m215.6/215.6 kB\u001b[0m \u001b[31m7.7 MB/s\u001b[0m eta \u001b[36m0:00:00\u001b[0m\n",
            "\u001b[?25h  Preparing metadata (setup.py) ... \u001b[?25l\u001b[?25hdone\n",
            "\u001b[2K     \u001b[90m━━━━━━━━━━━━━━━━━━━━━━━━━━━━━━━━━━━━━━━━\u001b[0m \u001b[32m62.7/62.7 kB\u001b[0m \u001b[31m2.7 MB/s\u001b[0m eta \u001b[36m0:00:00\u001b[0m\n",
            "\u001b[?25h  Building wheel for pathtools (setup.py) ... \u001b[?25l\u001b[?25hdone\n"
          ]
        }
      ],
      "source": [
        "!python -m pip install -q wandb"
      ]
    },
    {
      "cell_type": "code",
      "source": [
        "# import necessary packages\n",
        "import numpy as np\n",
        "import pandas as pd\n",
        "import tensorflow as tf\n",
        "import re\n",
        "\n",
        "import wandb\n",
        "from wandb.keras import WandbCallback\n",
        "from wandb.keras import WandbMetricsLogger\n",
        "import wandb.apis.reports as wr"
      ],
      "metadata": {
        "colab": {
          "base_uri": "https://localhost:8080/"
        },
        "id": "AL1ANT4yu3i9",
        "outputId": "1c930774-4ed4-471d-be89-11eefa907e6b"
      },
      "execution_count": 2,
      "outputs": [
        {
          "output_type": "stream",
          "name": "stderr",
          "text": [
            "\u001b[34m\u001b[1mwandb\u001b[0m: Thanks for trying out the Report API!\n",
            "\u001b[34m\u001b[1mwandb\u001b[0m: For a tutorial, check out https://colab.research.google.com/drive/1CzyJx1nuOS4pdkXa2XPaRQyZdmFmLmXV\n",
            "\u001b[34m\u001b[1mwandb\u001b[0m: \n",
            "\u001b[34m\u001b[1mwandb\u001b[0m: Try out tab completion to see what's available.\n",
            "\u001b[34m\u001b[1mwandb\u001b[0m:   ∟ everything:    `wr.<tab>`\n",
            "\u001b[34m\u001b[1mwandb\u001b[0m:       ∟ panels:    `wr.panels.<tab>`\n",
            "\u001b[34m\u001b[1mwandb\u001b[0m:       ∟ blocks:    `wr.blocks.<tab>`\n",
            "\u001b[34m\u001b[1mwandb\u001b[0m:       ∟ helpers:   `wr.helpers.<tab>`\n",
            "\u001b[34m\u001b[1mwandb\u001b[0m:       ∟ templates: `wr.templates.<tab>`\n",
            "\u001b[34m\u001b[1mwandb\u001b[0m:       \n",
            "\u001b[34m\u001b[1mwandb\u001b[0m: For bugs/feature requests, please create an issue on github: https://github.com/wandb/wandb/issues\n"
          ]
        }
      ]
    },
    {
      "cell_type": "code",
      "source": [
        "# function to count sequence length\n",
        "def count_seq_length(df: pd.DataFrame, seq_col: str) -> pd.Series:\n",
        "    pattern = re.compile(r\"\\[UNIMOD:.*\\]\", re.IGNORECASE)\n",
        "    df[seq_col].replace(pattern, \"\", inplace= True)\n",
        "    return df[seq_col].str.len()"
      ],
      "metadata": {
        "id": "aMvseIGGu4sr"
      },
      "execution_count": 3,
      "outputs": []
    },
    {
      "cell_type": "code",
      "source": [
        "# count sequence lengths\n",
        "TRAIN_DATAPATH = 'https://raw.githubusercontent.com/goldjunge3010/masterpraktikum/main/third_pool_tresh_1_0_train.csv'\n",
        "train_set = pd.read_csv(TRAIN_DATAPATH)\n",
        "counts = count_seq_length(pd.read_csv(TRAIN_DATAPATH), \"modified_sequence\")"
      ],
      "metadata": {
        "id": "4DcWNRZ2u504"
      },
      "execution_count": 4,
      "outputs": []
    },
    {
      "cell_type": "code",
      "source": [
        "# Initialize WANDB\n",
        "PROJECT = 'Custom_Plot_Working_Example'\n",
        "RUN = \"run_1\"\n",
        "wandb.init(project = PROJECT, name = RUN)"
      ],
      "metadata": {
        "colab": {
          "base_uri": "https://localhost:8080/",
          "height": 213
        },
        "id": "bis9r4sJu7O9",
        "outputId": "bed1f198-eccb-4953-8848-b2eb22671962"
      },
      "execution_count": 5,
      "outputs": [
        {
          "output_type": "display_data",
          "data": {
            "text/plain": [
              "<IPython.core.display.Javascript object>"
            ],
            "application/javascript": [
              "\n",
              "        window._wandbApiKey = new Promise((resolve, reject) => {\n",
              "            function loadScript(url) {\n",
              "            return new Promise(function(resolve, reject) {\n",
              "                let newScript = document.createElement(\"script\");\n",
              "                newScript.onerror = reject;\n",
              "                newScript.onload = resolve;\n",
              "                document.body.appendChild(newScript);\n",
              "                newScript.src = url;\n",
              "            });\n",
              "            }\n",
              "            loadScript(\"https://cdn.jsdelivr.net/npm/postmate/build/postmate.min.js\").then(() => {\n",
              "            const iframe = document.createElement('iframe')\n",
              "            iframe.style.cssText = \"width:0;height:0;border:none\"\n",
              "            document.body.appendChild(iframe)\n",
              "            const handshake = new Postmate({\n",
              "                container: iframe,\n",
              "                url: 'https://wandb.ai/authorize'\n",
              "            });\n",
              "            const timeout = setTimeout(() => reject(\"Couldn't auto authenticate\"), 5000)\n",
              "            handshake.then(function(child) {\n",
              "                child.on('authorize', data => {\n",
              "                    clearTimeout(timeout)\n",
              "                    resolve(data)\n",
              "                });\n",
              "            });\n",
              "            })\n",
              "        });\n",
              "    "
            ]
          },
          "metadata": {}
        },
        {
          "output_type": "stream",
          "name": "stderr",
          "text": [
            "\u001b[34m\u001b[1mwandb\u001b[0m: Logging into wandb.ai. (Learn how to deploy a W&B server locally: https://wandb.me/wandb-server)\n",
            "\u001b[34m\u001b[1mwandb\u001b[0m: You can find your API key in your browser here: https://wandb.ai/authorize\n",
            "wandb: Paste an API key from your profile and hit enter, or press ctrl+c to quit:"
          ]
        },
        {
          "name": "stdout",
          "output_type": "stream",
          "text": [
            " ··········\n"
          ]
        },
        {
          "output_type": "stream",
          "name": "stderr",
          "text": [
            "\u001b[34m\u001b[1mwandb\u001b[0m: Appending key for api.wandb.ai to your netrc file: /root/.netrc\n"
          ]
        },
        {
          "output_type": "display_data",
          "data": {
            "text/plain": [
              "<IPython.core.display.HTML object>"
            ],
            "text/html": [
              "Tracking run with wandb version 0.15.8"
            ]
          },
          "metadata": {}
        },
        {
          "output_type": "display_data",
          "data": {
            "text/plain": [
              "<IPython.core.display.HTML object>"
            ],
            "text/html": [
              "Run data is saved locally in <code>/content/wandb/run-20230805_080711-cednuvna</code>"
            ]
          },
          "metadata": {}
        },
        {
          "output_type": "display_data",
          "data": {
            "text/plain": [
              "<IPython.core.display.HTML object>"
            ],
            "text/html": [
              "Syncing run <strong><a href='https://wandb.ai/master_praktikum/Custom_Plot_Working_Example/runs/cednuvna' target=\"_blank\">run_1</a></strong> to <a href='https://wandb.ai/master_praktikum/Custom_Plot_Working_Example' target=\"_blank\">Weights & Biases</a> (<a href='https://wandb.me/run' target=\"_blank\">docs</a>)<br/>"
            ]
          },
          "metadata": {}
        },
        {
          "output_type": "display_data",
          "data": {
            "text/plain": [
              "<IPython.core.display.HTML object>"
            ],
            "text/html": [
              " View project at <a href='https://wandb.ai/master_praktikum/Custom_Plot_Working_Example' target=\"_blank\">https://wandb.ai/master_praktikum/Custom_Plot_Working_Example</a>"
            ]
          },
          "metadata": {}
        },
        {
          "output_type": "display_data",
          "data": {
            "text/plain": [
              "<IPython.core.display.HTML object>"
            ],
            "text/html": [
              " View run at <a href='https://wandb.ai/master_praktikum/Custom_Plot_Working_Example/runs/cednuvna' target=\"_blank\">https://wandb.ai/master_praktikum/Custom_Plot_Working_Example/runs/cednuvna</a>"
            ]
          },
          "metadata": {}
        },
        {
          "output_type": "execute_result",
          "data": {
            "text/html": [
              "<button onClick=\"this.nextSibling.style.display='block';this.style.display='none';\">Display W&B run</button><iframe src='https://wandb.ai/master_praktikum/Custom_Plot_Working_Example/runs/cednuvna?jupyter=true' style='border:none;width:100%;height:420px;display:none;'></iframe>"
            ],
            "text/plain": [
              "<wandb.sdk.wandb_run.Run at 0x7907618b4190>"
            ]
          },
          "metadata": {},
          "execution_count": 5
        }
      ]
    },
    {
      "cell_type": "code",
      "source": [
        "# log table to wandb\n",
        "c = counts.to_frame()\n",
        "table = wandb.Table(dataframe = c)\n",
        "\n",
        "# create custom plot and log it\n",
        "field = list(train_set.columns.values)[0]\n",
        "\n",
        "hist = wandb.plot_table(\n",
        "  vega_spec_name=\"master_praktikum/hist_pep_len\",\n",
        "  data_table = table,\n",
        "  fields = {\"value\" : field}\n",
        ")\n",
        "wandb.log({\"Histogram\": hist})\n",
        "\n",
        "# finish run\n",
        "wandb.finish()"
      ],
      "metadata": {
        "colab": {
          "base_uri": "https://localhost:8080/",
          "height": 150,
          "referenced_widgets": [
            "73cfbbcba5b74c0ba523caa16e510f4a",
            "d27b2b74d80a4f52b3fe11bbcf7b285d",
            "b80c468c672d4e56b68d76c5a9519cf3",
            "21a9377a98b6424297704a0992e64de8",
            "dcde1e8a6fe94e78913b6179be0a6b3f",
            "dd9a91030e9b41b48fe676f43f603319",
            "8db3a0c4dd524ffcac50b7bc997eb1ce",
            "460a1db76d2f4a15ab07fe215aa8040e"
          ]
        },
        "id": "6yy8o_XMvARX",
        "outputId": "db2b9b31-e348-4d2c-9654-708326144d9a"
      },
      "execution_count": 6,
      "outputs": [
        {
          "output_type": "display_data",
          "data": {
            "text/plain": [
              "<IPython.core.display.HTML object>"
            ],
            "text/html": [
              "Waiting for W&B process to finish... <strong style=\"color:green\">(success).</strong>"
            ]
          },
          "metadata": {}
        },
        {
          "output_type": "display_data",
          "data": {
            "text/plain": [
              "VBox(children=(Label(value='0.022 MB of 0.022 MB uploaded (0.000 MB deduped)\\r'), FloatProgress(value=1.0, max…"
            ],
            "application/vnd.jupyter.widget-view+json": {
              "version_major": 2,
              "version_minor": 0,
              "model_id": "73cfbbcba5b74c0ba523caa16e510f4a"
            }
          },
          "metadata": {}
        },
        {
          "output_type": "display_data",
          "data": {
            "text/plain": [
              "<IPython.core.display.HTML object>"
            ],
            "text/html": [
              " View run <strong style=\"color:#cdcd00\">run_1</strong> at: <a href='https://wandb.ai/master_praktikum/Custom_Plot_Working_Example/runs/cednuvna' target=\"_blank\">https://wandb.ai/master_praktikum/Custom_Plot_Working_Example/runs/cednuvna</a><br/>Synced 4 W&B file(s), 1 media file(s), 1 artifact file(s) and 0 other file(s)"
            ]
          },
          "metadata": {}
        },
        {
          "output_type": "display_data",
          "data": {
            "text/plain": [
              "<IPython.core.display.HTML object>"
            ],
            "text/html": [
              "Find logs at: <code>./wandb/run-20230805_080711-cednuvna/logs</code>"
            ]
          },
          "metadata": {}
        }
      ]
    },
    {
      "cell_type": "code",
      "source": [
        "# create report\n",
        "report = wr.Report(\n",
        "    project = PROJECT,\n",
        "    title = \"Working custom plots in report!\",\n",
        "    description = \"The result of pain, blood and tears.\"\n",
        ")\n",
        "report.save()"
      ],
      "metadata": {
        "colab": {
          "base_uri": "https://localhost:8080/",
          "height": 1000
        },
        "id": "AjQAyY5MvOYQ",
        "outputId": "64b5bdab-7636-47d4-94bd-79f95c4af899"
      },
      "execution_count": 12,
      "outputs": [
        {
          "output_type": "execute_result",
          "data": {
            "text/plain": [
              "Report(project='Custom_Plot_Working_Example', entity='master_praktikum', title='Working custom plots in report!', description='The result of pain, blood and tears.', width='readable')"
            ],
            "text/html": [
              "<iframe src='https://wandb.ai/master_praktikum/Custom_Plot_Working_Example/reports/Working-custom-plots-in-report---Vmlldzo1MDYxMjA3?jupyter=true' style='border:none;width:100%;height:1024px;'></iframe>"
            ]
          },
          "metadata": {},
          "execution_count": 12
        }
      ]
    },
    {
      "cell_type": "code",
      "source": [
        "panels_data=[\n",
        "  wr.CustomChart(\n",
        "    query = {'summaryTable': {\"tableKey\" : \"Histogram_table\"}},\n",
        "    chart_name='master_praktikum/hist_pep_len',\n",
        "    chart_fields={'value': field}\n",
        "  ),\n",
        "]"
      ],
      "metadata": {
        "id": "qQEfcXqGvYqa"
      },
      "execution_count": 13,
      "outputs": []
    },
    {
      "cell_type": "code",
      "source": [
        "ENTITY = wandb.apis.PublicApi().default_entity\n",
        "\n",
        "data_hists = wr.PanelGrid(\n",
        "    runsets=[\n",
        "        wr.Runset(ENTITY, PROJECT),\n",
        "    ],\n",
        "    panels=\n",
        "      panels_data\n",
        ")\n",
        "\n",
        "report.blocks = report.blocks[:1] +[wr.H1(\"Working custom plot\"), data_hists] + [wr.Video(url=\"https://www.youtube.com/embed/dQw4w9WgXcQ\")] + report.blocks[1:]\n",
        "\n",
        "report.save()"
      ],
      "metadata": {
        "colab": {
          "base_uri": "https://localhost:8080/",
          "height": 1000
        },
        "id": "giA0-QROvniE",
        "outputId": "5be64474-3ba0-46bc-c125-894c983494d2"
      },
      "execution_count": 14,
      "outputs": [
        {
          "output_type": "execute_result",
          "data": {
            "text/plain": [
              "Report(project='Custom_Plot_Working_Example', entity='master_praktikum', title='Working custom plots in report!', description='The result of pain, blood and tears.', width='readable', blocks=[H1(text=['Working custom plot']), PanelGrid(runsets=[Runset(entity='master_praktikum', project='Custom_Plot_Working_Example', name='Run set', query='', filters={'$or': [{'$and': []}]}, order=['-CreatedTimestamp'])], panels=[CustomChart(query={'runSets': {'runSets': '${runSets}', 'limit': 500}}, chart_name='master_praktikum/hist_pep_len', chart_fields={'value': 'modified_sequence'})]), Video(url='https://www.youtube.com/embed/dQw4w9WgXcQ')])"
            ],
            "text/html": [
              "<iframe src='https://wandb.ai/master_praktikum/Custom_Plot_Working_Example/reports/Working-custom-plots-in-report---Vmlldzo1MDYxMjA3?jupyter=true' style='border:none;width:100%;height:1024px;'></iframe>"
            ]
          },
          "metadata": {},
          "execution_count": 14
        }
      ]
    },
    {
      "cell_type": "code",
      "source": [],
      "metadata": {
        "id": "LwalD9vnv_Px"
      },
      "execution_count": null,
      "outputs": []
    }
  ]
}