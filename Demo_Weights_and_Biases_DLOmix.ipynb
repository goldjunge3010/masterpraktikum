{
  "nbformat": 4,
  "nbformat_minor": 0,
  "metadata": {
    "colab": {
      "provenance": [],
      "gpuType": "T4",
      "authorship_tag": "ABX9TyORzelgwWoxDeaQU4dYE2VI",
      "include_colab_link": true
    },
    "kernelspec": {
      "name": "python3",
      "display_name": "Python 3"
    },
    "language_info": {
      "name": "python"
    },
    "accelerator": "GPU"
  },
  "cells": [
    {
      "cell_type": "markdown",
      "metadata": {
        "id": "view-in-github",
        "colab_type": "text"
      },
      "source": [
        "<a href=\"https://colab.research.google.com/github/goldjunge3010/masterpraktikum/blob/main/Demo_Weights_and_Biases_DLOmix.ipynb\" target=\"_parent\"><img src=\"https://colab.research.google.com/assets/colab-badge.svg\" alt=\"Open In Colab\"/></a>"
      ]
    },
    {
      "cell_type": "markdown",
      "source": [
        "# 0. Installation and imports"
      ],
      "metadata": {
        "id": "8IZP_34ozoON"
      }
    },
    {
      "cell_type": "code",
      "source": [
        "# install the DLOmix package in the current environment using pip\n",
        "!python -m pip install -q dlomix==0.0.4\n",
        "\n",
        "# install the Weights and Biasesd package in the current environment using pip\n",
        "!python -m pip install -q wandb\n",
        "\n",
        "# import necessary packages\n",
        "import dlomix\n",
        "from dlomix import constants, data, eval, layers, models, pipelines, reports, utils\n",
        "from dlomix.data import RetentionTimeDataset\n",
        "from dlomix.models import RetentionTimePredictor\n",
        "\n",
        "import wandb\n",
        "from wandb.keras import WandbCallback\n",
        "\n",
        "import tensorflow as tf\n"
      ],
      "metadata": {
        "colab": {
          "base_uri": "https://localhost:8080/"
        },
        "id": "HcH0n2XyzrK3",
        "outputId": "f0c101bc-5f06-4b9b-bf65-f6e2f9351d50"
      },
      "execution_count": null,
      "outputs": [
        {
          "output_type": "stream",
          "name": "stdout",
          "text": [
            "  Preparing metadata (setup.py) ... \u001b[?25l\u001b[?25hdone\n",
            "  Building wheel for fpdf (setup.py) ... \u001b[?25l\u001b[?25hdone\n",
            "\u001b[2K     \u001b[90m━━━━━━━━━━━━━━━━━━━━━━━━━━━━━━━━━━━━━━━━\u001b[0m \u001b[32m2.1/2.1 MB\u001b[0m \u001b[31m9.9 MB/s\u001b[0m eta \u001b[36m0:00:00\u001b[0m\n",
            "\u001b[2K     \u001b[90m━━━━━━━━━━━━━━━━━━━━━━━━━━━━━━━━━━━━━━\u001b[0m \u001b[32m188.6/188.6 kB\u001b[0m \u001b[31m10.0 MB/s\u001b[0m eta \u001b[36m0:00:00\u001b[0m\n",
            "\u001b[2K     \u001b[90m━━━━━━━━━━━━━━━━━━━━━━━━━━━━━━━━━━━━━━\u001b[0m \u001b[32m218.8/218.8 kB\u001b[0m \u001b[31m14.6 MB/s\u001b[0m eta \u001b[36m0:00:00\u001b[0m\n",
            "\u001b[?25h  Preparing metadata (setup.py) ... \u001b[?25l\u001b[?25hdone\n",
            "\u001b[2K     \u001b[90m━━━━━━━━━━━━━━━━━━━━━━━━━━━━━━━━━━━━━━━━\u001b[0m \u001b[32m62.7/62.7 kB\u001b[0m \u001b[31m7.0 MB/s\u001b[0m eta \u001b[36m0:00:00\u001b[0m\n",
            "\u001b[?25h  Building wheel for pathtools (setup.py) ... \u001b[?25l\u001b[?25hdone\n"
          ]
        }
      ]
    },
    {
      "cell_type": "markdown",
      "source": [
        "# 1. Initialize Weights and Biases"
      ],
      "metadata": {
        "id": "1uuhq2EW01ML"
      }
    },
    {
      "cell_type": "code",
      "source": [
        "# define project name for weights and biases\n",
        "project_name = 'demo_dlomix_retention_time'\n",
        "# define run name for weights and biases\n",
        "run_name = \"demo_run\"\n",
        "\n",
        "# initialize the weights and biases run\n",
        "wandb.init(project = project_name,\n",
        "           name = run_name)"
      ],
      "metadata": {
        "colab": {
          "base_uri": "https://localhost:8080/",
          "height": 212
        },
        "id": "vxobbVBT06y7",
        "outputId": "fd8a6c0c-9cb4-4cef-dd2d-a51f5cf36c07"
      },
      "execution_count": null,
      "outputs": [
        {
          "output_type": "display_data",
          "data": {
            "text/plain": [
              "<IPython.core.display.Javascript object>"
            ],
            "application/javascript": [
              "\n",
              "        window._wandbApiKey = new Promise((resolve, reject) => {\n",
              "            function loadScript(url) {\n",
              "            return new Promise(function(resolve, reject) {\n",
              "                let newScript = document.createElement(\"script\");\n",
              "                newScript.onerror = reject;\n",
              "                newScript.onload = resolve;\n",
              "                document.body.appendChild(newScript);\n",
              "                newScript.src = url;\n",
              "            });\n",
              "            }\n",
              "            loadScript(\"https://cdn.jsdelivr.net/npm/postmate/build/postmate.min.js\").then(() => {\n",
              "            const iframe = document.createElement('iframe')\n",
              "            iframe.style.cssText = \"width:0;height:0;border:none\"\n",
              "            document.body.appendChild(iframe)\n",
              "            const handshake = new Postmate({\n",
              "                container: iframe,\n",
              "                url: 'https://wandb.ai/authorize'\n",
              "            });\n",
              "            const timeout = setTimeout(() => reject(\"Couldn't auto authenticate\"), 5000)\n",
              "            handshake.then(function(child) {\n",
              "                child.on('authorize', data => {\n",
              "                    clearTimeout(timeout)\n",
              "                    resolve(data)\n",
              "                });\n",
              "            });\n",
              "            })\n",
              "        });\n",
              "    "
            ]
          },
          "metadata": {}
        },
        {
          "output_type": "stream",
          "name": "stderr",
          "text": [
            "\u001b[34m\u001b[1mwandb\u001b[0m: Logging into wandb.ai. (Learn how to deploy a W&B server locally: https://wandb.me/wandb-server)\n",
            "\u001b[34m\u001b[1mwandb\u001b[0m: You can find your API key in your browser here: https://wandb.ai/authorize\n",
            "wandb: Paste an API key from your profile and hit enter, or press ctrl+c to quit:"
          ]
        },
        {
          "name": "stdout",
          "output_type": "stream",
          "text": [
            " ··········\n"
          ]
        },
        {
          "output_type": "stream",
          "name": "stderr",
          "text": [
            "\u001b[34m\u001b[1mwandb\u001b[0m: Appending key for api.wandb.ai to your netrc file: /root/.netrc\n"
          ]
        },
        {
          "output_type": "display_data",
          "data": {
            "text/plain": [
              "<IPython.core.display.HTML object>"
            ],
            "text/html": [
              "Tracking run with wandb version 0.15.9"
            ]
          },
          "metadata": {}
        },
        {
          "output_type": "display_data",
          "data": {
            "text/plain": [
              "<IPython.core.display.HTML object>"
            ],
            "text/html": [
              "Run data is saved locally in <code>/content/wandb/run-20230901_082225-ta9m9511</code>"
            ]
          },
          "metadata": {}
        },
        {
          "output_type": "display_data",
          "data": {
            "text/plain": [
              "<IPython.core.display.HTML object>"
            ],
            "text/html": [
              "Syncing run <strong><a href='https://wandb.ai/master_praktikum/demo_dlomix_retention_time/runs/ta9m9511' target=\"_blank\">demo_run</a></strong> to <a href='https://wandb.ai/master_praktikum/demo_dlomix_retention_time' target=\"_blank\">Weights & Biases</a> (<a href='https://wandb.me/run' target=\"_blank\">docs</a>)<br/>"
            ]
          },
          "metadata": {}
        },
        {
          "output_type": "display_data",
          "data": {
            "text/plain": [
              "<IPython.core.display.HTML object>"
            ],
            "text/html": [
              " View project at <a href='https://wandb.ai/master_praktikum/demo_dlomix_retention_time' target=\"_blank\">https://wandb.ai/master_praktikum/demo_dlomix_retention_time</a>"
            ]
          },
          "metadata": {}
        },
        {
          "output_type": "display_data",
          "data": {
            "text/plain": [
              "<IPython.core.display.HTML object>"
            ],
            "text/html": [
              " View run at <a href='https://wandb.ai/master_praktikum/demo_dlomix_retention_time/runs/ta9m9511' target=\"_blank\">https://wandb.ai/master_praktikum/demo_dlomix_retention_time/runs/ta9m9511</a>"
            ]
          },
          "metadata": {}
        },
        {
          "output_type": "execute_result",
          "data": {
            "text/html": [
              "<button onClick=\"this.nextSibling.style.display='block';this.style.display='none';\">Display W&B run</button><iframe src='https://wandb.ai/master_praktikum/demo_dlomix_retention_time/runs/ta9m9511?jupyter=true' style='border:none;width:100%;height:420px;display:none;'></iframe>"
            ],
            "text/plain": [
              "<wandb.sdk.wandb_run.Run at 0x7e65fb1c8970>"
            ]
          },
          "metadata": {},
          "execution_count": 3
        }
      ]
    },
    {
      "cell_type": "markdown",
      "source": [
        "# 2. Data"
      ],
      "metadata": {
        "id": "JfC4tHAI1wBy"
      }
    },
    {
      "cell_type": "code",
      "source": [
        "# load data and create a retention time dataset\n",
        "TRAIN_DATAPATH = 'https://raw.githubusercontent.com/wilhelm-lab/dlomix-resources/main/example_datasets/RetentionTime/proteomeTools_train_val.csv'\n",
        "\n",
        "rtdata = RetentionTimeDataset(data_source = TRAIN_DATAPATH,\n",
        "                              seq_length = 30,\n",
        "                              batch_size = 64,\n",
        "                              val_ratio = 0.2,\n",
        "                              test = False)"
      ],
      "metadata": {
        "id": "GMdRb4EI1d0e"
      },
      "execution_count": null,
      "outputs": []
    },
    {
      "cell_type": "markdown",
      "source": [
        "# 3. Model"
      ],
      "metadata": {
        "id": "GLgfG5si2Hl5"
      }
    },
    {
      "cell_type": "code",
      "source": [
        "# create the retention time predictor\n",
        "model = RetentionTimePredictor(seq_length=30)\n",
        "\n",
        "# create the optimizer object\n",
        "optimizer = tf.keras.optimizers.Adam(learning_rate=0.0001)\n",
        "\n",
        "# compile the model  with the optimizer and the metrics we want to use\n",
        "model.compile(optimizer = optimizer,\n",
        "              loss = 'mse',\n",
        "              metrics = ['mean_absolute_error'])\n",
        "\n",
        "# train the model\n",
        "history = model.fit(train_data = rtdata.train_data,\n",
        "                    validation_data = rtdata.val_data,\n",
        "                    epochs = 15,\n",
        "                    callbacks = [WandbCallback(save_model=False)])\n",
        "\n",
        "# mark the run as finished\n",
        "wandb.finish()"
      ],
      "metadata": {
        "colab": {
          "base_uri": "https://localhost:8080/",
          "height": 820
        },
        "id": "HtUVeCVS2DSf",
        "outputId": "c59457cc-6955-44a9-8311-cead7d40ca54"
      },
      "execution_count": null,
      "outputs": [
        {
          "output_type": "stream",
          "name": "stdout",
          "text": [
            "Epoch 1/15\n",
            "424/424 [==============================] - 20s 18ms/step - loss: 2060.6809 - mean_absolute_error: 35.5850 - val_loss: 599.0624 - val_mean_absolute_error: 19.8797\n",
            "Epoch 2/15\n",
            "424/424 [==============================] - 5s 12ms/step - loss: 377.2223 - mean_absolute_error: 15.2468 - val_loss: 262.5575 - val_mean_absolute_error: 12.4454\n",
            "Epoch 3/15\n",
            "424/424 [==============================] - 7s 16ms/step - loss: 219.6123 - mean_absolute_error: 11.2484 - val_loss: 186.7343 - val_mean_absolute_error: 10.2007\n",
            "Epoch 4/15\n",
            "424/424 [==============================] - 5s 12ms/step - loss: 174.2692 - mean_absolute_error: 9.8640 - val_loss: 163.3587 - val_mean_absolute_error: 9.4142\n",
            "Epoch 5/15\n",
            "424/424 [==============================] - 7s 17ms/step - loss: 156.8895 - mean_absolute_error: 9.2756 - val_loss: 152.6940 - val_mean_absolute_error: 9.0268\n",
            "Epoch 6/15\n",
            "424/424 [==============================] - 7s 16ms/step - loss: 147.7128 - mean_absolute_error: 8.9531 - val_loss: 145.8147 - val_mean_absolute_error: 8.7684\n",
            "Epoch 7/15\n",
            "424/424 [==============================] - 5s 13ms/step - loss: 140.9046 - mean_absolute_error: 8.7070 - val_loss: 139.7680 - val_mean_absolute_error: 8.5555\n",
            "Epoch 8/15\n",
            "424/424 [==============================] - 6s 14ms/step - loss: 135.0287 - mean_absolute_error: 8.4959 - val_loss: 134.4619 - val_mean_absolute_error: 8.3681\n",
            "Epoch 9/15\n",
            "424/424 [==============================] - 7s 15ms/step - loss: 129.7016 - mean_absolute_error: 8.3049 - val_loss: 129.9450 - val_mean_absolute_error: 8.1991\n",
            "Epoch 10/15\n",
            "424/424 [==============================] - 7s 16ms/step - loss: 124.9063 - mean_absolute_error: 8.1283 - val_loss: 126.2803 - val_mean_absolute_error: 8.0418\n",
            "Epoch 11/15\n",
            "424/424 [==============================] - 5s 12ms/step - loss: 120.4776 - mean_absolute_error: 7.9642 - val_loss: 122.9531 - val_mean_absolute_error: 7.9068\n",
            "Epoch 12/15\n",
            "424/424 [==============================] - 6s 15ms/step - loss: 116.4992 - mean_absolute_error: 7.8116 - val_loss: 119.8979 - val_mean_absolute_error: 7.7843\n",
            "Epoch 13/15\n",
            "424/424 [==============================] - 6s 14ms/step - loss: 112.8868 - mean_absolute_error: 7.6693 - val_loss: 117.1705 - val_mean_absolute_error: 7.6701\n",
            "Epoch 14/15\n",
            "424/424 [==============================] - 8s 19ms/step - loss: 109.5360 - mean_absolute_error: 7.5367 - val_loss: 114.0807 - val_mean_absolute_error: 7.5466\n",
            "Epoch 15/15\n",
            "424/424 [==============================] - 6s 14ms/step - loss: 106.3491 - mean_absolute_error: 7.4062 - val_loss: 111.4683 - val_mean_absolute_error: 7.4343\n"
          ]
        },
        {
          "output_type": "display_data",
          "data": {
            "text/plain": [
              "<IPython.core.display.HTML object>"
            ],
            "text/html": [
              "Waiting for W&B process to finish... <strong style=\"color:green\">(success).</strong>"
            ]
          },
          "metadata": {}
        },
        {
          "output_type": "display_data",
          "data": {
            "text/plain": [
              "<IPython.core.display.HTML object>"
            ],
            "text/html": [
              "<style>\n",
              "    table.wandb td:nth-child(1) { padding: 0 10px; text-align: left ; width: auto;} td:nth-child(2) {text-align: left ; width: 100%}\n",
              "    .wandb-row { display: flex; flex-direction: row; flex-wrap: wrap; justify-content: flex-start; width: 100% }\n",
              "    .wandb-col { display: flex; flex-direction: column; flex-basis: 100%; flex: 1; padding: 10px; }\n",
              "    </style>\n",
              "<div class=\"wandb-row\"><div class=\"wandb-col\"><h3>Run history:</h3><br/><table class=\"wandb\"><tr><td>epoch</td><td>▁▁▂▃▃▃▄▅▅▅▆▇▇▇█</td></tr><tr><td>loss</td><td>█▂▁▁▁▁▁▁▁▁▁▁▁▁▁</td></tr><tr><td>mean_absolute_error</td><td>█▃▂▂▁▁▁▁▁▁▁▁▁▁▁</td></tr><tr><td>val_loss</td><td>█▃▂▂▂▁▁▁▁▁▁▁▁▁▁</td></tr><tr><td>val_mean_absolute_error</td><td>█▄▃▂▂▂▂▂▁▁▁▁▁▁▁</td></tr></table><br/></div><div class=\"wandb-col\"><h3>Run summary:</h3><br/><table class=\"wandb\"><tr><td>best_epoch</td><td>14</td></tr><tr><td>best_val_loss</td><td>111.46835</td></tr><tr><td>epoch</td><td>14</td></tr><tr><td>loss</td><td>106.34906</td></tr><tr><td>mean_absolute_error</td><td>7.40622</td></tr><tr><td>val_loss</td><td>111.46835</td></tr><tr><td>val_mean_absolute_error</td><td>7.43434</td></tr></table><br/></div></div>"
            ]
          },
          "metadata": {}
        },
        {
          "output_type": "display_data",
          "data": {
            "text/plain": [
              "<IPython.core.display.HTML object>"
            ],
            "text/html": [
              " View run <strong style=\"color:#cdcd00\">demo_run</strong> at: <a href='https://wandb.ai/master_praktikum/demo_dlomix_retention_time/runs/ta9m9511' target=\"_blank\">https://wandb.ai/master_praktikum/demo_dlomix_retention_time/runs/ta9m9511</a><br/>Synced 5 W&B file(s), 1 media file(s), 0 artifact file(s) and 0 other file(s)"
            ]
          },
          "metadata": {}
        },
        {
          "output_type": "display_data",
          "data": {
            "text/plain": [
              "<IPython.core.display.HTML object>"
            ],
            "text/html": [
              "Find logs at: <code>./wandb/run-20230901_082225-ta9m9511/logs</code>"
            ]
          },
          "metadata": {}
        }
      ]
    },
    {
      "cell_type": "code",
      "source": [],
      "metadata": {
        "id": "fpFEoKiQ2OfG"
      },
      "execution_count": null,
      "outputs": []
    }
  ]
}