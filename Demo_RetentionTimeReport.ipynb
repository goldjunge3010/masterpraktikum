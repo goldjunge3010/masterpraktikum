{
  "nbformat": 4,
  "nbformat_minor": 0,
  "metadata": {
    "colab": {
      "provenance": [],
      "gpuType": "T4",
      "authorship_tag": "ABX9TyNkiLb9N+l8gNQSW5AWiHWG",
      "include_colab_link": true
    },
    "kernelspec": {
      "name": "python3",
      "display_name": "Python 3"
    },
    "language_info": {
      "name": "python"
    },
    "accelerator": "GPU",
    "widgets": {
      "application/vnd.jupyter.widget-state+json": {
        "9a292b14df154bd380c86e0bd72d7099": {
          "model_module": "@jupyter-widgets/controls",
          "model_name": "VBoxModel",
          "model_module_version": "1.5.0",
          "state": {
            "_dom_classes": [],
            "_model_module": "@jupyter-widgets/controls",
            "_model_module_version": "1.5.0",
            "_model_name": "VBoxModel",
            "_view_count": null,
            "_view_module": "@jupyter-widgets/controls",
            "_view_module_version": "1.5.0",
            "_view_name": "VBoxView",
            "box_style": "",
            "children": [
              "IPY_MODEL_155f67055f5340b08c5cd679dcb48b7d",
              "IPY_MODEL_ad73208694d74b03b98521f36868b826"
            ],
            "layout": "IPY_MODEL_31f14ac1220f4045955e7db41243c28f"
          }
        },
        "155f67055f5340b08c5cd679dcb48b7d": {
          "model_module": "@jupyter-widgets/controls",
          "model_name": "LabelModel",
          "model_module_version": "1.5.0",
          "state": {
            "_dom_classes": [],
            "_model_module": "@jupyter-widgets/controls",
            "_model_module_version": "1.5.0",
            "_model_name": "LabelModel",
            "_view_count": null,
            "_view_module": "@jupyter-widgets/controls",
            "_view_module_version": "1.5.0",
            "_view_name": "LabelView",
            "description": "",
            "description_tooltip": null,
            "layout": "IPY_MODEL_7de22404c6454d4f8922f6bd6a297acc",
            "placeholder": "​",
            "style": "IPY_MODEL_c32a6be90c06446f9022d3722fdb9ed6",
            "value": "1.097 MB of 1.097 MB uploaded (0.000 MB deduped)\r"
          }
        },
        "ad73208694d74b03b98521f36868b826": {
          "model_module": "@jupyter-widgets/controls",
          "model_name": "FloatProgressModel",
          "model_module_version": "1.5.0",
          "state": {
            "_dom_classes": [],
            "_model_module": "@jupyter-widgets/controls",
            "_model_module_version": "1.5.0",
            "_model_name": "FloatProgressModel",
            "_view_count": null,
            "_view_module": "@jupyter-widgets/controls",
            "_view_module_version": "1.5.0",
            "_view_name": "ProgressView",
            "bar_style": "",
            "description": "",
            "description_tooltip": null,
            "layout": "IPY_MODEL_b097f0a73b7549909461929151fa3fed",
            "max": 1,
            "min": 0,
            "orientation": "horizontal",
            "style": "IPY_MODEL_93856c103bc04a7e87a20bc1e2843a93",
            "value": 1
          }
        },
        "31f14ac1220f4045955e7db41243c28f": {
          "model_module": "@jupyter-widgets/base",
          "model_name": "LayoutModel",
          "model_module_version": "1.2.0",
          "state": {
            "_model_module": "@jupyter-widgets/base",
            "_model_module_version": "1.2.0",
            "_model_name": "LayoutModel",
            "_view_count": null,
            "_view_module": "@jupyter-widgets/base",
            "_view_module_version": "1.2.0",
            "_view_name": "LayoutView",
            "align_content": null,
            "align_items": null,
            "align_self": null,
            "border": null,
            "bottom": null,
            "display": null,
            "flex": null,
            "flex_flow": null,
            "grid_area": null,
            "grid_auto_columns": null,
            "grid_auto_flow": null,
            "grid_auto_rows": null,
            "grid_column": null,
            "grid_gap": null,
            "grid_row": null,
            "grid_template_areas": null,
            "grid_template_columns": null,
            "grid_template_rows": null,
            "height": null,
            "justify_content": null,
            "justify_items": null,
            "left": null,
            "margin": null,
            "max_height": null,
            "max_width": null,
            "min_height": null,
            "min_width": null,
            "object_fit": null,
            "object_position": null,
            "order": null,
            "overflow": null,
            "overflow_x": null,
            "overflow_y": null,
            "padding": null,
            "right": null,
            "top": null,
            "visibility": null,
            "width": null
          }
        },
        "7de22404c6454d4f8922f6bd6a297acc": {
          "model_module": "@jupyter-widgets/base",
          "model_name": "LayoutModel",
          "model_module_version": "1.2.0",
          "state": {
            "_model_module": "@jupyter-widgets/base",
            "_model_module_version": "1.2.0",
            "_model_name": "LayoutModel",
            "_view_count": null,
            "_view_module": "@jupyter-widgets/base",
            "_view_module_version": "1.2.0",
            "_view_name": "LayoutView",
            "align_content": null,
            "align_items": null,
            "align_self": null,
            "border": null,
            "bottom": null,
            "display": null,
            "flex": null,
            "flex_flow": null,
            "grid_area": null,
            "grid_auto_columns": null,
            "grid_auto_flow": null,
            "grid_auto_rows": null,
            "grid_column": null,
            "grid_gap": null,
            "grid_row": null,
            "grid_template_areas": null,
            "grid_template_columns": null,
            "grid_template_rows": null,
            "height": null,
            "justify_content": null,
            "justify_items": null,
            "left": null,
            "margin": null,
            "max_height": null,
            "max_width": null,
            "min_height": null,
            "min_width": null,
            "object_fit": null,
            "object_position": null,
            "order": null,
            "overflow": null,
            "overflow_x": null,
            "overflow_y": null,
            "padding": null,
            "right": null,
            "top": null,
            "visibility": null,
            "width": null
          }
        },
        "c32a6be90c06446f9022d3722fdb9ed6": {
          "model_module": "@jupyter-widgets/controls",
          "model_name": "DescriptionStyleModel",
          "model_module_version": "1.5.0",
          "state": {
            "_model_module": "@jupyter-widgets/controls",
            "_model_module_version": "1.5.0",
            "_model_name": "DescriptionStyleModel",
            "_view_count": null,
            "_view_module": "@jupyter-widgets/base",
            "_view_module_version": "1.2.0",
            "_view_name": "StyleView",
            "description_width": ""
          }
        },
        "b097f0a73b7549909461929151fa3fed": {
          "model_module": "@jupyter-widgets/base",
          "model_name": "LayoutModel",
          "model_module_version": "1.2.0",
          "state": {
            "_model_module": "@jupyter-widgets/base",
            "_model_module_version": "1.2.0",
            "_model_name": "LayoutModel",
            "_view_count": null,
            "_view_module": "@jupyter-widgets/base",
            "_view_module_version": "1.2.0",
            "_view_name": "LayoutView",
            "align_content": null,
            "align_items": null,
            "align_self": null,
            "border": null,
            "bottom": null,
            "display": null,
            "flex": null,
            "flex_flow": null,
            "grid_area": null,
            "grid_auto_columns": null,
            "grid_auto_flow": null,
            "grid_auto_rows": null,
            "grid_column": null,
            "grid_gap": null,
            "grid_row": null,
            "grid_template_areas": null,
            "grid_template_columns": null,
            "grid_template_rows": null,
            "height": null,
            "justify_content": null,
            "justify_items": null,
            "left": null,
            "margin": null,
            "max_height": null,
            "max_width": null,
            "min_height": null,
            "min_width": null,
            "object_fit": null,
            "object_position": null,
            "order": null,
            "overflow": null,
            "overflow_x": null,
            "overflow_y": null,
            "padding": null,
            "right": null,
            "top": null,
            "visibility": null,
            "width": null
          }
        },
        "93856c103bc04a7e87a20bc1e2843a93": {
          "model_module": "@jupyter-widgets/controls",
          "model_name": "ProgressStyleModel",
          "model_module_version": "1.5.0",
          "state": {
            "_model_module": "@jupyter-widgets/controls",
            "_model_module_version": "1.5.0",
            "_model_name": "ProgressStyleModel",
            "_view_count": null,
            "_view_module": "@jupyter-widgets/base",
            "_view_module_version": "1.2.0",
            "_view_name": "StyleView",
            "bar_color": null,
            "description_width": ""
          }
        }
      }
    }
  },
  "cells": [
    {
      "cell_type": "markdown",
      "metadata": {
        "id": "view-in-github",
        "colab_type": "text"
      },
      "source": [
        "<a href=\"https://colab.research.google.com/github/goldjunge3010/masterpraktikum/blob/main/Demo_RetentionTimeReport.ipynb\" target=\"_parent\"><img src=\"https://colab.research.google.com/assets/colab-badge.svg\" alt=\"Open In Colab\"/></a>"
      ]
    },
    {
      "cell_type": "markdown",
      "source": [
        "## Installation and imports\n",
        "\n",
        "\n"
      ],
      "metadata": {
        "id": "73msxoAkwbiY"
      }
    },
    {
      "cell_type": "code",
      "execution_count": 9,
      "metadata": {
        "id": "GZxoVSldvqaQ"
      },
      "outputs": [],
      "source": [
        "# install necessary packages\n",
        "!python -m pip install -q dlomix==0.0.4\n",
        "!python -m pip install -q wandb\n",
        "\n",
        "# import necessary packages\n",
        "import numpy as np\n",
        "import pandas as pd\n",
        "import tensorflow as tf\n",
        "import re\n",
        "\n",
        "import wandb\n",
        "from wandb.keras import WandbCallback\n",
        "from wandb.keras import WandbMetricsLogger\n",
        "import wandb.apis.reports as wr\n",
        "\n",
        "import dlomix\n",
        "from dlomix import constants, data, eval, layers, models, pipelines, reports, utils\n",
        "from dlomix.data import RetentionTimeDataset\n",
        "from dlomix.models import PrositRetentionTimePredictor\n",
        "from dlomix.models import RetentionTimePredictor\n",
        "from dlomix.eval import TimeDeltaMetric\n",
        "\n",
        "class Report():\n",
        "\n",
        "  def __init__(self, project:str, title: str, description: str, dataset: RetentionTimeDataset):\n",
        "    self.entity = wandb.apis.PublicApi().default_entity\n",
        "    self.project = project\n",
        "    self.title = title\n",
        "    self.description = description\n",
        "    self.api = wandb.Api()\n",
        "    self.dataset = dataset\n",
        "    self.table_key_len = \"\"\n",
        "    self.table_key_rt = \"\"\n",
        "\n",
        "  def create_report(self, add_config_section = True, add_data_section = True, add_train_section = True, add_val_section = True, add_train_val_section = True):\n",
        "    report = wr.Report(\n",
        "        project = self.project,\n",
        "        title = self.title,\n",
        "        description = self.description\n",
        "    )\n",
        "\n",
        "    report.blocks = [\n",
        "        wr.TableOfContents()\n",
        "    ]\n",
        "    if add_config_section:\n",
        "      report.blocks += self.config_section()\n",
        "    if add_data_section:\n",
        "      report.blocks += self.data_section()\n",
        "    if add_train_section:\n",
        "      report.blocks += self.train_section()\n",
        "    if add_val_section:\n",
        "      report.blocks += self.val_section()\n",
        "    if add_train_val_section:\n",
        "      report.blocks += self.train_val_section()\n",
        "\n",
        "    report.save()\n",
        "\n",
        "\n",
        "\n",
        "  # get metrics of last run in project or from specified run_id\n",
        "  def get_metrics(self, run_id = None):\n",
        "    if run_id:\n",
        "      # run is specified by <entity>/<project>/<run_id>\n",
        "      run = self.api.run(path = f\"{self.entity}/{self.project}/{run_id}\")\n",
        "      metrics_dataframe = run.history()\n",
        "      return metrics_dataframe\n",
        "    else:\n",
        "      # get metrics of latest run\n",
        "      # api.runs seems to have a delay\n",
        "      runs = self.api.runs(path = f\"{self.entity}/{self.project}\")\n",
        "      run = runs[0]\n",
        "      metrics_dataframe = run.history()\n",
        "      return metrics_dataframe\n",
        "\n",
        "  # get metric names split into train/val, train is further split into batch/epoch\n",
        "  def get_metrics_names(self):\n",
        "    metrics = self.get_metrics()\n",
        "    # filter strings from list that are not starting with \"_\" and do not contain \"val\"\n",
        "    pre_filter = [string for string in metrics if not string.startswith(\"_\")]\n",
        "    batch_train_metrics_names = [string for string in pre_filter if (\"val\" not in string.lower()) & (\"epoch\" not in string.lower()) & (\"table\" not in string.lower())]\n",
        "    epoch_train_metrics_names = [string for string in pre_filter if (\"val\" not in string.lower()) & (\"batch\" not in string.lower()) & (\"table\" not in string.lower())]\n",
        "    # filter strings from list that contain \"val\"\n",
        "    epoch_val_metrics_names = list(filter(lambda x: \"val\" in x.lower(), metrics))\n",
        "    # filter strings from train metrics that are 'epoch/learning_rate' and 'epoch/epoch'\n",
        "    strings_to_filter = ['epoch/learning_rate', 'epoch/epoch', 'batch/learning_rate', 'batch/batch_step']\n",
        "    batch_train_metrics_names = [string for string in epoch_train_metrics_names if string not in strings_to_filter]\n",
        "    epoch_train_metrics_names = [string for string in epoch_train_metrics_names if string not in strings_to_filter]\n",
        "    return batch_train_metrics_names, epoch_train_metrics_names, epoch_val_metrics_names\n",
        "\n",
        "  def get_train_val_metrics_names(self):\n",
        "    _, epoch_train_metrics_names, epoch_val_metrics_names = self.get_metrics_names()\n",
        "    epoch_train_metrics_names.sort()\n",
        "    epoch_val_metrics_names.sort()\n",
        "    return list(zip(epoch_train_metrics_names, epoch_val_metrics_names))\n",
        "\n",
        "\n",
        "  def config_section(self):\n",
        "    config_block = [\n",
        "        wr.H1(text = \"Config\"),\n",
        "        wr.PanelGrid(\n",
        "          runsets=[\n",
        "            wr.Runset(self.entity, self.project),\n",
        "          ],\n",
        "          panels=[\n",
        "            wr.RunComparer(layout = {'w': 24})\n",
        "          ],\n",
        "        ),\n",
        "        wr.HorizontalRule(),\n",
        "    ]\n",
        "    return config_block\n",
        "\n",
        "  def data_section(self):\n",
        "    data_block = [\n",
        "        wr.H1(text = \"Data\"),\n",
        "        wr.P(\"Lorem ipsum dolor sit amet. Aut laborum perspiciatis sit odit omnis aut aliquam voluptatibus ut rerum molestiae sed assumenda nulla ut minus illo sit sunt explicabo? Sed quia architecto est voluptatem magni sit molestiae dolores. Non animi repellendus ea enim internos et iste itaque quo labore mollitia aut omnis totam.\"),\n",
        "        wr.PanelGrid(\n",
        "          runsets=[\n",
        "            wr.Runset(self.entity, self.project),\n",
        "          ],\n",
        "          panels=[\n",
        "            wr.CustomChart(\n",
        "              query = {'summaryTable': {\"tableKey\" : self.table_key_len}},\n",
        "              chart_name='master_praktikum/hist_pep_len',\n",
        "              chart_fields={'value': self.dataset.sequence_col}\n",
        "            ),\n",
        "            wr.CustomChart(\n",
        "              query = {'summaryTable': {\"tableKey\" : self.table_key_rt}},\n",
        "              chart_name='master_praktikum/hist_ret_time',\n",
        "              chart_fields={'value': self.dataset.target_col}\n",
        "            )\n",
        "          ]\n",
        "        ),\n",
        "        wr.HorizontalRule(),\n",
        "    ]\n",
        "    return data_block\n",
        "\n",
        "  def train_section(self):\n",
        "    batch_train_metrics_names, epoch_train_metrics_names, _ = self.get_metrics_names()\n",
        "    panel_list_batch = []\n",
        "    panel_list_epoch = []\n",
        "    for name in batch_train_metrics_names:\n",
        "      panel_list_batch.append(wr.LinePlot(x='Step', y=[name]))\n",
        "    for name in epoch_train_metrics_names:\n",
        "      panel_list_epoch.append(wr.LinePlot(x='Step', y=[name]))\n",
        "    train_block = [\n",
        "        wr.H1(text = \"Training metrics\"),\n",
        "        wr.P(\"Lorem ipsum dolor sit amet. Aut laborum perspiciatis sit odit omnis aut aliquam voluptatibus ut rerum molestiae sed assumenda nulla ut minus illo sit sunt explicabo? Sed quia architecto est voluptatem magni sit molestiae dolores. Non animi repellendus ea enim internos et iste itaque quo labore mollitia aut omnis totam.\"),\n",
        "        wr.H2(text = \"per batch\"),\n",
        "        wr.PanelGrid(\n",
        "          runsets=[\n",
        "            wr.Runset(self.entity, self.project),\n",
        "          ],\n",
        "          panels = panel_list_batch\n",
        "        ),\n",
        "        wr.H2(text = \"per epoch\"),\n",
        "        wr.PanelGrid(\n",
        "          runsets=[\n",
        "            wr.Runset(self.entity, self.project),\n",
        "          ],\n",
        "          panels = panel_list_epoch\n",
        "        ),\n",
        "        wr.HorizontalRule(),\n",
        "    ]\n",
        "    return train_block\n",
        "\n",
        "  def val_section(self):\n",
        "    _, _, epoch_val_metrics_names = self.get_metrics_names()\n",
        "    panel_list_epoch = []\n",
        "    for name in epoch_val_metrics_names:\n",
        "      panel_list_epoch.append(wr.LinePlot(x='Step', y=[name]))\n",
        "    val_block = [\n",
        "        wr.H1(text = \"Validation metrics\"),\n",
        "        wr.P(\"Lorem ipsum dolor sit amet. Aut laborum perspiciatis sit odit omnis aut aliquam voluptatibus ut rerum molestiae sed assumenda nulla ut minus illo sit sunt explicabo? Sed quia architecto est voluptatem magni sit molestiae dolores. Non animi repellendus ea enim internos et iste itaque quo labore mollitia aut omnis totam.\"),\n",
        "        wr.H2(text = \"per epoch\"),\n",
        "        wr.PanelGrid(\n",
        "          runsets=[\n",
        "            wr.Runset(self.entity, self.project),\n",
        "          ],\n",
        "          panels = panel_list_epoch\n",
        "        ),\n",
        "        wr.HorizontalRule(),\n",
        "    ]\n",
        "    return val_block\n",
        "\n",
        "  def train_val_section(self):\n",
        "    train_val_metrics_names = self.get_train_val_metrics_names()\n",
        "    panel_list_epoch = []\n",
        "    for name in train_val_metrics_names:\n",
        "      panel_list_epoch.append(wr.LinePlot(x='Step', y=list(name)))\n",
        "    train_val_block = [\n",
        "        wr.H1(text = \"Train - Validation metrics\"),\n",
        "        wr.P(\"Lorem ipsum dolor sit amet. Aut laborum perspiciatis sit odit omnis aut aliquam voluptatibus ut rerum molestiae sed assumenda nulla ut minus illo sit sunt explicabo? Sed quia architecto est voluptatem magni sit molestiae dolores. Non animi repellendus ea enim internos et iste itaque quo labore mollitia aut omnis totam.\"),\n",
        "        wr.H2(text = \"per epoch\"),\n",
        "        wr.PanelGrid(\n",
        "          runsets=[\n",
        "            wr.Runset(self.entity, self.project),\n",
        "          ],\n",
        "          panels = panel_list_epoch\n",
        "        ),\n",
        "        wr.HorizontalRule(),\n",
        "    ]\n",
        "    return train_val_block\n",
        "\n",
        "  # function to log sequence length table to wandb\n",
        "  def log_sequence_length_table(self, data: pd.DataFrame, seq_col:str = \"modified_sequence\"):\n",
        "    name_hist = \"counts_hist\"\n",
        "    counts = self.count_seq_length(data, seq_col)\n",
        "    # convert to df for easier handling\n",
        "    counts_df = counts.to_frame()\n",
        "    table = wandb.Table(dataframe = counts_df)\n",
        "    # log to wandb\n",
        "    hist = wandb.plot_table(\n",
        "      vega_spec_name=\"master_praktikum/hist_pep_len\",\n",
        "      data_table = table,\n",
        "      fields = {\"value\" : seq_col}\n",
        "    )\n",
        "    wandb.log({name_hist: hist})\n",
        "    name_hist_table = name_hist + \"_table\"\n",
        "    return name_hist_table\n",
        "\n",
        "  # function to count sequence length\n",
        "  def count_seq_length(self, data: pd.DataFrame, seq_col: str) -> pd.Series:\n",
        "      pattern = re.compile(r\"\\[UNIMOD:.*\\]\", re.IGNORECASE)\n",
        "      data[seq_col].replace(pattern, \"\", inplace= True)\n",
        "      return data[seq_col].str.len()\n",
        "\n",
        "  # function to log retention time table to wandb\n",
        "  def log_rt_table(self, data: pd.DataFrame, rt_col:str = \"indexed_retention_time\"):\n",
        "    name_hist = \"rt_hist\"\n",
        "    rt = data.loc[:,rt_col]\n",
        "    # convert to df for easier handling\n",
        "    rt_df = rt.to_frame()\n",
        "    table = wandb.Table(dataframe = rt_df)\n",
        "    # log to wandb\n",
        "    hist = wandb.plot_table(\n",
        "      vega_spec_name=\"master_praktikum/hist_ret_time\",\n",
        "      data_table = table,\n",
        "      fields = {\"value\" : rt_col}\n",
        "    )\n",
        "    wandb.log({name_hist: hist})\n",
        "    name_hist_table = name_hist + \"_table\"\n",
        "    return name_hist_table\n",
        "\n",
        "  def log_data(self):\n",
        "\n",
        "    # check if datasource is a string\n",
        "    if isinstance(self.dataset.data_source, str):\n",
        "      # read corresponding file\n",
        "      file_extension = self.dataset.data_source.split(\".\")[-1]\n",
        "      match file_extension:\n",
        "        case \"csv\":\n",
        "          data = pd.read_csv(self.dataset.data_source)\n",
        "        case \"json\":\n",
        "          data = pd.read_json(self.dataset.data_source)\n",
        "        case \"parquet\":\n",
        "          data = pd.read_parquet(self.dataset.data_source, engine='fastparquet')\n",
        "      self.table_key_len = self.log_sequence_length_table(data, self.dataset.sequence_col)\n",
        "      self.table_key_rt = self.log_rt_table(data, self.dataset.target_col)\n",
        "\n",
        "    # check if datasource is a tuple of two ndarrays or two lists\n",
        "    if isinstance(self.dataset.data_source, tuple) and all(isinstance(item, (np.ndarray, list)) for item in self.dataset.data_source) and len(self.dataset.data_source) == 2:\n",
        "      data = pd.DataFrame({self.dataset.sequence_col: self.dataset.data_source[0], self.dataset.target_col: self.dataset.data_source[1]})\n",
        "      self.table_key_len = self.log_sequence_length_table(data, self.dataset.sequence_col)\n",
        "      self.table_key_rt = self.log_rt_table(data, self.dataset.target_col)\n",
        "\n",
        "    # check if datasource is a single ndarray or list\n",
        "    # does not work? maybe error in RetentionTimeDataset\n",
        "    if isinstance(self.dataset.data_source, (np.ndarray, list)):\n",
        "      data = pd.DataFrame({self.dataset.sequence_col: self.dataset.data_source})\n",
        "      self.table_key_len = self.log_sequence_length_table(data, self.dataset.sequence_col)\n"
      ]
    },
    {
      "cell_type": "markdown",
      "source": [
        "# Initialize Weights & Biases\n"
      ],
      "metadata": {
        "id": "gia0RFRSwyiP"
      }
    },
    {
      "cell_type": "code",
      "source": [
        "# Create config\n",
        "config = {\n",
        "  \"seq_length\" : 30,\n",
        "  \"batch_size\" : 64,\n",
        "  \"val_ratio\" : 0.2,\n",
        "  \"lr\" : 0.0001,\n",
        "  \"optimizer\" : \"RMSprop\",\n",
        "  \"loss\" : \"mse\"\n",
        "}\n",
        "\n",
        "# Initialize WANDB\n",
        "PROJECT = 'Demo_RetentionTimeReport'\n",
        "RUN = \"run_2\"\n",
        "wandb.init(project = PROJECT, name = RUN, config = config)"
      ],
      "metadata": {
        "colab": {
          "base_uri": "https://localhost:8080/",
          "height": 125
        },
        "id": "RHJW1mfew4B2",
        "outputId": "934ca337-c24b-4a8d-82b4-1ce843eac3d5"
      },
      "execution_count": 16,
      "outputs": [
        {
          "output_type": "display_data",
          "data": {
            "text/plain": [
              "<IPython.core.display.HTML object>"
            ],
            "text/html": [
              "Tracking run with wandb version 0.15.8"
            ]
          },
          "metadata": {}
        },
        {
          "output_type": "display_data",
          "data": {
            "text/plain": [
              "<IPython.core.display.HTML object>"
            ],
            "text/html": [
              "Run data is saved locally in <code>/content/wandb/run-20230824_125821-lbrozway</code>"
            ]
          },
          "metadata": {}
        },
        {
          "output_type": "display_data",
          "data": {
            "text/plain": [
              "<IPython.core.display.HTML object>"
            ],
            "text/html": [
              "Syncing run <strong><a href='https://wandb.ai/master_praktikum/Demo_RetentionTimeReport/runs/lbrozway' target=\"_blank\">run_2</a></strong> to <a href='https://wandb.ai/master_praktikum/Demo_RetentionTimeReport' target=\"_blank\">Weights & Biases</a> (<a href='https://wandb.me/run' target=\"_blank\">docs</a>)<br/>"
            ]
          },
          "metadata": {}
        },
        {
          "output_type": "display_data",
          "data": {
            "text/plain": [
              "<IPython.core.display.HTML object>"
            ],
            "text/html": [
              " View project at <a href='https://wandb.ai/master_praktikum/Demo_RetentionTimeReport' target=\"_blank\">https://wandb.ai/master_praktikum/Demo_RetentionTimeReport</a>"
            ]
          },
          "metadata": {}
        },
        {
          "output_type": "display_data",
          "data": {
            "text/plain": [
              "<IPython.core.display.HTML object>"
            ],
            "text/html": [
              " View run at <a href='https://wandb.ai/master_praktikum/Demo_RetentionTimeReport/runs/lbrozway' target=\"_blank\">https://wandb.ai/master_praktikum/Demo_RetentionTimeReport/runs/lbrozway</a>"
            ]
          },
          "metadata": {}
        },
        {
          "output_type": "execute_result",
          "data": {
            "text/html": [
              "<button onClick=\"this.nextSibling.style.display='block';this.style.display='none';\">Display W&B run</button><iframe src='https://wandb.ai/master_praktikum/Demo_RetentionTimeReport/runs/lbrozway?jupyter=true' style='border:none;width:100%;height:420px;display:none;'></iframe>"
            ],
            "text/plain": [
              "<wandb.sdk.wandb_run.Run at 0x789baef7e830>"
            ]
          },
          "metadata": {},
          "execution_count": 16
        }
      ]
    },
    {
      "cell_type": "markdown",
      "source": [
        "# Load data"
      ],
      "metadata": {
        "id": "n4bl32mwwlHZ"
      }
    },
    {
      "cell_type": "code",
      "source": [
        "# load small train dataset\n",
        "TRAIN_DATAPATH = 'https://raw.githubusercontent.com/wilhelm-lab/dlomix-resources/main/example_datasets/RetentionTime/proteomeTools_train_val.csv'\n",
        "\n",
        "# create dataset\n",
        "rtdata = RetentionTimeDataset(data_source=TRAIN_DATAPATH,\n",
        "                              seq_length = config[\"seq_length\"],\n",
        "                              batch_size = config[\"batch_size\"],\n",
        "                              val_ratio = config[\"val_ratio\"],\n",
        "                              test = False)"
      ],
      "metadata": {
        "id": "At1-MajHwG5e"
      },
      "execution_count": 17,
      "outputs": []
    },
    {
      "cell_type": "markdown",
      "source": [
        "# Initialize report"
      ],
      "metadata": {
        "id": "-X-RIIVY3O2E"
      }
    },
    {
      "cell_type": "code",
      "source": [
        "# Create a report\n",
        "report = Report(project = \"Demo_RetentionTimeReport\",\n",
        "                title = \"Comparison of different optimizers\",\n",
        "                description = \"Comparison of two optimizers Adam and RMSprop\",\n",
        "                dataset = rtdata)"
      ],
      "metadata": {
        "id": "_Lv_t6Dv3Q6s"
      },
      "execution_count": 18,
      "outputs": []
    },
    {
      "cell_type": "markdown",
      "source": [
        "# Log data to Weights & Biases"
      ],
      "metadata": {
        "id": "o33NlIw3xJs4"
      }
    },
    {
      "cell_type": "code",
      "source": [
        "report.log_data()"
      ],
      "metadata": {
        "id": "FE8OvEml3CBU"
      },
      "execution_count": 19,
      "outputs": []
    },
    {
      "cell_type": "markdown",
      "source": [
        "# Train model"
      ],
      "metadata": {
        "id": "dFDNpH5S4HG7"
      }
    },
    {
      "cell_type": "code",
      "source": [
        "# create retention time predictor\n",
        "model = RetentionTimePredictor(seq_length = config[\"seq_length\"])\n",
        "\n",
        "# create the optimizer object\n",
        "optimizer = tf.keras.optimizers.RMSprop(learning_rate = config[\"lr\"])\n",
        "\n",
        "# compile the model with the optimizer and the metrics we want to use\n",
        "model.compile(optimizer = optimizer,\n",
        "              loss = config[\"loss\"],\n",
        "              metrics=['mean_absolute_error', TimeDeltaMetric()])\n",
        "\n",
        "# train the model\n",
        "history = model.fit(rtdata.train_data,\n",
        "                    validation_data=rtdata.val_data,\n",
        "                    epochs=15,\n",
        "                    callbacks=[WandbMetricsLogger(log_freq = \"batch\")])\n",
        "\n",
        "# finish wandb run\n",
        "wandb.finish()"
      ],
      "metadata": {
        "colab": {
          "base_uri": "https://localhost:8080/",
          "height": 1000,
          "referenced_widgets": [
            "9a292b14df154bd380c86e0bd72d7099",
            "155f67055f5340b08c5cd679dcb48b7d",
            "ad73208694d74b03b98521f36868b826",
            "31f14ac1220f4045955e7db41243c28f",
            "7de22404c6454d4f8922f6bd6a297acc",
            "c32a6be90c06446f9022d3722fdb9ed6",
            "b097f0a73b7549909461929151fa3fed",
            "93856c103bc04a7e87a20bc1e2843a93"
          ]
        },
        "id": "UITv7MsK4I9j",
        "outputId": "ec0131c8-f0a4-40ac-b6d1-777fa6a9ed36"
      },
      "execution_count": 20,
      "outputs": [
        {
          "output_type": "stream",
          "name": "stdout",
          "text": [
            "Epoch 1/15\n",
            "424/424 [==============================] - 10s 20ms/step - loss: 1956.1613 - mean_absolute_error: 35.1355 - timedelta: 36.7114 - val_loss: 649.0878 - val_mean_absolute_error: 20.8038 - val_timedelta: 19.9076\n",
            "Epoch 2/15\n",
            "424/424 [==============================] - 6s 14ms/step - loss: 409.5274 - mean_absolute_error: 16.0511 - timedelta: 17.0367 - val_loss: 300.2321 - val_mean_absolute_error: 13.4930 - val_timedelta: 11.9424\n",
            "Epoch 3/15\n",
            "424/424 [==============================] - 8s 18ms/step - loss: 262.5587 - mean_absolute_error: 12.5086 - timedelta: 13.3877 - val_loss: 229.9445 - val_mean_absolute_error: 11.5417 - val_timedelta: 10.2155\n",
            "Epoch 4/15\n",
            "424/424 [==============================] - 7s 16ms/step - loss: 211.4563 - mean_absolute_error: 10.9888 - timedelta: 11.7517 - val_loss: 192.3947 - val_mean_absolute_error: 10.4342 - val_timedelta: 9.0623\n",
            "Epoch 5/15\n",
            "424/424 [==============================] - 7s 15ms/step - loss: 180.1667 - mean_absolute_error: 10.0133 - timedelta: 10.7539 - val_loss: 175.3556 - val_mean_absolute_error: 10.0149 - val_timedelta: 8.6555\n",
            "Epoch 6/15\n",
            "424/424 [==============================] - 6s 15ms/step - loss: 164.1330 - mean_absolute_error: 9.4929 - timedelta: 10.2109 - val_loss: 169.9023 - val_mean_absolute_error: 9.9801 - val_timedelta: 8.6776\n",
            "Epoch 7/15\n",
            "424/424 [==============================] - 8s 18ms/step - loss: 154.3207 - mean_absolute_error: 9.1636 - timedelta: 9.8301 - val_loss: 165.0904 - val_mean_absolute_error: 9.9023 - val_timedelta: 8.6750\n",
            "Epoch 8/15\n",
            "424/424 [==============================] - 7s 16ms/step - loss: 147.0107 - mean_absolute_error: 8.9140 - timedelta: 9.5658 - val_loss: 158.6420 - val_mean_absolute_error: 9.7046 - val_timedelta: 8.6209\n",
            "Epoch 9/15\n",
            "424/424 [==============================] - 7s 16ms/step - loss: 140.7652 - mean_absolute_error: 8.6879 - timedelta: 9.2844 - val_loss: 153.2807 - val_mean_absolute_error: 9.5348 - val_timedelta: 8.6020\n",
            "Epoch 10/15\n",
            "424/424 [==============================] - 8s 18ms/step - loss: 135.6869 - mean_absolute_error: 8.4985 - timedelta: 9.2454 - val_loss: 148.0298 - val_mean_absolute_error: 9.3563 - val_timedelta: 8.5643\n",
            "Epoch 11/15\n",
            "424/424 [==============================] - 7s 16ms/step - loss: 130.8705 - mean_absolute_error: 8.3203 - timedelta: 9.0754 - val_loss: 143.6427 - val_mean_absolute_error: 9.2091 - val_timedelta: 8.5533\n",
            "Epoch 12/15\n",
            "424/424 [==============================] - 8s 20ms/step - loss: 126.3785 - mean_absolute_error: 8.1495 - timedelta: 8.9353 - val_loss: 139.8272 - val_mean_absolute_error: 9.0842 - val_timedelta: 8.5300\n",
            "Epoch 13/15\n",
            "424/424 [==============================] - 7s 16ms/step - loss: 122.3032 - mean_absolute_error: 7.9917 - timedelta: 8.8293 - val_loss: 137.7957 - val_mean_absolute_error: 9.0358 - val_timedelta: 8.5848\n",
            "Epoch 14/15\n",
            "424/424 [==============================] - 6s 15ms/step - loss: 118.6533 - mean_absolute_error: 7.8509 - timedelta: 8.7070 - val_loss: 137.5358 - val_mean_absolute_error: 9.0670 - val_timedelta: 8.7088\n",
            "Epoch 15/15\n",
            "424/424 [==============================] - 8s 18ms/step - loss: 115.3351 - mean_absolute_error: 7.7232 - timedelta: 8.5922 - val_loss: 136.8467 - val_mean_absolute_error: 9.0712 - val_timedelta: 8.7708\n"
          ]
        },
        {
          "output_type": "display_data",
          "data": {
            "text/plain": [
              "<IPython.core.display.HTML object>"
            ],
            "text/html": [
              "Waiting for W&B process to finish... <strong style=\"color:green\">(success).</strong>"
            ]
          },
          "metadata": {}
        },
        {
          "output_type": "display_data",
          "data": {
            "text/plain": [
              "VBox(children=(Label(value='1.097 MB of 1.097 MB uploaded (0.000 MB deduped)\\r'), FloatProgress(value=1.0, max…"
            ],
            "application/vnd.jupyter.widget-view+json": {
              "version_major": 2,
              "version_minor": 0,
              "model_id": "9a292b14df154bd380c86e0bd72d7099"
            }
          },
          "metadata": {}
        },
        {
          "output_type": "display_data",
          "data": {
            "text/plain": [
              "<IPython.core.display.HTML object>"
            ],
            "text/html": [
              "<style>\n",
              "    table.wandb td:nth-child(1) { padding: 0 10px; text-align: left ; width: auto;} td:nth-child(2) {text-align: left ; width: 100%}\n",
              "    .wandb-row { display: flex; flex-direction: row; flex-wrap: wrap; justify-content: flex-start; width: 100% }\n",
              "    .wandb-col { display: flex; flex-direction: column; flex-basis: 100%; flex: 1; padding: 10px; }\n",
              "    </style>\n",
              "<div class=\"wandb-row\"><div class=\"wandb-col\"><h3>Run history:</h3><br/><table class=\"wandb\"><tr><td>batch/batch_step</td><td>▁▁▁▁▂▂▂▂▂▃▃▃▃▃▃▄▄▄▄▄▅▅▅▅▅▅▆▆▆▆▆▇▇▇▇▇▇███</td></tr><tr><td>batch/learning_rate</td><td>▁▁▁▁▁▁▁▁▁▁▁▁▁▁▁▁▁▁▁▁▁▁▁▁▁▁▁▁▁▁▁▁▁▁▁▁▁▁▁▁</td></tr><tr><td>batch/loss</td><td>█▅▄▂▂▁▁▁▁▁▁▁▁▁▁▁▁▁▁▁▁▁▁▁▁▁▁▁▁▁▁▁▁▁▁▁▁▁▁▁</td></tr><tr><td>batch/mean_absolute_error</td><td>█▆▅▃▂▂▂▂▂▂▂▁▁▁▁▁▁▁▁▁▁▁▁▁▁▁▁▁▁▁▁▁▁▁▁▁▁▁▁▁</td></tr><tr><td>batch/timedelta</td><td>█▇▅▃▃▂▂▂▂▂▂▁▁▁▁▁▁▁▁▁▁▁▁▁▁▁▁▁▁▁▁▁▁▁▁▁▁▁▁▁</td></tr><tr><td>epoch/epoch</td><td>▁▁▂▃▃▃▄▅▅▅▆▇▇▇█</td></tr><tr><td>epoch/learning_rate</td><td>▁▁▁▁▁▁▁▁▁▁▁▁▁▁▁</td></tr><tr><td>epoch/loss</td><td>█▂▂▁▁▁▁▁▁▁▁▁▁▁▁</td></tr><tr><td>epoch/mean_absolute_error</td><td>█▃▂▂▂▁▁▁▁▁▁▁▁▁▁</td></tr><tr><td>epoch/timedelta</td><td>█▃▂▂▂▁▁▁▁▁▁▁▁▁▁</td></tr><tr><td>epoch/val_loss</td><td>█▃▂▂▂▁▁▁▁▁▁▁▁▁▁</td></tr><tr><td>epoch/val_mean_absolute_error</td><td>█▄▂▂▂▂▂▁▁▁▁▁▁▁▁</td></tr><tr><td>epoch/val_timedelta</td><td>█▃▂▁▁▁▁▁▁▁▁▁▁▁▁</td></tr></table><br/></div><div class=\"wandb-col\"><h3>Run summary:</h3><br/><table class=\"wandb\"><tr><td>batch/batch_step</td><td>6359</td></tr><tr><td>batch/learning_rate</td><td>0.0001</td></tr><tr><td>batch/loss</td><td>115.33511</td></tr><tr><td>batch/mean_absolute_error</td><td>7.72321</td></tr><tr><td>batch/timedelta</td><td>8.59222</td></tr><tr><td>epoch/epoch</td><td>14</td></tr><tr><td>epoch/learning_rate</td><td>0.0001</td></tr><tr><td>epoch/loss</td><td>115.33511</td></tr><tr><td>epoch/mean_absolute_error</td><td>7.72321</td></tr><tr><td>epoch/timedelta</td><td>8.59222</td></tr><tr><td>epoch/val_loss</td><td>136.84674</td></tr><tr><td>epoch/val_mean_absolute_error</td><td>9.07118</td></tr><tr><td>epoch/val_timedelta</td><td>8.77077</td></tr></table><br/></div></div>"
            ]
          },
          "metadata": {}
        },
        {
          "output_type": "display_data",
          "data": {
            "text/plain": [
              "<IPython.core.display.HTML object>"
            ],
            "text/html": [
              " View run <strong style=\"color:#cdcd00\">run_2</strong> at: <a href='https://wandb.ai/master_praktikum/Demo_RetentionTimeReport/runs/lbrozway' target=\"_blank\">https://wandb.ai/master_praktikum/Demo_RetentionTimeReport/runs/lbrozway</a><br/>Synced 5 W&B file(s), 2 media file(s), 2 artifact file(s) and 0 other file(s)"
            ]
          },
          "metadata": {}
        },
        {
          "output_type": "display_data",
          "data": {
            "text/plain": [
              "<IPython.core.display.HTML object>"
            ],
            "text/html": [
              "Find logs at: <code>./wandb/run-20230824_125821-lbrozway/logs</code>"
            ]
          },
          "metadata": {}
        }
      ]
    },
    {
      "cell_type": "markdown",
      "source": [
        "# Create Report"
      ],
      "metadata": {
        "id": "2t0tD68l4W_e"
      }
    },
    {
      "cell_type": "code",
      "source": [
        "report.create_report(add_data_section = True,\n",
        "                     add_train_section = True,\n",
        "                     add_val_section = True,\n",
        "                     add_train_val_section = True)"
      ],
      "metadata": {
        "id": "1hYO03Sy4Z0D"
      },
      "execution_count": 21,
      "outputs": []
    },
    {
      "cell_type": "code",
      "source": [],
      "metadata": {
        "id": "N3joiuC6cFrr"
      },
      "execution_count": null,
      "outputs": []
    }
  ]
}