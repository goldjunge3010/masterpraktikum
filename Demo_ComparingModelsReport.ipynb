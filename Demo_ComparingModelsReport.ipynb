{
  "nbformat": 4,
  "nbformat_minor": 0,
  "metadata": {
    "colab": {
      "provenance": [],
      "gpuType": "T4",
      "authorship_tag": "ABX9TyPcPqe6Amx+Gfte9T00N7pS",
      "include_colab_link": true
    },
    "kernelspec": {
      "name": "python3",
      "display_name": "Python 3"
    },
    "language_info": {
      "name": "python"
    },
    "accelerator": "GPU"
  },
  "cells": [
    {
      "cell_type": "markdown",
      "metadata": {
        "id": "view-in-github",
        "colab_type": "text"
      },
      "source": [
        "<a href=\"https://colab.research.google.com/github/goldjunge3010/masterpraktikum/blob/main/Demo_ComparingModelsReport.ipynb\" target=\"_parent\"><img src=\"https://colab.research.google.com/assets/colab-badge.svg\" alt=\"Open In Colab\"/></a>"
      ]
    },
    {
      "cell_type": "markdown",
      "source": [
        "## Installation and imports\n",
        "\n",
        "\n"
      ],
      "metadata": {
        "id": "73msxoAkwbiY"
      }
    },
    {
      "cell_type": "code",
      "execution_count": null,
      "metadata": {
        "id": "GZxoVSldvqaQ"
      },
      "outputs": [],
      "source": [
        "# install necessary packages\n",
        "!python -m pip install -q dlomix==0.0.4\n",
        "!python -m pip install -q wandb\n",
        "\n",
        "# import necessary packages\n",
        "import numpy as np\n",
        "import pandas as pd\n",
        "import tensorflow as tf\n",
        "import re\n",
        "\n",
        "import wandb\n",
        "from wandb.keras import WandbCallback\n",
        "from wandb.keras import WandbMetricsLogger\n",
        "import wandb.apis.reports as wr\n",
        "\n",
        "import dlomix\n",
        "from dlomix import constants, data, eval, layers, models, pipelines, reports, utils\n",
        "from dlomix.data import RetentionTimeDataset\n",
        "from dlomix.models import PrositRetentionTimePredictor\n",
        "from dlomix.models import RetentionTimePredictor\n",
        "from dlomix.eval import TimeDeltaMetric\n",
        "\n",
        "class Report():\n",
        "  def __init__(self, models:dict, test_set:dlomix.data.RetentionTimeDataset, project:str, title: str, description: str):\n",
        "    self.entity = wandb.apis.PublicApi().default_entity\n",
        "    self.project = project\n",
        "    self.title = title\n",
        "    self.description = description\n",
        "    self.models = models\n",
        "    self.test_set = test_set\n",
        "    self.api = wandb.Api()\n",
        "\n",
        "  def create_report(self, add_data_section = True, add_residuals_section = True, add_r2_section = True, add_density_section = True):\n",
        "    report = wr.Report(\n",
        "        project = self.project,\n",
        "        title = self.title,\n",
        "        description = self.description\n",
        "    )\n",
        "\n",
        "    report.blocks = [\n",
        "        wr.TableOfContents()\n",
        "    ]\n",
        "\n",
        "    if add_data_section:\n",
        "      report.blocks += self.data_section()\n",
        "    if add_residuals_section:\n",
        "      report.blocks += self.residuals_section()\n",
        "    if add_r2_section:\n",
        "      report.blocks += self.r2_section()\n",
        "    if add_density_section:\n",
        "      report.blocks += self.density_section()\n",
        "    report.save()\n",
        "\n",
        "  def calculate_r2(self, targets, predictions):\n",
        "    from sklearn.metrics import r2_score\n",
        "    r2 = r2_score(targets, predictions)\n",
        "    return r2\n",
        "\n",
        "  def calculate_residuals(self, targets, predictions):\n",
        "    residuals = targets - predictions\n",
        "    return residuals\n",
        "\n",
        "  def data_section(self):\n",
        "    data_block = [\n",
        "        wr.H1(text = \"Data\"),\n",
        "        wr.P(\"Lorem ipsum dolor sit amet. Aut laborum perspiciatis sit odit omnis aut aliquam voluptatibus ut rerum molestiae sed assumenda nulla ut minus illo sit sunt explicabo? Sed quia architecto est voluptatem magni sit molestiae dolores. Non animi repellendus ea enim internos et iste itaque quo labore mollitia aut omnis totam.\"),\n",
        "        wr.PanelGrid(\n",
        "          runsets=[\n",
        "            wr.Runset(self.entity, self.project),\n",
        "          ],\n",
        "          panels=[\n",
        "            wr.CustomChart(\n",
        "              query = {'summaryTable': {\"tableKey\" : self.table_key_len}},\n",
        "              chart_name='master_praktikum/hist_pep_len',\n",
        "              chart_fields={'value': self.test_set.sequence_col}\n",
        "            ),\n",
        "            wr.CustomChart(\n",
        "              query = {'summaryTable': {\"tableKey\" : self.table_key_rt}},\n",
        "              chart_name='master_praktikum/hist_ret_time',\n",
        "              chart_fields={'value': self.test_set.target_col}\n",
        "            )\n",
        "          ]\n",
        "        ),\n",
        "        wr.HorizontalRule(),\n",
        "    ]\n",
        "    return data_block\n",
        "\n",
        "  def residuals_section(self):\n",
        "    panel_list_models = []\n",
        "    for model in self.models:\n",
        "      panel_list_models.append(\n",
        "        wr.CustomChart(\n",
        "          query = {'summaryTable': {\"tableKey\" : f\"results_table_{model}\"}},\n",
        "          chart_name='master_praktikum/hist_residuals',\n",
        "          chart_fields={'value': \"residuals\", \"name\": model}\n",
        "        )\n",
        "      )\n",
        "\n",
        "    residuals_block = [\n",
        "        wr.H1(text = \"Residuals\"),\n",
        "        wr.P(\"Lorem ipsum dolor sit amet. Aut laborum perspiciatis sit odit omnis aut aliquam voluptatibus ut rerum molestiae sed assumenda nulla ut minus illo sit sunt explicabo? Sed quia architecto est voluptatem magni sit molestiae dolores. Non animi repellendus ea enim internos et iste itaque quo labore mollitia aut omnis totam.\"),\n",
        "        wr.PanelGrid(\n",
        "          runsets=[\n",
        "            wr.Runset(self.entity, self.project),\n",
        "          ],\n",
        "          panels = panel_list_models\n",
        "        ),\n",
        "        wr.HorizontalRule(),\n",
        "    ]\n",
        "\n",
        "    return residuals_block\n",
        "\n",
        "  def r2_section(self):\n",
        "      r2_block = [\n",
        "          wr.H1(text = \"R2\"),\n",
        "          wr.P(\"Lorem ipsum dolor sit amet. Aut laborum perspiciatis sit odit omnis aut aliquam voluptatibus ut rerum molestiae sed assumenda nulla ut minus illo sit sunt explicabo? Sed quia architecto est voluptatem magni sit molestiae dolores. Non animi repellendus ea enim internos et iste itaque quo labore mollitia aut omnis totam.\"),\n",
        "          wr.PanelGrid(\n",
        "            runsets=[\n",
        "              wr.Runset(self.entity, self.project),\n",
        "            ],\n",
        "            panels=[\n",
        "                wr.BarPlot(\n",
        "                    title=\"R2\",\n",
        "                    metrics=[\"r2\"],\n",
        "                    orientation='h',\n",
        "                    title_x=\"R2\",\n",
        "                    # title_y=\"y axis title\",\n",
        "                    max_runs_to_show=20,\n",
        "                    max_bars_to_show=3,\n",
        "                    font_size=\"auto\",\n",
        "                ),\n",
        "            ]\n",
        "          ),\n",
        "          wr.HorizontalRule(),\n",
        "      ]\n",
        "      return r2_block\n",
        "\n",
        "  def density_section(self, irt_delta95 = 5 ):\n",
        "    panel_list_models = []\n",
        "    targets = self.test_set.get_split_targets(split = self.test_set.main_split)\n",
        "    x_min = np.min(targets)\n",
        "    x_max = np.max(targets)\n",
        "    for model in self.models:\n",
        "      panel_list_models.append(\n",
        "        wr.CustomChart(\n",
        "          query = {'summaryTable': {\"tableKey\" : f\"results_table_{model}\"}},\n",
        "          chart_name='master_praktikum/density_plot',\n",
        "          chart_fields={'measured': \"irt\", \"predicted\": \"predicted_irt\", \"name\": model, \"irt_delta95\": irt_delta95}\n",
        "        )\n",
        "      )\n",
        "\n",
        "    density_block = [\n",
        "        wr.H1(text = \"Density\"),\n",
        "        wr.P(\"Lorem ipsum dolor sit amet. Aut laborum perspiciatis sit odit omnis aut aliquam voluptatibus ut rerum molestiae sed assumenda nulla ut minus illo sit sunt explicabo? Sed quia architecto est voluptatem magni sit molestiae dolores. Non animi repellendus ea enim internos et iste itaque quo labore mollitia aut omnis totam.\"),\n",
        "        wr.PanelGrid(\n",
        "          runsets=[\n",
        "            wr.Runset(self.entity, self.project),\n",
        "          ],\n",
        "          panels = panel_list_models\n",
        "        ),\n",
        "        wr.HorizontalRule(),\n",
        "    ]\n",
        "\n",
        "    return density_block\n",
        "\n",
        "  def compare_models(self):\n",
        "    for model in self.models:\n",
        "      # initialize WANDB\n",
        "      RUN = model\n",
        "      wandb.init(project = self.project, name = RUN, config = config)\n",
        "\n",
        "      # predict on test_test\n",
        "      predictions = self.models[model].predict(self.test_set.test_data)\n",
        "      predictions = predictions.ravel()\n",
        "      targets = self.test_set.get_split_targets(split = self.test_set.main_split)\n",
        "      # create result df\n",
        "      results_df = pd.DataFrame({\"sequence\": self.test_set.sequences,\n",
        "                                  \"irt\": targets,\n",
        "                                  \"predicted_irt\": predictions,\n",
        "                                  \"residuals\": self.calculate_residuals(targets, predictions)})\n",
        "      # log df as table to wandb\n",
        "      table = wandb.Table(dataframe = results_df)\n",
        "      wandb.log({f\"results_table_{model}\": table})\n",
        "\n",
        "      # log r2 to wandb\n",
        "      r2 = self.calculate_r2(targets, predictions)\n",
        "      wandb.log({\"r2\": r2})\n",
        "\n",
        "      # finish run\n",
        "      wandb.finish()\n",
        "\n",
        "  # function to log sequence length table to wandb\n",
        "  def log_sequence_length_table(self, data: pd.DataFrame, seq_col:str = \"modified_sequence\"):\n",
        "    name_hist = \"counts_hist\"\n",
        "    counts = self.count_seq_length(data, seq_col)\n",
        "    # convert to df for easier handling\n",
        "    counts_df = counts.to_frame()\n",
        "    table = wandb.Table(dataframe = counts_df)\n",
        "    # log to wandb\n",
        "    hist = wandb.plot_table(\n",
        "      vega_spec_name=\"master_praktikum/hist_pep_len\",\n",
        "      data_table = table,\n",
        "      fields = {\"value\" : seq_col}\n",
        "    )\n",
        "    wandb.log({name_hist: hist})\n",
        "    name_hist_table = name_hist + \"_table\"\n",
        "    return name_hist_table\n",
        "\n",
        "  # function to count sequence length\n",
        "  def count_seq_length(self, data: pd.DataFrame, seq_col: str) -> pd.Series:\n",
        "      pattern = re.compile(r\"\\[UNIMOD:.*\\]\", re.IGNORECASE)\n",
        "      data[seq_col].replace(pattern, \"\", inplace= True)\n",
        "      return data[seq_col].str.len()\n",
        "\n",
        "  # function to log retention time table to wandb\n",
        "  def log_rt_table(self, data: pd.DataFrame, rt_col:str = \"indexed_retention_time\"):\n",
        "    name_hist = \"rt_hist\"\n",
        "    rt = data.loc[:,rt_col]\n",
        "    # convert to df for easier handling\n",
        "    rt_df = rt.to_frame()\n",
        "    table = wandb.Table(dataframe = rt_df)\n",
        "    # log to wandb\n",
        "    hist = wandb.plot_table(\n",
        "      vega_spec_name=\"master_praktikum/hist_ret_time\",\n",
        "      data_table = table,\n",
        "      fields = {\"value\" : rt_col}\n",
        "    )\n",
        "    wandb.log({name_hist: hist})\n",
        "    name_hist_table = name_hist + \"_table\"\n",
        "    return name_hist_table\n",
        "\n",
        "  def log_data(self):\n",
        "    wandb.init(project = self.project, name = \"data_run\")\n",
        "    # check if datasource is a string\n",
        "    if isinstance(self.test_set.data_source, str):\n",
        "      # read corresponding file\n",
        "      file_extension = self.test_set.data_source.split(\".\")[-1]\n",
        "      match file_extension:\n",
        "        case \"csv\":\n",
        "          data = pd.read_csv(self.test_set.data_source)\n",
        "        case \"json\":\n",
        "          data = pd.read_json(self.test_set.data_source)\n",
        "        case \"parquet\":\n",
        "          data = pd.read_parquet(self.test_set.data_source, engine='fastparquet')\n",
        "      self.table_key_len = self.log_sequence_length_table(data, self.test_set.sequence_col)\n",
        "      self.table_key_rt = self.log_rt_table(data, self.test_set.target_col)\n",
        "\n",
        "    # check if datasource is a tuple of two ndarrays or two lists\n",
        "    if isinstance(self.test_set.data_source, tuple) and all(isinstance(item, (np.ndarray, list)) for item in self.test_set.data_source) and len(self.test_set.data_source) == 2:\n",
        "      data = pd.DataFrame({self.test_set.sequence_col: self.test_set.data_source[0], self.test_set.target_col: self.test_set.data_source[1]})\n",
        "      self.table_key_len = self.log_sequence_length_table(data, self.test_set.sequence_col)\n",
        "      self.table_key_rt = self.log_rt_table(data, self.test_set.target_col)\n",
        "\n",
        "    # check if datasource is a single ndarray or list\n",
        "    # does not work? maybe error in RetentionTimeDataset\n",
        "    if isinstance(self.test_set.data_source, (np.ndarray, list)):\n",
        "      data = pd.DataFrame({self.test_set.sequence_col: self.test_set.data_source})\n",
        "      self.table_key_len = self.log_sequence_length_table(data, self.test_set.sequence_col)\n",
        "    wandb.finish()\n"
      ]
    },
    {
      "cell_type": "markdown",
      "source": [
        "# Initialize Weights & Biases\n"
      ],
      "metadata": {
        "id": "gia0RFRSwyiP"
      }
    },
    {
      "cell_type": "code",
      "source": [
        "# Create config\n",
        "config = {\n",
        "  \"seq_length\" : 30,\n",
        "  \"batch_size\" : 64,\n",
        "  \"val_ratio\" : 0.2,\n",
        "  \"lr\" : 0.001,\n",
        "  \"optimizer\" : \"Adam\",\n",
        "  \"loss\" : \"mse\"\n",
        "}\n",
        "\n",
        "# Initialize WANDB\n",
        "PROJECT = 'Demo_ComparingModelsReport'\n",
        "RUN = \"run_2\"\n",
        "wandb.init(project = PROJECT, name = RUN, config = config)"
      ],
      "metadata": {
        "colab": {
          "base_uri": "https://localhost:8080/",
          "height": 125
        },
        "id": "RHJW1mfew4B2",
        "outputId": "ef14f00b-1d7f-457f-f56d-c7dcc7e434d8"
      },
      "execution_count": null,
      "outputs": [
        {
          "output_type": "display_data",
          "data": {
            "text/plain": [
              "<IPython.core.display.HTML object>"
            ],
            "text/html": [
              "Tracking run with wandb version 0.15.8"
            ]
          },
          "metadata": {}
        },
        {
          "output_type": "display_data",
          "data": {
            "text/plain": [
              "<IPython.core.display.HTML object>"
            ],
            "text/html": [
              "Run data is saved locally in <code>/content/wandb/run-20230825_114100-68xj3f23</code>"
            ]
          },
          "metadata": {}
        },
        {
          "output_type": "display_data",
          "data": {
            "text/plain": [
              "<IPython.core.display.HTML object>"
            ],
            "text/html": [
              "Syncing run <strong><a href='https://wandb.ai/master_praktikum/Demo_ComparingModelsReport/runs/68xj3f23' target=\"_blank\">run_2</a></strong> to <a href='https://wandb.ai/master_praktikum/Demo_ComparingModelsReport' target=\"_blank\">Weights & Biases</a> (<a href='https://wandb.me/run' target=\"_blank\">docs</a>)<br/>"
            ]
          },
          "metadata": {}
        },
        {
          "output_type": "display_data",
          "data": {
            "text/plain": [
              "<IPython.core.display.HTML object>"
            ],
            "text/html": [
              " View project at <a href='https://wandb.ai/master_praktikum/Demo_ComparingModelsReport' target=\"_blank\">https://wandb.ai/master_praktikum/Demo_ComparingModelsReport</a>"
            ]
          },
          "metadata": {}
        },
        {
          "output_type": "display_data",
          "data": {
            "text/plain": [
              "<IPython.core.display.HTML object>"
            ],
            "text/html": [
              " View run at <a href='https://wandb.ai/master_praktikum/Demo_ComparingModelsReport/runs/68xj3f23' target=\"_blank\">https://wandb.ai/master_praktikum/Demo_ComparingModelsReport/runs/68xj3f23</a>"
            ]
          },
          "metadata": {}
        },
        {
          "output_type": "execute_result",
          "data": {
            "text/html": [
              "<button onClick=\"this.nextSibling.style.display='block';this.style.display='none';\">Display W&B run</button><iframe src='https://wandb.ai/master_praktikum/Demo_ComparingModelsReport/runs/68xj3f23?jupyter=true' style='border:none;width:100%;height:420px;display:none;'></iframe>"
            ],
            "text/plain": [
              "<wandb.sdk.wandb_run.Run at 0x7d6bf8719660>"
            ]
          },
          "metadata": {},
          "execution_count": 55
        }
      ]
    },
    {
      "cell_type": "markdown",
      "source": [
        "# Load data"
      ],
      "metadata": {
        "id": "n4bl32mwwlHZ"
      }
    },
    {
      "cell_type": "code",
      "source": [
        "# load small train dataset\n",
        "TRAIN_DATAPATH = 'https://raw.githubusercontent.com/wilhelm-lab/dlomix-resources/main/example_datasets/RetentionTime/proteomeTools_train_val.csv'\n",
        "\n",
        "# create dataset\n",
        "rtdata = RetentionTimeDataset(data_source=TRAIN_DATAPATH,\n",
        "                              seq_length = config[\"seq_length\"],\n",
        "                              batch_size = config[\"batch_size\"],\n",
        "                              val_ratio = config[\"val_ratio\"],\n",
        "                              test = False)"
      ],
      "metadata": {
        "id": "At1-MajHwG5e"
      },
      "execution_count": null,
      "outputs": []
    },
    {
      "cell_type": "markdown",
      "source": [
        "# Train and save several models"
      ],
      "metadata": {
        "id": "-X-RIIVY3O2E"
      }
    },
    {
      "cell_type": "code",
      "source": [
        "# create retention time predictor\n",
        "model = RetentionTimePredictor(seq_length = config[\"seq_length\"])\n",
        "\n",
        "# create the optimizer object\n",
        "optimizer = tf.keras.optimizers.Adam(learning_rate = config[\"lr\"])\n",
        "\n",
        "# compile the model  with the optimizer and the metrics we want to use,\n",
        "# we can add our custom timedelta metric\n",
        "model.compile(optimizer = optimizer,\n",
        "              loss = config[\"loss\"],\n",
        "              metrics=['mean_absolute_error', TimeDeltaMetric()])\n",
        "\n",
        "# train the model\n",
        "history = model.fit(rtdata.train_data,\n",
        "                    validation_data = rtdata.val_data,\n",
        "                    epochs=15,\n",
        "                    callbacks=[WandbMetricsLogger(log_freq = \"batch\")])\n",
        "\n",
        "# finish wandb run\n",
        "wandb.finish()\n",
        "\n",
        "# save the model weights\n",
        "save_path = \"./output/rtmodel_1\"\n",
        "model.save_weights(save_path)"
      ],
      "metadata": {
        "id": "_Lv_t6Dv3Q6s"
      },
      "execution_count": null,
      "outputs": []
    },
    {
      "cell_type": "markdown",
      "source": [
        "# Load models and create testset"
      ],
      "metadata": {
        "id": "o33NlIw3xJs4"
      }
    },
    {
      "cell_type": "code",
      "source": [
        "# create predictors from saved weights\n",
        "load_path = \"./output/rtmodel_1\"\n",
        "pre_trained_model_1 = RetentionTimePredictor(seq_length=30)\n",
        "pre_trained_model_1.load_weights(load_path)\n",
        "\n",
        "load_path = \"./output/rtmodel_2\"\n",
        "pre_trained_model_2 = RetentionTimePredictor(seq_length=30)\n",
        "pre_trained_model_2.load_weights(load_path)\n",
        "\n",
        "models = {\"model_1\":pre_trained_model_1, \"model_2\":pre_trained_model_2}\n",
        "\n",
        "# create testset\n",
        "TEST_DATAPATH = 'https://raw.githubusercontent.com/wilhelm-lab/test_data.csv'\n",
        "test_set = RetentionTimeDataset(data_source = TEST_DATAPATH,\n",
        "                                seq_length = config[\"seq_length\"],\n",
        "                                batch_size = 32,\n",
        "                                test = True,\n",
        "                                sequence_col = \"sequence\",\n",
        "                                target_col = \"irt\")"
      ],
      "metadata": {
        "id": "FE8OvEml3CBU"
      },
      "execution_count": null,
      "outputs": []
    },
    {
      "cell_type": "markdown",
      "source": [
        "# Initialize report"
      ],
      "metadata": {
        "id": "5h6Kub5dWTUn"
      }
    },
    {
      "cell_type": "code",
      "source": [
        "# Create a report\n",
        "report = Report(models = models,\n",
        "                test_set = test_set,\n",
        "                project = PROJECT,\n",
        "                title = \"Comparison of models\",\n",
        "                description = \"A quick comparison of some models\")"
      ],
      "metadata": {
        "id": "bwf86DCvWs7X"
      },
      "execution_count": null,
      "outputs": []
    },
    {
      "cell_type": "markdown",
      "source": [
        "# Log data to Weights & Biases"
      ],
      "metadata": {
        "id": "mWtcGoJ8W11G"
      }
    },
    {
      "cell_type": "code",
      "source": [
        "report.log_data()"
      ],
      "metadata": {
        "id": "9qs0qVwMW6_f"
      },
      "execution_count": null,
      "outputs": []
    },
    {
      "cell_type": "markdown",
      "source": [
        "# Compare models and create report"
      ],
      "metadata": {
        "id": "dFDNpH5S4HG7"
      }
    },
    {
      "cell_type": "code",
      "source": [
        "report.compare_models()\n",
        "report.create_report(add_residuals_section = True,\n",
        "                     add_r2_section = True,\n",
        "                     add_density_section= True)"
      ],
      "metadata": {
        "id": "UITv7MsK4I9j"
      },
      "execution_count": null,
      "outputs": []
    },
    {
      "cell_type": "code",
      "source": [],
      "metadata": {
        "id": "jeso43B-bjDC"
      },
      "execution_count": null,
      "outputs": []
    }
  ]
}