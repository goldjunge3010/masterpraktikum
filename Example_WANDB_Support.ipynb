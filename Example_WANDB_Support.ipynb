{
  "cells": [
    {
      "cell_type": "markdown",
      "metadata": {
        "id": "view-in-github",
        "colab_type": "text"
      },
      "source": [
        "<a href=\"https://colab.research.google.com/github/goldjunge3010/masterpraktikum/blob/main/Example_WANDB_Support.ipynb\" target=\"_parent\"><img src=\"https://colab.research.google.com/assets/colab-badge.svg\" alt=\"Open In Colab\"/></a>"
      ]
    },
    {
      "cell_type": "code",
      "execution_count": 21,
      "metadata": {
        "id": "vGegKd_P3VWy"
      },
      "outputs": [],
      "source": [
        "!python -m pip install -q wandb"
      ]
    },
    {
      "cell_type": "code",
      "execution_count": 22,
      "metadata": {
        "id": "Mz77iyAn3g8H"
      },
      "outputs": [],
      "source": [
        "# import necessary packages\n",
        "import numpy as np\n",
        "import pandas as pd\n",
        "import tensorflow as tf\n",
        "import re\n",
        "\n",
        "import wandb\n",
        "from wandb.keras import WandbCallback\n",
        "from wandb.keras import WandbMetricsLogger\n",
        "import wandb.apis.reports as wr"
      ]
    },
    {
      "cell_type": "code",
      "execution_count": 23,
      "metadata": {
        "id": "7dySS4Du3iIM"
      },
      "outputs": [],
      "source": [
        "# function to count sequence length\n",
        "def count_seq_length(df: pd.DataFrame, seq_col: str) -> pd.Series:\n",
        "    pattern = re.compile(r\"\\[UNIMOD:.*\\]\", re.IGNORECASE)\n",
        "    df[seq_col].replace(pattern, \"\", inplace= True)\n",
        "    return df[seq_col].str.len()"
      ]
    },
    {
      "cell_type": "code",
      "execution_count": 24,
      "metadata": {
        "id": "W8Wx_RIS3jhf"
      },
      "outputs": [],
      "source": [
        "# count sequence lengths\n",
        "TRAIN_DATAPATH = 'https://raw.githubusercontent.com/goldjunge3010/masterpraktikum/main/third_pool_tresh_1_0_train.csv'\n",
        "train_set = pd.read_csv(TRAIN_DATAPATH)\n",
        "counts = count_seq_length(pd.read_csv(TRAIN_DATAPATH), \"modified_sequence\")"
      ]
    },
    {
      "cell_type": "code",
      "execution_count": 25,
      "metadata": {
        "colab": {
          "base_uri": "https://localhost:8080/",
          "height": 126
        },
        "id": "bir-IBe53pno",
        "outputId": "95e14039-548c-4304-9b62-61350583ddc8"
      },
      "outputs": [
        {
          "output_type": "display_data",
          "data": {
            "text/plain": [
              "<IPython.core.display.HTML object>"
            ],
            "text/html": [
              "Tracking run with wandb version 0.15.7"
            ]
          },
          "metadata": {}
        },
        {
          "output_type": "display_data",
          "data": {
            "text/plain": [
              "<IPython.core.display.HTML object>"
            ],
            "text/html": [
              "Run data is saved locally in <code>/content/wandb/run-20230727_062846-43a91f3d</code>"
            ]
          },
          "metadata": {}
        },
        {
          "output_type": "display_data",
          "data": {
            "text/plain": [
              "<IPython.core.display.HTML object>"
            ],
            "text/html": [
              "Syncing run <strong><a href='https://wandb.ai/master_praktikum/Example_WANDB_Support/runs/43a91f3d' target=\"_blank\">run_4</a></strong> to <a href='https://wandb.ai/master_praktikum/Example_WANDB_Support' target=\"_blank\">Weights & Biases</a> (<a href='https://wandb.me/run' target=\"_blank\">docs</a>)<br/>"
            ]
          },
          "metadata": {}
        },
        {
          "output_type": "display_data",
          "data": {
            "text/plain": [
              "<IPython.core.display.HTML object>"
            ],
            "text/html": [
              " View project at <a href='https://wandb.ai/master_praktikum/Example_WANDB_Support' target=\"_blank\">https://wandb.ai/master_praktikum/Example_WANDB_Support</a>"
            ]
          },
          "metadata": {}
        },
        {
          "output_type": "display_data",
          "data": {
            "text/plain": [
              "<IPython.core.display.HTML object>"
            ],
            "text/html": [
              " View run at <a href='https://wandb.ai/master_praktikum/Example_WANDB_Support/runs/43a91f3d' target=\"_blank\">https://wandb.ai/master_praktikum/Example_WANDB_Support/runs/43a91f3d</a>"
            ]
          },
          "metadata": {}
        },
        {
          "output_type": "execute_result",
          "data": {
            "text/html": [
              "<button onClick=\"this.nextSibling.style.display='block';this.style.display='none';\">Display W&B run</button><iframe src='https://wandb.ai/master_praktikum/Example_WANDB_Support/runs/43a91f3d?jupyter=true' style='border:none;width:100%;height:420px;display:none;'></iframe>"
            ],
            "text/plain": [
              "<wandb.sdk.wandb_run.Run at 0x7c65f2b7ace0>"
            ]
          },
          "metadata": {},
          "execution_count": 25
        }
      ],
      "source": [
        "# Initialize WANDB\n",
        "PROJECT = 'Example_WANDB_Support'\n",
        "RUN = \"run_4\"\n",
        "wandb.init(project = PROJECT, name = RUN)"
      ]
    },
    {
      "cell_type": "code",
      "execution_count": 26,
      "metadata": {
        "id": "eMaAzLp137Y4"
      },
      "outputs": [],
      "source": [
        "# log table to wandb\n",
        "c = counts.to_frame()\n",
        "table = wandb.Table(dataframe = c)"
      ]
    },
    {
      "cell_type": "code",
      "execution_count": 27,
      "metadata": {
        "id": "BaDbEO5d4NKH"
      },
      "outputs": [],
      "source": [
        "# create custom plot and log it\n",
        "field = list(train_set.columns.values)[0]\n",
        "\n",
        "hist = wandb.plot_table(\n",
        "  vega_spec_name=\"master_praktikum/hist_pep_len\",\n",
        "  data_table = table,\n",
        "  fields = {\"value\" : field}\n",
        ")\n",
        "wandb.log({\"Histogram\": hist})"
      ]
    },
    {
      "cell_type": "code",
      "execution_count": 28,
      "metadata": {
        "colab": {
          "base_uri": "https://localhost:8080/",
          "height": 150,
          "referenced_widgets": [
            "10dc5491850048fca7c240985b77b8ef",
            "9e4cce5377ae4557b77d1f2b39ec04d1",
            "a0e3beb3c8c34516a336be1cb0ecaed6",
            "80f449a2d53d40a2b1adc975f151e086",
            "bc610550c72c425b85cca7d02feb31ba",
            "016bb5b7d3a749d0b4f24983583fe441",
            "07c3c0eeaa3e461da6347341bb8641aa",
            "fcfff21820144a228cbe04bd654578d0"
          ]
        },
        "id": "fITzhxk34afY",
        "outputId": "b560f427-c2d5-470b-f65b-3c76dcd0b5a9"
      },
      "outputs": [
        {
          "output_type": "display_data",
          "data": {
            "text/plain": [
              "<IPython.core.display.HTML object>"
            ],
            "text/html": [
              "Waiting for W&B process to finish... <strong style=\"color:green\">(success).</strong>"
            ]
          },
          "metadata": {}
        },
        {
          "output_type": "display_data",
          "data": {
            "text/plain": [
              "VBox(children=(Label(value='0.012 MB of 0.022 MB uploaded (0.000 MB deduped)\\r'), FloatProgress(value=0.527039…"
            ],
            "application/vnd.jupyter.widget-view+json": {
              "version_major": 2,
              "version_minor": 0,
              "model_id": "10dc5491850048fca7c240985b77b8ef"
            }
          },
          "metadata": {}
        },
        {
          "output_type": "display_data",
          "data": {
            "text/plain": [
              "<IPython.core.display.HTML object>"
            ],
            "text/html": [
              " View run <strong style=\"color:#cdcd00\">run_4</strong> at: <a href='https://wandb.ai/master_praktikum/Example_WANDB_Support/runs/43a91f3d' target=\"_blank\">https://wandb.ai/master_praktikum/Example_WANDB_Support/runs/43a91f3d</a><br/>Synced 4 W&B file(s), 1 media file(s), 1 artifact file(s) and 0 other file(s)"
            ]
          },
          "metadata": {}
        },
        {
          "output_type": "display_data",
          "data": {
            "text/plain": [
              "<IPython.core.display.HTML object>"
            ],
            "text/html": [
              "Find logs at: <code>./wandb/run-20230727_062846-43a91f3d/logs</code>"
            ]
          },
          "metadata": {}
        }
      ],
      "source": [
        "# finish run\n",
        "wandb.finish()"
      ]
    },
    {
      "cell_type": "code",
      "execution_count": 33,
      "metadata": {
        "id": "q5G_ONpA4s3w",
        "colab": {
          "base_uri": "https://localhost:8080/",
          "height": 1000
        },
        "outputId": "01c64ca1-5527-46a5-ba8c-cf1f377ebc8c"
      },
      "outputs": [
        {
          "output_type": "execute_result",
          "data": {
            "text/plain": [
              "Report(project='Example_WANDB_Support', entity='master_praktikum', title='Test_Title', description='Test_Description', width='readable')"
            ],
            "text/html": [
              "<iframe src='https://wandb.ai/master_praktikum/Example_WANDB_Support/reports/Test_Title--Vmlldzo0OTg0MTYy?jupyter=true' style='border:none;width:100%;height:1024px;'></iframe>"
            ]
          },
          "metadata": {},
          "execution_count": 33
        }
      ],
      "source": [
        "# create report\n",
        "report = wr.Report(\n",
        "    project = PROJECT,\n",
        "    title = \"Test_Title\",\n",
        "    description = \"Test_Description\"\n",
        ")\n",
        "report.save()"
      ]
    },
    {
      "cell_type": "code",
      "source": [
        "# trying to add a custom plot to the report, using the data previously logged into the table\n",
        "# this is where i can not find a solution to achieve what i want which is adding the same exact\n",
        "# custom plot previously created to the report\n",
        "# since the custom chart is already displayed i thin my issue is in the query, but\n",
        "# i am not sure on how to access the logged table with the query\n",
        "panels_data=[\n",
        "  wr.MarkdownPanel(\"Hello *italic* **bold** $e=mc^2$ `something`\"),\n",
        "  wr.CustomChart(\n",
        "    query={'summary':{\"keys\": [field]}},\n",
        "    chart_name='master_praktikum/hist_pep_len',\n",
        "    chart_fields={'value': field}\n",
        "  ),\n",
        "]"
      ],
      "metadata": {
        "id": "Wo92WESeC9Ui"
      },
      "execution_count": 34,
      "outputs": []
    },
    {
      "cell_type": "code",
      "source": [
        "ENTITY = wandb.apis.PublicApi().default_entity\n",
        "\n",
        "data_hists = wr.PanelGrid(\n",
        "    runsets=[\n",
        "        wr.Runset(ENTITY, PROJECT),\n",
        "    ],\n",
        "    panels=\n",
        "      panels_data\n",
        "\n",
        ")\n",
        "\n",
        "report.blocks = report.blocks[:1] +[wr.H1(\"Data metrics\"), data_hists] + report.blocks[1:]\n",
        "\n",
        "report.save()"
      ],
      "metadata": {
        "colab": {
          "base_uri": "https://localhost:8080/",
          "height": 1000
        },
        "id": "L4dop2kqD6bu",
        "outputId": "60b9e753-7059-47d6-f318-a409f5df3f24"
      },
      "execution_count": 35,
      "outputs": [
        {
          "output_type": "execute_result",
          "data": {
            "text/plain": [
              "Report(project='Example_WANDB_Support', entity='master_praktikum', title='Test_Title', description='Test_Description', width='readable', blocks=[H1(text=['Data metrics']), PanelGrid(runsets=[Runset(entity='master_praktikum', project='Example_WANDB_Support', name='Run set', query='', filters={'$or': [{'$and': []}]}, order=['-CreatedTimestamp'])], panels=[MarkdownPanel(markdown='Hello *italic* **bold** $e=mc^2$ `something`'), CustomChart(query={'runSets': {'runSets': '${runSets}', 'limit': 500}}, chart_name='master_praktikum/hist_pep_len', chart_fields={'value': 'modified_sequence'})])])"
            ],
            "text/html": [
              "<iframe src='https://wandb.ai/master_praktikum/Example_WANDB_Support/reports/Test_Title--Vmlldzo0OTg0MTYy?jupyter=true' style='border:none;width:100%;height:1024px;'></iframe>"
            ]
          },
          "metadata": {},
          "execution_count": 35
        }
      ]
    },
    {
      "cell_type": "code",
      "source": [],
      "metadata": {
        "id": "mvR3BkqdEJOe"
      },
      "execution_count": null,
      "outputs": []
    }
  ],
  "metadata": {
    "colab": {
      "provenance": [],
      "authorship_tag": "ABX9TyPb9jHiIsv0g2L7K4oEzTOT",
      "include_colab_link": true
    },
    "kernelspec": {
      "display_name": "Python 3",
      "name": "python3"
    },
    "language_info": {
      "name": "python"
    },
    "widgets": {
      "application/vnd.jupyter.widget-state+json": {
        "10dc5491850048fca7c240985b77b8ef": {
          "model_module": "@jupyter-widgets/controls",
          "model_name": "VBoxModel",
          "model_module_version": "1.5.0",
          "state": {
            "_dom_classes": [],
            "_model_module": "@jupyter-widgets/controls",
            "_model_module_version": "1.5.0",
            "_model_name": "VBoxModel",
            "_view_count": null,
            "_view_module": "@jupyter-widgets/controls",
            "_view_module_version": "1.5.0",
            "_view_name": "VBoxView",
            "box_style": "",
            "children": [
              "IPY_MODEL_9e4cce5377ae4557b77d1f2b39ec04d1",
              "IPY_MODEL_a0e3beb3c8c34516a336be1cb0ecaed6"
            ],
            "layout": "IPY_MODEL_80f449a2d53d40a2b1adc975f151e086"
          }
        },
        "9e4cce5377ae4557b77d1f2b39ec04d1": {
          "model_module": "@jupyter-widgets/controls",
          "model_name": "LabelModel",
          "model_module_version": "1.5.0",
          "state": {
            "_dom_classes": [],
            "_model_module": "@jupyter-widgets/controls",
            "_model_module_version": "1.5.0",
            "_model_name": "LabelModel",
            "_view_count": null,
            "_view_module": "@jupyter-widgets/controls",
            "_view_module_version": "1.5.0",
            "_view_name": "LabelView",
            "description": "",
            "description_tooltip": null,
            "layout": "IPY_MODEL_bc610550c72c425b85cca7d02feb31ba",
            "placeholder": "​",
            "style": "IPY_MODEL_016bb5b7d3a749d0b4f24983583fe441",
            "value": "0.012 MB of 0.022 MB uploaded (0.000 MB deduped)\r"
          }
        },
        "a0e3beb3c8c34516a336be1cb0ecaed6": {
          "model_module": "@jupyter-widgets/controls",
          "model_name": "FloatProgressModel",
          "model_module_version": "1.5.0",
          "state": {
            "_dom_classes": [],
            "_model_module": "@jupyter-widgets/controls",
            "_model_module_version": "1.5.0",
            "_model_name": "FloatProgressModel",
            "_view_count": null,
            "_view_module": "@jupyter-widgets/controls",
            "_view_module_version": "1.5.0",
            "_view_name": "ProgressView",
            "bar_style": "",
            "description": "",
            "description_tooltip": null,
            "layout": "IPY_MODEL_07c3c0eeaa3e461da6347341bb8641aa",
            "max": 1,
            "min": 0,
            "orientation": "horizontal",
            "style": "IPY_MODEL_fcfff21820144a228cbe04bd654578d0",
            "value": 0.5270399305555555
          }
        },
        "80f449a2d53d40a2b1adc975f151e086": {
          "model_module": "@jupyter-widgets/base",
          "model_name": "LayoutModel",
          "model_module_version": "1.2.0",
          "state": {
            "_model_module": "@jupyter-widgets/base",
            "_model_module_version": "1.2.0",
            "_model_name": "LayoutModel",
            "_view_count": null,
            "_view_module": "@jupyter-widgets/base",
            "_view_module_version": "1.2.0",
            "_view_name": "LayoutView",
            "align_content": null,
            "align_items": null,
            "align_self": null,
            "border": null,
            "bottom": null,
            "display": null,
            "flex": null,
            "flex_flow": null,
            "grid_area": null,
            "grid_auto_columns": null,
            "grid_auto_flow": null,
            "grid_auto_rows": null,
            "grid_column": null,
            "grid_gap": null,
            "grid_row": null,
            "grid_template_areas": null,
            "grid_template_columns": null,
            "grid_template_rows": null,
            "height": null,
            "justify_content": null,
            "justify_items": null,
            "left": null,
            "margin": null,
            "max_height": null,
            "max_width": null,
            "min_height": null,
            "min_width": null,
            "object_fit": null,
            "object_position": null,
            "order": null,
            "overflow": null,
            "overflow_x": null,
            "overflow_y": null,
            "padding": null,
            "right": null,
            "top": null,
            "visibility": null,
            "width": null
          }
        },
        "bc610550c72c425b85cca7d02feb31ba": {
          "model_module": "@jupyter-widgets/base",
          "model_name": "LayoutModel",
          "model_module_version": "1.2.0",
          "state": {
            "_model_module": "@jupyter-widgets/base",
            "_model_module_version": "1.2.0",
            "_model_name": "LayoutModel",
            "_view_count": null,
            "_view_module": "@jupyter-widgets/base",
            "_view_module_version": "1.2.0",
            "_view_name": "LayoutView",
            "align_content": null,
            "align_items": null,
            "align_self": null,
            "border": null,
            "bottom": null,
            "display": null,
            "flex": null,
            "flex_flow": null,
            "grid_area": null,
            "grid_auto_columns": null,
            "grid_auto_flow": null,
            "grid_auto_rows": null,
            "grid_column": null,
            "grid_gap": null,
            "grid_row": null,
            "grid_template_areas": null,
            "grid_template_columns": null,
            "grid_template_rows": null,
            "height": null,
            "justify_content": null,
            "justify_items": null,
            "left": null,
            "margin": null,
            "max_height": null,
            "max_width": null,
            "min_height": null,
            "min_width": null,
            "object_fit": null,
            "object_position": null,
            "order": null,
            "overflow": null,
            "overflow_x": null,
            "overflow_y": null,
            "padding": null,
            "right": null,
            "top": null,
            "visibility": null,
            "width": null
          }
        },
        "016bb5b7d3a749d0b4f24983583fe441": {
          "model_module": "@jupyter-widgets/controls",
          "model_name": "DescriptionStyleModel",
          "model_module_version": "1.5.0",
          "state": {
            "_model_module": "@jupyter-widgets/controls",
            "_model_module_version": "1.5.0",
            "_model_name": "DescriptionStyleModel",
            "_view_count": null,
            "_view_module": "@jupyter-widgets/base",
            "_view_module_version": "1.2.0",
            "_view_name": "StyleView",
            "description_width": ""
          }
        },
        "07c3c0eeaa3e461da6347341bb8641aa": {
          "model_module": "@jupyter-widgets/base",
          "model_name": "LayoutModel",
          "model_module_version": "1.2.0",
          "state": {
            "_model_module": "@jupyter-widgets/base",
            "_model_module_version": "1.2.0",
            "_model_name": "LayoutModel",
            "_view_count": null,
            "_view_module": "@jupyter-widgets/base",
            "_view_module_version": "1.2.0",
            "_view_name": "LayoutView",
            "align_content": null,
            "align_items": null,
            "align_self": null,
            "border": null,
            "bottom": null,
            "display": null,
            "flex": null,
            "flex_flow": null,
            "grid_area": null,
            "grid_auto_columns": null,
            "grid_auto_flow": null,
            "grid_auto_rows": null,
            "grid_column": null,
            "grid_gap": null,
            "grid_row": null,
            "grid_template_areas": null,
            "grid_template_columns": null,
            "grid_template_rows": null,
            "height": null,
            "justify_content": null,
            "justify_items": null,
            "left": null,
            "margin": null,
            "max_height": null,
            "max_width": null,
            "min_height": null,
            "min_width": null,
            "object_fit": null,
            "object_position": null,
            "order": null,
            "overflow": null,
            "overflow_x": null,
            "overflow_y": null,
            "padding": null,
            "right": null,
            "top": null,
            "visibility": null,
            "width": null
          }
        },
        "fcfff21820144a228cbe04bd654578d0": {
          "model_module": "@jupyter-widgets/controls",
          "model_name": "ProgressStyleModel",
          "model_module_version": "1.5.0",
          "state": {
            "_model_module": "@jupyter-widgets/controls",
            "_model_module_version": "1.5.0",
            "_model_name": "ProgressStyleModel",
            "_view_count": null,
            "_view_module": "@jupyter-widgets/base",
            "_view_module_version": "1.2.0",
            "_view_name": "StyleView",
            "bar_color": null,
            "description_width": ""
          }
        }
      }
    }
  },
  "nbformat": 4,
  "nbformat_minor": 0
}